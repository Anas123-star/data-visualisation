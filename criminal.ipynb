{
 "cells": [
  {
   "cell_type": "markdown",
   "metadata": {},
   "source": [
    "# Data Visualisation of criminal data of India from 2001-2012"
   ]
  },
  {
   "cell_type": "markdown",
   "metadata": {},
   "source": [
    "We are visualising the criminal data of India initially we plot some basic plots then we make a PLOTLY DASH then make some animated plots after reading this notebook you will be able to use plotly dash p, animated plots . And you will get a very good knowledge of Crimes in India"
   ]
  },
  {
   "cell_type": "markdown",
   "metadata": {},
   "source": [
    "Import some useful libraries"
   ]
  },
  {
   "cell_type": "code",
   "execution_count": 31,
   "metadata": {},
   "outputs": [
    {
     "data": {
      "text/html": [
       "        <script type=\"text/javascript\">\n",
       "        window.PlotlyConfig = {MathJaxConfig: 'local'};\n",
       "        if (window.MathJax) {MathJax.Hub.Config({SVG: {font: \"STIX-Web\"}});}\n",
       "        if (typeof require !== 'undefined') {\n",
       "        require.undef(\"plotly\");\n",
       "        requirejs.config({\n",
       "            paths: {\n",
       "                'plotly': ['https://cdn.plot.ly/plotly-latest.min']\n",
       "            }\n",
       "        });\n",
       "        require(['plotly'], function(Plotly) {\n",
       "            window._Plotly = Plotly;\n",
       "        });\n",
       "        }\n",
       "        </script>\n",
       "        "
      ]
     },
     "metadata": {},
     "output_type": "display_data"
    },
    {
     "data": {
      "text/html": [
       "        <script type=\"text/javascript\">\n",
       "        window.PlotlyConfig = {MathJaxConfig: 'local'};\n",
       "        if (window.MathJax) {MathJax.Hub.Config({SVG: {font: \"STIX-Web\"}});}\n",
       "        if (typeof require !== 'undefined') {\n",
       "        require.undef(\"plotly\");\n",
       "        requirejs.config({\n",
       "            paths: {\n",
       "                'plotly': ['https://cdn.plot.ly/plotly-latest.min']\n",
       "            }\n",
       "        });\n",
       "        require(['plotly'], function(Plotly) {\n",
       "            window._Plotly = Plotly;\n",
       "        });\n",
       "        }\n",
       "        </script>\n",
       "        "
      ]
     },
     "metadata": {},
     "output_type": "display_data"
    }
   ],
   "source": [
    "import pandas as pd\n",
    "import numpy as np\n",
    "import matplotlib.pyplot as plt\n",
    "%matplotlib inline\n",
    "\n",
    "from plotly import __version__\n",
    "import cufflinks as cf\n",
    "from plotly.offline import download_plotlyjs,init_notebook_mode,plot,iplot\n",
    "init_notebook_mode(connected=True)\n",
    "cf.go_offline()\n",
    "\n",
    "import plotly.express as px\n",
    "import plotly.graph_objects as go\n"
   ]
  },
  {
   "cell_type": "markdown",
   "metadata": {},
   "source": [
    "Import dataframe"
   ]
  },
  {
   "cell_type": "code",
   "execution_count": null,
   "metadata": {},
   "outputs": [],
   "source": []
  },
  {
   "cell_type": "code",
   "execution_count": 32,
   "metadata": {},
   "outputs": [
    {
     "data": {
      "text/html": [
       "<div>\n",
       "<style scoped>\n",
       "    .dataframe tbody tr th:only-of-type {\n",
       "        vertical-align: middle;\n",
       "    }\n",
       "\n",
       "    .dataframe tbody tr th {\n",
       "        vertical-align: top;\n",
       "    }\n",
       "\n",
       "    .dataframe thead th {\n",
       "        text-align: right;\n",
       "    }\n",
       "</style>\n",
       "<table border=\"1\" class=\"dataframe\">\n",
       "  <thead>\n",
       "    <tr style=\"text-align: right;\">\n",
       "      <th></th>\n",
       "      <th>STATE/UT</th>\n",
       "      <th>DISTRICT</th>\n",
       "      <th>YEAR</th>\n",
       "      <th>MURDER</th>\n",
       "      <th>ATTEMPT TO MURDER</th>\n",
       "      <th>CULPABLE HOMICIDE NOT AMOUNTING TO MURDER</th>\n",
       "      <th>RAPE</th>\n",
       "      <th>CUSTODIAL RAPE</th>\n",
       "      <th>OTHER RAPE</th>\n",
       "      <th>KIDNAPPING &amp; ABDUCTION</th>\n",
       "      <th>...</th>\n",
       "      <th>ARSON</th>\n",
       "      <th>HURT/GREVIOUS HURT</th>\n",
       "      <th>DOWRY DEATHS</th>\n",
       "      <th>ASSAULT ON WOMEN WITH INTENT TO OUTRAGE HER MODESTY</th>\n",
       "      <th>INSULT TO MODESTY OF WOMEN</th>\n",
       "      <th>CRUELTY BY HUSBAND OR HIS RELATIVES</th>\n",
       "      <th>IMPORTATION OF GIRLS FROM FOREIGN COUNTRIES</th>\n",
       "      <th>CAUSING DEATH BY NEGLIGENCE</th>\n",
       "      <th>OTHER IPC CRIMES</th>\n",
       "      <th>TOTAL IPC CRIMES</th>\n",
       "    </tr>\n",
       "  </thead>\n",
       "  <tbody>\n",
       "    <tr>\n",
       "      <th>0</th>\n",
       "      <td>ANDHRA PRADESH</td>\n",
       "      <td>ADILABAD</td>\n",
       "      <td>2001</td>\n",
       "      <td>101</td>\n",
       "      <td>60</td>\n",
       "      <td>17</td>\n",
       "      <td>50</td>\n",
       "      <td>0</td>\n",
       "      <td>50</td>\n",
       "      <td>46</td>\n",
       "      <td>...</td>\n",
       "      <td>30</td>\n",
       "      <td>1131</td>\n",
       "      <td>16</td>\n",
       "      <td>149</td>\n",
       "      <td>34</td>\n",
       "      <td>175</td>\n",
       "      <td>0</td>\n",
       "      <td>181</td>\n",
       "      <td>1518</td>\n",
       "      <td>4154</td>\n",
       "    </tr>\n",
       "    <tr>\n",
       "      <th>1</th>\n",
       "      <td>ANDHRA PRADESH</td>\n",
       "      <td>ANANTAPUR</td>\n",
       "      <td>2001</td>\n",
       "      <td>151</td>\n",
       "      <td>125</td>\n",
       "      <td>1</td>\n",
       "      <td>23</td>\n",
       "      <td>0</td>\n",
       "      <td>23</td>\n",
       "      <td>53</td>\n",
       "      <td>...</td>\n",
       "      <td>69</td>\n",
       "      <td>1543</td>\n",
       "      <td>7</td>\n",
       "      <td>118</td>\n",
       "      <td>24</td>\n",
       "      <td>154</td>\n",
       "      <td>0</td>\n",
       "      <td>270</td>\n",
       "      <td>754</td>\n",
       "      <td>4125</td>\n",
       "    </tr>\n",
       "    <tr>\n",
       "      <th>2</th>\n",
       "      <td>ANDHRA PRADESH</td>\n",
       "      <td>CHITTOOR</td>\n",
       "      <td>2001</td>\n",
       "      <td>101</td>\n",
       "      <td>57</td>\n",
       "      <td>2</td>\n",
       "      <td>27</td>\n",
       "      <td>0</td>\n",
       "      <td>27</td>\n",
       "      <td>59</td>\n",
       "      <td>...</td>\n",
       "      <td>38</td>\n",
       "      <td>2088</td>\n",
       "      <td>14</td>\n",
       "      <td>112</td>\n",
       "      <td>83</td>\n",
       "      <td>186</td>\n",
       "      <td>0</td>\n",
       "      <td>404</td>\n",
       "      <td>1262</td>\n",
       "      <td>5818</td>\n",
       "    </tr>\n",
       "    <tr>\n",
       "      <th>3</th>\n",
       "      <td>ANDHRA PRADESH</td>\n",
       "      <td>CUDDAPAH</td>\n",
       "      <td>2001</td>\n",
       "      <td>80</td>\n",
       "      <td>53</td>\n",
       "      <td>1</td>\n",
       "      <td>20</td>\n",
       "      <td>0</td>\n",
       "      <td>20</td>\n",
       "      <td>25</td>\n",
       "      <td>...</td>\n",
       "      <td>23</td>\n",
       "      <td>795</td>\n",
       "      <td>17</td>\n",
       "      <td>126</td>\n",
       "      <td>38</td>\n",
       "      <td>57</td>\n",
       "      <td>0</td>\n",
       "      <td>233</td>\n",
       "      <td>1181</td>\n",
       "      <td>3140</td>\n",
       "    </tr>\n",
       "    <tr>\n",
       "      <th>4</th>\n",
       "      <td>ANDHRA PRADESH</td>\n",
       "      <td>EAST GODAVARI</td>\n",
       "      <td>2001</td>\n",
       "      <td>82</td>\n",
       "      <td>67</td>\n",
       "      <td>1</td>\n",
       "      <td>23</td>\n",
       "      <td>0</td>\n",
       "      <td>23</td>\n",
       "      <td>49</td>\n",
       "      <td>...</td>\n",
       "      <td>41</td>\n",
       "      <td>1244</td>\n",
       "      <td>12</td>\n",
       "      <td>109</td>\n",
       "      <td>58</td>\n",
       "      <td>247</td>\n",
       "      <td>0</td>\n",
       "      <td>431</td>\n",
       "      <td>2313</td>\n",
       "      <td>6507</td>\n",
       "    </tr>\n",
       "  </tbody>\n",
       "</table>\n",
       "<p>5 rows × 33 columns</p>\n",
       "</div>"
      ],
      "text/plain": [
       "         STATE/UT       DISTRICT  YEAR  MURDER  ATTEMPT TO MURDER  \\\n",
       "0  ANDHRA PRADESH       ADILABAD  2001     101                 60   \n",
       "1  ANDHRA PRADESH      ANANTAPUR  2001     151                125   \n",
       "2  ANDHRA PRADESH       CHITTOOR  2001     101                 57   \n",
       "3  ANDHRA PRADESH       CUDDAPAH  2001      80                 53   \n",
       "4  ANDHRA PRADESH  EAST GODAVARI  2001      82                 67   \n",
       "\n",
       "   CULPABLE HOMICIDE NOT AMOUNTING TO MURDER  RAPE  CUSTODIAL RAPE  \\\n",
       "0                                         17    50               0   \n",
       "1                                          1    23               0   \n",
       "2                                          2    27               0   \n",
       "3                                          1    20               0   \n",
       "4                                          1    23               0   \n",
       "\n",
       "   OTHER RAPE  KIDNAPPING & ABDUCTION  ...  ARSON  HURT/GREVIOUS HURT  \\\n",
       "0          50                      46  ...     30                1131   \n",
       "1          23                      53  ...     69                1543   \n",
       "2          27                      59  ...     38                2088   \n",
       "3          20                      25  ...     23                 795   \n",
       "4          23                      49  ...     41                1244   \n",
       "\n",
       "   DOWRY DEATHS  ASSAULT ON WOMEN WITH INTENT TO OUTRAGE HER MODESTY  \\\n",
       "0            16                                                149     \n",
       "1             7                                                118     \n",
       "2            14                                                112     \n",
       "3            17                                                126     \n",
       "4            12                                                109     \n",
       "\n",
       "   INSULT TO MODESTY OF WOMEN  CRUELTY BY HUSBAND OR HIS RELATIVES  \\\n",
       "0                          34                                  175   \n",
       "1                          24                                  154   \n",
       "2                          83                                  186   \n",
       "3                          38                                   57   \n",
       "4                          58                                  247   \n",
       "\n",
       "   IMPORTATION OF GIRLS FROM FOREIGN COUNTRIES  CAUSING DEATH BY NEGLIGENCE  \\\n",
       "0                                            0                          181   \n",
       "1                                            0                          270   \n",
       "2                                            0                          404   \n",
       "3                                            0                          233   \n",
       "4                                            0                          431   \n",
       "\n",
       "   OTHER IPC CRIMES  TOTAL IPC CRIMES  \n",
       "0              1518              4154  \n",
       "1               754              4125  \n",
       "2              1262              5818  \n",
       "3              1181              3140  \n",
       "4              2313              6507  \n",
       "\n",
       "[5 rows x 33 columns]"
      ]
     },
     "execution_count": 32,
     "metadata": {},
     "output_type": "execute_result"
    }
   ],
   "source": [
    "df = pd.read_csv(\"01_District_wise_crimes_committed_IPC_2001_2012.csv\")\n",
    "df.head()"
   ]
  },
  {
   "cell_type": "markdown",
   "metadata": {},
   "source": [
    "\n",
    "First we will see how is the total number of IPC crimes is increasing year by year in India for this we will plot a line plot "
   ]
  },
  {
   "cell_type": "code",
   "execution_count": 33,
   "metadata": {},
   "outputs": [
    {
     "data": {
      "text/html": [
       "<div>\n",
       "<style scoped>\n",
       "    .dataframe tbody tr th:only-of-type {\n",
       "        vertical-align: middle;\n",
       "    }\n",
       "\n",
       "    .dataframe tbody tr th {\n",
       "        vertical-align: top;\n",
       "    }\n",
       "\n",
       "    .dataframe thead th {\n",
       "        text-align: right;\n",
       "    }\n",
       "</style>\n",
       "<table border=\"1\" class=\"dataframe\">\n",
       "  <thead>\n",
       "    <tr style=\"text-align: right;\">\n",
       "      <th></th>\n",
       "      <th>MURDER</th>\n",
       "      <th>ATTEMPT TO MURDER</th>\n",
       "      <th>CULPABLE HOMICIDE NOT AMOUNTING TO MURDER</th>\n",
       "      <th>RAPE</th>\n",
       "      <th>CUSTODIAL RAPE</th>\n",
       "      <th>OTHER RAPE</th>\n",
       "      <th>KIDNAPPING &amp; ABDUCTION</th>\n",
       "      <th>KIDNAPPING AND ABDUCTION OF WOMEN AND GIRLS</th>\n",
       "      <th>KIDNAPPING AND ABDUCTION OF OTHERS</th>\n",
       "      <th>DACOITY</th>\n",
       "      <th>...</th>\n",
       "      <th>ARSON</th>\n",
       "      <th>HURT/GREVIOUS HURT</th>\n",
       "      <th>DOWRY DEATHS</th>\n",
       "      <th>ASSAULT ON WOMEN WITH INTENT TO OUTRAGE HER MODESTY</th>\n",
       "      <th>INSULT TO MODESTY OF WOMEN</th>\n",
       "      <th>CRUELTY BY HUSBAND OR HIS RELATIVES</th>\n",
       "      <th>IMPORTATION OF GIRLS FROM FOREIGN COUNTRIES</th>\n",
       "      <th>CAUSING DEATH BY NEGLIGENCE</th>\n",
       "      <th>OTHER IPC CRIMES</th>\n",
       "      <th>TOTAL IPC CRIMES</th>\n",
       "    </tr>\n",
       "    <tr>\n",
       "      <th>YEAR</th>\n",
       "      <th></th>\n",
       "      <th></th>\n",
       "      <th></th>\n",
       "      <th></th>\n",
       "      <th></th>\n",
       "      <th></th>\n",
       "      <th></th>\n",
       "      <th></th>\n",
       "      <th></th>\n",
       "      <th></th>\n",
       "      <th></th>\n",
       "      <th></th>\n",
       "      <th></th>\n",
       "      <th></th>\n",
       "      <th></th>\n",
       "      <th></th>\n",
       "      <th></th>\n",
       "      <th></th>\n",
       "      <th></th>\n",
       "      <th></th>\n",
       "      <th></th>\n",
       "    </tr>\n",
       "  </thead>\n",
       "  <tbody>\n",
       "    <tr>\n",
       "      <th>2001</th>\n",
       "      <td>72404</td>\n",
       "      <td>63046</td>\n",
       "      <td>6734</td>\n",
       "      <td>32150</td>\n",
       "      <td>0</td>\n",
       "      <td>32150</td>\n",
       "      <td>44974</td>\n",
       "      <td>29290</td>\n",
       "      <td>15684</td>\n",
       "      <td>12308</td>\n",
       "      <td>...</td>\n",
       "      <td>21068</td>\n",
       "      <td>542974</td>\n",
       "      <td>13702</td>\n",
       "      <td>68248</td>\n",
       "      <td>19492</td>\n",
       "      <td>98340</td>\n",
       "      <td>228</td>\n",
       "      <td>114364</td>\n",
       "      <td>1402724</td>\n",
       "      <td>3538616</td>\n",
       "    </tr>\n",
       "    <tr>\n",
       "      <th>2002</th>\n",
       "      <td>70580</td>\n",
       "      <td>60760</td>\n",
       "      <td>7248</td>\n",
       "      <td>32746</td>\n",
       "      <td>6</td>\n",
       "      <td>32740</td>\n",
       "      <td>43700</td>\n",
       "      <td>29012</td>\n",
       "      <td>14688</td>\n",
       "      <td>12202</td>\n",
       "      <td>...</td>\n",
       "      <td>23640</td>\n",
       "      <td>530050</td>\n",
       "      <td>13644</td>\n",
       "      <td>67886</td>\n",
       "      <td>20310</td>\n",
       "      <td>98474</td>\n",
       "      <td>152</td>\n",
       "      <td>128088</td>\n",
       "      <td>1460594</td>\n",
       "      <td>3560660</td>\n",
       "    </tr>\n",
       "    <tr>\n",
       "      <th>2003</th>\n",
       "      <td>65432</td>\n",
       "      <td>51884</td>\n",
       "      <td>8058</td>\n",
       "      <td>31694</td>\n",
       "      <td>2</td>\n",
       "      <td>31692</td>\n",
       "      <td>39984</td>\n",
       "      <td>26592</td>\n",
       "      <td>13392</td>\n",
       "      <td>10606</td>\n",
       "      <td>...</td>\n",
       "      <td>18730</td>\n",
       "      <td>522888</td>\n",
       "      <td>12416</td>\n",
       "      <td>65878</td>\n",
       "      <td>24650</td>\n",
       "      <td>101406</td>\n",
       "      <td>92</td>\n",
       "      <td>121344</td>\n",
       "      <td>1400824</td>\n",
       "      <td>3432240</td>\n",
       "    </tr>\n",
       "    <tr>\n",
       "      <th>2004</th>\n",
       "      <td>67216</td>\n",
       "      <td>55780</td>\n",
       "      <td>7870</td>\n",
       "      <td>36466</td>\n",
       "      <td>4</td>\n",
       "      <td>36462</td>\n",
       "      <td>46654</td>\n",
       "      <td>31156</td>\n",
       "      <td>15498</td>\n",
       "      <td>10622</td>\n",
       "      <td>...</td>\n",
       "      <td>17274</td>\n",
       "      <td>553736</td>\n",
       "      <td>14052</td>\n",
       "      <td>69134</td>\n",
       "      <td>20002</td>\n",
       "      <td>116242</td>\n",
       "      <td>178</td>\n",
       "      <td>138846</td>\n",
       "      <td>1482052</td>\n",
       "      <td>3664020</td>\n",
       "    </tr>\n",
       "    <tr>\n",
       "      <th>2005</th>\n",
       "      <td>65438</td>\n",
       "      <td>56062</td>\n",
       "      <td>7156</td>\n",
       "      <td>36718</td>\n",
       "      <td>14</td>\n",
       "      <td>36704</td>\n",
       "      <td>45664</td>\n",
       "      <td>31500</td>\n",
       "      <td>14164</td>\n",
       "      <td>10282</td>\n",
       "      <td>...</td>\n",
       "      <td>16902</td>\n",
       "      <td>541722</td>\n",
       "      <td>13574</td>\n",
       "      <td>68350</td>\n",
       "      <td>19968</td>\n",
       "      <td>116638</td>\n",
       "      <td>298</td>\n",
       "      <td>143396</td>\n",
       "      <td>1483954</td>\n",
       "      <td>3645204</td>\n",
       "    </tr>\n",
       "  </tbody>\n",
       "</table>\n",
       "<p>5 rows × 30 columns</p>\n",
       "</div>"
      ],
      "text/plain": [
       "      MURDER  ATTEMPT TO MURDER  CULPABLE HOMICIDE NOT AMOUNTING TO MURDER  \\\n",
       "YEAR                                                                         \n",
       "2001   72404              63046                                       6734   \n",
       "2002   70580              60760                                       7248   \n",
       "2003   65432              51884                                       8058   \n",
       "2004   67216              55780                                       7870   \n",
       "2005   65438              56062                                       7156   \n",
       "\n",
       "       RAPE  CUSTODIAL RAPE  OTHER RAPE  KIDNAPPING & ABDUCTION  \\\n",
       "YEAR                                                              \n",
       "2001  32150               0       32150                   44974   \n",
       "2002  32746               6       32740                   43700   \n",
       "2003  31694               2       31692                   39984   \n",
       "2004  36466               4       36462                   46654   \n",
       "2005  36718              14       36704                   45664   \n",
       "\n",
       "      KIDNAPPING AND ABDUCTION OF WOMEN AND GIRLS  \\\n",
       "YEAR                                                \n",
       "2001                                        29290   \n",
       "2002                                        29012   \n",
       "2003                                        26592   \n",
       "2004                                        31156   \n",
       "2005                                        31500   \n",
       "\n",
       "      KIDNAPPING AND ABDUCTION OF OTHERS  DACOITY  ...  ARSON  \\\n",
       "YEAR                                               ...          \n",
       "2001                               15684    12308  ...  21068   \n",
       "2002                               14688    12202  ...  23640   \n",
       "2003                               13392    10606  ...  18730   \n",
       "2004                               15498    10622  ...  17274   \n",
       "2005                               14164    10282  ...  16902   \n",
       "\n",
       "      HURT/GREVIOUS HURT  DOWRY DEATHS  \\\n",
       "YEAR                                     \n",
       "2001              542974         13702   \n",
       "2002              530050         13644   \n",
       "2003              522888         12416   \n",
       "2004              553736         14052   \n",
       "2005              541722         13574   \n",
       "\n",
       "      ASSAULT ON WOMEN WITH INTENT TO OUTRAGE HER MODESTY  \\\n",
       "YEAR                                                        \n",
       "2001                                              68248     \n",
       "2002                                              67886     \n",
       "2003                                              65878     \n",
       "2004                                              69134     \n",
       "2005                                              68350     \n",
       "\n",
       "      INSULT TO MODESTY OF WOMEN  CRUELTY BY HUSBAND OR HIS RELATIVES  \\\n",
       "YEAR                                                                    \n",
       "2001                       19492                                98340   \n",
       "2002                       20310                                98474   \n",
       "2003                       24650                               101406   \n",
       "2004                       20002                               116242   \n",
       "2005                       19968                               116638   \n",
       "\n",
       "      IMPORTATION OF GIRLS FROM FOREIGN COUNTRIES  \\\n",
       "YEAR                                                \n",
       "2001                                          228   \n",
       "2002                                          152   \n",
       "2003                                           92   \n",
       "2004                                          178   \n",
       "2005                                          298   \n",
       "\n",
       "      CAUSING DEATH BY NEGLIGENCE  OTHER IPC CRIMES  TOTAL IPC CRIMES  \n",
       "YEAR                                                                   \n",
       "2001                       114364           1402724           3538616  \n",
       "2002                       128088           1460594           3560660  \n",
       "2003                       121344           1400824           3432240  \n",
       "2004                       138846           1482052           3664020  \n",
       "2005                       143396           1483954           3645204  \n",
       "\n",
       "[5 rows x 30 columns]"
      ]
     },
     "execution_count": 33,
     "metadata": {},
     "output_type": "execute_result"
    }
   ],
   "source": [
    "df_by_year = df.groupby(by='YEAR').sum()\n",
    "df_by_year.head()"
   ]
  },
  {
   "cell_type": "code",
   "execution_count": 34,
   "metadata": {},
   "outputs": [
    {
     "data": {
      "image/png": "[encoded data removed]",
      "text/plain": [
       "<Figure size 432x288 with 1 Axes>"
      ]
     },
     "metadata": {
      "needs_background": "light"
     },
     "output_type": "display_data"
    }
   ],
   "source": [
    "\n",
    "df_by_year.plot(kind='line',y='TOTAL IPC CRIMES')\n",
    "plt.title(\"Bar chart of Total no of IPC crimes vs year\",fontdict={'size':15,'fontfamily':'Times New Roman'})\n",
    "plt.ylabel(\"Total No of IPC Crimes\",fontdict={'size':13,'fontfamily':'DejaVu Sans'})\n",
    "plt.xlabel(\"Year\",fontdict={'size':14,'fontfamily':'DejaVu Sans'})\n",
    "plt.show()"
   ]
  },
  {
   "cell_type": "markdown",
   "metadata": {},
   "source": [
    "from above graph we can see that the total number of IPC crimes are increasing in continuous manner but in 2003 crime rate decrease and then in 2005 again decrease at small amount"
   ]
  },
  {
   "cell_type": "code",
   "execution_count": 35,
   "metadata": {},
   "outputs": [
    {
     "data": {
      "text/html": [
       "<div>\n",
       "<style scoped>\n",
       "    .dataframe tbody tr th:only-of-type {\n",
       "        vertical-align: middle;\n",
       "    }\n",
       "\n",
       "    .dataframe tbody tr th {\n",
       "        vertical-align: top;\n",
       "    }\n",
       "\n",
       "    .dataframe thead th {\n",
       "        text-align: right;\n",
       "    }\n",
       "</style>\n",
       "<table border=\"1\" class=\"dataframe\">\n",
       "  <thead>\n",
       "    <tr style=\"text-align: right;\">\n",
       "      <th></th>\n",
       "      <th>YEAR</th>\n",
       "      <th>MURDER</th>\n",
       "      <th>ATTEMPT TO MURDER</th>\n",
       "      <th>CULPABLE HOMICIDE NOT AMOUNTING TO MURDER</th>\n",
       "      <th>RAPE</th>\n",
       "      <th>CUSTODIAL RAPE</th>\n",
       "      <th>OTHER RAPE</th>\n",
       "      <th>KIDNAPPING &amp; ABDUCTION</th>\n",
       "      <th>KIDNAPPING AND ABDUCTION OF WOMEN AND GIRLS</th>\n",
       "      <th>KIDNAPPING AND ABDUCTION OF OTHERS</th>\n",
       "      <th>...</th>\n",
       "      <th>ARSON</th>\n",
       "      <th>HURT/GREVIOUS HURT</th>\n",
       "      <th>DOWRY DEATHS</th>\n",
       "      <th>ASSAULT ON WOMEN WITH INTENT TO OUTRAGE HER MODESTY</th>\n",
       "      <th>INSULT TO MODESTY OF WOMEN</th>\n",
       "      <th>CRUELTY BY HUSBAND OR HIS RELATIVES</th>\n",
       "      <th>IMPORTATION OF GIRLS FROM FOREIGN COUNTRIES</th>\n",
       "      <th>CAUSING DEATH BY NEGLIGENCE</th>\n",
       "      <th>OTHER IPC CRIMES</th>\n",
       "      <th>TOTAL IPC CRIMES</th>\n",
       "    </tr>\n",
       "    <tr>\n",
       "      <th>STATE/UT</th>\n",
       "      <th></th>\n",
       "      <th></th>\n",
       "      <th></th>\n",
       "      <th></th>\n",
       "      <th></th>\n",
       "      <th></th>\n",
       "      <th></th>\n",
       "      <th></th>\n",
       "      <th></th>\n",
       "      <th></th>\n",
       "      <th></th>\n",
       "      <th></th>\n",
       "      <th></th>\n",
       "      <th></th>\n",
       "      <th></th>\n",
       "      <th></th>\n",
       "      <th></th>\n",
       "      <th></th>\n",
       "      <th></th>\n",
       "      <th></th>\n",
       "      <th></th>\n",
       "    </tr>\n",
       "  </thead>\n",
       "  <tbody>\n",
       "    <tr>\n",
       "      <th>A &amp; N ISLANDS</th>\n",
       "      <td>72239</td>\n",
       "      <td>320</td>\n",
       "      <td>130</td>\n",
       "      <td>42</td>\n",
       "      <td>218</td>\n",
       "      <td>0</td>\n",
       "      <td>218</td>\n",
       "      <td>188</td>\n",
       "      <td>154</td>\n",
       "      <td>34</td>\n",
       "      <td>...</td>\n",
       "      <td>196</td>\n",
       "      <td>2210</td>\n",
       "      <td>12</td>\n",
       "      <td>428</td>\n",
       "      <td>86</td>\n",
       "      <td>242</td>\n",
       "      <td>0</td>\n",
       "      <td>84</td>\n",
       "      <td>8886</td>\n",
       "      <td>18204</td>\n",
       "    </tr>\n",
       "    <tr>\n",
       "      <th>ANDHRA PRADESH</th>\n",
       "      <td>742469</td>\n",
       "      <td>63512</td>\n",
       "      <td>44840</td>\n",
       "      <td>3526</td>\n",
       "      <td>26958</td>\n",
       "      <td>4</td>\n",
       "      <td>26954</td>\n",
       "      <td>42478</td>\n",
       "      <td>29872</td>\n",
       "      <td>12606</td>\n",
       "      <td>...</td>\n",
       "      <td>23936</td>\n",
       "      <td>1093130</td>\n",
       "      <td>12430</td>\n",
       "      <td>103998</td>\n",
       "      <td>72262</td>\n",
       "      <td>238014</td>\n",
       "      <td>34</td>\n",
       "      <td>276870</td>\n",
       "      <td>964504</td>\n",
       "      <td>4037962</td>\n",
       "    </tr>\n",
       "    <tr>\n",
       "      <th>ARUNACHAL PRADESH</th>\n",
       "      <td>391317</td>\n",
       "      <td>1682</td>\n",
       "      <td>834</td>\n",
       "      <td>72</td>\n",
       "      <td>1000</td>\n",
       "      <td>0</td>\n",
       "      <td>1000</td>\n",
       "      <td>1714</td>\n",
       "      <td>1116</td>\n",
       "      <td>598</td>\n",
       "      <td>...</td>\n",
       "      <td>500</td>\n",
       "      <td>10314</td>\n",
       "      <td>4</td>\n",
       "      <td>1568</td>\n",
       "      <td>36</td>\n",
       "      <td>334</td>\n",
       "      <td>0</td>\n",
       "      <td>1490</td>\n",
       "      <td>14792</td>\n",
       "      <td>55304</td>\n",
       "    </tr>\n",
       "    <tr>\n",
       "      <th>ASSAM</th>\n",
       "      <td>726412</td>\n",
       "      <td>30864</td>\n",
       "      <td>11324</td>\n",
       "      <td>1436</td>\n",
       "      <td>32356</td>\n",
       "      <td>10</td>\n",
       "      <td>32346</td>\n",
       "      <td>55878</td>\n",
       "      <td>45840</td>\n",
       "      <td>10038</td>\n",
       "      <td>...</td>\n",
       "      <td>15836</td>\n",
       "      <td>138366</td>\n",
       "      <td>2552</td>\n",
       "      <td>27240</td>\n",
       "      <td>224</td>\n",
       "      <td>78776</td>\n",
       "      <td>16</td>\n",
       "      <td>60410</td>\n",
       "      <td>362708</td>\n",
       "      <td>1195528</td>\n",
       "    </tr>\n",
       "    <tr>\n",
       "      <th>BIHAR</th>\n",
       "      <td>1083510</td>\n",
       "      <td>82490</td>\n",
       "      <td>81838</td>\n",
       "      <td>7344</td>\n",
       "      <td>26248</td>\n",
       "      <td>4</td>\n",
       "      <td>26244</td>\n",
       "      <td>74440</td>\n",
       "      <td>38778</td>\n",
       "      <td>35662</td>\n",
       "      <td>...</td>\n",
       "      <td>17018</td>\n",
       "      <td>378532</td>\n",
       "      <td>27096</td>\n",
       "      <td>15152</td>\n",
       "      <td>452</td>\n",
       "      <td>51360</td>\n",
       "      <td>880</td>\n",
       "      <td>88884</td>\n",
       "      <td>1077182</td>\n",
       "      <td>2692586</td>\n",
       "    </tr>\n",
       "  </tbody>\n",
       "</table>\n",
       "<p>5 rows × 31 columns</p>\n",
       "</div>"
      ],
      "text/plain": [
       "                      YEAR  MURDER  ATTEMPT TO MURDER  \\\n",
       "STATE/UT                                                \n",
       "A & N ISLANDS        72239     320                130   \n",
       "ANDHRA PRADESH      742469   63512              44840   \n",
       "ARUNACHAL PRADESH   391317    1682                834   \n",
       "ASSAM               726412   30864              11324   \n",
       "BIHAR              1083510   82490              81838   \n",
       "\n",
       "                   CULPABLE HOMICIDE NOT AMOUNTING TO MURDER   RAPE  \\\n",
       "STATE/UT                                                              \n",
       "A & N ISLANDS                                             42    218   \n",
       "ANDHRA PRADESH                                          3526  26958   \n",
       "ARUNACHAL PRADESH                                         72   1000   \n",
       "ASSAM                                                   1436  32356   \n",
       "BIHAR                                                   7344  26248   \n",
       "\n",
       "                   CUSTODIAL RAPE  OTHER RAPE  KIDNAPPING & ABDUCTION  \\\n",
       "STATE/UT                                                                \n",
       "A & N ISLANDS                   0         218                     188   \n",
       "ANDHRA PRADESH                  4       26954                   42478   \n",
       "ARUNACHAL PRADESH               0        1000                    1714   \n",
       "ASSAM                          10       32346                   55878   \n",
       "BIHAR                           4       26244                   74440   \n",
       "\n",
       "                   KIDNAPPING AND ABDUCTION OF WOMEN AND GIRLS  \\\n",
       "STATE/UT                                                         \n",
       "A & N ISLANDS                                              154   \n",
       "ANDHRA PRADESH                                           29872   \n",
       "ARUNACHAL PRADESH                                         1116   \n",
       "ASSAM                                                    45840   \n",
       "BIHAR                                                    38778   \n",
       "\n",
       "                   KIDNAPPING AND ABDUCTION OF OTHERS  ...  ARSON  \\\n",
       "STATE/UT                                               ...          \n",
       "A & N ISLANDS                                      34  ...    196   \n",
       "ANDHRA PRADESH                                  12606  ...  23936   \n",
       "ARUNACHAL PRADESH                                 598  ...    500   \n",
       "ASSAM                                           10038  ...  15836   \n",
       "BIHAR                                           35662  ...  17018   \n",
       "\n",
       "                   HURT/GREVIOUS HURT  DOWRY DEATHS  \\\n",
       "STATE/UT                                              \n",
       "A & N ISLANDS                    2210            12   \n",
       "ANDHRA PRADESH                1093130         12430   \n",
       "ARUNACHAL PRADESH               10314             4   \n",
       "ASSAM                          138366          2552   \n",
       "BIHAR                          378532         27096   \n",
       "\n",
       "                   ASSAULT ON WOMEN WITH INTENT TO OUTRAGE HER MODESTY  \\\n",
       "STATE/UT                                                                 \n",
       "A & N ISLANDS                                                    428     \n",
       "ANDHRA PRADESH                                                103998     \n",
       "ARUNACHAL PRADESH                                               1568     \n",
       "ASSAM                                                          27240     \n",
       "BIHAR                                                          15152     \n",
       "\n",
       "                   INSULT TO MODESTY OF WOMEN  \\\n",
       "STATE/UT                                        \n",
       "A & N ISLANDS                              86   \n",
       "ANDHRA PRADESH                          72262   \n",
       "ARUNACHAL PRADESH                          36   \n",
       "ASSAM                                     224   \n",
       "BIHAR                                     452   \n",
       "\n",
       "                   CRUELTY BY HUSBAND OR HIS RELATIVES  \\\n",
       "STATE/UT                                                 \n",
       "A & N ISLANDS                                      242   \n",
       "ANDHRA PRADESH                                  238014   \n",
       "ARUNACHAL PRADESH                                  334   \n",
       "ASSAM                                            78776   \n",
       "BIHAR                                            51360   \n",
       "\n",
       "                   IMPORTATION OF GIRLS FROM FOREIGN COUNTRIES  \\\n",
       "STATE/UT                                                         \n",
       "A & N ISLANDS                                                0   \n",
       "ANDHRA PRADESH                                              34   \n",
       "ARUNACHAL PRADESH                                            0   \n",
       "ASSAM                                                       16   \n",
       "BIHAR                                                      880   \n",
       "\n",
       "                   CAUSING DEATH BY NEGLIGENCE  OTHER IPC CRIMES  \\\n",
       "STATE/UT                                                           \n",
       "A & N ISLANDS                               84              8886   \n",
       "ANDHRA PRADESH                          276870            964504   \n",
       "ARUNACHAL PRADESH                         1490             14792   \n",
       "ASSAM                                    60410            362708   \n",
       "BIHAR                                    88884           1077182   \n",
       "\n",
       "                   TOTAL IPC CRIMES  \n",
       "STATE/UT                             \n",
       "A & N ISLANDS                 18204  \n",
       "ANDHRA PRADESH              4037962  \n",
       "ARUNACHAL PRADESH             55304  \n",
       "ASSAM                       1195528  \n",
       "BIHAR                       2692586  \n",
       "\n",
       "[5 rows x 31 columns]"
      ]
     },
     "execution_count": 35,
     "metadata": {},
     "output_type": "execute_result"
    }
   ],
   "source": [
    "df_by_state = df.groupby(by ='STATE/UT').sum()\n",
    "df_by_state.head()"
   ]
  },
  {
   "cell_type": "code",
   "execution_count": 36,
   "metadata": {},
   "outputs": [
    {
     "data": {
      "text/plain": [
       "Text(0.5, 0, 'States/Union Territories')"
      ]
     },
     "execution_count": 36,
     "metadata": {},
     "output_type": "execute_result"
    },
    {
     "data": {
      "image/png": "[encoded data removed]",
      "text/plain": [
       "<Figure size 1440x720 with 1 Axes>"
      ]
     },
     "metadata": {
      "needs_background": "light"
     },
     "output_type": "display_data"
    }
   ],
   "source": [
    "fig,ax=plt.subplots(figsize=(20,10))\n",
    "plt.tick_params(labelsize=14)\n",
    "plt.xticks(label = df_by_state.index,rotation=90)\n",
    "ax.bar(x=df_by_state.index,height=df_by_state['TOTAL IPC CRIMES'])\n",
    "ax.set_facecolor('0')\n",
    "ax.set_title(\"Bar graph of total no of IPC crimes Vs States/UT\",fontdict={'size':26,'fontfamily':\"Britannic Bold\"})\n",
    "ax.set_ylabel(\"Total no of IPC crimes\",fontdict={'size':20,'fontfamily':\"DejaVu Sans\"})\n",
    "ax.set_xlabel(\"States/Union Territories\",fontdict={'size':20,'fontfamily':\"DejaVu Sans\"})\n"
   ]
  },
  {
   "cell_type": "markdown",
   "metadata": {},
   "source": [
    "From abve graph we can say the total crime rate in Madhya pradesh is maximum in 2001-2012"
   ]
  },
  {
   "cell_type": "markdown",
   "metadata": {},
   "source": [
    "From the above two graph we can't see that which crime does most in which year and in which state  so for taking all the crimes specifically we need to plot many graphs which is not a good idea for anyone so the solution is we can make dashboard in which by choosing specific crime name we can see which crime is most done in which year for making dash board we need to import some libraries"
   ]
  },
  {
   "cell_type": "code",
   "execution_count": 37,
   "metadata": {},
   "outputs": [],
   "source": [
    "import dash\n",
    "import dash_core_components as dcc\n",
    "import dash_html_components as html\n",
    "from dash.dependencies import Input,Output"
   ]
  },
  {
   "cell_type": "code",
   "execution_count": 38,
   "metadata": {},
   "outputs": [],
   "source": [
    "app = dash.Dash()\n",
    "\n",
    "Crime_names = []\n",
    "for i in df_by_year.columns:\n",
    "    Crime_names.append({'label':i,'value':i})\n",
    "\n",
    "app.layout = html.Div([\n",
    "                html.H1(\n",
    "                    'Crimes in India fron 2001 to 2012'\n",
    "                  \n",
    "                ),\n",
    "                html.Label(\"Enter the name of crime\"),\n",
    "                html.Div([\n",
    "                    html.Div([\n",
    "                            dcc.Dropdown(id = 'Name_of_crime',\n",
    "                                options = Crime_names,\n",
    "                                value = 'MURDER'\n",
    "                        )],\n",
    "                        style={\"width\":'48%','display':'inline-block'}\n",
    "                    ),\n",
    "                html.Div([\n",
    "                    dcc.Dropdown(id='Name',\n",
    "                                options = Crime_names,\n",
    "                                value = 'MURDER')\n",
    "                ],\n",
    "                    style={\"width\":'48%','display':'inline-block'}\n",
    "                )\n",
    "                ]),\n",
    "          html.Div([\n",
    "              html.Div([\n",
    "                      dcc.Graph(id = 'graph',figure = {})\n",
    "              ],\n",
    "              \n",
    "                  style={\"width\":'48%','display':'inline-block'}\n",
    "                  ),\n",
    "              html.Div([\n",
    "                      dcc.Graph(id='graph1',figure={})\n",
    "              ],\n",
    "                  style={\"width\":'48%','display':'inline-block'}\n",
    "              )\n",
    "          ])\n",
    "    \n",
    "])\n",
    "\n",
    "\n",
    "\n",
    "@app.callback(\n",
    "    Output('graph','figure'),\n",
    "    [Input('Name_of_crime','value')]\n",
    ")\n",
    "\n",
    "\n",
    "def update_graph(yaxis):\n",
    "    fig = px.line(df_by_year,x=df_by_year.index,y=yaxis)\n",
    "    fig.update_layout(title = 'Crimes in India from 2001 to 2012',title_font_size=24,paper_bgcolor='black',\n",
    "                     title_font_family='Aerial',font={'color':'red','family':'Times New Roman','size':15},\n",
    "                      template = 'plotly_white')\n",
    "    return fig\n",
    "\n",
    "\n",
    "@app.callback(\n",
    "    Output('graph1','figure'),\n",
    "    [Input('Name','value')]\n",
    ")\n",
    "\n",
    "\n",
    "def update_graph1(yaxis):\n",
    "    fig = px.bar(df_by_state,x=df_by_state.index,y=yaxis)\n",
    "    fig.update_layout(title = 'Crimes in India by states',title_font_size=24,paper_bgcolor='black',\n",
    "                     title_font_family='Aerial',font={'color':'red','family':'Times New Roman','size':10},\n",
    "                      template = 'plotly_white')\n",
    "    return fig\n"
   ]
  },
  {
   "cell_type": "markdown",
   "metadata": {},
   "source": [
    "for running the dash board you can first copy above code in jupyter or any other IDE then click on the link http://127.0.0.1:8050/"
   ]
  },
  {
   "cell_type": "code",
   "execution_count": 39,
   "metadata": {},
   "outputs": [
    {
     "name": "stdout",
     "output_type": "stream",
     "text": [
      "Dash is running on http://127.0.0.1:8050/\n",
      "\n",
      " Warning: This is a development server. Do not use app.run_server\n",
      " in production, use a production WSGI server like gunicorn instead.\n",
      "\n",
      " * Serving Flask app \"__main__\" (lazy loading)\n",
      " * Environment: production\n",
      "   WARNING: This is a development server. Do not use it in a production deployment.\n",
      "   Use a production WSGI server instead.\n",
      " * Debug mode: off\n"
     ]
    },
    {
     "name": "stderr",
     "output_type": "stream",
     "text": [
      " * Running on http://127.0.0.1:8050/ (Press CTRL+C to quit)\n",
      "127.0.0.1 - - [21/Aug/2020 23:46:16] \"\u001b[37mGET / HTTP/1.1\u001b[0m\" 200 -\n",
      "127.0.0.1 - - [21/Aug/2020 23:46:16] \"\u001b[37mGET /_dash-component-suites/dash_renderer/react@16.v1_6_0m1596865762.13.0.min.js HTTP/1.1\u001b[0m\" 200 -\n",
      "127.0.0.1 - - [21/Aug/2020 23:46:16] \"\u001b[37mGET /_dash-component-suites/dash_renderer/react-dom@16.v1_6_0m1596865762.13.0.min.js HTTP/1.1\u001b[0m\" 200 -\n",
      "127.0.0.1 - - [21/Aug/2020 23:46:16] \"\u001b[37mGET /_dash-component-suites/dash_core_components/dash_core_components-shared.v1_10_2m1596865763.js HTTP/1.1\u001b[0m\" 200 -\n",
      "127.0.0.1 - - [21/Aug/2020 23:46:16] \"\u001b[37mGET /_dash-component-suites/dash_renderer/polyfill@7.v1_6_0m1596865762.8.7.min.js HTTP/1.1\u001b[0m\" 200 -\n",
      "127.0.0.1 - - [21/Aug/2020 23:46:16] \"\u001b[37mGET /_dash-component-suites/dash_renderer/prop-types@15.v1_6_0m1596865762.7.2.min.js HTTP/1.1\u001b[0m\" 200 -\n",
      "127.0.0.1 - - [21/Aug/2020 23:46:16] \"\u001b[37mGET /_dash-component-suites/dash_renderer/dash_renderer.v1_6_0m1596865762.min.js HTTP/1.1\u001b[0m\" 200 -\n",
      "127.0.0.1 - - [21/Aug/2020 23:46:16] \"\u001b[37mGET /_dash-component-suites/dash_core_components/dash_core_components.v1_10_2m1596865763.min.js HTTP/1.1\u001b[0m\" 200 -\n",
      "127.0.0.1 - - [21/Aug/2020 23:46:16] \"\u001b[37mGET /_dash-component-suites/dash_html_components/dash_html_components.v1_0_3m1596865765.min.js HTTP/1.1\u001b[0m\" 200 -\n",
      "127.0.0.1 - - [21/Aug/2020 23:46:16] \"\u001b[37mGET /_dash-dependencies HTTP/1.1\u001b[0m\" 200 -\n",
      "127.0.0.1 - - [21/Aug/2020 23:46:16] \"\u001b[37mGET /_dash-layout HTTP/1.1\u001b[0m\" 200 -\n",
      "127.0.0.1 - - [21/Aug/2020 23:46:16] \"\u001b[37mGET /_favicon.ico?v=1.14.0 HTTP/1.1\u001b[0m\" 200 -\n",
      "127.0.0.1 - - [21/Aug/2020 23:46:17] \"\u001b[37mPOST /_dash-update-component HTTP/1.1\u001b[0m\" 200 -\n",
      "127.0.0.1 - - [21/Aug/2020 23:46:17] \"\u001b[37mGET /_dash-component-suites/dash_core_components/async-graph.v1_10_2m1595872686.js HTTP/1.1\u001b[0m\" 200 -\n",
      "127.0.0.1 - - [21/Aug/2020 23:46:17] \"\u001b[37mGET /_dash-component-suites/dash_core_components/async-dropdown.v1_10_2m1595872686.js HTTP/1.1\u001b[0m\" 200 -\n",
      "127.0.0.1 - - [21/Aug/2020 23:46:17] \"\u001b[37mPOST /_dash-update-component HTTP/1.1\u001b[0m\" 200 -\n",
      "127.0.0.1 - - [21/Aug/2020 23:46:17] \"\u001b[37mGET /_dash-component-suites/dash_core_components/async-plotlyjs.v1_10_2m1595872686.js HTTP/1.1\u001b[0m\" 200 -\n"
     ]
    }
   ],
   "source": [
    "if __name__ == '__main__':\n",
    "    app.run_server()"
   ]
  },
  {
   "cell_type": "markdown",
   "metadata": {},
   "source": [
    "# state wise "
   ]
  },
  {
   "cell_type": "markdown",
   "metadata": {},
   "source": [
    "As we can see from the dash board that the top 10 states in crimes and the state Madhya pradesh is the most dangerous state in India followed by Maharashtra Now we will see a top 10 states in India in detail"
   ]
  },
  {
   "cell_type": "code",
   "execution_count": 40,
   "metadata": {},
   "outputs": [],
   "source": [
    "df_top10 = df_by_state.sort_values('TOTAL IPC CRIMES',ascending=False).head(10)"
   ]
  },
  {
   "cell_type": "code",
   "execution_count": 41,
   "metadata": {},
   "outputs": [],
   "source": [
    "df_top10.drop('YEAR',axis=1,inplace=True)"
   ]
  },
  {
   "cell_type": "code",
   "execution_count": 42,
   "metadata": {},
   "outputs": [
    {
     "data": {
      "text/html": [
       "<div>\n",
       "<style scoped>\n",
       "    .dataframe tbody tr th:only-of-type {\n",
       "        vertical-align: middle;\n",
       "    }\n",
       "\n",
       "    .dataframe tbody tr th {\n",
       "        vertical-align: top;\n",
       "    }\n",
       "\n",
       "    .dataframe thead th {\n",
       "        text-align: right;\n",
       "    }\n",
       "</style>\n",
       "<table border=\"1\" class=\"dataframe\">\n",
       "  <thead>\n",
       "    <tr style=\"text-align: right;\">\n",
       "      <th></th>\n",
       "      <th>MURDER</th>\n",
       "      <th>ATTEMPT TO MURDER</th>\n",
       "      <th>CULPABLE HOMICIDE NOT AMOUNTING TO MURDER</th>\n",
       "      <th>RAPE</th>\n",
       "      <th>CUSTODIAL RAPE</th>\n",
       "      <th>OTHER RAPE</th>\n",
       "      <th>KIDNAPPING &amp; ABDUCTION</th>\n",
       "      <th>KIDNAPPING AND ABDUCTION OF WOMEN AND GIRLS</th>\n",
       "      <th>KIDNAPPING AND ABDUCTION OF OTHERS</th>\n",
       "      <th>DACOITY</th>\n",
       "      <th>...</th>\n",
       "      <th>ARSON</th>\n",
       "      <th>HURT/GREVIOUS HURT</th>\n",
       "      <th>DOWRY DEATHS</th>\n",
       "      <th>ASSAULT ON WOMEN WITH INTENT TO OUTRAGE HER MODESTY</th>\n",
       "      <th>INSULT TO MODESTY OF WOMEN</th>\n",
       "      <th>CRUELTY BY HUSBAND OR HIS RELATIVES</th>\n",
       "      <th>IMPORTATION OF GIRLS FROM FOREIGN COUNTRIES</th>\n",
       "      <th>CAUSING DEATH BY NEGLIGENCE</th>\n",
       "      <th>OTHER IPC CRIMES</th>\n",
       "      <th>TOTAL IPC CRIMES</th>\n",
       "    </tr>\n",
       "    <tr>\n",
       "      <th>STATE/UT</th>\n",
       "      <th></th>\n",
       "      <th></th>\n",
       "      <th></th>\n",
       "      <th></th>\n",
       "      <th></th>\n",
       "      <th></th>\n",
       "      <th></th>\n",
       "      <th></th>\n",
       "      <th></th>\n",
       "      <th></th>\n",
       "      <th></th>\n",
       "      <th></th>\n",
       "      <th></th>\n",
       "      <th></th>\n",
       "      <th></th>\n",
       "      <th></th>\n",
       "      <th></th>\n",
       "      <th></th>\n",
       "      <th></th>\n",
       "      <th></th>\n",
       "      <th></th>\n",
       "    </tr>\n",
       "  </thead>\n",
       "  <tbody>\n",
       "    <tr>\n",
       "      <th>MADHYA PRADESH</th>\n",
       "      <td>56798</td>\n",
       "      <td>58916</td>\n",
       "      <td>3668</td>\n",
       "      <td>72174</td>\n",
       "      <td>2</td>\n",
       "      <td>72172</td>\n",
       "      <td>23916</td>\n",
       "      <td>18486</td>\n",
       "      <td>5430</td>\n",
       "      <td>3310</td>\n",
       "      <td>...</td>\n",
       "      <td>20708</td>\n",
       "      <td>825154</td>\n",
       "      <td>18072</td>\n",
       "      <td>159756</td>\n",
       "      <td>18634</td>\n",
       "      <td>79938</td>\n",
       "      <td>120</td>\n",
       "      <td>129938</td>\n",
       "      <td>2393164</td>\n",
       "      <td>4827540</td>\n",
       "    </tr>\n",
       "    <tr>\n",
       "      <th>MAHARASHTRA</th>\n",
       "      <td>65534</td>\n",
       "      <td>41178</td>\n",
       "      <td>2818</td>\n",
       "      <td>35972</td>\n",
       "      <td>4</td>\n",
       "      <td>35968</td>\n",
       "      <td>30202</td>\n",
       "      <td>21706</td>\n",
       "      <td>8496</td>\n",
       "      <td>16350</td>\n",
       "      <td>...</td>\n",
       "      <td>29030</td>\n",
       "      <td>707520</td>\n",
       "      <td>8498</td>\n",
       "      <td>78438</td>\n",
       "      <td>24220</td>\n",
       "      <td>160726</td>\n",
       "      <td>4</td>\n",
       "      <td>269226</td>\n",
       "      <td>1120120</td>\n",
       "      <td>4546872</td>\n",
       "    </tr>\n",
       "    <tr>\n",
       "      <th>TAMIL NADU</th>\n",
       "      <td>40254</td>\n",
       "      <td>53194</td>\n",
       "      <td>686</td>\n",
       "      <td>13904</td>\n",
       "      <td>4</td>\n",
       "      <td>13900</td>\n",
       "      <td>30606</td>\n",
       "      <td>24872</td>\n",
       "      <td>5734</td>\n",
       "      <td>2474</td>\n",
       "      <td>...</td>\n",
       "      <td>16298</td>\n",
       "      <td>561346</td>\n",
       "      <td>4634</td>\n",
       "      <td>38658</td>\n",
       "      <td>20086</td>\n",
       "      <td>36376</td>\n",
       "      <td>30</td>\n",
       "      <td>280386</td>\n",
       "      <td>2372230</td>\n",
       "      <td>4120352</td>\n",
       "    </tr>\n",
       "    <tr>\n",
       "      <th>ANDHRA PRADESH</th>\n",
       "      <td>63512</td>\n",
       "      <td>44840</td>\n",
       "      <td>3526</td>\n",
       "      <td>26958</td>\n",
       "      <td>4</td>\n",
       "      <td>26954</td>\n",
       "      <td>42478</td>\n",
       "      <td>29872</td>\n",
       "      <td>12606</td>\n",
       "      <td>3974</td>\n",
       "      <td>...</td>\n",
       "      <td>23936</td>\n",
       "      <td>1093130</td>\n",
       "      <td>12430</td>\n",
       "      <td>103998</td>\n",
       "      <td>72262</td>\n",
       "      <td>238014</td>\n",
       "      <td>34</td>\n",
       "      <td>276870</td>\n",
       "      <td>964504</td>\n",
       "      <td>4037962</td>\n",
       "    </tr>\n",
       "    <tr>\n",
       "      <th>UTTAR PRADESH</th>\n",
       "      <td>130886</td>\n",
       "      <td>121040</td>\n",
       "      <td>34532</td>\n",
       "      <td>38116</td>\n",
       "      <td>4</td>\n",
       "      <td>38112</td>\n",
       "      <td>118532</td>\n",
       "      <td>95180</td>\n",
       "      <td>23352</td>\n",
       "      <td>9618</td>\n",
       "      <td>...</td>\n",
       "      <td>9108</td>\n",
       "      <td>279500</td>\n",
       "      <td>47648</td>\n",
       "      <td>59396</td>\n",
       "      <td>53022</td>\n",
       "      <td>155234</td>\n",
       "      <td>6</td>\n",
       "      <td>227642</td>\n",
       "      <td>1253898</td>\n",
       "      <td>3716148</td>\n",
       "    </tr>\n",
       "    <tr>\n",
       "      <th>RAJASTHAN</th>\n",
       "      <td>31688</td>\n",
       "      <td>42684</td>\n",
       "      <td>1778</td>\n",
       "      <td>31596</td>\n",
       "      <td>0</td>\n",
       "      <td>31596</td>\n",
       "      <td>61454</td>\n",
       "      <td>49342</td>\n",
       "      <td>12112</td>\n",
       "      <td>1126</td>\n",
       "      <td>...</td>\n",
       "      <td>16624</td>\n",
       "      <td>534706</td>\n",
       "      <td>10132</td>\n",
       "      <td>61706</td>\n",
       "      <td>708</td>\n",
       "      <td>200202</td>\n",
       "      <td>12</td>\n",
       "      <td>156700</td>\n",
       "      <td>1569982</td>\n",
       "      <td>3711832</td>\n",
       "    </tr>\n",
       "    <tr>\n",
       "      <th>KARNATAKA</th>\n",
       "      <td>39874</td>\n",
       "      <td>37024</td>\n",
       "      <td>1714</td>\n",
       "      <td>10348</td>\n",
       "      <td>4</td>\n",
       "      <td>10344</td>\n",
       "      <td>20058</td>\n",
       "      <td>10630</td>\n",
       "      <td>9428</td>\n",
       "      <td>5162</td>\n",
       "      <td>...</td>\n",
       "      <td>7422</td>\n",
       "      <td>502664</td>\n",
       "      <td>5836</td>\n",
       "      <td>47398</td>\n",
       "      <td>1662</td>\n",
       "      <td>60104</td>\n",
       "      <td>94</td>\n",
       "      <td>10156</td>\n",
       "      <td>1362672</td>\n",
       "      <td>2962126</td>\n",
       "    </tr>\n",
       "    <tr>\n",
       "      <th>KERALA</th>\n",
       "      <td>9466</td>\n",
       "      <td>10654</td>\n",
       "      <td>3794</td>\n",
       "      <td>14894</td>\n",
       "      <td>0</td>\n",
       "      <td>14894</td>\n",
       "      <td>5782</td>\n",
       "      <td>3796</td>\n",
       "      <td>1986</td>\n",
       "      <td>2728</td>\n",
       "      <td>...</td>\n",
       "      <td>11160</td>\n",
       "      <td>464902</td>\n",
       "      <td>602</td>\n",
       "      <td>62980</td>\n",
       "      <td>6608</td>\n",
       "      <td>92148</td>\n",
       "      <td>0</td>\n",
       "      <td>978</td>\n",
       "      <td>1659766</td>\n",
       "      <td>2874918</td>\n",
       "    </tr>\n",
       "    <tr>\n",
       "      <th>GUJARAT</th>\n",
       "      <td>27550</td>\n",
       "      <td>12224</td>\n",
       "      <td>860</td>\n",
       "      <td>8498</td>\n",
       "      <td>0</td>\n",
       "      <td>8498</td>\n",
       "      <td>30492</td>\n",
       "      <td>25836</td>\n",
       "      <td>4656</td>\n",
       "      <td>7684</td>\n",
       "      <td>...</td>\n",
       "      <td>11294</td>\n",
       "      <td>270436</td>\n",
       "      <td>1004</td>\n",
       "      <td>17996</td>\n",
       "      <td>2730</td>\n",
       "      <td>118862</td>\n",
       "      <td>0</td>\n",
       "      <td>108770</td>\n",
       "      <td>1459368</td>\n",
       "      <td>2771550</td>\n",
       "    </tr>\n",
       "    <tr>\n",
       "      <th>BIHAR</th>\n",
       "      <td>82490</td>\n",
       "      <td>81838</td>\n",
       "      <td>7344</td>\n",
       "      <td>26248</td>\n",
       "      <td>4</td>\n",
       "      <td>26244</td>\n",
       "      <td>74440</td>\n",
       "      <td>38778</td>\n",
       "      <td>35662</td>\n",
       "      <td>22198</td>\n",
       "      <td>...</td>\n",
       "      <td>17018</td>\n",
       "      <td>378532</td>\n",
       "      <td>27096</td>\n",
       "      <td>15152</td>\n",
       "      <td>452</td>\n",
       "      <td>51360</td>\n",
       "      <td>880</td>\n",
       "      <td>88884</td>\n",
       "      <td>1077182</td>\n",
       "      <td>2692586</td>\n",
       "    </tr>\n",
       "  </tbody>\n",
       "</table>\n",
       "<p>10 rows × 30 columns</p>\n",
       "</div>"
      ],
      "text/plain": [
       "                MURDER  ATTEMPT TO MURDER  \\\n",
       "STATE/UT                                    \n",
       "MADHYA PRADESH   56798              58916   \n",
       "MAHARASHTRA      65534              41178   \n",
       "TAMIL NADU       40254              53194   \n",
       "ANDHRA PRADESH   63512              44840   \n",
       "UTTAR PRADESH   130886             121040   \n",
       "RAJASTHAN        31688              42684   \n",
       "KARNATAKA        39874              37024   \n",
       "KERALA            9466              10654   \n",
       "GUJARAT          27550              12224   \n",
       "BIHAR            82490              81838   \n",
       "\n",
       "                CULPABLE HOMICIDE NOT AMOUNTING TO MURDER   RAPE  \\\n",
       "STATE/UT                                                           \n",
       "MADHYA PRADESH                                       3668  72174   \n",
       "MAHARASHTRA                                          2818  35972   \n",
       "TAMIL NADU                                            686  13904   \n",
       "ANDHRA PRADESH                                       3526  26958   \n",
       "UTTAR PRADESH                                       34532  38116   \n",
       "RAJASTHAN                                            1778  31596   \n",
       "KARNATAKA                                            1714  10348   \n",
       "KERALA                                               3794  14894   \n",
       "GUJARAT                                               860   8498   \n",
       "BIHAR                                                7344  26248   \n",
       "\n",
       "                CUSTODIAL RAPE  OTHER RAPE  KIDNAPPING & ABDUCTION  \\\n",
       "STATE/UT                                                             \n",
       "MADHYA PRADESH               2       72172                   23916   \n",
       "MAHARASHTRA                  4       35968                   30202   \n",
       "TAMIL NADU                   4       13900                   30606   \n",
       "ANDHRA PRADESH               4       26954                   42478   \n",
       "UTTAR PRADESH                4       38112                  118532   \n",
       "RAJASTHAN                    0       31596                   61454   \n",
       "KARNATAKA                    4       10344                   20058   \n",
       "KERALA                       0       14894                    5782   \n",
       "GUJARAT                      0        8498                   30492   \n",
       "BIHAR                        4       26244                   74440   \n",
       "\n",
       "                KIDNAPPING AND ABDUCTION OF WOMEN AND GIRLS  \\\n",
       "STATE/UT                                                      \n",
       "MADHYA PRADESH                                        18486   \n",
       "MAHARASHTRA                                           21706   \n",
       "TAMIL NADU                                            24872   \n",
       "ANDHRA PRADESH                                        29872   \n",
       "UTTAR PRADESH                                         95180   \n",
       "RAJASTHAN                                             49342   \n",
       "KARNATAKA                                             10630   \n",
       "KERALA                                                 3796   \n",
       "GUJARAT                                               25836   \n",
       "BIHAR                                                 38778   \n",
       "\n",
       "                KIDNAPPING AND ABDUCTION OF OTHERS  DACOITY  ...  ARSON  \\\n",
       "STATE/UT                                                     ...          \n",
       "MADHYA PRADESH                                5430     3310  ...  20708   \n",
       "MAHARASHTRA                                   8496    16350  ...  29030   \n",
       "TAMIL NADU                                    5734     2474  ...  16298   \n",
       "ANDHRA PRADESH                               12606     3974  ...  23936   \n",
       "UTTAR PRADESH                                23352     9618  ...   9108   \n",
       "RAJASTHAN                                    12112     1126  ...  16624   \n",
       "KARNATAKA                                     9428     5162  ...   7422   \n",
       "KERALA                                        1986     2728  ...  11160   \n",
       "GUJARAT                                       4656     7684  ...  11294   \n",
       "BIHAR                                        35662    22198  ...  17018   \n",
       "\n",
       "                HURT/GREVIOUS HURT  DOWRY DEATHS  \\\n",
       "STATE/UT                                           \n",
       "MADHYA PRADESH              825154         18072   \n",
       "MAHARASHTRA                 707520          8498   \n",
       "TAMIL NADU                  561346          4634   \n",
       "ANDHRA PRADESH             1093130         12430   \n",
       "UTTAR PRADESH               279500         47648   \n",
       "RAJASTHAN                   534706         10132   \n",
       "KARNATAKA                   502664          5836   \n",
       "KERALA                      464902           602   \n",
       "GUJARAT                     270436          1004   \n",
       "BIHAR                       378532         27096   \n",
       "\n",
       "                ASSAULT ON WOMEN WITH INTENT TO OUTRAGE HER MODESTY  \\\n",
       "STATE/UT                                                              \n",
       "MADHYA PRADESH                                             159756     \n",
       "MAHARASHTRA                                                 78438     \n",
       "TAMIL NADU                                                  38658     \n",
       "ANDHRA PRADESH                                             103998     \n",
       "UTTAR PRADESH                                               59396     \n",
       "RAJASTHAN                                                   61706     \n",
       "KARNATAKA                                                   47398     \n",
       "KERALA                                                      62980     \n",
       "GUJARAT                                                     17996     \n",
       "BIHAR                                                       15152     \n",
       "\n",
       "                INSULT TO MODESTY OF WOMEN  \\\n",
       "STATE/UT                                     \n",
       "MADHYA PRADESH                       18634   \n",
       "MAHARASHTRA                          24220   \n",
       "TAMIL NADU                           20086   \n",
       "ANDHRA PRADESH                       72262   \n",
       "UTTAR PRADESH                        53022   \n",
       "RAJASTHAN                              708   \n",
       "KARNATAKA                             1662   \n",
       "KERALA                                6608   \n",
       "GUJARAT                               2730   \n",
       "BIHAR                                  452   \n",
       "\n",
       "                CRUELTY BY HUSBAND OR HIS RELATIVES  \\\n",
       "STATE/UT                                              \n",
       "MADHYA PRADESH                                79938   \n",
       "MAHARASHTRA                                  160726   \n",
       "TAMIL NADU                                    36376   \n",
       "ANDHRA PRADESH                               238014   \n",
       "UTTAR PRADESH                                155234   \n",
       "RAJASTHAN                                    200202   \n",
       "KARNATAKA                                     60104   \n",
       "KERALA                                        92148   \n",
       "GUJARAT                                      118862   \n",
       "BIHAR                                         51360   \n",
       "\n",
       "                IMPORTATION OF GIRLS FROM FOREIGN COUNTRIES  \\\n",
       "STATE/UT                                                      \n",
       "MADHYA PRADESH                                          120   \n",
       "MAHARASHTRA                                               4   \n",
       "TAMIL NADU                                               30   \n",
       "ANDHRA PRADESH                                           34   \n",
       "UTTAR PRADESH                                             6   \n",
       "RAJASTHAN                                                12   \n",
       "KARNATAKA                                                94   \n",
       "KERALA                                                    0   \n",
       "GUJARAT                                                   0   \n",
       "BIHAR                                                   880   \n",
       "\n",
       "                CAUSING DEATH BY NEGLIGENCE  OTHER IPC CRIMES  \\\n",
       "STATE/UT                                                        \n",
       "MADHYA PRADESH                       129938           2393164   \n",
       "MAHARASHTRA                          269226           1120120   \n",
       "TAMIL NADU                           280386           2372230   \n",
       "ANDHRA PRADESH                       276870            964504   \n",
       "UTTAR PRADESH                        227642           1253898   \n",
       "RAJASTHAN                            156700           1569982   \n",
       "KARNATAKA                             10156           1362672   \n",
       "KERALA                                  978           1659766   \n",
       "GUJARAT                              108770           1459368   \n",
       "BIHAR                                 88884           1077182   \n",
       "\n",
       "                TOTAL IPC CRIMES  \n",
       "STATE/UT                          \n",
       "MADHYA PRADESH           4827540  \n",
       "MAHARASHTRA              4546872  \n",
       "TAMIL NADU               4120352  \n",
       "ANDHRA PRADESH           4037962  \n",
       "UTTAR PRADESH            3716148  \n",
       "RAJASTHAN                3711832  \n",
       "KARNATAKA                2962126  \n",
       "KERALA                   2874918  \n",
       "GUJARAT                  2771550  \n",
       "BIHAR                    2692586  \n",
       "\n",
       "[10 rows x 30 columns]"
      ]
     },
     "execution_count": 42,
     "metadata": {},
     "output_type": "execute_result"
    }
   ],
   "source": [
    "df_top10"
   ]
  },
  {
   "cell_type": "code",
   "execution_count": 44,
   "metadata": {},
   "outputs": [
    {
     "data": {
      "application/vnd.plotly.v1+json": {
       "config": {
        "plotlyServerURL": "https://plot.ly"
       },
       "data": [
        {
         "domain": {
          "x": [
           0,
           1
          ],
          "y": [
           0,
           1
          ]
         },
         "hovertemplate": "STATE/UT=%{label}<br>TOTAL IPC CRIMES=%{value}<extra></extra>",
         "labels": [
          "MADHYA PRADESH",
          "MAHARASHTRA",
          "TAMIL NADU",
          "ANDHRA PRADESH",
          "UTTAR PRADESH",
          "RAJASTHAN",
          "KARNATAKA",
          "KERALA",
          "GUJARAT",
          "BIHAR"
         ],
         "legendgroup": "",
         "name": "",
         "showlegend": true,
         "type": "pie",
         "values": [
          4827540,
          4546872,
          4120352,
          4037962,
          3716148,
          3711832,
          2962126,
          2874918,
          2771550,
          2692586
         ]
        }
       ],
       "layout": {
        "font": {
         "color": "red",
         "family": "Times New Roman",
         "size": 10
        },
        "legend": {
         "tracegroupgap": 0
        },
        "paper_bgcolor": "black",
        "template": {
         "data": {
          "bar": [
           {
            "error_x": {
             "color": "#f2f5fa"
            },
            "error_y": {
             "color": "#f2f5fa"
            },
            "marker": {
             "line": {
              "color": "rgb(17,17,17)",
              "width": 0.5
             }
            },
            "type": "bar"
           }
          ],
          "barpolar": [
           {
            "marker": {
             "line": {
              "color": "rgb(17,17,17)",
              "width": 0.5
             }
            },
            "type": "barpolar"
           }
          ],
          "carpet": [
           {
            "aaxis": {
             "endlinecolor": "#A2B1C6",
             "gridcolor": "#506784",
             "linecolor": "#506784",
             "minorgridcolor": "#506784",
             "startlinecolor": "#A2B1C6"
            },
            "baxis": {
             "endlinecolor": "#A2B1C6",
             "gridcolor": "#506784",
             "linecolor": "#506784",
             "minorgridcolor": "#506784",
             "startlinecolor": "#A2B1C6"
            },
            "type": "carpet"
           }
          ],
          "choropleth": [
           {
            "colorbar": {
             "outlinewidth": 0,
             "ticks": ""
            },
            "type": "choropleth"
           }
          ],
          "contour": [
           {
            "colorbar": {
             "outlinewidth": 0,
             "ticks": ""
            },
            "colorscale": [
             [
              0,
              "#0d0887"
             ],
             [
              0.1111111111111111,
              "#46039f"
             ],
             [
              0.2222222222222222,
              "#7201a8"
             ],
             [
              0.3333333333333333,
              "#9c179e"
             ],
             [
              0.4444444444444444,
              "#bd3786"
             ],
             [
              0.5555555555555556,
              "#d8576b"
             ],
             [
              0.6666666666666666,
              "#ed7953"
             ],
             [
              0.7777777777777778,
              "#fb9f3a"
             ],
             [
              0.8888888888888888,
              "#fdca26"
             ],
             [
              1,
              "#f0f921"
             ]
            ],
            "type": "contour"
           }
          ],
          "contourcarpet": [
           {
            "colorbar": {
             "outlinewidth": 0,
             "ticks": ""
            },
            "type": "contourcarpet"
           }
          ],
          "heatmap": [
           {
            "colorbar": {
             "outlinewidth": 0,
             "ticks": ""
            },
            "colorscale": [
             [
              0,
              "#0d0887"
             ],
             [
              0.1111111111111111,
              "#46039f"
             ],
             [
              0.2222222222222222,
              "#7201a8"
             ],
             [
              0.3333333333333333,
              "#9c179e"
             ],
             [
              0.4444444444444444,
              "#bd3786"
             ],
             [
              0.5555555555555556,
              "#d8576b"
             ],
             [
              0.6666666666666666,
              "#ed7953"
             ],
             [
              0.7777777777777778,
              "#fb9f3a"
             ],
             [
              0.8888888888888888,
              "#fdca26"
             ],
             [
              1,
              "#f0f921"
             ]
            ],
            "type": "heatmap"
           }
          ],
          "heatmapgl": [
           {
            "colorbar": {
             "outlinewidth": 0,
             "ticks": ""
            },
            "colorscale": [
             [
              0,
              "#0d0887"
             ],
             [
              0.1111111111111111,
              "#46039f"
             ],
             [
              0.2222222222222222,
              "#7201a8"
             ],
             [
              0.3333333333333333,
              "#9c179e"
             ],
             [
              0.4444444444444444,
              "#bd3786"
             ],
             [
              0.5555555555555556,
              "#d8576b"
             ],
             [
              0.6666666666666666,
              "#ed7953"
             ],
             [
              0.7777777777777778,
              "#fb9f3a"
             ],
             [
              0.8888888888888888,
              "#fdca26"
             ],
             [
              1,
              "#f0f921"
             ]
            ],
            "type": "heatmapgl"
           }
          ],
          "histogram": [
           {
            "marker": {
             "colorbar": {
              "outlinewidth": 0,
              "ticks": ""
             }
            },
            "type": "histogram"
           }
          ],
          "histogram2d": [
           {
            "colorbar": {
             "outlinewidth": 0,
             "ticks": ""
            },
            "colorscale": [
             [
              0,
              "#0d0887"
             ],
             [
              0.1111111111111111,
              "#46039f"
             ],
             [
              0.2222222222222222,
              "#7201a8"
             ],
             [
              0.3333333333333333,
              "#9c179e"
             ],
             [
              0.4444444444444444,
              "#bd3786"
             ],
             [
              0.5555555555555556,
              "#d8576b"
             ],
             [
              0.6666666666666666,
              "#ed7953"
             ],
             [
              0.7777777777777778,
              "#fb9f3a"
             ],
             [
              0.8888888888888888,
              "#fdca26"
             ],
             [
              1,
              "#f0f921"
             ]
            ],
            "type": "histogram2d"
           }
          ],
          "histogram2dcontour": [
           {
            "colorbar": {
             "outlinewidth": 0,
             "ticks": ""
            },
            "colorscale": [
             [
              0,
              "#0d0887"
             ],
             [
              0.1111111111111111,
              "#46039f"
             ],
             [
              0.2222222222222222,
              "#7201a8"
             ],
             [
              0.3333333333333333,
              "#9c179e"
             ],
             [
              0.4444444444444444,
              "#bd3786"
             ],
             [
              0.5555555555555556,
              "#d8576b"
             ],
             [
              0.6666666666666666,
              "#ed7953"
             ],
             [
              0.7777777777777778,
              "#fb9f3a"
             ],
             [
              0.8888888888888888,
              "#fdca26"
             ],
             [
              1,
              "#f0f921"
             ]
            ],
            "type": "histogram2dcontour"
           }
          ],
          "mesh3d": [
           {
            "colorbar": {
             "outlinewidth": 0,
             "ticks": ""
            },
            "type": "mesh3d"
           }
          ],
          "parcoords": [
           {
            "line": {
             "colorbar": {
              "outlinewidth": 0,
              "ticks": ""
             }
            },
            "type": "parcoords"
           }
          ],
          "pie": [
           {
            "automargin": true,
            "type": "pie"
           }
          ],
          "scatter": [
           {
            "marker": {
             "line": {
              "color": "#283442"
             }
            },
            "type": "scatter"
           }
          ],
          "scatter3d": [
           {
            "line": {
             "colorbar": {
              "outlinewidth": 0,
              "ticks": ""
             }
            },
            "marker": {
             "colorbar": {
              "outlinewidth": 0,
              "ticks": ""
             }
            },
            "type": "scatter3d"
           }
          ],
          "scattercarpet": [
           {
            "marker": {
             "colorbar": {
              "outlinewidth": 0,
              "ticks": ""
             }
            },
            "type": "scattercarpet"
           }
          ],
          "scattergeo": [
           {
            "marker": {
             "colorbar": {
              "outlinewidth": 0,
              "ticks": ""
             }
            },
            "type": "scattergeo"
           }
          ],
          "scattergl": [
           {
            "marker": {
             "line": {
              "color": "#283442"
             }
            },
            "type": "scattergl"
           }
          ],
          "scattermapbox": [
           {
            "marker": {
             "colorbar": {
              "outlinewidth": 0,
              "ticks": ""
             }
            },
            "type": "scattermapbox"
           }
          ],
          "scatterpolar": [
           {
            "marker": {
             "colorbar": {
              "outlinewidth": 0,
              "ticks": ""
             }
            },
            "type": "scatterpolar"
           }
          ],
          "scatterpolargl": [
           {
            "marker": {
             "colorbar": {
              "outlinewidth": 0,
              "ticks": ""
             }
            },
            "type": "scatterpolargl"
           }
          ],
          "scatterternary": [
           {
            "marker": {
             "colorbar": {
              "outlinewidth": 0,
              "ticks": ""
             }
            },
            "type": "scatterternary"
           }
          ],
          "surface": [
           {
            "colorbar": {
             "outlinewidth": 0,
             "ticks": ""
            },
            "colorscale": [
             [
              0,
              "#0d0887"
             ],
             [
              0.1111111111111111,
              "#46039f"
             ],
             [
              0.2222222222222222,
              "#7201a8"
             ],
             [
              0.3333333333333333,
              "#9c179e"
             ],
             [
              0.4444444444444444,
              "#bd3786"
             ],
             [
              0.5555555555555556,
              "#d8576b"
             ],
             [
              0.6666666666666666,
              "#ed7953"
             ],
             [
              0.7777777777777778,
              "#fb9f3a"
             ],
             [
              0.8888888888888888,
              "#fdca26"
             ],
             [
              1,
              "#f0f921"
             ]
            ],
            "type": "surface"
           }
          ],
          "table": [
           {
            "cells": {
             "fill": {
              "color": "#506784"
             },
             "line": {
              "color": "rgb(17,17,17)"
             }
            },
            "header": {
             "fill": {
              "color": "#2a3f5f"
             },
             "line": {
              "color": "rgb(17,17,17)"
             }
            },
            "type": "table"
           }
          ]
         },
         "layout": {
          "annotationdefaults": {
           "arrowcolor": "#f2f5fa",
           "arrowhead": 0,
           "arrowwidth": 1
          },
          "coloraxis": {
           "colorbar": {
            "outlinewidth": 0,
            "ticks": ""
           }
          },
          "colorscale": {
           "diverging": [
            [
             0,
             "#8e0152"
            ],
            [
             0.1,
             "#c51b7d"
            ],
            [
             0.2,
             "#de77ae"
            ],
            [
             0.3,
             "#f1b6da"
            ],
            [
             0.4,
             "#fde0ef"
            ],
            [
             0.5,
             "#f7f7f7"
            ],
            [
             0.6,
             "#e6f5d0"
            ],
            [
             0.7,
             "#b8e186"
            ],
            [
             0.8,
             "#7fbc41"
            ],
            [
             0.9,
             "#4d9221"
            ],
            [
             1,
             "#276419"
            ]
           ],
           "sequential": [
            [
             0,
             "#0d0887"
            ],
            [
             0.1111111111111111,
             "#46039f"
            ],
            [
             0.2222222222222222,
             "#7201a8"
            ],
            [
             0.3333333333333333,
             "#9c179e"
            ],
            [
             0.4444444444444444,
             "#bd3786"
            ],
            [
             0.5555555555555556,
             "#d8576b"
            ],
            [
             0.6666666666666666,
             "#ed7953"
            ],
            [
             0.7777777777777778,
             "#fb9f3a"
            ],
            [
             0.8888888888888888,
             "#fdca26"
            ],
            [
             1,
             "#f0f921"
            ]
           ],
           "sequentialminus": [
            [
             0,
             "#0d0887"
            ],
            [
             0.1111111111111111,
             "#46039f"
            ],
            [
             0.2222222222222222,
             "#7201a8"
            ],
            [
             0.3333333333333333,
             "#9c179e"
            ],
            [
             0.4444444444444444,
             "#bd3786"
            ],
            [
             0.5555555555555556,
             "#d8576b"
            ],
            [
             0.6666666666666666,
             "#ed7953"
            ],
            [
             0.7777777777777778,
             "#fb9f3a"
            ],
            [
             0.8888888888888888,
             "#fdca26"
            ],
            [
             1,
             "#f0f921"
            ]
           ]
          },
          "colorway": [
           "#636efa",
           "#EF553B",
           "#00cc96",
           "#ab63fa",
           "#FFA15A",
           "#19d3f3",
           "#FF6692",
           "#B6E880",
           "#FF97FF",
           "#FECB52"
          ],
          "font": {
           "color": "#f2f5fa"
          },
          "geo": {
           "bgcolor": "rgb(17,17,17)",
           "lakecolor": "rgb(17,17,17)",
           "landcolor": "rgb(17,17,17)",
           "showlakes": true,
           "showland": true,
           "subunitcolor": "#506784"
          },
          "hoverlabel": {
           "align": "left"
          },
          "hovermode": "closest",
          "mapbox": {
           "style": "dark"
          },
          "paper_bgcolor": "rgb(17,17,17)",
          "plot_bgcolor": "rgb(17,17,17)",
          "polar": {
           "angularaxis": {
            "gridcolor": "#506784",
            "linecolor": "#506784",
            "ticks": ""
           },
           "bgcolor": "rgb(17,17,17)",
           "radialaxis": {
            "gridcolor": "#506784",
            "linecolor": "#506784",
            "ticks": ""
           }
          },
          "scene": {
           "xaxis": {
            "backgroundcolor": "rgb(17,17,17)",
            "gridcolor": "#506784",
            "gridwidth": 2,
            "linecolor": "#506784",
            "showbackground": true,
            "ticks": "",
            "zerolinecolor": "#C8D4E3"
           },
           "yaxis": {
            "backgroundcolor": "rgb(17,17,17)",
            "gridcolor": "#506784",
            "gridwidth": 2,
            "linecolor": "#506784",
            "showbackground": true,
            "ticks": "",
            "zerolinecolor": "#C8D4E3"
           },
           "zaxis": {
            "backgroundcolor": "rgb(17,17,17)",
            "gridcolor": "#506784",
            "gridwidth": 2,
            "linecolor": "#506784",
            "showbackground": true,
            "ticks": "",
            "zerolinecolor": "#C8D4E3"
           }
          },
          "shapedefaults": {
           "line": {
            "color": "#f2f5fa"
           }
          },
          "sliderdefaults": {
           "bgcolor": "#C8D4E3",
           "bordercolor": "rgb(17,17,17)",
           "borderwidth": 1,
           "tickwidth": 0
          },
          "ternary": {
           "aaxis": {
            "gridcolor": "#506784",
            "linecolor": "#506784",
            "ticks": ""
           },
           "baxis": {
            "gridcolor": "#506784",
            "linecolor": "#506784",
            "ticks": ""
           },
           "bgcolor": "rgb(17,17,17)",
           "caxis": {
            "gridcolor": "#506784",
            "linecolor": "#506784",
            "ticks": ""
           }
          },
          "title": {
           "x": 0.05
          },
          "updatemenudefaults": {
           "bgcolor": "#506784",
           "borderwidth": 0
          },
          "xaxis": {
           "automargin": true,
           "gridcolor": "#283442",
           "linecolor": "#506784",
           "ticks": "",
           "title": {
            "standoff": 15
           },
           "zerolinecolor": "#283442",
           "zerolinewidth": 2
          },
          "yaxis": {
           "automargin": true,
           "gridcolor": "#283442",
           "linecolor": "#506784",
           "ticks": "",
           "title": {
            "standoff": 15
           },
           "zerolinecolor": "#283442",
           "zerolinewidth": 2
          }
         }
        },
        "title": {
         "font": {
          "family": "Aerial",
          "size": 24
         },
         "text": "Total no of IPC crimes (%) in top 10 states"
        }
       }
      },
      "text/html": [
       "<div>\n",
       "        \n",
       "        \n",
       "            <div id=\"ed5960e5-6cd7-48fc-a4f2-9362ce8005bd\" class=\"plotly-graph-div\" style=\"height:525px; width:100%;\"></div>\n",
       "            <script type=\"text/javascript\">\n",
       "                require([\"plotly\"], function(Plotly) {\n",
       "                    window.PLOTLYENV=window.PLOTLYENV || {};\n",
       "                    \n",
       "                if (document.getElementById(\"ed5960e5-6cd7-48fc-a4f2-9362ce8005bd\")) {\n",
       "                    Plotly.newPlot(\n",
       "                        'ed5960e5-6cd7-48fc-a4f2-9362ce8005bd',\n",
       "                        [{\"domain\": {\"x\": [0.0, 1.0], \"y\": [0.0, 1.0]}, \"hovertemplate\": \"STATE/UT=%{label}<br>TOTAL IPC CRIMES=%{value}<extra></extra>\", \"labels\": [\"MADHYA PRADESH\", \"MAHARASHTRA\", \"TAMIL NADU\", \"ANDHRA PRADESH\", \"UTTAR PRADESH\", \"RAJASTHAN\", \"KARNATAKA\", \"KERALA\", \"GUJARAT\", \"BIHAR\"], \"legendgroup\": \"\", \"name\": \"\", \"showlegend\": true, \"type\": \"pie\", \"values\": [4827540, 4546872, 4120352, 4037962, 3716148, 3711832, 2962126, 2874918, 2771550, 2692586]}],\n",
       "                        {\"font\": {\"color\": \"red\", \"family\": \"Times New Roman\", \"size\": 10}, \"legend\": {\"tracegroupgap\": 0}, \"paper_bgcolor\": \"black\", \"template\": {\"data\": {\"bar\": [{\"error_x\": {\"color\": \"#f2f5fa\"}, \"error_y\": {\"color\": \"#f2f5fa\"}, \"marker\": {\"line\": {\"color\": \"rgb(17,17,17)\", \"width\": 0.5}}, \"type\": \"bar\"}], \"barpolar\": [{\"marker\": {\"line\": {\"color\": \"rgb(17,17,17)\", \"width\": 0.5}}, \"type\": \"barpolar\"}], \"carpet\": [{\"aaxis\": {\"endlinecolor\": \"#A2B1C6\", \"gridcolor\": \"#506784\", \"linecolor\": \"#506784\", \"minorgridcolor\": \"#506784\", \"startlinecolor\": \"#A2B1C6\"}, \"baxis\": {\"endlinecolor\": \"#A2B1C6\", \"gridcolor\": \"#506784\", \"linecolor\": \"#506784\", \"minorgridcolor\": \"#506784\", \"startlinecolor\": \"#A2B1C6\"}, \"type\": \"carpet\"}], \"choropleth\": [{\"colorbar\": {\"outlinewidth\": 0, \"ticks\": \"\"}, \"type\": \"choropleth\"}], \"contour\": [{\"colorbar\": {\"outlinewidth\": 0, \"ticks\": \"\"}, \"colorscale\": [[0.0, \"#0d0887\"], [0.1111111111111111, \"#46039f\"], [0.2222222222222222, \"#7201a8\"], [0.3333333333333333, \"#9c179e\"], [0.4444444444444444, \"#bd3786\"], [0.5555555555555556, \"#d8576b\"], [0.6666666666666666, \"#ed7953\"], [0.7777777777777778, \"#fb9f3a\"], [0.8888888888888888, \"#fdca26\"], [1.0, \"#f0f921\"]], \"type\": \"contour\"}], \"contourcarpet\": [{\"colorbar\": {\"outlinewidth\": 0, \"ticks\": \"\"}, \"type\": \"contourcarpet\"}], \"heatmap\": [{\"colorbar\": {\"outlinewidth\": 0, \"ticks\": \"\"}, \"colorscale\": [[0.0, \"#0d0887\"], [0.1111111111111111, \"#46039f\"], [0.2222222222222222, \"#7201a8\"], [0.3333333333333333, \"#9c179e\"], [0.4444444444444444, \"#bd3786\"], [0.5555555555555556, \"#d8576b\"], [0.6666666666666666, \"#ed7953\"], [0.7777777777777778, \"#fb9f3a\"], [0.8888888888888888, \"#fdca26\"], [1.0, \"#f0f921\"]], \"type\": \"heatmap\"}], \"heatmapgl\": [{\"colorbar\": {\"outlinewidth\": 0, \"ticks\": \"\"}, \"colorscale\": [[0.0, \"#0d0887\"], [0.1111111111111111, \"#46039f\"], [0.2222222222222222, \"#7201a8\"], [0.3333333333333333, \"#9c179e\"], [0.4444444444444444, \"#bd3786\"], [0.5555555555555556, \"#d8576b\"], [0.6666666666666666, \"#ed7953\"], [0.7777777777777778, \"#fb9f3a\"], [0.8888888888888888, \"#fdca26\"], [1.0, \"#f0f921\"]], \"type\": \"heatmapgl\"}], \"histogram\": [{\"marker\": {\"colorbar\": {\"outlinewidth\": 0, \"ticks\": \"\"}}, \"type\": \"histogram\"}], \"histogram2d\": [{\"colorbar\": {\"outlinewidth\": 0, \"ticks\": \"\"}, \"colorscale\": [[0.0, \"#0d0887\"], [0.1111111111111111, \"#46039f\"], [0.2222222222222222, \"#7201a8\"], [0.3333333333333333, \"#9c179e\"], [0.4444444444444444, \"#bd3786\"], [0.5555555555555556, \"#d8576b\"], [0.6666666666666666, \"#ed7953\"], [0.7777777777777778, \"#fb9f3a\"], [0.8888888888888888, \"#fdca26\"], [1.0, \"#f0f921\"]], \"type\": \"histogram2d\"}], \"histogram2dcontour\": [{\"colorbar\": {\"outlinewidth\": 0, \"ticks\": \"\"}, \"colorscale\": [[0.0, \"#0d0887\"], [0.1111111111111111, \"#46039f\"], [0.2222222222222222, \"#7201a8\"], [0.3333333333333333, \"#9c179e\"], [0.4444444444444444, \"#bd3786\"], [0.5555555555555556, \"#d8576b\"], [0.6666666666666666, \"#ed7953\"], [0.7777777777777778, \"#fb9f3a\"], [0.8888888888888888, \"#fdca26\"], [1.0, \"#f0f921\"]], \"type\": \"histogram2dcontour\"}], \"mesh3d\": [{\"colorbar\": {\"outlinewidth\": 0, \"ticks\": \"\"}, \"type\": \"mesh3d\"}], \"parcoords\": [{\"line\": {\"colorbar\": {\"outlinewidth\": 0, \"ticks\": \"\"}}, \"type\": \"parcoords\"}], \"pie\": [{\"automargin\": true, \"type\": \"pie\"}], \"scatter\": [{\"marker\": {\"line\": {\"color\": \"#283442\"}}, \"type\": \"scatter\"}], \"scatter3d\": [{\"line\": {\"colorbar\": {\"outlinewidth\": 0, \"ticks\": \"\"}}, \"marker\": {\"colorbar\": {\"outlinewidth\": 0, \"ticks\": \"\"}}, \"type\": \"scatter3d\"}], \"scattercarpet\": [{\"marker\": {\"colorbar\": {\"outlinewidth\": 0, \"ticks\": \"\"}}, \"type\": \"scattercarpet\"}], \"scattergeo\": [{\"marker\": {\"colorbar\": {\"outlinewidth\": 0, \"ticks\": \"\"}}, \"type\": \"scattergeo\"}], \"scattergl\": [{\"marker\": {\"line\": {\"color\": \"#283442\"}}, \"type\": \"scattergl\"}], \"scattermapbox\": [{\"marker\": {\"colorbar\": {\"outlinewidth\": 0, \"ticks\": \"\"}}, \"type\": \"scattermapbox\"}], \"scatterpolar\": [{\"marker\": {\"colorbar\": {\"outlinewidth\": 0, \"ticks\": \"\"}}, \"type\": \"scatterpolar\"}], \"scatterpolargl\": [{\"marker\": {\"colorbar\": {\"outlinewidth\": 0, \"ticks\": \"\"}}, \"type\": \"scatterpolargl\"}], \"scatterternary\": [{\"marker\": {\"colorbar\": {\"outlinewidth\": 0, \"ticks\": \"\"}}, \"type\": \"scatterternary\"}], \"surface\": [{\"colorbar\": {\"outlinewidth\": 0, \"ticks\": \"\"}, \"colorscale\": [[0.0, \"#0d0887\"], [0.1111111111111111, \"#46039f\"], [0.2222222222222222, \"#7201a8\"], [0.3333333333333333, \"#9c179e\"], [0.4444444444444444, \"#bd3786\"], [0.5555555555555556, \"#d8576b\"], [0.6666666666666666, \"#ed7953\"], [0.7777777777777778, \"#fb9f3a\"], [0.8888888888888888, \"#fdca26\"], [1.0, \"#f0f921\"]], \"type\": \"surface\"}], \"table\": [{\"cells\": {\"fill\": {\"color\": \"#506784\"}, \"line\": {\"color\": \"rgb(17,17,17)\"}}, \"header\": {\"fill\": {\"color\": \"#2a3f5f\"}, \"line\": {\"color\": \"rgb(17,17,17)\"}}, \"type\": \"table\"}]}, \"layout\": {\"annotationdefaults\": {\"arrowcolor\": \"#f2f5fa\", \"arrowhead\": 0, \"arrowwidth\": 1}, \"coloraxis\": {\"colorbar\": {\"outlinewidth\": 0, \"ticks\": \"\"}}, \"colorscale\": {\"diverging\": [[0, \"#8e0152\"], [0.1, \"#c51b7d\"], [0.2, \"#de77ae\"], [0.3, \"#f1b6da\"], [0.4, \"#fde0ef\"], [0.5, \"#f7f7f7\"], [0.6, \"#e6f5d0\"], [0.7, \"#b8e186\"], [0.8, \"#7fbc41\"], [0.9, \"#4d9221\"], [1, \"#276419\"]], \"sequential\": [[0.0, \"#0d0887\"], [0.1111111111111111, \"#46039f\"], [0.2222222222222222, \"#7201a8\"], [0.3333333333333333, \"#9c179e\"], [0.4444444444444444, \"#bd3786\"], [0.5555555555555556, \"#d8576b\"], [0.6666666666666666, \"#ed7953\"], [0.7777777777777778, \"#fb9f3a\"], [0.8888888888888888, \"#fdca26\"], [1.0, \"#f0f921\"]], \"sequentialminus\": [[0.0, \"#0d0887\"], [0.1111111111111111, \"#46039f\"], [0.2222222222222222, \"#7201a8\"], [0.3333333333333333, \"#9c179e\"], [0.4444444444444444, \"#bd3786\"], [0.5555555555555556, \"#d8576b\"], [0.6666666666666666, \"#ed7953\"], [0.7777777777777778, \"#fb9f3a\"], [0.8888888888888888, \"#fdca26\"], [1.0, \"#f0f921\"]]}, \"colorway\": [\"#636efa\", \"#EF553B\", \"#00cc96\", \"#ab63fa\", \"#FFA15A\", \"#19d3f3\", \"#FF6692\", \"#B6E880\", \"#FF97FF\", \"#FECB52\"], \"font\": {\"color\": \"#f2f5fa\"}, \"geo\": {\"bgcolor\": \"rgb(17,17,17)\", \"lakecolor\": \"rgb(17,17,17)\", \"landcolor\": \"rgb(17,17,17)\", \"showlakes\": true, \"showland\": true, \"subunitcolor\": \"#506784\"}, \"hoverlabel\": {\"align\": \"left\"}, \"hovermode\": \"closest\", \"mapbox\": {\"style\": \"dark\"}, \"paper_bgcolor\": \"rgb(17,17,17)\", \"plot_bgcolor\": \"rgb(17,17,17)\", \"polar\": {\"angularaxis\": {\"gridcolor\": \"#506784\", \"linecolor\": \"#506784\", \"ticks\": \"\"}, \"bgcolor\": \"rgb(17,17,17)\", \"radialaxis\": {\"gridcolor\": \"#506784\", \"linecolor\": \"#506784\", \"ticks\": \"\"}}, \"scene\": {\"xaxis\": {\"backgroundcolor\": \"rgb(17,17,17)\", \"gridcolor\": \"#506784\", \"gridwidth\": 2, \"linecolor\": \"#506784\", \"showbackground\": true, \"ticks\": \"\", \"zerolinecolor\": \"#C8D4E3\"}, \"yaxis\": {\"backgroundcolor\": \"rgb(17,17,17)\", \"gridcolor\": \"#506784\", \"gridwidth\": 2, \"linecolor\": \"#506784\", \"showbackground\": true, \"ticks\": \"\", \"zerolinecolor\": \"#C8D4E3\"}, \"zaxis\": {\"backgroundcolor\": \"rgb(17,17,17)\", \"gridcolor\": \"#506784\", \"gridwidth\": 2, \"linecolor\": \"#506784\", \"showbackground\": true, \"ticks\": \"\", \"zerolinecolor\": \"#C8D4E3\"}}, \"shapedefaults\": {\"line\": {\"color\": \"#f2f5fa\"}}, \"sliderdefaults\": {\"bgcolor\": \"#C8D4E3\", \"bordercolor\": \"rgb(17,17,17)\", \"borderwidth\": 1, \"tickwidth\": 0}, \"ternary\": {\"aaxis\": {\"gridcolor\": \"#506784\", \"linecolor\": \"#506784\", \"ticks\": \"\"}, \"baxis\": {\"gridcolor\": \"#506784\", \"linecolor\": \"#506784\", \"ticks\": \"\"}, \"bgcolor\": \"rgb(17,17,17)\", \"caxis\": {\"gridcolor\": \"#506784\", \"linecolor\": \"#506784\", \"ticks\": \"\"}}, \"title\": {\"x\": 0.05}, \"updatemenudefaults\": {\"bgcolor\": \"#506784\", \"borderwidth\": 0}, \"xaxis\": {\"automargin\": true, \"gridcolor\": \"#283442\", \"linecolor\": \"#506784\", \"ticks\": \"\", \"title\": {\"standoff\": 15}, \"zerolinecolor\": \"#283442\", \"zerolinewidth\": 2}, \"yaxis\": {\"automargin\": true, \"gridcolor\": \"#283442\", \"linecolor\": \"#506784\", \"ticks\": \"\", \"title\": {\"standoff\": 15}, \"zerolinecolor\": \"#283442\", \"zerolinewidth\": 2}}}, \"title\": {\"font\": {\"family\": \"Aerial\", \"size\": 24}, \"text\": \"Total no of IPC crimes (%) in top 10 states\"}},\n",
       "                        {\"responsive\": true}\n",
       "                    ).then(function(){\n",
       "                            \n",
       "var gd = document.getElementById('ed5960e5-6cd7-48fc-a4f2-9362ce8005bd');\n",
       "var x = new MutationObserver(function (mutations, observer) {{\n",
       "        var display = window.getComputedStyle(gd).display;\n",
       "        if (!display || display === 'none') {{\n",
       "            console.log([gd, 'removed!']);\n",
       "            Plotly.purge(gd);\n",
       "            observer.disconnect();\n",
       "        }}\n",
       "}});\n",
       "\n",
       "// Listen for the removal of the full notebook cells\n",
       "var notebookContainer = gd.closest('#notebook-container');\n",
       "if (notebookContainer) {{\n",
       "    x.observe(notebookContainer, {childList: true});\n",
       "}}\n",
       "\n",
       "// Listen for the clearing of the current output cell\n",
       "var outputEl = gd.closest('.output');\n",
       "if (outputEl) {{\n",
       "    x.observe(outputEl, {childList: true});\n",
       "}}\n",
       "\n",
       "                        })\n",
       "                };\n",
       "                });\n",
       "            </script>\n",
       "        </div>"
      ]
     },
     "metadata": {},
     "output_type": "display_data"
    }
   ],
   "source": [
    "fig = px.pie(df_top10,values='TOTAL IPC CRIMES',names=df_top10.index,title = 'PIECHART',template='plotly_dark')\n",
    "fig.update_layout(title = 'Total no of IPC crimes (%) in top 10 states',title_font_size=24,paper_bgcolor='black',\n",
    "                     title_font_family='Aerial',font={'color':'red','family':'Times New Roman','size':10})"
   ]
  },
  {
   "cell_type": "markdown",
   "metadata": {},
   "source": [
    "Now from above pie chart we can see that Madhya pradesh is the top most in the list of crimes from 2001-2012 Now we want to analyse these top 10 states in detail. For each state we want to see in which district crimes are the most and which crime is the most popular in which district for this type of heirarchial dataset plotly express has a very good plot that is the sunburst by which we can see all the informatiion by clicking on the states in the year 2012"
   ]
  },
  {
   "cell_type": "code",
   "execution_count": 45,
   "metadata": {
    "scrolled": false
   },
   "outputs": [
    {
     "name": "stderr",
     "output_type": "stream",
     "text": [
      "C:\\Users\\dell\\anaconda3\\lib\\site-packages\\ipykernel_launcher.py:6: UserWarning:\n",
      "\n",
      "Boolean Series key will be reindexed to match DataFrame index.\n",
      "\n"
     ]
    },
    {
     "data": {
      "text/html": [
       "<div>\n",
       "<style scoped>\n",
       "    .dataframe tbody tr th:only-of-type {\n",
       "        vertical-align: middle;\n",
       "    }\n",
       "\n",
       "    .dataframe tbody tr th {\n",
       "        vertical-align: top;\n",
       "    }\n",
       "\n",
       "    .dataframe thead th {\n",
       "        text-align: right;\n",
       "    }\n",
       "</style>\n",
       "<table border=\"1\" class=\"dataframe\">\n",
       "  <thead>\n",
       "    <tr style=\"text-align: right;\">\n",
       "      <th></th>\n",
       "      <th>STATE/UT</th>\n",
       "      <th>DISTRICT</th>\n",
       "      <th>YEAR</th>\n",
       "      <th>MURDER</th>\n",
       "      <th>ATTEMPT TO MURDER</th>\n",
       "      <th>CULPABLE HOMICIDE NOT AMOUNTING TO MURDER</th>\n",
       "      <th>RAPE</th>\n",
       "      <th>CUSTODIAL RAPE</th>\n",
       "      <th>OTHER RAPE</th>\n",
       "      <th>KIDNAPPING &amp; ABDUCTION</th>\n",
       "      <th>...</th>\n",
       "      <th>ARSON</th>\n",
       "      <th>HURT/GREVIOUS HURT</th>\n",
       "      <th>DOWRY DEATHS</th>\n",
       "      <th>ASSAULT ON WOMEN WITH INTENT TO OUTRAGE HER MODESTY</th>\n",
       "      <th>INSULT TO MODESTY OF WOMEN</th>\n",
       "      <th>CRUELTY BY HUSBAND OR HIS RELATIVES</th>\n",
       "      <th>IMPORTATION OF GIRLS FROM FOREIGN COUNTRIES</th>\n",
       "      <th>CAUSING DEATH BY NEGLIGENCE</th>\n",
       "      <th>OTHER IPC CRIMES</th>\n",
       "      <th>TOTAL IPC CRIMES</th>\n",
       "    </tr>\n",
       "  </thead>\n",
       "  <tbody>\n",
       "    <tr>\n",
       "      <th>0</th>\n",
       "      <td>ANDHRA PRADESH</td>\n",
       "      <td>ADILABAD</td>\n",
       "      <td>2001</td>\n",
       "      <td>101</td>\n",
       "      <td>60</td>\n",
       "      <td>17</td>\n",
       "      <td>50</td>\n",
       "      <td>0</td>\n",
       "      <td>50</td>\n",
       "      <td>46</td>\n",
       "      <td>...</td>\n",
       "      <td>30</td>\n",
       "      <td>1131</td>\n",
       "      <td>16</td>\n",
       "      <td>149</td>\n",
       "      <td>34</td>\n",
       "      <td>175</td>\n",
       "      <td>0</td>\n",
       "      <td>181</td>\n",
       "      <td>1518</td>\n",
       "      <td>4154</td>\n",
       "    </tr>\n",
       "    <tr>\n",
       "      <th>1</th>\n",
       "      <td>ANDHRA PRADESH</td>\n",
       "      <td>ANANTAPUR</td>\n",
       "      <td>2001</td>\n",
       "      <td>151</td>\n",
       "      <td>125</td>\n",
       "      <td>1</td>\n",
       "      <td>23</td>\n",
       "      <td>0</td>\n",
       "      <td>23</td>\n",
       "      <td>53</td>\n",
       "      <td>...</td>\n",
       "      <td>69</td>\n",
       "      <td>1543</td>\n",
       "      <td>7</td>\n",
       "      <td>118</td>\n",
       "      <td>24</td>\n",
       "      <td>154</td>\n",
       "      <td>0</td>\n",
       "      <td>270</td>\n",
       "      <td>754</td>\n",
       "      <td>4125</td>\n",
       "    </tr>\n",
       "    <tr>\n",
       "      <th>2</th>\n",
       "      <td>ANDHRA PRADESH</td>\n",
       "      <td>CHITTOOR</td>\n",
       "      <td>2001</td>\n",
       "      <td>101</td>\n",
       "      <td>57</td>\n",
       "      <td>2</td>\n",
       "      <td>27</td>\n",
       "      <td>0</td>\n",
       "      <td>27</td>\n",
       "      <td>59</td>\n",
       "      <td>...</td>\n",
       "      <td>38</td>\n",
       "      <td>2088</td>\n",
       "      <td>14</td>\n",
       "      <td>112</td>\n",
       "      <td>83</td>\n",
       "      <td>186</td>\n",
       "      <td>0</td>\n",
       "      <td>404</td>\n",
       "      <td>1262</td>\n",
       "      <td>5818</td>\n",
       "    </tr>\n",
       "    <tr>\n",
       "      <th>3</th>\n",
       "      <td>ANDHRA PRADESH</td>\n",
       "      <td>CUDDAPAH</td>\n",
       "      <td>2001</td>\n",
       "      <td>80</td>\n",
       "      <td>53</td>\n",
       "      <td>1</td>\n",
       "      <td>20</td>\n",
       "      <td>0</td>\n",
       "      <td>20</td>\n",
       "      <td>25</td>\n",
       "      <td>...</td>\n",
       "      <td>23</td>\n",
       "      <td>795</td>\n",
       "      <td>17</td>\n",
       "      <td>126</td>\n",
       "      <td>38</td>\n",
       "      <td>57</td>\n",
       "      <td>0</td>\n",
       "      <td>233</td>\n",
       "      <td>1181</td>\n",
       "      <td>3140</td>\n",
       "    </tr>\n",
       "    <tr>\n",
       "      <th>4</th>\n",
       "      <td>ANDHRA PRADESH</td>\n",
       "      <td>EAST GODAVARI</td>\n",
       "      <td>2001</td>\n",
       "      <td>82</td>\n",
       "      <td>67</td>\n",
       "      <td>1</td>\n",
       "      <td>23</td>\n",
       "      <td>0</td>\n",
       "      <td>23</td>\n",
       "      <td>49</td>\n",
       "      <td>...</td>\n",
       "      <td>41</td>\n",
       "      <td>1244</td>\n",
       "      <td>12</td>\n",
       "      <td>109</td>\n",
       "      <td>58</td>\n",
       "      <td>247</td>\n",
       "      <td>0</td>\n",
       "      <td>431</td>\n",
       "      <td>2313</td>\n",
       "      <td>6507</td>\n",
       "    </tr>\n",
       "  </tbody>\n",
       "</table>\n",
       "<p>5 rows × 33 columns</p>\n",
       "</div>"
      ],
      "text/plain": [
       "         STATE/UT       DISTRICT  YEAR  MURDER  ATTEMPT TO MURDER  \\\n",
       "0  ANDHRA PRADESH       ADILABAD  2001     101                 60   \n",
       "1  ANDHRA PRADESH      ANANTAPUR  2001     151                125   \n",
       "2  ANDHRA PRADESH       CHITTOOR  2001     101                 57   \n",
       "3  ANDHRA PRADESH       CUDDAPAH  2001      80                 53   \n",
       "4  ANDHRA PRADESH  EAST GODAVARI  2001      82                 67   \n",
       "\n",
       "   CULPABLE HOMICIDE NOT AMOUNTING TO MURDER  RAPE  CUSTODIAL RAPE  \\\n",
       "0                                         17    50               0   \n",
       "1                                          1    23               0   \n",
       "2                                          2    27               0   \n",
       "3                                          1    20               0   \n",
       "4                                          1    23               0   \n",
       "\n",
       "   OTHER RAPE  KIDNAPPING & ABDUCTION  ...  ARSON  HURT/GREVIOUS HURT  \\\n",
       "0          50                      46  ...     30                1131   \n",
       "1          23                      53  ...     69                1543   \n",
       "2          27                      59  ...     38                2088   \n",
       "3          20                      25  ...     23                 795   \n",
       "4          23                      49  ...     41                1244   \n",
       "\n",
       "   DOWRY DEATHS  ASSAULT ON WOMEN WITH INTENT TO OUTRAGE HER MODESTY  \\\n",
       "0            16                                                149     \n",
       "1             7                                                118     \n",
       "2            14                                                112     \n",
       "3            17                                                126     \n",
       "4            12                                                109     \n",
       "\n",
       "   INSULT TO MODESTY OF WOMEN  CRUELTY BY HUSBAND OR HIS RELATIVES  \\\n",
       "0                          34                                  175   \n",
       "1                          24                                  154   \n",
       "2                          83                                  186   \n",
       "3                          38                                   57   \n",
       "4                          58                                  247   \n",
       "\n",
       "   IMPORTATION OF GIRLS FROM FOREIGN COUNTRIES  CAUSING DEATH BY NEGLIGENCE  \\\n",
       "0                                            0                          181   \n",
       "1                                            0                          270   \n",
       "2                                            0                          404   \n",
       "3                                            0                          233   \n",
       "4                                            0                          431   \n",
       "\n",
       "   OTHER IPC CRIMES  TOTAL IPC CRIMES  \n",
       "0              1518              4154  \n",
       "1               754              4125  \n",
       "2              1262              5818  \n",
       "3              1181              3140  \n",
       "4              2313              6507  \n",
       "\n",
       "[5 rows x 33 columns]"
      ]
     },
     "execution_count": 45,
     "metadata": {},
     "output_type": "execute_result"
    }
   ],
   "source": [
    "df_top10 = df[(df['STATE/UT']== 'UTTAR PRADESH') | (df['STATE/UT']== 'MADHYA PRADESH') | (df['STATE/UT']== 'MAHARASHTRA') |\n",
    "  (df['STATE/UT']== 'KARNATAKA') | (df['STATE/UT']== 'BIHAR') | (df['STATE/UT'] == 'GUJARAT') | (df['STATE/UT']== 'ANDHRA PRADESH') |\n",
    "  (df['STATE/UT']== 'TAMIL NADU') | (df['STATE/UT']== 'KERALA')| (df['STATE/UT']== 'RAJASTHAN')]\n",
    "\n",
    "\n",
    "df_top10_det = df_top10[df['DISTRICT'] != 'TOTAL']\n",
    "\n",
    "df_top10_det.head()"
   ]
  },
  {
   "cell_type": "code",
   "execution_count": 46,
   "metadata": {},
   "outputs": [
    {
     "data": {
      "application/vnd.plotly.v1+json": {
       "config": {
        "plotlyServerURL": "https://plot.ly"
       },
       "data": [
        {
         "branchvalues": "total",
         "customdata": [
          [
           81,
           88,
           82,
           14,
           0,
           2,
           56,
           81
          ],
          [
           152,
           58,
           321,
           233,
           0,
           14,
           476,
           152
          ],
          [
           90,
           63,
           229,
           603,
           0,
           24,
           159,
           90
          ],
          [
           34,
           5,
           67,
           30,
           0,
           15,
           73,
           34
          ],
          [
           111,
           61,
           59,
           262,
           0,
           48,
           572,
           111
          ],
          [
           7,
           1,
           1,
           0,
           0,
           1,
           5,
           7
          ],
          [
           38,
           70,
           107,
           17,
           0,
           1,
           6,
           38
          ],
          [
           42,
           19,
           22,
           49,
           0,
           3,
           107,
           42
          ],
          [
           20,
           44,
           18,
           16,
           0,
           2,
           553,
           20
          ],
          [
           177,
           64,
           298,
           121,
           0,
           22,
           252,
           177
          ],
          [
           60,
           22,
           13,
           16,
           0,
           1,
           9,
           60
          ],
          [
           115,
           52,
           223,
           55,
           0,
           4,
           113,
           115
          ],
          [
           100,
           129,
           243,
           63,
           0,
           8,
           8,
           100
          ],
          [
           35,
           12,
           69,
           24,
           0,
           0,
           66,
           35
          ],
          [
           24,
           20,
           20,
           54,
           0,
           5,
           77,
           24
          ],
          [
           63,
           64,
           17,
           39,
           0,
           9,
           97,
           63
          ],
          [
           18,
           10,
           80,
           13,
           0,
           2,
           56,
           18
          ],
          [
           25,
           9,
           56,
           6,
           0,
           3,
           27,
           25
          ],
          [
           173,
           18,
           74,
           6,
           0,
           14,
           41,
           173
          ],
          [
           35,
           62,
           8,
           15,
           0,
           1,
           17,
           35
          ],
          [
           81,
           53,
           122,
           16,
           0,
           7,
           190,
           81
          ],
          [
           19,
           11,
           47,
           8,
           0,
           1,
           41,
           19
          ],
          [
           20,
           5,
           26,
           6,
           0,
           1,
           32,
           20
          ],
          [
           34,
           50,
           6,
           11,
           0,
           2,
           24,
           34
          ],
          [
           24,
           13,
           102,
           19,
           0,
           1,
           9,
           24
          ],
          [
           89,
           22,
           71,
           45,
           0,
           32,
           320,
           89
          ],
          [
           46,
           23,
           25,
           178,
           0,
           25,
           168,
           46
          ],
          [
           74,
           25,
           16,
           45,
           0,
           16,
           306,
           74
          ],
          [
           73,
           19,
           121,
           59,
           0,
           1,
           182,
           73
          ],
          [
           108,
           24,
           107,
           40,
           0,
           3,
           6,
           108
          ],
          [
           43,
           11,
           76,
           8,
           0,
           2,
           150,
           43
          ],
          [
           51,
           11,
           17,
           18,
           2,
           7,
           221,
           51
          ],
          [
           80,
           18,
           80,
           46,
           0,
           3,
           63,
           80
          ],
          [
           41,
           27,
           116,
           15,
           0,
           1,
           69,
           41
          ],
          [
           43,
           78,
           9,
           13,
           0,
           0,
           48,
           43
          ],
          [
           45,
           12,
           84,
           38,
           0,
           8,
           102,
           45
          ],
          [
           23,
           12,
           53,
           6,
           0,
           2,
           21,
           23
          ],
          [
           40,
           22,
           48,
           9,
           0,
           0,
           34,
           40
          ],
          [
           266,
           90,
           532,
           670,
           0,
           37,
           551,
           266
          ],
          [
           93,
           31,
           53,
           113,
           0,
           26,
           257,
           93
          ],
          [
           76,
           17,
           52,
           24,
           0,
           15,
           201,
           76
          ],
          [
           34,
           56,
           96,
           13,
           0,
           0,
           50,
           34
          ],
          [
           73,
           31,
           130,
           16,
           0,
           0,
           12,
           73
          ],
          [
           45,
           69,
           84,
           4,
           0,
           0,
           0,
           45
          ],
          [
           114,
           86,
           265,
           68,
           0,
           3,
           134,
           114
          ],
          [
           29,
           21,
           35,
           3,
           0,
           0,
           0,
           29
          ],
          [
           46,
           50,
           8,
           13,
           0,
           1,
           18,
           46
          ],
          [
           33,
           7,
           61,
           12,
           0,
           0,
           13,
           33
          ],
          [
           84,
           42,
           50,
           70,
           0,
           32,
           339,
           84
          ],
          [
           120,
           11,
           143,
           53,
           0,
           14,
           295,
           120
          ],
          [
           142,
           37,
           54,
           80,
           0,
           7,
           460,
           142
          ],
          [
           54,
           18,
           31,
           44,
           0,
           6,
           228,
           54
          ],
          [
           83,
           35,
           166,
           24,
           0,
           6,
           483,
           83
          ],
          [
           75,
           118,
           12,
           7,
           0,
           0,
           13,
           75
          ],
          [
           48,
           10,
           45,
           16,
           0,
           3,
           129,
           48
          ],
          [
           99,
           31,
           132,
           51,
           0,
           9,
           271,
           99
          ],
          [
           20,
           26,
           11,
           31,
           0,
           3,
           34,
           20
          ],
          [
           91,
           108,
           212,
           41,
           0,
           1,
           0,
           91
          ],
          [
           42,
           12,
           28,
           25,
           0,
           12,
           44,
           42
          ],
          [
           46,
           13,
           105,
           30,
           0,
           2,
           71,
           46
          ],
          [
           29,
           59,
           78,
           21,
           0,
           0,
           18,
           29
          ],
          [
           77,
           23,
           93,
           43,
           0,
           7,
           99,
           77
          ],
          [
           64,
           49,
           27,
           87,
           0,
           6,
           77,
           64
          ],
          [
           71,
           9,
           74,
           21,
           0,
           13,
           137,
           71
          ],
          [
           78,
           143,
           63,
           200,
           0,
           2,
           118,
           78
          ],
          [
           4,
           4,
           1,
           25,
           0,
           1,
           1,
           4
          ],
          [
           38,
           11,
           30,
           32,
           0,
           1,
           168,
           38
          ],
          [
           69,
           18,
           30,
           33,
           9,
           5,
           245,
           69
          ],
          [
           89,
           43,
           160,
           56,
           0,
           4,
           67,
           89
          ],
          [
           45,
           67,
           41,
           12,
           0,
           0,
           0,
           45
          ],
          [
           140,
           46,
           188,
           61,
           0,
           6,
           97,
           140
          ],
          [
           49,
           29,
           31,
           23,
           0,
           5,
           220,
           49
          ],
          [
           18,
           43,
           81,
           3,
           0,
           0,
           5,
           18
          ],
          [
           11,
           23,
           6,
           7,
           0,
           0,
           8,
           11
          ],
          [
           56,
           21,
           89,
           36,
           0,
           13,
           218,
           56
          ],
          [
           51,
           12,
           25,
           32,
           0,
           3,
           280,
           51
          ],
          [
           18,
           9,
           10,
           8,
           1,
           6,
           120,
           18
          ],
          [
           25,
           11,
           34,
           13,
           0,
           2,
           9,
           25
          ],
          [
           44,
           44,
           34,
           46,
           0,
           4,
           95,
           44
          ],
          [
           180,
           94,
           87,
           85,
           0,
           2,
           95,
           180
          ],
          [
           1,
           0,
           2,
           18,
           0,
           2,
           2,
           1
          ],
          [
           50,
           62,
           39,
           40,
           0,
           2,
           61,
           50
          ],
          [
           61,
           122,
           21,
           31,
           0,
           1,
           66,
           61
          ],
          [
           33,
           11,
           12,
           22,
           4,
           8,
           114,
           33
          ],
          [
           43,
           26,
           34,
           25,
           0,
           3,
           323,
           43
          ],
          [
           34,
           31,
           43,
           7,
           0,
           2,
           16,
           34
          ],
          [
           91,
           28,
           56,
           10,
           0,
           3,
           32,
           91
          ],
          [
           38,
           59,
           96,
           18,
           0,
           0,
           17,
           38
          ],
          [
           42,
           59,
           37,
           4,
           0,
           0,
           0,
           42
          ],
          [
           1,
           1,
           0,
           0,
           0,
           0,
           0,
           1
          ],
          [
           51,
           9,
           41,
           72,
           0,
           4,
           130,
           51
          ],
          [
           29,
           20,
           20,
           101,
           0,
           2,
           16,
           29
          ],
          [
           35,
           26,
           105,
           17,
           0,
           1,
           51,
           35
          ],
          [
           70,
           40,
           152,
           44,
           0,
           7,
           332,
           70
          ],
          [
           118,
           26,
           76,
           9,
           0,
           4,
           114,
           118
          ],
          [
           198,
           75,
           158,
           86,
           0,
           14,
           28,
           198
          ],
          [
           34,
           10,
           72,
           51,
           0,
           38,
           55,
           34
          ],
          [
           23,
           12,
           10,
           15,
           0,
           5,
           115,
           23
          ],
          [
           51,
           50,
           32,
           18,
           0,
           0,
           15,
           51
          ],
          [
           78,
           44,
           207,
           46,
           0,
           9,
           812,
           78
          ],
          [
           51,
           23,
           28,
           40,
           0,
           0,
           35,
           51
          ],
          [
           30,
           14,
           101,
           18,
           0,
           0,
           14,
           30
          ],
          [
           42,
           17,
           23,
           50,
           0,
           3,
           298,
           42
          ],
          [
           35,
           18,
           67,
           12,
           0,
           2,
           48,
           35
          ],
          [
           62,
           70,
           31,
           26,
           0,
           3,
           34,
           62
          ],
          [
           61,
           81,
           49,
           14,
           0,
           4,
           24,
           61
          ],
          [
           50,
           25,
           98,
           21,
           0,
           1,
           92,
           50
          ],
          [
           18,
           6,
           54,
           77,
           0,
           2,
           94,
           18
          ],
          [
           27,
           5,
           13,
           4,
           0,
           0,
           147,
           27
          ],
          [
           50,
           32,
           79,
           13,
           0,
           1,
           0,
           50
          ],
          [
           50,
           30,
           18,
           54,
           0,
           51,
           173,
           50
          ],
          [
           74,
           16,
           97,
           60,
           0,
           1,
           81,
           74
          ],
          [
           32,
           40,
           6,
           2,
           0,
           0,
           10,
           32
          ],
          [
           26,
           32,
           67,
           16,
           0,
           0,
           9,
           26
          ],
          [
           70,
           71,
           54,
           16,
           0,
           1,
           31,
           70
          ],
          [
           9,
           28,
           6,
           25,
           0,
           5,
           393,
           9
          ],
          [
           21,
           59,
           10,
           36,
           0,
           5,
           470,
           21
          ],
          [
           40,
           8,
           30,
           44,
           0,
           1,
           32,
           40
          ],
          [
           73,
           22,
           110,
           37,
           0,
           9,
           108,
           73
          ],
          [
           59,
           9,
           71,
           33,
           0,
           3,
           14,
           59
          ],
          [
           45,
           29,
           143,
           33,
           0,
           0,
           66,
           45
          ],
          [
           68,
           14,
           106,
           15,
           0,
           4,
           30,
           68
          ],
          [
           79,
           35,
           118,
           17,
           0,
           6,
           48,
           79
          ],
          [
           100,
           32,
           193,
           85,
           0,
           3,
           138,
           100
          ],
          [
           22,
           3,
           14,
           40,
           0,
           8,
           23,
           22
          ],
          [
           4,
           4,
           8,
           2,
           0,
           0,
           5,
           4
          ],
          [
           2,
           1,
           1,
           0,
           0,
           0,
           0,
           2
          ],
          [
           24,
           6,
           12,
           5,
           0,
           0,
           110,
           24
          ],
          [
           57,
           18,
           9,
           3,
           0,
           4,
           21,
           57
          ],
          [
           23,
           20,
           29,
           26,
           0,
           6,
           52,
           23
          ],
          [
           51,
           77,
           79,
           3,
           0,
           0,
           0,
           51
          ],
          [
           89,
           19,
           158,
           202,
           0,
           7,
           150,
           89
          ],
          [
           153,
           35,
           154,
           46,
           0,
           39,
           397,
           153
          ],
          [
           146,
           31,
           255,
           106,
           0,
           6,
           76,
           146
          ],
          [
           47,
           9,
           61,
           28,
           0,
           3,
           64,
           47
          ],
          [
           39,
           23,
           125,
           31,
           0,
           0,
           111,
           39
          ],
          [
           41,
           38,
           10,
           19,
           0,
           6,
           40,
           41
          ],
          [
           103,
           20,
           135,
           17,
           0,
           13,
           339,
           103
          ],
          [
           98,
           52,
           232,
           69,
           0,
           14,
           236,
           98
          ],
          [
           82,
           29,
           53,
           63,
           0,
           12,
           362,
           82
          ],
          [
           44,
           60,
           28,
           26,
           0,
           4,
           36,
           44
          ],
          [
           7,
           1,
           1,
           3,
           0,
           1,
           1,
           7
          ],
          [
           96,
           23,
           63,
           6,
           0,
           0,
           31,
           96
          ],
          [
           56,
           24,
           42,
           29,
           0,
           2,
           11,
           56
          ],
          [
           96,
           85,
           83,
           199,
           0,
           8,
           112,
           96
          ],
          [
           36,
           25,
           46,
           17,
           0,
           5,
           19,
           36
          ],
          [
           49,
           92,
           63,
           5,
           0,
           1,
           0,
           49
          ],
          [
           14,
           26,
           12,
           13,
           0,
           1,
           9,
           14
          ],
          [
           77,
           30,
           135,
           12,
           0,
           0,
           43,
           77
          ],
          [
           77,
           21,
           26,
           72,
           0,
           11,
           244,
           77
          ],
          [
           53,
           17,
           84,
           43,
           0,
           14,
           71,
           53
          ],
          [
           19,
           12,
           18,
           10,
           0,
           1,
           251,
           19
          ],
          [
           30,
           10,
           57,
           9,
           0,
           5,
           52,
           30
          ],
          [
           25,
           13,
           10,
           7,
           0,
           1,
           99,
           25
          ],
          [
           44,
           69,
           34,
           17,
           0,
           0,
           17,
           44
          ],
          [
           102,
           74,
           88,
           57,
           0,
           12,
           354,
           102
          ],
          [
           22,
           53,
           10,
           13,
           0,
           5,
           295,
           22
          ],
          [
           123,
           173,
           54,
           275,
           0,
           4,
           82,
           123
          ],
          [
           3,
           3,
           3,
           8,
           0,
           2,
           1,
           3
          ],
          [
           60,
           34,
           69,
           52,
           0,
           4,
           57,
           60
          ],
          [
           98,
           127,
           51,
           99,
           0,
           0,
           60,
           98
          ],
          [
           6,
           3,
           1,
           34,
           0,
           0,
           1,
           6
          ],
          [
           21,
           41,
           61,
           126,
           0,
           2,
           48,
           21
          ],
          [
           12,
           37,
           64,
           37,
           0,
           1,
           12,
           12
          ],
          [
           38,
           39,
           96,
           21,
           0,
           8,
           12,
           38
          ],
          [
           17,
           17,
           26,
           53,
           0,
           1,
           4,
           17
          ],
          [
           26,
           38,
           69,
           40,
           0,
           1,
           3,
           26
          ],
          [
           9,
           12,
           9,
           3,
           0,
           0,
           8,
           9
          ],
          [
           46,
           15,
           68,
           16,
           0,
           3,
           33,
           46
          ],
          [
           102,
           45,
           43,
           81,
           0,
           38,
           241,
           102
          ],
          [
           45,
           25,
           25,
           71,
           0,
           19,
           221,
           45
          ],
          [
           23,
           13,
           47,
           5,
           0,
           1,
           11,
           23
          ],
          [
           8,
           1,
           2,
           8,
           0,
           3,
           4,
           8
          ],
          [
           43,
           22,
           41,
           48,
           0,
           10,
           96,
           43
          ],
          [
           79,
           27,
           56,
           34,
           0,
           15,
           181,
           79
          ],
          [
           50,
           15,
           115,
           53,
           0,
           1,
           49,
           50
          ],
          [
           46,
           8,
           47,
           14,
           0,
           4,
           103,
           46
          ],
          [
           20,
           62,
           25,
           27,
           0,
           5,
           34,
           20
          ],
          [
           47,
           81,
           91,
           10,
           0,
           0,
           29,
           47
          ],
          [
           65,
           19,
           74,
           29,
           0,
           2,
           73,
           65
          ],
          [
           36,
           45,
           63,
           9,
           0,
           0,
           11,
           36
          ],
          [
           12,
           20,
           15,
           16,
           0,
           0,
           0,
           12
          ],
          [
           34,
           27,
           33,
           12,
           0,
           1,
           3,
           34
          ],
          [
           15,
           20,
           29,
           23,
           0,
           0,
           0,
           15
          ],
          [
           40,
           15,
           63,
           18,
           0,
           7,
           117,
           40
          ],
          [
           16,
           10,
           7,
           14,
           0,
           1,
           87,
           16
          ],
          [
           76,
           19,
           17,
           22,
           0,
           1,
           154,
           76
          ],
          [
           48,
           12,
           86,
           8,
           0,
           0,
           26,
           48
          ],
          [
           32,
           66,
           23,
           71,
           0,
           7,
           1277,
           32
          ],
          [
           151,
           55,
           318,
           142,
           0,
           13,
           137,
           151
          ],
          [
           50,
           18,
           65,
           12,
           0,
           0,
           42,
           50
          ],
          [
           53,
           12,
           33,
           86,
           0,
           6,
           0,
           53
          ],
          [
           41,
           44,
           104,
           19,
           0,
           0,
           8,
           41
          ],
          [
           128,
           40,
           141,
           25,
           0,
           4,
           112,
           128
          ],
          [
           26,
           4,
           49,
           30,
           0,
           1,
           28,
           26
          ],
          [
           14,
           89,
           17,
           36,
           0,
           6,
           590,
           14
          ],
          [
           91,
           73,
           137,
           32,
           0,
           13,
           229,
           91
          ],
          [
           13,
           0,
           8,
           4,
           0,
           3,
           1,
           13
          ],
          [
           36,
           58,
           18,
           24,
           0,
           1,
           26,
           36
          ],
          [
           44,
           11,
           54,
           13,
           0,
           1,
           22,
           44
          ],
          [
           65,
           18,
           53,
           19,
           0,
           7,
           151,
           65
          ],
          [
           130,
           78,
           73,
           14,
           0,
           5,
           150,
           130
          ],
          [
           27,
           66,
           8,
           10,
           0,
           0,
           20,
           27
          ],
          [
           51,
           67,
           20,
           14,
           0,
           1,
           42,
           51
          ],
          [
           24,
           18,
           62,
           11,
           0,
           10,
           43,
           24
          ],
          [
           89,
           34,
           182,
           23,
           0,
           2,
           42,
           89
          ],
          [
           39,
           32,
           72,
           6,
           0,
           8,
           174,
           39
          ],
          [
           29,
           12,
           5,
           3,
           0,
           3,
           33,
           29
          ],
          [
           46,
           18,
           20,
           20,
           0,
           4,
           239,
           46
          ],
          [
           63,
           48,
           45,
           62,
           0,
           11,
           427,
           63
          ],
          [
           21,
           46,
           21,
           62,
           0,
           3,
           293,
           21
          ],
          [
           30,
           49,
           14,
           30,
           0,
           2,
           469,
           30
          ],
          [
           24,
           7,
           27,
           14,
           0,
           2,
           134,
           24
          ],
          [
           28,
           45,
           82,
           27,
           0,
           0,
           0,
           28
          ],
          [
           20,
           42,
           49,
           8,
           0,
           0,
           3,
           20
          ],
          [
           20,
           55,
           19,
           26,
           0,
           2,
           483,
           20
          ],
          [
           7,
           36,
           5,
           65,
           0,
           2,
           353,
           7
          ],
          [
           9,
           42,
           16,
           31,
           0,
           3,
           1102,
           9
          ],
          [
           78,
           67,
           67,
           9,
           0,
           2,
           26,
           78
          ],
          [
           63,
           14,
           45,
           57,
           0,
           2,
           160,
           63
          ],
          [
           111,
           22,
           58,
           18,
           0,
           3,
           71,
           111
          ],
          [
           36,
           30,
           98,
           10,
           0,
           1,
           101,
           36
          ],
          [
           19,
           17,
           25,
           18,
           0,
           3,
           24,
           19
          ],
          [
           24,
           8,
           18,
           6,
           0,
           2,
           50,
           24
          ],
          [
           40,
           13,
           39,
           13,
           0,
           7,
           141,
           40
          ],
          [
           23,
           14,
           25,
           11,
           0,
           0,
           16,
           23
          ],
          [
           67,
           21,
           32,
           39,
           0,
           21,
           240,
           67
          ],
          [
           141,
           48,
           315,
           63,
           0,
           8,
           195,
           141
          ],
          [
           56,
           31,
           77,
           37,
           0,
           10,
           314,
           56
          ],
          [
           77,
           31,
           191,
           20,
           0,
           19,
           454,
           77
          ],
          [
           76,
           30,
           83,
           121,
           0,
           7,
           196,
           76
          ],
          [
           31,
           11,
           65,
           79,
           0,
           2,
           26,
           31
          ],
          [
           182,
           56,
           76,
           16,
           0,
           3,
           58,
           182
          ],
          [
           30,
           34,
           95,
           10,
           0,
           9,
           85,
           30
          ],
          [
           29,
           16,
           48,
           12,
           0,
           0,
           24,
           29
          ],
          [
           81,
           15,
           139,
           56,
           0,
           7,
           78,
           81
          ],
          [
           16,
           97,
           10,
           33,
           0,
           4,
           792,
           16
          ],
          [
           25,
           75,
           8,
           6,
           0,
           0,
           7,
           25
          ],
          [
           37,
           49,
           34,
           20,
           1,
           2,
           25,
           37
          ],
          [
           86,
           35,
           46,
           82,
           1,
           11,
           342,
           86
          ],
          [
           28,
           12,
           16,
           69,
           3,
           1,
           112,
           28
          ],
          [
           101,
           41,
           155,
           73,
           0,
           12,
           143,
           101
          ],
          [
           23,
           9,
           82,
           27,
           0,
           1,
           105,
           23
          ],
          [
           113,
           26,
           54,
           17,
           0,
           6,
           130,
           113
          ],
          [
           202,
           54,
           287,
           264,
           0,
           16,
           284,
           202
          ],
          [
           31,
           10,
           59,
           35,
           0,
           10,
           86,
           31
          ],
          [
           27,
           4,
           7,
           3,
           0,
           1,
           0,
           27
          ],
          [
           90,
           36,
           162,
           95,
           0,
           14,
           97,
           90
          ],
          [
           53,
           32,
           35,
           54,
           0,
           15,
           122,
           53
          ],
          [
           124,
           22,
           233,
           46,
           0,
           27,
           728,
           124
          ],
          [
           215,
           232,
           212,
           1131,
           0,
           29,
           374,
           215
          ],
          [
           8,
           1,
           7,
           423,
           0,
           1,
           11,
           8
          ],
          [
           68,
           9,
           65,
           28,
           0,
           8,
           140,
           68
          ],
          [
           126,
           27,
           217,
           62,
           0,
           5,
           94,
           126
          ],
          [
           198,
           34,
           279,
           73,
           3,
           48,
           427,
           198
          ],
          [
           11,
           2,
           1,
           10,
           0,
           3,
           12,
           11
          ],
          [
           31,
           12,
           13,
           205,
           12,
           3,
           88,
           31
          ],
          [
           78,
           28,
           67,
           30,
           0,
           4,
           305,
           78
          ],
          [
           56,
           10,
           42,
           18,
           0,
           2,
           59,
           56
          ],
          [
           49,
           53,
           129,
           7,
           0,
           1,
           0,
           49
          ],
          [
           88,
           57,
           53,
           491,
           0,
           13,
           169,
           88
          ],
          [
           5,
           1,
           2,
           67,
           0,
           4,
           12,
           5
          ],
          [
           55,
           29,
           15,
           42,
           0,
           8,
           66,
           55
          ],
          [
           114,
           11,
           113,
           16,
           0,
           6,
           174,
           114
          ],
          [
           86,
           52,
           89,
           20,
           0,
           9,
           115,
           86
          ],
          [
           30,
           12,
           48,
           44,
           0,
           4,
           35,
           30
          ],
          [
           81,
           48,
           37,
           47,
           0,
           18,
           276,
           81
          ],
          [
           35,
           19,
           10,
           17,
           0,
           14,
           93,
           35
          ],
          [
           17,
           7,
           6,
           0,
           0,
           3,
           15,
           17
          ],
          [
           46,
           71,
           16,
           16,
           0,
           0,
           20,
           46
          ],
          [
           32,
           20,
           18,
           163,
           0,
           14,
           94,
           32
          ],
          [
           87,
           46,
           29,
           91,
           0,
           33,
           403,
           87
          ],
          [
           47,
           2,
           21,
           8,
           0,
           2,
           119,
           47
          ],
          [
           57,
           36,
           19,
           417,
           0,
           6,
           124,
           57
          ],
          [
           19,
           4,
           15,
           7,
           0,
           3,
           18,
           19
          ],
          [
           82,
           18,
           89,
           18,
           0,
           5,
           261,
           82
          ],
          [
           18,
           25,
           12,
           22,
           0,
           0,
           35,
           18
          ],
          [
           94,
           23,
           90,
           42,
           0,
           5,
           22,
           94
          ],
          [
           14,
           9,
           8,
           5,
           0,
           0,
           8,
           14
          ],
          [
           113,
           35,
           38,
           15,
           0,
           4,
           66,
           113
          ],
          [
           54,
           38,
           31,
           23,
           0,
           16,
           233,
           54
          ],
          [
           32,
           68,
           13,
           30,
           0,
           6,
           706,
           32
          ],
          [
           44,
           49,
           118,
           48,
           0,
           23,
           79,
           44
          ],
          [
           56,
           61,
           107,
           28,
           0,
           2,
           0,
           56
          ],
          [
           54,
           5,
           74,
           20,
           0,
           25,
           52,
           54
          ],
          [
           56,
           15,
           65,
           38,
           0,
           1,
           49,
           56
          ],
          [
           30,
           34,
           8,
           11,
           0,
           0,
           1,
           30
          ],
          [
           34,
           28,
           31,
           65,
           0,
           25,
           160,
           34
          ],
          [
           18,
           7,
           31,
           21,
           0,
           11,
           51,
           18
          ],
          [
           28,
           32,
           17,
           18,
           0,
           1,
           411,
           28
          ],
          [
           356,
           49,
           376,
           119,
           0,
           38,
           522,
           356
          ],
          [
           11,
           2,
           8,
           9,
           0,
           6,
           11,
           11
          ],
          [
           11,
           3,
           31,
           13,
           0,
           1,
           34,
           11
          ],
          [
           47,
           10,
           65,
           7,
           0,
           7,
           6,
           47
          ],
          [
           18,
           10,
           8,
           8,
           0,
           1,
           7,
           18
          ],
          [
           55,
           7,
           64,
           41,
           0,
           1,
           56,
           55
          ],
          [
           108,
           37,
           84,
           27,
           0,
           2,
           41,
           108
          ],
          [
           29,
           137,
           80,
           7,
           0,
           0,
           25,
           29
          ],
          [
           57,
           36,
           116,
           43,
           0,
           2,
           151,
           57
          ],
          [
           31,
           6,
           33,
           18,
           0,
           1,
           55,
           31
          ],
          [
           110,
           85,
           109,
           731,
           0,
           35,
           532,
           110
          ],
          [
           4,
           2,
           1,
           23,
           0,
           7,
           5,
           4
          ],
          [
           163,
           92,
           71,
           258,
           0,
           46,
           512,
           163
          ],
          [
           97,
           39,
           142,
           17,
           1,
           16,
           175,
           97
          ],
          [
           37,
           36,
           96,
           14,
           0,
           1,
           45,
           37
          ],
          [
           42,
           19,
           34,
           10,
           0,
           2,
           243,
           42
          ],
          [
           40,
           21,
           8,
           42,
           0,
           17,
           143,
           40
          ],
          [
           19,
           2,
           4,
           47,
           0,
           1,
           6,
           19
          ],
          [
           0,
           0,
           4,
           3,
           0,
           0,
           5,
           0
          ],
          [
           54,
           92,
           21,
           20,
           0,
           1,
           24,
           54
          ],
          [
           23,
           13,
           9,
           7,
           0,
           0,
           0,
           23
          ],
          [
           36,
           90,
           52,
           26,
           0,
           2,
           61,
           36
          ],
          [
           41,
           11,
           66,
           43,
           0,
           14,
           74,
           41
          ],
          [
           48,
           20,
           62,
           19,
           0,
           4,
           68,
           48
          ],
          [
           26,
           14,
           62,
           19,
           0,
           0,
           20,
           26
          ],
          [
           44,
           18,
           83,
           11,
           0,
           1,
           25,
           44
          ],
          [
           77,
           16,
           60,
           127,
           0,
           16,
           264,
           77
          ],
          [
           54,
           9,
           40,
           45,
           0,
           4,
           99,
           54
          ],
          [
           51,
           26,
           100,
           48,
           0,
           5,
           60,
           51
          ],
          [
           72,
           27,
           22,
           11,
           0,
           5,
           22,
           72
          ],
          [
           37,
           72,
           28,
           26,
           0,
           1,
           27,
           37
          ],
          [
           10,
           11,
           4,
           35,
           0,
           9,
           89,
           10
          ],
          [
           54,
           92,
           44,
           44,
           0,
           8,
           35,
           54
          ],
          [
           132,
           26,
           130,
           34,
           0,
           23,
           222,
           132
          ],
          [
           83,
           125,
           63,
           64,
           0,
           1,
           81,
           83
          ],
          [
           70,
           18,
           101,
           34,
           0,
           1,
           68,
           70
          ],
          [
           53,
           16,
           95,
           35,
           0,
           1,
           251,
           53
          ],
          [
           60,
           36,
           79,
           26,
           0,
           0,
           133,
           60
          ],
          [
           16,
           15,
           23,
           39,
           0,
           4,
           32,
           16
          ],
          [
           99,
           24,
           131,
           38,
           0,
           7,
           320,
           99
          ],
          [
           47,
           33,
           35,
           34,
           0,
           12,
           202,
           47
          ],
          [
           16,
           18,
           50,
           9,
           0,
           0,
           17,
           16
          ],
          [
           128,
           23,
           178,
           37,
           0,
           17,
           370,
           128
          ],
          [
           65,
           43,
           36,
           208,
           0,
           51,
           294,
           65
          ],
          [
           72,
           89,
           29,
           40,
           0,
           5,
           31,
           72
          ],
          [
           24,
           19,
           95,
           5,
           0,
           0,
           0,
           24
          ],
          [
           4,
           2,
           0,
           3,
           0,
           0,
           0,
           4
          ],
          [
           38,
           65,
           10,
           7,
           0,
           0,
           19,
           38
          ],
          [
           44,
           81,
           27,
           33,
           0,
           2,
           31,
           44
          ],
          [
           77,
           27,
           130,
           17,
           0,
           3,
           29,
           77
          ],
          [
           39,
           67,
           18,
           18,
           0,
           4,
           42,
           39
          ],
          [
           30,
           10,
           39,
           8,
           0,
           6,
           65,
           30
          ],
          [
           20,
           2,
           32,
           6,
           0,
           5,
           51,
           20
          ],
          [
           8,
           17,
           4,
           18,
           0,
           0,
           28,
           8
          ],
          [
           50,
           14,
           32,
           57,
           0,
           6,
           276,
           50
          ],
          [
           61,
           104,
           29,
           39,
           0,
           7,
           83,
           61
          ],
          [
           24,
           22,
           42,
           5,
           0,
           18,
           7,
           24
          ],
          [
           27,
           22,
           48,
           3,
           0,
           2,
           15,
           27
          ],
          [
           31,
           48,
           40,
           7,
           0,
           0,
           9,
           31
          ],
          [
           23,
           69,
           14,
           21,
           1,
           0,
           27,
           23
          ],
          [
           51,
           55,
           96,
           4,
           0,
           0,
           11,
           51
          ],
          [
           8,
           9,
           8,
           12,
           0,
           4,
           49,
           8
          ],
          [
           36,
           32,
           36,
           9,
           0,
           2,
           28,
           36
          ],
          [
           29,
           29,
           69,
           10,
           0,
           0,
           26,
           29
          ],
          [
           97,
           20,
           167,
           41,
           0,
           27,
           170,
           97
          ],
          [
           96,
           49,
           241,
           32,
           0,
           3,
           69,
           96
          ],
          [
           47,
           11,
           43,
           34,
           0,
           4,
           75,
           47
          ],
          [
           112,
           20,
           193,
           33,
           0,
           8,
           379,
           112
          ],
          [
           18,
           25,
           24,
           98,
           0,
           23,
           132,
           18
          ],
          [
           92,
           67,
           38,
           60,
           0,
           15,
           365,
           92
          ],
          [
           25,
           21,
           31,
           8,
           0,
           1,
           2,
           25
          ],
          [
           35,
           39,
           18,
           9,
           0,
           1,
           9,
           35
          ],
          [
           10,
           4,
           18,
           2,
           0,
           0,
           6,
           10
          ],
          [
           44,
           26,
           67,
           33,
           0,
           7,
           90,
           44
          ],
          [
           31,
           20,
           118,
           14,
           0,
           8,
           316,
           31
          ],
          [
           98,
           40,
           91,
           68,
           0,
           6,
           65,
           98
          ],
          [
           55,
           13,
           33,
           18,
           0,
           14,
           50,
           55
          ],
          [
           40,
           19,
           51,
           18,
           0,
           4,
           78,
           40
          ],
          [
           11,
           5,
           3,
           4,
           0,
           1,
           10,
           11
          ],
          [
           110,
           107,
           124,
           757,
           0,
           23,
           280,
           110
          ],
          [
           146,
           63,
           64,
           389,
           0,
           48,
           394,
           146
          ],
          [
           62,
           14,
           57,
           100,
           0,
           4,
           176,
           62
          ],
          [
           39,
           22,
           45,
           48,
           0,
           3,
           83,
           39
          ],
          [
           88,
           44,
           52,
           103,
           0,
           1,
           4,
           88
          ],
          [
           19,
           3,
           7,
           38,
           0,
           0,
           0,
           19
          ],
          [
           40,
           18,
           14,
           24,
           0,
           1,
           105,
           40
          ],
          [
           52,
           21,
           62,
           19,
           0,
           2,
           148,
           52
          ],
          [
           33,
           11,
           34,
           20,
           0,
           1,
           20,
           33
          ],
          [
           85,
           26,
           41,
           78,
           0,
           3,
           0,
           85
          ],
          [
           9,
           35,
           13,
           28,
           0,
           1,
           443,
           9
          ],
          [
           18,
           46,
           12,
           40,
           0,
           6,
           588,
           18
          ],
          [
           43,
           61,
           13,
           24,
           4,
           0,
           48,
           43
          ],
          [
           37,
           12,
           25,
           13,
           0,
           0,
           22,
           37
          ],
          [
           63,
           8,
           51,
           131,
           0,
           6,
           67,
           63
          ],
          [
           21,
           19,
           69,
           3,
           0,
           0,
           36,
           21
          ],
          [
           2,
           0,
           1,
           3,
           0,
           0,
           2,
           2
          ],
          [
           44,
           14,
           29,
           46,
           0,
           0,
           34,
           44
          ],
          [
           26,
           7,
           22,
           56,
           0,
           0,
           7,
           26
          ],
          [
           14,
           41,
           23,
           101,
           0,
           4,
           629,
           14
          ],
          [
           42,
           97,
           18,
           48,
           0,
           8,
           826,
           42
          ],
          [
           91,
           33,
           38,
           94,
           0,
           8,
           375,
           91
          ],
          [
           76,
           149,
           190,
           59,
           0,
           1,
           171,
           76
          ],
          [
           14,
           5,
           12,
           36,
           0,
           5,
           119,
           14
          ],
          [
           55,
           73,
           36,
           73,
           0,
           4,
           83,
           55
          ],
          [
           12,
           22,
           4,
           7,
           0,
           1,
           10,
           12
          ],
          [
           60,
           41,
           182,
           14,
           0,
           1,
           46,
           60
          ],
          [
           33,
           7,
           11,
           21,
           0,
           0,
           112,
           33
          ],
          [
           29,
           11,
           67,
           112,
           0,
           9,
           92,
           29
          ],
          [
           74,
           15,
           73,
           18,
           0,
           11,
           55,
           74
          ],
          [
           122,
           20,
           223,
           80,
           0,
           14,
           432,
           122
          ],
          [
           21,
           12,
           25,
           20,
           0,
           4,
           26,
           21
          ],
          [
           59,
           21,
           99,
           28,
           0,
           0,
           96,
           59
          ],
          [
           76,
           24,
           76,
           40,
           0,
           6,
           9,
           76
          ],
          [
           58,
           94,
           25,
           24,
           0,
           2,
           56,
           58
          ],
          [
           42,
           47,
           66,
           60,
           0,
           1,
           16,
           42
          ],
          [
           7,
           0,
           3,
           4,
           0,
           3,
           0,
           7
          ],
          [
           100,
           78,
           202,
           51,
           0,
           7,
           486,
           100
          ],
          [
           62,
           23,
           39,
           51,
           0,
           3,
           80,
           62
          ],
          [
           67,
           27,
           22,
           3,
           0,
           0,
           52,
           67
          ],
          [
           44,
           50,
           27,
           27,
           0,
           14,
           12,
           44
          ],
          [
           44,
           44,
           21,
           4,
           0,
           2,
           1,
           44
          ],
          [
           3,
           1,
           2,
           8,
           0,
           0,
           7,
           3
          ],
          [
           5,
           0,
           3,
           5,
           0,
           4,
           1,
           5
          ],
          [
           75,
           56,
           66,
           22,
           0,
           3,
           173,
           75
          ],
          [
           41,
           30,
           41,
           14,
           0,
           2,
           70,
           41
          ],
          [
           30,
           40,
           26,
           63,
           0,
           7,
           82,
           30
          ],
          [
           40,
           31,
           29,
           35,
           0,
           4,
           124,
           40
          ],
          [
           10,
           36,
           12,
           13,
           0,
           0,
           260,
           10
          ],
          [
           91,
           130,
           86,
           52,
           0,
           4,
           11,
           91
          ],
          [
           26,
           9,
           22,
           5,
           0,
           1,
           179,
           26
          ],
          [
           71,
           64,
           65,
           94,
           0,
           10,
           165,
           71
          ],
          [
           101.85730981394335,
           "(?)",
           "(?)",
           "(?)",
           0,
           "(?)",
           "(?)",
           101.85730981394335
          ],
          [
           121.22847067810714,
           "(?)",
           "(?)",
           "(?)",
           "(?)",
           "(?)",
           "(?)",
           121.22847067810714
          ],
          [
           48.357352003135546,
           "(?)",
           "(?)",
           "(?)",
           0,
           "(?)",
           "(?)",
           48.357352003135546
          ],
          [
           104.80682878056425,
           "(?)",
           "(?)",
           "(?)",
           "(?)",
           "(?)",
           "(?)",
           104.80682878056425
          ],
          [
           19.91201907050173,
           "(?)",
           "(?)",
           "(?)",
           0,
           "(?)",
           "(?)",
           19.91201907050173
          ],
          [
           61.589969818685184,
           "(?)",
           "(?)",
           "(?)",
           "(?)",
           "(?)",
           "(?)",
           61.589969818685184
          ],
          [
           96.14686235816478,
           "(?)",
           "(?)",
           "(?)",
           0,
           "(?)",
           "(?)",
           96.14686235816478
          ],
          [
           43.681540585441184,
           "(?)",
           "(?)",
           "(?)",
           0,
           "(?)",
           "(?)",
           43.681540585441184
          ],
          [
           69.36780330616439,
           "(?)",
           "(?)",
           "(?)",
           0,
           "(?)",
           "(?)",
           69.36780330616439
          ],
          [
           92.29616392300586,
           "(?)",
           "(?)",
           "(?)",
           0,
           "(?)",
           "(?)",
           92.29616392300586
          ]
         ],
         "domain": {
          "x": [
           0,
           1
          ],
          "y": [
           0,
           1
          ]
         },
         "hovertemplate": "<b>%{hovertext}</b><br><br>labels=%{label}<br>TOTAL IPC CRIMES=%{value}<br>parent=%{parent}<br>id=%{id}<br>MURDER=%{color}<br>RAPE=%{customdata[1]}<br>KIDNAPPING & ABDUCTION=%{customdata[2]}<br>ROBBERY=%{customdata[3]}<br>IMPORTATION OF GIRLS FROM FOREIGN COUNTRIES=%{customdata[4]}<br>DACOITY=%{customdata[5]}<br>RIOTS=%{customdata[6]}<extra></extra>",
         "hovertext": [
          "ADILABAD",
          "AGRA",
          "AHMEDABAD COMMR.",
          "AHMEDABAD RURAL",
          "AHMEDNAGAR",
          "AHWA-DANG",
          "AJMER",
          "AKOLA",
          "ALAPUZHA",
          "ALIGARH",
          "ALIRAJPUR",
          "ALLAHABAD",
          "ALWAR",
          "AMBEDKAR NAGAR",
          "AMRAVATI COMMR.",
          "AMRAVATI RURAL",
          "AMRELI",
          "ANAND",
          "ANANTAPUR",
          "ANUPPUR",
          "ARARIA",
          "ARIYALUR",
          "ARWAL",
          "ASHOK NAGAR",
          "AURAIYA",
          "AURANGABAD",
          "AURANGABAD COMMR.",
          "AURANGABAD RURAL",
          "AZAMGARH",
          "BADAUN",
          "BAGAHA",
          "BAGALKOT",
          "BAGHPAT",
          "BAHRAICH",
          "BALAGHAT",
          "BALLIA",
          "BALRAMPUR",
          "BANDA",
          "BANGALORE COMMR.",
          "BANGALORE RURAL",
          "BANKA",
          "BANSWARA",
          "BARABANKI",
          "BARAN",
          "BAREILLY",
          "BARMER",
          "BARWANI",
          "BASTI",
          "BEED",
          "BEGUSARAI",
          "BELGAUM",
          "BELLARY",
          "BETTIAH",
          "BETUL",
          "BHABHUA",
          "BHAGALPUR",
          "BHANDARA",
          "BHARATPUR",
          "BHARUCH",
          "BHAVNAGAR",
          "BHILWARA",
          "BHIM NAGAR",
          "BHIND",
          "BHOJPUR",
          "BHOPAL",
          "BHOPAL RLY.",
          "BIDAR",
          "BIJAPUR",
          "BIJNOR",
          "BIKANER",
          "BULANDSHAHAR",
          "BULDHANA",
          "BUNDI",
          "BURHANPUR",
          "BUXAR",
          "CBPURA",
          "CHAMARAJNAGAR",
          "CHANDOLI",
          "CHANDRAPUR",
          "CHENNAI",
          "CHENNAI RLY.",
          "CHHATARPUR",
          "CHHINDWARA",
          "CHICKMAGALUR",
          "CHITRADURGA",
          "CHITRAKOOT DHAM",
          "CHITTOOR",
          "CHITTORGARH",
          "CHURU",
          "CID CRIME",
          "COIMBATORE RURAL",
          "COIMBATORE URBAN",
          "CSM NAGAR",
          "CUDDALORE",
          "CUDDAPAH",
          "CYBERABAD",
          "DAHOD",
          "DAKSHIN KANNADA",
          "DAMOH",
          "DARBHANGA",
          "DATIYA",
          "DAUSA",
          "DAVANAGERE",
          "DEORIA",
          "DEWAS",
          "DHAR",
          "DHARMAPURI",
          "DHARWAD COMMR.",
          "DHARWAD RURAL",
          "DHOLPUR",
          "DHULE",
          "DINDIGUL",
          "DINDORI",
          "DUNGARPUR",
          "EAST GODAVARI",
          "ERNAKULAM COMMR.",
          "ERNAKULAM RURAL",
          "ERODE",
          "ETAH",
          "ETAWAH",
          "FAIZABAD",
          "FATEHGARH",
          "FATEHPUR",
          "FIROZABAD",
          "G.R.P.",
          "G.R.P.AJMER",
          "G.R.P.JODHPUR",
          "GADAG",
          "GADCHIROLI",
          "GANDHINAGAR",
          "GANGANAGAR",
          "GAUTAMBUDH NAGAR",
          "GAYA",
          "GHAZIABAD",
          "GHAZIPUR",
          "GONDA",
          "GONDIA",
          "GOPALGANJ",
          "GORAKHPUR",
          "GULBARGA",
          "GUNA",
          "GUNTAKAL RLY.",
          "GUNTUR",
          "GUNTUR URBAN",
          "GWALIOR",
          "HAMIRPUR",
          "HANUMANGARH",
          "HARDA",
          "HARDOI",
          "HASSAN",
          "HATHRAS",
          "HAVERI",
          "HIMATNAGAR",
          "HINGOLI",
          "HOSHANGABAD",
          "HYDERABAD CITY",
          "IDUKKI",
          "INDORE",
          "INDORE RLY.",
          "J.P.NAGAR",
          "JABALPUR",
          "JABALPUR RLY.",
          "JAIPUR EAST",
          "JAIPUR NORTH",
          "JAIPUR RURAL",
          "JAIPUR SOUTH",
          "JAIPUR WEST",
          "JAISALMER",
          "JALAUN",
          "JALGAON",
          "JALNA",
          "JALORE",
          "JAMALPUR RLY.",
          "JAMNAGAR",
          "JAMUI",
          "JAUNPUR",
          "JEHANABAD",
          "JHABUA",
          "JHALAWAR",
          "JHANSI",
          "JHUNJHUNU",
          "JODHPUR EAST",
          "JODHPUR RURAL",
          "JODHPUR WEST",
          "JUNAGADH",
          "K.G.F.",
          "KANCHIPURAM",
          "KANNAUJ",
          "KANNUR",
          "KANPUR NAGAR",
          "KANSHIRAM NAGAR",
          "KANYAKUMARI",
          "KARAULI",
          "KARIMNAGAR",
          "KARUR",
          "KASARGOD",
          "KATIHAR",
          "KATIHAR RLY.",
          "KATNI",
          "KAUSHAMBI",
          "KHAGARIA",
          "KHAMMAM",
          "KHANDWA",
          "KHARGON",
          "KHEDA NORTH",
          "KHIRI",
          "KISHANGANJ",
          "KODAGU",
          "KOLAR",
          "KOLHAPUR",
          "KOLLAM COMMR.",
          "KOLLAM RURAL",
          "KOPPAL",
          "KOTA CITY",
          "KOTA RURAL",
          "KOTTAYAM",
          "KOZHIKODE COMMR.",
          "KOZHIKODE RURAL",
          "KRISHNA",
          "KRISHNAGIRI",
          "KURNOOL",
          "KUSHI NAGAR",
          "KUTCH (EAST(G))",
          "KUTCH (WEST-BHUJ)",
          "LAKHISARAI",
          "LALITPUR",
          "LATUR",
          "LUCKNOW",
          "MADHEPURA",
          "MADHUBANI",
          "MADURAI RURAL",
          "MADURAI URBAN",
          "MAHABOOBNAGAR",
          "MAHARAJGANJ",
          "MAHOBA",
          "MAINPURI",
          "MALAPPURAM",
          "MANDLA",
          "MANDSAUR",
          "MANDYA",
          "MANGALORE CITY",
          "MATHURA",
          "MAU",
          "MEDAK",
          "MEERUT",
          "MEHSANA",
          "MIRZAPUR",
          "MORADABAD",
          "MORENA",
          "MOTIHARI",
          "MUMBAI COMMR.",
          "MUMBAI RLY.",
          "MUNGER",
          "MUZAFFARNAGAR",
          "MUZAFFARPUR",
          "MUZAFFARPUR RLY.",
          "MYSORE COMMR.",
          "MYSORE RURAL",
          "NAGAPATTINAM",
          "NAGAUR",
          "NAGPUR COMMR.",
          "NAGPUR RLY.",
          "NAGPUR RURAL",
          "NALANDA",
          "NALGONDA",
          "NAMAKKAL",
          "NANDED",
          "NANDURBAR",
          "NARMADA",
          "NARSINGHPUR",
          "NASIK COMMR.",
          "NASIK RURAL",
          "NAUGACHIA",
          "NAVI MUMBAI",
          "NAVSARI",
          "NAWADAH",
          "NEEMUCH",
          "NELLORE",
          "NILGIRIS",
          "NIZAMABAD",
          "OSMANABAD",
          "PALAKKAD",
          "PALANPUR",
          "PALI",
          "PANCHMAHAL",
          "PANCHSHIL NAGAR",
          "PANNA",
          "PARBHANI",
          "PATAN",
          "PATHANAMTHITTA",
          "PATNA",
          "PATNA RLY.",
          "PERAMBALUR",
          "PILIBHIT",
          "PORBANDAR",
          "PRABUDDH NAGAR",
          "PRAKASHAM",
          "PRATAPGARH",
          "PRATAPGARH",
          "PUDUKOTTAI",
          "PUNE COMMR.",
          "PUNE RLY.",
          "PUNE RURAL",
          "PURNEA",
          "RAIBAREILLY",
          "RAICHUR",
          "RAIGAD",
          "RAILWAYS",
          "RAILWAYS",
          "RAISEN",
          "RAJAHMUNDRY",
          "RAJGARH",
          "RAJKOT COMMR.",
          "RAJKOT RURAL",
          "RAJSAMAND",
          "RAMABAI NAGAR",
          "RAMANAGAR",
          "RAMNATHAPURAM",
          "RAMPUR",
          "RANGA REDDY",
          "RATLAM",
          "RATNAGIRI",
          "REWA",
          "ROHTAS",
          "SAGAR",
          "SAHARANPUR",
          "SAHARSA",
          "SALEM RURAL",
          "SALEM URBAN",
          "SAMASTIPUR",
          "SANGLI",
          "SANT KABIRNAGAR",
          "SARAN",
          "SATARA",
          "SATNA",
          "SAWAI MADHOPUR",
          "SECUNDERABAD RLY.",
          "SEONI",
          "SHAHDOL",
          "SHAHJAHANPUR",
          "SHAJAPUR",
          "SHEIKHPURA",
          "SHEOHAR",
          "SHEOPUR",
          "SHIMOGA",
          "SHIVPURI",
          "SHRAWASTI",
          "SIDHARTHNAGAR",
          "SIDHI",
          "SIHORE",
          "SIKAR",
          "SINDHUDURG",
          "SINGRAULI",
          "SIROHI",
          "SITAMARHI",
          "SITAPUR",
          "SIVAGANGAI",
          "SIWAN",
          "SOLAPUR COMMR.",
          "SOLAPUR RURAL",
          "SONBHADRA",
          "SRIKAKULAM",
          "ST.RAVIDASNAGAR",
          "SULTANPUR",
          "SUPAUL",
          "SURAT COMMR.",
          "SURAT RURAL",
          "SURENDRANAGAR",
          "TAPI",
          "THANE COMMR.",
          "THANE RURAL",
          "THANJAVUR",
          "THENI",
          "THIRUNELVELI RURAL",
          "THIRUNELVELI URBAN",
          "THIRUVALLUR",
          "THIRUVANNAMALAI",
          "THIRUVARUR",
          "THOOTHUGUDI",
          "THRISSUR COMMR.",
          "THRISSUR RURAL",
          "TIKAMGARH",
          "TIRUPATHI URBAN",
          "TIRUPPUR",
          "TONK",
          "TRICHY RLY.",
          "TRICHY RURAL",
          "TRICHY URBAN",
          "TRIVANDRUM COMMR.",
          "TRIVANDRUM RURAL",
          "TUMKUR",
          "UDAIPUR",
          "UDUPI",
          "UJJAIN",
          "UMARIYA",
          "UNNAO",
          "UTTAR KANNADA",
          "VADODARA COMMR.",
          "VADODARA RURAL",
          "VAISHALI",
          "VALSAD",
          "VARANASI",
          "VELLORE",
          "VIDISHA",
          "VIJAYAWADA CITY",
          "VIJAYAWADA RLY.",
          "VILLUPURAM",
          "VIRUDHUNAGAR",
          "VISAKHA RURAL",
          "VISAKHAPATNAM",
          "VIZIANAGARAM",
          "W.RLY AHMEDABAD",
          "W.RLY VADODARA",
          "WARANGAL",
          "WARANGAL URBAN",
          "WARDHA",
          "WASHIM",
          "WAYANADU",
          "WEST GODAVARI",
          "YADGIRI",
          "YAVATMAL",
          "(?)",
          "(?)",
          "(?)",
          "(?)",
          "(?)",
          "(?)",
          "(?)",
          "(?)",
          "(?)",
          "(?)"
         ],
         "ids": [
          "ANDHRA PRADESH/ADILABAD",
          "UTTAR PRADESH/AGRA",
          "GUJARAT/AHMEDABAD COMMR.",
          "GUJARAT/AHMEDABAD RURAL",
          "MAHARASHTRA/AHMEDNAGAR",
          "GUJARAT/AHWA-DANG",
          "RAJASTHAN/AJMER",
          "MAHARASHTRA/AKOLA",
          "KERALA/ALAPUZHA",
          "UTTAR PRADESH/ALIGARH",
          "MADHYA PRADESH/ALIRAJPUR",
          "UTTAR PRADESH/ALLAHABAD",
          "RAJASTHAN/ALWAR",
          "UTTAR PRADESH/AMBEDKAR NAGAR",
          "MAHARASHTRA/AMRAVATI COMMR.",
          "MAHARASHTRA/AMRAVATI RURAL",
          "GUJARAT/AMRELI",
          "GUJARAT/ANAND",
          "ANDHRA PRADESH/ANANTAPUR",
          "MADHYA PRADESH/ANUPPUR",
          "BIHAR/ARARIA",
          "TAMIL NADU/ARIYALUR",
          "BIHAR/ARWAL",
          "MADHYA PRADESH/ASHOK NAGAR",
          "UTTAR PRADESH/AURAIYA",
          "BIHAR/AURANGABAD",
          "MAHARASHTRA/AURANGABAD COMMR.",
          "MAHARASHTRA/AURANGABAD RURAL",
          "UTTAR PRADESH/AZAMGARH",
          "UTTAR PRADESH/BADAUN",
          "BIHAR/BAGAHA",
          "KARNATAKA/BAGALKOT",
          "UTTAR PRADESH/BAGHPAT",
          "UTTAR PRADESH/BAHRAICH",
          "MADHYA PRADESH/BALAGHAT",
          "UTTAR PRADESH/BALLIA",
          "UTTAR PRADESH/BALRAMPUR",
          "UTTAR PRADESH/BANDA",
          "KARNATAKA/BANGALORE COMMR.",
          "KARNATAKA/BANGALORE RURAL",
          "BIHAR/BANKA",
          "RAJASTHAN/BANSWARA",
          "UTTAR PRADESH/BARABANKI",
          "RAJASTHAN/BARAN",
          "UTTAR PRADESH/BAREILLY",
          "RAJASTHAN/BARMER",
          "MADHYA PRADESH/BARWANI",
          "UTTAR PRADESH/BASTI",
          "MAHARASHTRA/BEED",
          "BIHAR/BEGUSARAI",
          "KARNATAKA/BELGAUM",
          "KARNATAKA/BELLARY",
          "BIHAR/BETTIAH",
          "MADHYA PRADESH/BETUL",
          "BIHAR/BHABHUA",
          "BIHAR/BHAGALPUR",
          "MAHARASHTRA/BHANDARA",
          "RAJASTHAN/BHARATPUR",
          "GUJARAT/BHARUCH",
          "GUJARAT/BHAVNAGAR",
          "RAJASTHAN/BHILWARA",
          "UTTAR PRADESH/BHIM NAGAR",
          "MADHYA PRADESH/BHIND",
          "BIHAR/BHOJPUR",
          "MADHYA PRADESH/BHOPAL",
          "MADHYA PRADESH/BHOPAL RLY.",
          "KARNATAKA/BIDAR",
          "KARNATAKA/BIJAPUR",
          "UTTAR PRADESH/BIJNOR",
          "RAJASTHAN/BIKANER",
          "UTTAR PRADESH/BULANDSHAHAR",
          "MAHARASHTRA/BULDHANA",
          "RAJASTHAN/BUNDI",
          "MADHYA PRADESH/BURHANPUR",
          "BIHAR/BUXAR",
          "KARNATAKA/CBPURA",
          "KARNATAKA/CHAMARAJNAGAR",
          "UTTAR PRADESH/CHANDOLI",
          "MAHARASHTRA/CHANDRAPUR",
          "TAMIL NADU/CHENNAI",
          "TAMIL NADU/CHENNAI RLY.",
          "MADHYA PRADESH/CHHATARPUR",
          "MADHYA PRADESH/CHHINDWARA",
          "KARNATAKA/CHICKMAGALUR",
          "KARNATAKA/CHITRADURGA",
          "UTTAR PRADESH/CHITRAKOOT DHAM",
          "ANDHRA PRADESH/CHITTOOR",
          "RAJASTHAN/CHITTORGARH",
          "RAJASTHAN/CHURU",
          "GUJARAT/CID CRIME",
          "TAMIL NADU/COIMBATORE RURAL",
          "TAMIL NADU/COIMBATORE URBAN",
          "UTTAR PRADESH/CSM NAGAR",
          "TAMIL NADU/CUDDALORE",
          "ANDHRA PRADESH/CUDDAPAH",
          "ANDHRA PRADESH/CYBERABAD",
          "GUJARAT/DAHOD",
          "KARNATAKA/DAKSHIN KANNADA",
          "MADHYA PRADESH/DAMOH",
          "BIHAR/DARBHANGA",
          "MADHYA PRADESH/DATIYA",
          "RAJASTHAN/DAUSA",
          "KARNATAKA/DAVANAGERE",
          "UTTAR PRADESH/DEORIA",
          "MADHYA PRADESH/DEWAS",
          "MADHYA PRADESH/DHAR",
          "TAMIL NADU/DHARMAPURI",
          "KARNATAKA/DHARWAD COMMR.",
          "KARNATAKA/DHARWAD RURAL",
          "RAJASTHAN/DHOLPUR",
          "MAHARASHTRA/DHULE",
          "TAMIL NADU/DINDIGUL",
          "MADHYA PRADESH/DINDORI",
          "RAJASTHAN/DUNGARPUR",
          "ANDHRA PRADESH/EAST GODAVARI",
          "KERALA/ERNAKULAM COMMR.",
          "KERALA/ERNAKULAM RURAL",
          "TAMIL NADU/ERODE",
          "UTTAR PRADESH/ETAH",
          "UTTAR PRADESH/ETAWAH",
          "UTTAR PRADESH/FAIZABAD",
          "UTTAR PRADESH/FATEHGARH",
          "UTTAR PRADESH/FATEHPUR",
          "UTTAR PRADESH/FIROZABAD",
          "UTTAR PRADESH/G.R.P.",
          "RAJASTHAN/G.R.P.AJMER",
          "RAJASTHAN/G.R.P.JODHPUR",
          "KARNATAKA/GADAG",
          "MAHARASHTRA/GADCHIROLI",
          "GUJARAT/GANDHINAGAR",
          "RAJASTHAN/GANGANAGAR",
          "UTTAR PRADESH/GAUTAMBUDH NAGAR",
          "BIHAR/GAYA",
          "UTTAR PRADESH/GHAZIABAD",
          "UTTAR PRADESH/GHAZIPUR",
          "UTTAR PRADESH/GONDA",
          "MAHARASHTRA/GONDIA",
          "BIHAR/GOPALGANJ",
          "UTTAR PRADESH/GORAKHPUR",
          "KARNATAKA/GULBARGA",
          "MADHYA PRADESH/GUNA",
          "ANDHRA PRADESH/GUNTAKAL RLY.",
          "ANDHRA PRADESH/GUNTUR",
          "ANDHRA PRADESH/GUNTUR URBAN",
          "MADHYA PRADESH/GWALIOR",
          "UTTAR PRADESH/HAMIRPUR",
          "RAJASTHAN/HANUMANGARH",
          "MADHYA PRADESH/HARDA",
          "UTTAR PRADESH/HARDOI",
          "KARNATAKA/HASSAN",
          "UTTAR PRADESH/HATHRAS",
          "KARNATAKA/HAVERI",
          "GUJARAT/HIMATNAGAR",
          "MAHARASHTRA/HINGOLI",
          "MADHYA PRADESH/HOSHANGABAD",
          "ANDHRA PRADESH/HYDERABAD CITY",
          "KERALA/IDUKKI",
          "MADHYA PRADESH/INDORE",
          "MADHYA PRADESH/INDORE RLY.",
          "UTTAR PRADESH/J.P.NAGAR",
          "MADHYA PRADESH/JABALPUR",
          "MADHYA PRADESH/JABALPUR RLY.",
          "RAJASTHAN/JAIPUR EAST",
          "RAJASTHAN/JAIPUR NORTH",
          "RAJASTHAN/JAIPUR RURAL",
          "RAJASTHAN/JAIPUR SOUTH",
          "RAJASTHAN/JAIPUR WEST",
          "RAJASTHAN/JAISALMER",
          "UTTAR PRADESH/JALAUN",
          "MAHARASHTRA/JALGAON",
          "MAHARASHTRA/JALNA",
          "RAJASTHAN/JALORE",
          "BIHAR/JAMALPUR RLY.",
          "GUJARAT/JAMNAGAR",
          "BIHAR/JAMUI",
          "UTTAR PRADESH/JAUNPUR",
          "BIHAR/JEHANABAD",
          "MADHYA PRADESH/JHABUA",
          "RAJASTHAN/JHALAWAR",
          "UTTAR PRADESH/JHANSI",
          "RAJASTHAN/JHUNJHUNU",
          "RAJASTHAN/JODHPUR EAST",
          "RAJASTHAN/JODHPUR RURAL",
          "RAJASTHAN/JODHPUR WEST",
          "GUJARAT/JUNAGADH",
          "KARNATAKA/K.G.F.",
          "TAMIL NADU/KANCHIPURAM",
          "UTTAR PRADESH/KANNAUJ",
          "KERALA/KANNUR",
          "UTTAR PRADESH/KANPUR NAGAR",
          "UTTAR PRADESH/KANSHIRAM NAGAR",
          "TAMIL NADU/KANYAKUMARI",
          "RAJASTHAN/KARAULI",
          "ANDHRA PRADESH/KARIMNAGAR",
          "TAMIL NADU/KARUR",
          "KERALA/KASARGOD",
          "BIHAR/KATIHAR",
          "BIHAR/KATIHAR RLY.",
          "MADHYA PRADESH/KATNI",
          "UTTAR PRADESH/KAUSHAMBI",
          "BIHAR/KHAGARIA",
          "ANDHRA PRADESH/KHAMMAM",
          "MADHYA PRADESH/KHANDWA",
          "MADHYA PRADESH/KHARGON",
          "GUJARAT/KHEDA NORTH",
          "UTTAR PRADESH/KHIRI",
          "BIHAR/KISHANGANJ",
          "KARNATAKA/KODAGU",
          "KARNATAKA/KOLAR",
          "MAHARASHTRA/KOLHAPUR",
          "KERALA/KOLLAM COMMR.",
          "KERALA/KOLLAM RURAL",
          "KARNATAKA/KOPPAL",
          "RAJASTHAN/KOTA CITY",
          "RAJASTHAN/KOTA RURAL",
          "KERALA/KOTTAYAM",
          "KERALA/KOZHIKODE COMMR.",
          "KERALA/KOZHIKODE RURAL",
          "ANDHRA PRADESH/KRISHNA",
          "TAMIL NADU/KRISHNAGIRI",
          "ANDHRA PRADESH/KURNOOL",
          "UTTAR PRADESH/KUSHI NAGAR",
          "GUJARAT/KUTCH (EAST(G))",
          "GUJARAT/KUTCH (WEST-BHUJ)",
          "BIHAR/LAKHISARAI",
          "UTTAR PRADESH/LALITPUR",
          "MAHARASHTRA/LATUR",
          "UTTAR PRADESH/LUCKNOW",
          "BIHAR/MADHEPURA",
          "BIHAR/MADHUBANI",
          "TAMIL NADU/MADURAI RURAL",
          "TAMIL NADU/MADURAI URBAN",
          "ANDHRA PRADESH/MAHABOOBNAGAR",
          "UTTAR PRADESH/MAHARAJGANJ",
          "UTTAR PRADESH/MAHOBA",
          "UTTAR PRADESH/MAINPURI",
          "KERALA/MALAPPURAM",
          "MADHYA PRADESH/MANDLA",
          "MADHYA PRADESH/MANDSAUR",
          "KARNATAKA/MANDYA",
          "KARNATAKA/MANGALORE CITY",
          "UTTAR PRADESH/MATHURA",
          "UTTAR PRADESH/MAU",
          "ANDHRA PRADESH/MEDAK",
          "UTTAR PRADESH/MEERUT",
          "GUJARAT/MEHSANA",
          "UTTAR PRADESH/MIRZAPUR",
          "UTTAR PRADESH/MORADABAD",
          "MADHYA PRADESH/MORENA",
          "BIHAR/MOTIHARI",
          "MAHARASHTRA/MUMBAI COMMR.",
          "MAHARASHTRA/MUMBAI RLY.",
          "BIHAR/MUNGER",
          "UTTAR PRADESH/MUZAFFARNAGAR",
          "BIHAR/MUZAFFARPUR",
          "BIHAR/MUZAFFARPUR RLY.",
          "KARNATAKA/MYSORE COMMR.",
          "KARNATAKA/MYSORE RURAL",
          "TAMIL NADU/NAGAPATTINAM",
          "RAJASTHAN/NAGAUR",
          "MAHARASHTRA/NAGPUR COMMR.",
          "MAHARASHTRA/NAGPUR RLY.",
          "MAHARASHTRA/NAGPUR RURAL",
          "BIHAR/NALANDA",
          "ANDHRA PRADESH/NALGONDA",
          "TAMIL NADU/NAMAKKAL",
          "MAHARASHTRA/NANDED",
          "MAHARASHTRA/NANDURBAR",
          "GUJARAT/NARMADA",
          "MADHYA PRADESH/NARSINGHPUR",
          "MAHARASHTRA/NASIK COMMR.",
          "MAHARASHTRA/NASIK RURAL",
          "BIHAR/NAUGACHIA",
          "MAHARASHTRA/NAVI MUMBAI",
          "GUJARAT/NAVSARI",
          "BIHAR/NAWADAH",
          "MADHYA PRADESH/NEEMUCH",
          "ANDHRA PRADESH/NELLORE",
          "TAMIL NADU/NILGIRIS",
          "ANDHRA PRADESH/NIZAMABAD",
          "MAHARASHTRA/OSMANABAD",
          "KERALA/PALAKKAD",
          "GUJARAT/PALANPUR",
          "RAJASTHAN/PALI",
          "GUJARAT/PANCHMAHAL",
          "UTTAR PRADESH/PANCHSHIL NAGAR",
          "MADHYA PRADESH/PANNA",
          "MAHARASHTRA/PARBHANI",
          "GUJARAT/PATAN",
          "KERALA/PATHANAMTHITTA",
          "BIHAR/PATNA",
          "BIHAR/PATNA RLY.",
          "TAMIL NADU/PERAMBALUR",
          "UTTAR PRADESH/PILIBHIT",
          "GUJARAT/PORBANDAR",
          "UTTAR PRADESH/PRABUDDH NAGAR",
          "ANDHRA PRADESH/PRAKASHAM",
          "RAJASTHAN/PRATAPGARH",
          "UTTAR PRADESH/PRATAPGARH",
          "TAMIL NADU/PUDUKOTTAI",
          "MAHARASHTRA/PUNE COMMR.",
          "MAHARASHTRA/PUNE RLY.",
          "MAHARASHTRA/PUNE RURAL",
          "BIHAR/PURNEA",
          "UTTAR PRADESH/RAIBAREILLY",
          "KARNATAKA/RAICHUR",
          "MAHARASHTRA/RAIGAD",
          "KARNATAKA/RAILWAYS",
          "KERALA/RAILWAYS",
          "MADHYA PRADESH/RAISEN",
          "ANDHRA PRADESH/RAJAHMUNDRY",
          "MADHYA PRADESH/RAJGARH",
          "GUJARAT/RAJKOT COMMR.",
          "GUJARAT/RAJKOT RURAL",
          "RAJASTHAN/RAJSAMAND",
          "UTTAR PRADESH/RAMABAI NAGAR",
          "KARNATAKA/RAMANAGAR",
          "TAMIL NADU/RAMNATHAPURAM",
          "UTTAR PRADESH/RAMPUR",
          "ANDHRA PRADESH/RANGA REDDY",
          "MADHYA PRADESH/RATLAM",
          "MAHARASHTRA/RATNAGIRI",
          "MADHYA PRADESH/REWA",
          "BIHAR/ROHTAS",
          "MADHYA PRADESH/SAGAR",
          "UTTAR PRADESH/SAHARANPUR",
          "BIHAR/SAHARSA",
          "TAMIL NADU/SALEM RURAL",
          "TAMIL NADU/SALEM URBAN",
          "BIHAR/SAMASTIPUR",
          "MAHARASHTRA/SANGLI",
          "UTTAR PRADESH/SANT KABIRNAGAR",
          "BIHAR/SARAN",
          "MAHARASHTRA/SATARA",
          "MADHYA PRADESH/SATNA",
          "RAJASTHAN/SAWAI MADHOPUR",
          "ANDHRA PRADESH/SECUNDERABAD RLY.",
          "MADHYA PRADESH/SEONI",
          "MADHYA PRADESH/SHAHDOL",
          "UTTAR PRADESH/SHAHJAHANPUR",
          "MADHYA PRADESH/SHAJAPUR",
          "BIHAR/SHEIKHPURA",
          "BIHAR/SHEOHAR",
          "MADHYA PRADESH/SHEOPUR",
          "KARNATAKA/SHIMOGA",
          "MADHYA PRADESH/SHIVPURI",
          "UTTAR PRADESH/SHRAWASTI",
          "UTTAR PRADESH/SIDHARTHNAGAR",
          "MADHYA PRADESH/SIDHI",
          "MADHYA PRADESH/SIHORE",
          "RAJASTHAN/SIKAR",
          "MAHARASHTRA/SINDHUDURG",
          "MADHYA PRADESH/SINGRAULI",
          "RAJASTHAN/SIROHI",
          "BIHAR/SITAMARHI",
          "UTTAR PRADESH/SITAPUR",
          "TAMIL NADU/SIVAGANGAI",
          "BIHAR/SIWAN",
          "MAHARASHTRA/SOLAPUR COMMR.",
          "MAHARASHTRA/SOLAPUR RURAL",
          "UTTAR PRADESH/SONBHADRA",
          "ANDHRA PRADESH/SRIKAKULAM",
          "UTTAR PRADESH/ST.RAVIDASNAGAR",
          "UTTAR PRADESH/SULTANPUR",
          "BIHAR/SUPAUL",
          "GUJARAT/SURAT COMMR.",
          "GUJARAT/SURAT RURAL",
          "GUJARAT/SURENDRANAGAR",
          "GUJARAT/TAPI",
          "MAHARASHTRA/THANE COMMR.",
          "MAHARASHTRA/THANE RURAL",
          "TAMIL NADU/THANJAVUR",
          "TAMIL NADU/THENI",
          "TAMIL NADU/THIRUNELVELI RURAL",
          "TAMIL NADU/THIRUNELVELI URBAN",
          "TAMIL NADU/THIRUVALLUR",
          "TAMIL NADU/THIRUVANNAMALAI",
          "TAMIL NADU/THIRUVARUR",
          "TAMIL NADU/THOOTHUGUDI",
          "KERALA/THRISSUR COMMR.",
          "KERALA/THRISSUR RURAL",
          "MADHYA PRADESH/TIKAMGARH",
          "ANDHRA PRADESH/TIRUPATHI URBAN",
          "TAMIL NADU/TIRUPPUR",
          "RAJASTHAN/TONK",
          "TAMIL NADU/TRICHY RLY.",
          "TAMIL NADU/TRICHY RURAL",
          "TAMIL NADU/TRICHY URBAN",
          "KERALA/TRIVANDRUM COMMR.",
          "KERALA/TRIVANDRUM RURAL",
          "KARNATAKA/TUMKUR",
          "RAJASTHAN/UDAIPUR",
          "KARNATAKA/UDUPI",
          "MADHYA PRADESH/UJJAIN",
          "MADHYA PRADESH/UMARIYA",
          "UTTAR PRADESH/UNNAO",
          "KARNATAKA/UTTAR KANNADA",
          "GUJARAT/VADODARA COMMR.",
          "GUJARAT/VADODARA RURAL",
          "BIHAR/VAISHALI",
          "GUJARAT/VALSAD",
          "UTTAR PRADESH/VARANASI",
          "TAMIL NADU/VELLORE",
          "MADHYA PRADESH/VIDISHA",
          "ANDHRA PRADESH/VIJAYAWADA CITY",
          "ANDHRA PRADESH/VIJAYAWADA RLY.",
          "TAMIL NADU/VILLUPURAM",
          "TAMIL NADU/VIRUDHUNAGAR",
          "ANDHRA PRADESH/VISAKHA RURAL",
          "ANDHRA PRADESH/VISAKHAPATNAM",
          "ANDHRA PRADESH/VIZIANAGARAM",
          "GUJARAT/W.RLY AHMEDABAD",
          "GUJARAT/W.RLY VADODARA",
          "ANDHRA PRADESH/WARANGAL",
          "ANDHRA PRADESH/WARANGAL URBAN",
          "MAHARASHTRA/WARDHA",
          "MAHARASHTRA/WASHIM",
          "KERALA/WAYANADU",
          "ANDHRA PRADESH/WEST GODAVARI",
          "KARNATAKA/YADGIRI",
          "MAHARASHTRA/YAVATMAL",
          "ANDHRA PRADESH",
          "BIHAR",
          "GUJARAT",
          "KARNATAKA",
          "KERALA",
          "MADHYA PRADESH",
          "MAHARASHTRA",
          "RAJASTHAN",
          "TAMIL NADU",
          "UTTAR PRADESH"
         ],
         "labels": [
          "ADILABAD",
          "AGRA",
          "AHMEDABAD COMMR.",
          "AHMEDABAD RURAL",
          "AHMEDNAGAR",
          "AHWA-DANG",
          "AJMER",
          "AKOLA",
          "ALAPUZHA",
          "ALIGARH",
          "ALIRAJPUR",
          "ALLAHABAD",
          "ALWAR",
          "AMBEDKAR NAGAR",
          "AMRAVATI COMMR.",
          "AMRAVATI RURAL",
          "AMRELI",
          "ANAND",
          "ANANTAPUR",
          "ANUPPUR",
          "ARARIA",
          "ARIYALUR",
          "ARWAL",
          "ASHOK NAGAR",
          "AURAIYA",
          "AURANGABAD",
          "AURANGABAD COMMR.",
          "AURANGABAD RURAL",
          "AZAMGARH",
          "BADAUN",
          "BAGAHA",
          "BAGALKOT",
          "BAGHPAT",
          "BAHRAICH",
          "BALAGHAT",
          "BALLIA",
          "BALRAMPUR",
          "BANDA",
          "BANGALORE COMMR.",
          "BANGALORE RURAL",
          "BANKA",
          "BANSWARA",
          "BARABANKI",
          "BARAN",
          "BAREILLY",
          "BARMER",
          "BARWANI",
          "BASTI",
          "BEED",
          "BEGUSARAI",
          "BELGAUM",
          "BELLARY",
          "BETTIAH",
          "BETUL",
          "BHABHUA",
          "BHAGALPUR",
          "BHANDARA",
          "BHARATPUR",
          "BHARUCH",
          "BHAVNAGAR",
          "BHILWARA",
          "BHIM NAGAR",
          "BHIND",
          "BHOJPUR",
          "BHOPAL",
          "BHOPAL RLY.",
          "BIDAR",
          "BIJAPUR",
          "BIJNOR",
          "BIKANER",
          "BULANDSHAHAR",
          "BULDHANA",
          "BUNDI",
          "BURHANPUR",
          "BUXAR",
          "CBPURA",
          "CHAMARAJNAGAR",
          "CHANDOLI",
          "CHANDRAPUR",
          "CHENNAI",
          "CHENNAI RLY.",
          "CHHATARPUR",
          "CHHINDWARA",
          "CHICKMAGALUR",
          "CHITRADURGA",
          "CHITRAKOOT DHAM",
          "CHITTOOR",
          "CHITTORGARH",
          "CHURU",
          "CID CRIME",
          "COIMBATORE RURAL",
          "COIMBATORE URBAN",
          "CSM NAGAR",
          "CUDDALORE",
          "CUDDAPAH",
          "CYBERABAD",
          "DAHOD",
          "DAKSHIN KANNADA",
          "DAMOH",
          "DARBHANGA",
          "DATIYA",
          "DAUSA",
          "DAVANAGERE",
          "DEORIA",
          "DEWAS",
          "DHAR",
          "DHARMAPURI",
          "DHARWAD COMMR.",
          "DHARWAD RURAL",
          "DHOLPUR",
          "DHULE",
          "DINDIGUL",
          "DINDORI",
          "DUNGARPUR",
          "EAST GODAVARI",
          "ERNAKULAM COMMR.",
          "ERNAKULAM RURAL",
          "ERODE",
          "ETAH",
          "ETAWAH",
          "FAIZABAD",
          "FATEHGARH",
          "FATEHPUR",
          "FIROZABAD",
          "G.R.P.",
          "G.R.P.AJMER",
          "G.R.P.JODHPUR",
          "GADAG",
          "GADCHIROLI",
          "GANDHINAGAR",
          "GANGANAGAR",
          "GAUTAMBUDH NAGAR",
          "GAYA",
          "GHAZIABAD",
          "GHAZIPUR",
          "GONDA",
          "GONDIA",
          "GOPALGANJ",
          "GORAKHPUR",
          "GULBARGA",
          "GUNA",
          "GUNTAKAL RLY.",
          "GUNTUR",
          "GUNTUR URBAN",
          "GWALIOR",
          "HAMIRPUR",
          "HANUMANGARH",
          "HARDA",
          "HARDOI",
          "HASSAN",
          "HATHRAS",
          "HAVERI",
          "HIMATNAGAR",
          "HINGOLI",
          "HOSHANGABAD",
          "HYDERABAD CITY",
          "IDUKKI",
          "INDORE",
          "INDORE RLY.",
          "J.P.NAGAR",
          "JABALPUR",
          "JABALPUR RLY.",
          "JAIPUR EAST",
          "JAIPUR NORTH",
          "JAIPUR RURAL",
          "JAIPUR SOUTH",
          "JAIPUR WEST",
          "JAISALMER",
          "JALAUN",
          "JALGAON",
          "JALNA",
          "JALORE",
          "JAMALPUR RLY.",
          "JAMNAGAR",
          "JAMUI",
          "JAUNPUR",
          "JEHANABAD",
          "JHABUA",
          "JHALAWAR",
          "JHANSI",
          "JHUNJHUNU",
          "JODHPUR EAST",
          "JODHPUR RURAL",
          "JODHPUR WEST",
          "JUNAGADH",
          "K.G.F.",
          "KANCHIPURAM",
          "KANNAUJ",
          "KANNUR",
          "KANPUR NAGAR",
          "KANSHIRAM NAGAR",
          "KANYAKUMARI",
          "KARAULI",
          "KARIMNAGAR",
          "KARUR",
          "KASARGOD",
          "KATIHAR",
          "KATIHAR RLY.",
          "KATNI",
          "KAUSHAMBI",
          "KHAGARIA",
          "KHAMMAM",
          "KHANDWA",
          "KHARGON",
          "KHEDA NORTH",
          "KHIRI",
          "KISHANGANJ",
          "KODAGU",
          "KOLAR",
          "KOLHAPUR",
          "KOLLAM COMMR.",
          "KOLLAM RURAL",
          "KOPPAL",
          "KOTA CITY",
          "KOTA RURAL",
          "KOTTAYAM",
          "KOZHIKODE COMMR.",
          "KOZHIKODE RURAL",
          "KRISHNA",
          "KRISHNAGIRI",
          "KURNOOL",
          "KUSHI NAGAR",
          "KUTCH (EAST(G))",
          "KUTCH (WEST-BHUJ)",
          "LAKHISARAI",
          "LALITPUR",
          "LATUR",
          "LUCKNOW",
          "MADHEPURA",
          "MADHUBANI",
          "MADURAI RURAL",
          "MADURAI URBAN",
          "MAHABOOBNAGAR",
          "MAHARAJGANJ",
          "MAHOBA",
          "MAINPURI",
          "MALAPPURAM",
          "MANDLA",
          "MANDSAUR",
          "MANDYA",
          "MANGALORE CITY",
          "MATHURA",
          "MAU",
          "MEDAK",
          "MEERUT",
          "MEHSANA",
          "MIRZAPUR",
          "MORADABAD",
          "MORENA",
          "MOTIHARI",
          "MUMBAI COMMR.",
          "MUMBAI RLY.",
          "MUNGER",
          "MUZAFFARNAGAR",
          "MUZAFFARPUR",
          "MUZAFFARPUR RLY.",
          "MYSORE COMMR.",
          "MYSORE RURAL",
          "NAGAPATTINAM",
          "NAGAUR",
          "NAGPUR COMMR.",
          "NAGPUR RLY.",
          "NAGPUR RURAL",
          "NALANDA",
          "NALGONDA",
          "NAMAKKAL",
          "NANDED",
          "NANDURBAR",
          "NARMADA",
          "NARSINGHPUR",
          "NASIK COMMR.",
          "NASIK RURAL",
          "NAUGACHIA",
          "NAVI MUMBAI",
          "NAVSARI",
          "NAWADAH",
          "NEEMUCH",
          "NELLORE",
          "NILGIRIS",
          "NIZAMABAD",
          "OSMANABAD",
          "PALAKKAD",
          "PALANPUR",
          "PALI",
          "PANCHMAHAL",
          "PANCHSHIL NAGAR",
          "PANNA",
          "PARBHANI",
          "PATAN",
          "PATHANAMTHITTA",
          "PATNA",
          "PATNA RLY.",
          "PERAMBALUR",
          "PILIBHIT",
          "PORBANDAR",
          "PRABUDDH NAGAR",
          "PRAKASHAM",
          "PRATAPGARH",
          "PRATAPGARH",
          "PUDUKOTTAI",
          "PUNE COMMR.",
          "PUNE RLY.",
          "PUNE RURAL",
          "PURNEA",
          "RAIBAREILLY",
          "RAICHUR",
          "RAIGAD",
          "RAILWAYS",
          "RAILWAYS",
          "RAISEN",
          "RAJAHMUNDRY",
          "RAJGARH",
          "RAJKOT COMMR.",
          "RAJKOT RURAL",
          "RAJSAMAND",
          "RAMABAI NAGAR",
          "RAMANAGAR",
          "RAMNATHAPURAM",
          "RAMPUR",
          "RANGA REDDY",
          "RATLAM",
          "RATNAGIRI",
          "REWA",
          "ROHTAS",
          "SAGAR",
          "SAHARANPUR",
          "SAHARSA",
          "SALEM RURAL",
          "SALEM URBAN",
          "SAMASTIPUR",
          "SANGLI",
          "SANT KABIRNAGAR",
          "SARAN",
          "SATARA",
          "SATNA",
          "SAWAI MADHOPUR",
          "SECUNDERABAD RLY.",
          "SEONI",
          "SHAHDOL",
          "SHAHJAHANPUR",
          "SHAJAPUR",
          "SHEIKHPURA",
          "SHEOHAR",
          "SHEOPUR",
          "SHIMOGA",
          "SHIVPURI",
          "SHRAWASTI",
          "SIDHARTHNAGAR",
          "SIDHI",
          "SIHORE",
          "SIKAR",
          "SINDHUDURG",
          "SINGRAULI",
          "SIROHI",
          "SITAMARHI",
          "SITAPUR",
          "SIVAGANGAI",
          "SIWAN",
          "SOLAPUR COMMR.",
          "SOLAPUR RURAL",
          "SONBHADRA",
          "SRIKAKULAM",
          "ST.RAVIDASNAGAR",
          "SULTANPUR",
          "SUPAUL",
          "SURAT COMMR.",
          "SURAT RURAL",
          "SURENDRANAGAR",
          "TAPI",
          "THANE COMMR.",
          "THANE RURAL",
          "THANJAVUR",
          "THENI",
          "THIRUNELVELI RURAL",
          "THIRUNELVELI URBAN",
          "THIRUVALLUR",
          "THIRUVANNAMALAI",
          "THIRUVARUR",
          "THOOTHUGUDI",
          "THRISSUR COMMR.",
          "THRISSUR RURAL",
          "TIKAMGARH",
          "TIRUPATHI URBAN",
          "TIRUPPUR",
          "TONK",
          "TRICHY RLY.",
          "TRICHY RURAL",
          "TRICHY URBAN",
          "TRIVANDRUM COMMR.",
          "TRIVANDRUM RURAL",
          "TUMKUR",
          "UDAIPUR",
          "UDUPI",
          "UJJAIN",
          "UMARIYA",
          "UNNAO",
          "UTTAR KANNADA",
          "VADODARA COMMR.",
          "VADODARA RURAL",
          "VAISHALI",
          "VALSAD",
          "VARANASI",
          "VELLORE",
          "VIDISHA",
          "VIJAYAWADA CITY",
          "VIJAYAWADA RLY.",
          "VILLUPURAM",
          "VIRUDHUNAGAR",
          "VISAKHA RURAL",
          "VISAKHAPATNAM",
          "VIZIANAGARAM",
          "W.RLY AHMEDABAD",
          "W.RLY VADODARA",
          "WARANGAL",
          "WARANGAL URBAN",
          "WARDHA",
          "WASHIM",
          "WAYANADU",
          "WEST GODAVARI",
          "YADGIRI",
          "YAVATMAL",
          "ANDHRA PRADESH",
          "BIHAR",
          "GUJARAT",
          "KARNATAKA",
          "KERALA",
          "MADHYA PRADESH",
          "MAHARASHTRA",
          "RAJASTHAN",
          "TAMIL NADU",
          "UTTAR PRADESH"
         ],
         "marker": {
          "coloraxis": "coloraxis",
          "colors": [
           81,
           152,
           90,
           34,
           111,
           7,
           38,
           42,
           20,
           177,
           60,
           115,
           100,
           35,
           24,
           63,
           18,
           25,
           173,
           35,
           81,
           19,
           20,
           34,
           24,
           89,
           46,
           74,
           73,
           108,
           43,
           51,
           80,
           41,
           43,
           45,
           23,
           40,
           266,
           93,
           76,
           34,
           73,
           45,
           114,
           29,
           46,
           33,
           84,
           120,
           142,
           54,
           83,
           75,
           48,
           99,
           20,
           91,
           42,
           46,
           29,
           77,
           64,
           71,
           78,
           4,
           38,
           69,
           89,
           45,
           140,
           49,
           18,
           11,
           56,
           51,
           18,
           25,
           44,
           180,
           1,
           50,
           61,
           33,
           43,
           34,
           91,
           38,
           42,
           1,
           51,
           29,
           35,
           70,
           118,
           198,
           34,
           23,
           51,
           78,
           51,
           30,
           42,
           35,
           62,
           61,
           50,
           18,
           27,
           50,
           50,
           74,
           32,
           26,
           70,
           9,
           21,
           40,
           73,
           59,
           45,
           68,
           79,
           100,
           22,
           4,
           2,
           24,
           57,
           23,
           51,
           89,
           153,
           146,
           47,
           39,
           41,
           103,
           98,
           82,
           44,
           7,
           96,
           56,
           96,
           36,
           49,
           14,
           77,
           77,
           53,
           19,
           30,
           25,
           44,
           102,
           22,
           123,
           3,
           60,
           98,
           6,
           21,
           12,
           38,
           17,
           26,
           9,
           46,
           102,
           45,
           23,
           8,
           43,
           79,
           50,
           46,
           20,
           47,
           65,
           36,
           12,
           34,
           15,
           40,
           16,
           76,
           48,
           32,
           151,
           50,
           53,
           41,
           128,
           26,
           14,
           91,
           13,
           36,
           44,
           65,
           130,
           27,
           51,
           24,
           89,
           39,
           29,
           46,
           63,
           21,
           30,
           24,
           28,
           20,
           20,
           7,
           9,
           78,
           63,
           111,
           36,
           19,
           24,
           40,
           23,
           67,
           141,
           56,
           77,
           76,
           31,
           182,
           30,
           29,
           81,
           16,
           25,
           37,
           86,
           28,
           101,
           23,
           113,
           202,
           31,
           27,
           90,
           53,
           124,
           215,
           8,
           68,
           126,
           198,
           11,
           31,
           78,
           56,
           49,
           88,
           5,
           55,
           114,
           86,
           30,
           81,
           35,
           17,
           46,
           32,
           87,
           47,
           57,
           19,
           82,
           18,
           94,
           14,
           113,
           54,
           32,
           44,
           56,
           54,
           56,
           30,
           34,
           18,
           28,
           356,
           11,
           11,
           47,
           18,
           55,
           108,
           29,
           57,
           31,
           110,
           4,
           163,
           97,
           37,
           42,
           40,
           19,
           0,
           54,
           23,
           36,
           41,
           48,
           26,
           44,
           77,
           54,
           51,
           72,
           37,
           10,
           54,
           132,
           83,
           70,
           53,
           60,
           16,
           99,
           47,
           16,
           128,
           65,
           72,
           24,
           4,
           38,
           44,
           77,
           39,
           30,
           20,
           8,
           50,
           61,
           24,
           27,
           31,
           23,
           51,
           8,
           36,
           29,
           97,
           96,
           47,
           112,
           18,
           92,
           25,
           35,
           10,
           44,
           31,
           98,
           55,
           40,
           11,
           110,
           146,
           62,
           39,
           88,
           19,
           40,
           52,
           33,
           85,
           9,
           18,
           43,
           37,
           63,
           21,
           2,
           44,
           26,
           14,
           42,
           91,
           76,
           14,
           55,
           12,
           60,
           33,
           29,
           74,
           122,
           21,
           59,
           76,
           58,
           42,
           7,
           100,
           62,
           67,
           44,
           44,
           3,
           5,
           75,
           41,
           30,
           40,
           10,
           91,
           26,
           71,
           101.85730981394335,
           121.22847067810714,
           48.357352003135546,
           104.80682878056425,
           19.91201907050173,
           61.589969818685184,
           96.14686235816478,
           43.681540585441184,
           69.36780330616439,
           92.29616392300586
          ]
         },
         "name": "",
         "parents": [
          "ANDHRA PRADESH",
          "UTTAR PRADESH",
          "GUJARAT",
          "GUJARAT",
          "MAHARASHTRA",
          "GUJARAT",
          "RAJASTHAN",
          "MAHARASHTRA",
          "KERALA",
          "UTTAR PRADESH",
          "MADHYA PRADESH",
          "UTTAR PRADESH",
          "RAJASTHAN",
          "UTTAR PRADESH",
          "MAHARASHTRA",
          "MAHARASHTRA",
          "GUJARAT",
          "GUJARAT",
          "ANDHRA PRADESH",
          "MADHYA PRADESH",
          "BIHAR",
          "TAMIL NADU",
          "BIHAR",
          "MADHYA PRADESH",
          "UTTAR PRADESH",
          "BIHAR",
          "MAHARASHTRA",
          "MAHARASHTRA",
          "UTTAR PRADESH",
          "UTTAR PRADESH",
          "BIHAR",
          "KARNATAKA",
          "UTTAR PRADESH",
          "UTTAR PRADESH",
          "MADHYA PRADESH",
          "UTTAR PRADESH",
          "UTTAR PRADESH",
          "UTTAR PRADESH",
          "KARNATAKA",
          "KARNATAKA",
          "BIHAR",
          "RAJASTHAN",
          "UTTAR PRADESH",
          "RAJASTHAN",
          "UTTAR PRADESH",
          "RAJASTHAN",
          "MADHYA PRADESH",
          "UTTAR PRADESH",
          "MAHARASHTRA",
          "BIHAR",
          "KARNATAKA",
          "KARNATAKA",
          "BIHAR",
          "MADHYA PRADESH",
          "BIHAR",
          "BIHAR",
          "MAHARASHTRA",
          "RAJASTHAN",
          "GUJARAT",
          "GUJARAT",
          "RAJASTHAN",
          "UTTAR PRADESH",
          "MADHYA PRADESH",
          "BIHAR",
          "MADHYA PRADESH",
          "MADHYA PRADESH",
          "KARNATAKA",
          "KARNATAKA",
          "UTTAR PRADESH",
          "RAJASTHAN",
          "UTTAR PRADESH",
          "MAHARASHTRA",
          "RAJASTHAN",
          "MADHYA PRADESH",
          "BIHAR",
          "KARNATAKA",
          "KARNATAKA",
          "UTTAR PRADESH",
          "MAHARASHTRA",
          "TAMIL NADU",
          "TAMIL NADU",
          "MADHYA PRADESH",
          "MADHYA PRADESH",
          "KARNATAKA",
          "KARNATAKA",
          "UTTAR PRADESH",
          "ANDHRA PRADESH",
          "RAJASTHAN",
          "RAJASTHAN",
          "GUJARAT",
          "TAMIL NADU",
          "TAMIL NADU",
          "UTTAR PRADESH",
          "TAMIL NADU",
          "ANDHRA PRADESH",
          "ANDHRA PRADESH",
          "GUJARAT",
          "KARNATAKA",
          "MADHYA PRADESH",
          "BIHAR",
          "MADHYA PRADESH",
          "RAJASTHAN",
          "KARNATAKA",
          "UTTAR PRADESH",
          "MADHYA PRADESH",
          "MADHYA PRADESH",
          "TAMIL NADU",
          "KARNATAKA",
          "KARNATAKA",
          "RAJASTHAN",
          "MAHARASHTRA",
          "TAMIL NADU",
          "MADHYA PRADESH",
          "RAJASTHAN",
          "ANDHRA PRADESH",
          "KERALA",
          "KERALA",
          "TAMIL NADU",
          "UTTAR PRADESH",
          "UTTAR PRADESH",
          "UTTAR PRADESH",
          "UTTAR PRADESH",
          "UTTAR PRADESH",
          "UTTAR PRADESH",
          "UTTAR PRADESH",
          "RAJASTHAN",
          "RAJASTHAN",
          "KARNATAKA",
          "MAHARASHTRA",
          "GUJARAT",
          "RAJASTHAN",
          "UTTAR PRADESH",
          "BIHAR",
          "UTTAR PRADESH",
          "UTTAR PRADESH",
          "UTTAR PRADESH",
          "MAHARASHTRA",
          "BIHAR",
          "UTTAR PRADESH",
          "KARNATAKA",
          "MADHYA PRADESH",
          "ANDHRA PRADESH",
          "ANDHRA PRADESH",
          "ANDHRA PRADESH",
          "MADHYA PRADESH",
          "UTTAR PRADESH",
          "RAJASTHAN",
          "MADHYA PRADESH",
          "UTTAR PRADESH",
          "KARNATAKA",
          "UTTAR PRADESH",
          "KARNATAKA",
          "GUJARAT",
          "MAHARASHTRA",
          "MADHYA PRADESH",
          "ANDHRA PRADESH",
          "KERALA",
          "MADHYA PRADESH",
          "MADHYA PRADESH",
          "UTTAR PRADESH",
          "MADHYA PRADESH",
          "MADHYA PRADESH",
          "RAJASTHAN",
          "RAJASTHAN",
          "RAJASTHAN",
          "RAJASTHAN",
          "RAJASTHAN",
          "RAJASTHAN",
          "UTTAR PRADESH",
          "MAHARASHTRA",
          "MAHARASHTRA",
          "RAJASTHAN",
          "BIHAR",
          "GUJARAT",
          "BIHAR",
          "UTTAR PRADESH",
          "BIHAR",
          "MADHYA PRADESH",
          "RAJASTHAN",
          "UTTAR PRADESH",
          "RAJASTHAN",
          "RAJASTHAN",
          "RAJASTHAN",
          "RAJASTHAN",
          "GUJARAT",
          "KARNATAKA",
          "TAMIL NADU",
          "UTTAR PRADESH",
          "KERALA",
          "UTTAR PRADESH",
          "UTTAR PRADESH",
          "TAMIL NADU",
          "RAJASTHAN",
          "ANDHRA PRADESH",
          "TAMIL NADU",
          "KERALA",
          "BIHAR",
          "BIHAR",
          "MADHYA PRADESH",
          "UTTAR PRADESH",
          "BIHAR",
          "ANDHRA PRADESH",
          "MADHYA PRADESH",
          "MADHYA PRADESH",
          "GUJARAT",
          "UTTAR PRADESH",
          "BIHAR",
          "KARNATAKA",
          "KARNATAKA",
          "MAHARASHTRA",
          "KERALA",
          "KERALA",
          "KARNATAKA",
          "RAJASTHAN",
          "RAJASTHAN",
          "KERALA",
          "KERALA",
          "KERALA",
          "ANDHRA PRADESH",
          "TAMIL NADU",
          "ANDHRA PRADESH",
          "UTTAR PRADESH",
          "GUJARAT",
          "GUJARAT",
          "BIHAR",
          "UTTAR PRADESH",
          "MAHARASHTRA",
          "UTTAR PRADESH",
          "BIHAR",
          "BIHAR",
          "TAMIL NADU",
          "TAMIL NADU",
          "ANDHRA PRADESH",
          "UTTAR PRADESH",
          "UTTAR PRADESH",
          "UTTAR PRADESH",
          "KERALA",
          "MADHYA PRADESH",
          "MADHYA PRADESH",
          "KARNATAKA",
          "KARNATAKA",
          "UTTAR PRADESH",
          "UTTAR PRADESH",
          "ANDHRA PRADESH",
          "UTTAR PRADESH",
          "GUJARAT",
          "UTTAR PRADESH",
          "UTTAR PRADESH",
          "MADHYA PRADESH",
          "BIHAR",
          "MAHARASHTRA",
          "MAHARASHTRA",
          "BIHAR",
          "UTTAR PRADESH",
          "BIHAR",
          "BIHAR",
          "KARNATAKA",
          "KARNATAKA",
          "TAMIL NADU",
          "RAJASTHAN",
          "MAHARASHTRA",
          "MAHARASHTRA",
          "MAHARASHTRA",
          "BIHAR",
          "ANDHRA PRADESH",
          "TAMIL NADU",
          "MAHARASHTRA",
          "MAHARASHTRA",
          "GUJARAT",
          "MADHYA PRADESH",
          "MAHARASHTRA",
          "MAHARASHTRA",
          "BIHAR",
          "MAHARASHTRA",
          "GUJARAT",
          "BIHAR",
          "MADHYA PRADESH",
          "ANDHRA PRADESH",
          "TAMIL NADU",
          "ANDHRA PRADESH",
          "MAHARASHTRA",
          "KERALA",
          "GUJARAT",
          "RAJASTHAN",
          "GUJARAT",
          "UTTAR PRADESH",
          "MADHYA PRADESH",
          "MAHARASHTRA",
          "GUJARAT",
          "KERALA",
          "BIHAR",
          "BIHAR",
          "TAMIL NADU",
          "UTTAR PRADESH",
          "GUJARAT",
          "UTTAR PRADESH",
          "ANDHRA PRADESH",
          "RAJASTHAN",
          "UTTAR PRADESH",
          "TAMIL NADU",
          "MAHARASHTRA",
          "MAHARASHTRA",
          "MAHARASHTRA",
          "BIHAR",
          "UTTAR PRADESH",
          "KARNATAKA",
          "MAHARASHTRA",
          "KARNATAKA",
          "KERALA",
          "MADHYA PRADESH",
          "ANDHRA PRADESH",
          "MADHYA PRADESH",
          "GUJARAT",
          "GUJARAT",
          "RAJASTHAN",
          "UTTAR PRADESH",
          "KARNATAKA",
          "TAMIL NADU",
          "UTTAR PRADESH",
          "ANDHRA PRADESH",
          "MADHYA PRADESH",
          "MAHARASHTRA",
          "MADHYA PRADESH",
          "BIHAR",
          "MADHYA PRADESH",
          "UTTAR PRADESH",
          "BIHAR",
          "TAMIL NADU",
          "TAMIL NADU",
          "BIHAR",
          "MAHARASHTRA",
          "UTTAR PRADESH",
          "BIHAR",
          "MAHARASHTRA",
          "MADHYA PRADESH",
          "RAJASTHAN",
          "ANDHRA PRADESH",
          "MADHYA PRADESH",
          "MADHYA PRADESH",
          "UTTAR PRADESH",
          "MADHYA PRADESH",
          "BIHAR",
          "BIHAR",
          "MADHYA PRADESH",
          "KARNATAKA",
          "MADHYA PRADESH",
          "UTTAR PRADESH",
          "UTTAR PRADESH",
          "MADHYA PRADESH",
          "MADHYA PRADESH",
          "RAJASTHAN",
          "MAHARASHTRA",
          "MADHYA PRADESH",
          "RAJASTHAN",
          "BIHAR",
          "UTTAR PRADESH",
          "TAMIL NADU",
          "BIHAR",
          "MAHARASHTRA",
          "MAHARASHTRA",
          "UTTAR PRADESH",
          "ANDHRA PRADESH",
          "UTTAR PRADESH",
          "UTTAR PRADESH",
          "BIHAR",
          "GUJARAT",
          "GUJARAT",
          "GUJARAT",
          "GUJARAT",
          "MAHARASHTRA",
          "MAHARASHTRA",
          "TAMIL NADU",
          "TAMIL NADU",
          "TAMIL NADU",
          "TAMIL NADU",
          "TAMIL NADU",
          "TAMIL NADU",
          "TAMIL NADU",
          "TAMIL NADU",
          "KERALA",
          "KERALA",
          "MADHYA PRADESH",
          "ANDHRA PRADESH",
          "TAMIL NADU",
          "RAJASTHAN",
          "TAMIL NADU",
          "TAMIL NADU",
          "TAMIL NADU",
          "KERALA",
          "KERALA",
          "KARNATAKA",
          "RAJASTHAN",
          "KARNATAKA",
          "MADHYA PRADESH",
          "MADHYA PRADESH",
          "UTTAR PRADESH",
          "KARNATAKA",
          "GUJARAT",
          "GUJARAT",
          "BIHAR",
          "GUJARAT",
          "UTTAR PRADESH",
          "TAMIL NADU",
          "MADHYA PRADESH",
          "ANDHRA PRADESH",
          "ANDHRA PRADESH",
          "TAMIL NADU",
          "TAMIL NADU",
          "ANDHRA PRADESH",
          "ANDHRA PRADESH",
          "ANDHRA PRADESH",
          "GUJARAT",
          "GUJARAT",
          "ANDHRA PRADESH",
          "ANDHRA PRADESH",
          "MAHARASHTRA",
          "MAHARASHTRA",
          "KERALA",
          "ANDHRA PRADESH",
          "KARNATAKA",
          "MAHARASHTRA",
          "",
          "",
          "",
          "",
          "",
          "",
          "",
          "",
          "",
          ""
         ],
         "type": "sunburst",
         "values": [
          5710,
          9360,
          21347,
          3673,
          7246,
          209,
          6550,
          3442,
          8555,
          5806,
          1355,
          6394,
          11941,
          1211,
          2713,
          4442,
          2301,
          2991,
          5441,
          1794,
          2526,
          2480,
          858,
          2474,
          1319,
          3279,
          3659,
          3562,
          2284,
          2537,
          1729,
          2297,
          1560,
          2369,
          2792,
          1607,
          586,
          1224,
          29297,
          5560,
          1801,
          2777,
          2096,
          3596,
          5228,
          3744,
          2026,
          1237,
          4099,
          3717,
          6845,
          3112,
          5073,
          3080,
          1867,
          3134,
          2019,
          8849,
          2781,
          4375,
          4893,
          1914,
          3920,
          3846,
          14320,
          1429,
          3658,
          2783,
          3108,
          4535,
          3554,
          3497,
          3124,
          1436,
          2566,
          2554,
          1733,
          1043,
          3763,
          19881,
          558,
          4521,
          5310,
          2498,
          4059,
          780,
          4465,
          4390,
          3363,
          15,
          5093,
          10357,
          1522,
          11318,
          6110,
          17979,
          1683,
          1836,
          3248,
          6314,
          2441,
          5101,
          3271,
          1446,
          5369,
          5558,
          3742,
          1937,
          1313,
          3739,
          2542,
          5985,
          1268,
          1844,
          6945,
          17324,
          10678,
          4789,
          2468,
          1996,
          2281,
          1608,
          2152,
          3096,
          2782,
          788,
          131,
          1083,
          981,
          6530,
          5427,
          6687,
          6082,
          7477,
          1430,
          2458,
          1772,
          3959,
          4577,
          4101,
          3592,
          339,
          7371,
          4687,
          10313,
          848,
          4077,
          1318,
          3005,
          5592,
          1770,
          2333,
          6411,
          1391,
          3298,
          15992,
          5134,
          21091,
          427,
          1649,
          10575,
          975,
          6371,
          2936,
          5484,
          4016,
          5288,
          1177,
          1292,
          4954,
          3051,
          2480,
          264,
          5030,
          1752,
          1822,
          1448,
          2431,
          3795,
          2016,
          4358,
          2303,
          2788,
          2228,
          3915,
          1007,
          8040,
          1689,
          8400,
          7018,
          1123,
          4810,
          4561,
          8991,
          2401,
          5174,
          4072,
          317,
          3383,
          1302,
          2257,
          6041,
          2841,
          4171,
          5092,
          2917,
          1420,
          1550,
          2209,
          4554,
          7074,
          5981,
          1899,
          3972,
          2331,
          12355,
          4156,
          5645,
          7211,
          4196,
          6687,
          1698,
          3030,
          1806,
          1238,
          697,
          3237,
          11083,
          2293,
          4887,
          6358,
          3261,
          6485,
          1524,
          791,
          2400,
          14385,
          2275,
          3469,
          5914,
          2685,
          4438,
          1535,
          6070,
          7984,
          5353,
          775,
          3652,
          5431,
          7833,
          30508,
          2325,
          1829,
          3715,
          7306,
          553,
          2826,
          4339,
          4245,
          4498,
          8277,
          1292,
          3622,
          4993,
          8934,
          4070,
          4668,
          1358,
          674,
          3371,
          4390,
          5216,
          1494,
          5157,
          1542,
          2729,
          2183,
          6854,
          1216,
          5542,
          3055,
          8611,
          4867,
          5469,
          3677,
          1765,
          2234,
          2836,
          3107,
          5327,
          14015,
          1088,
          1455,
          2296,
          896,
          1268,
          6675,
          2585,
          2354,
          3142,
          12308,
          445,
          8433,
          3953,
          1774,
          3039,
          2159,
          649,
          348,
          4207,
          2125,
          4712,
          4319,
          4297,
          2439,
          2013,
          4673,
          3549,
          2105,
          2094,
          3420,
          1398,
          5498,
          3665,
          9276,
          3254,
          2421,
          5939,
          2329,
          4817,
          2783,
          736,
          5254,
          5042,
          5407,
          4054,
          916,
          2728,
          3375,
          2632,
          3350,
          1189,
          603,
          1347,
          5034,
          4968,
          553,
          707,
          2568,
          3894,
          5824,
          803,
          2393,
          1906,
          3982,
          3360,
          3598,
          4379,
          1992,
          4476,
          901,
          3818,
          466,
          1821,
          2626,
          9246,
          3644,
          2985,
          792,
          10144,
          6919,
          6785,
          4312,
          9024,
          1352,
          3579,
          4874,
          4039,
          5324,
          6231,
          13403,
          3302,
          2609,
          7046,
          3232,
          216,
          4485,
          2926,
          7253,
          10065,
          5567,
          7984,
          2454,
          8286,
          1262,
          2683,
          2828,
          6440,
          3479,
          5186,
          2731,
          3465,
          7710,
          4623,
          7686,
          732,
          10486,
          5504,
          2733,
          4626,
          4482,
          344,
          539,
          4722,
          3583,
          3564,
          2241,
          2890,
          7867,
          1486,
          6365,
          192522,
          146614,
          130121,
          134021,
          158989,
          220335,
          202700,
          170948,
          200474,
          198093
         ]
        }
       ],
       "layout": {
        "coloraxis": {
         "colorbar": {
          "title": {
           "text": "MURDER"
          }
         },
         "colorscale": [
          [
           0,
           "#0d0887"
          ],
          [
           0.1111111111111111,
           "#46039f"
          ],
          [
           0.2222222222222222,
           "#7201a8"
          ],
          [
           0.3333333333333333,
           "#9c179e"
          ],
          [
           0.4444444444444444,
           "#bd3786"
          ],
          [
           0.5555555555555556,
           "#d8576b"
          ],
          [
           0.6666666666666666,
           "#ed7953"
          ],
          [
           0.7777777777777778,
           "#fb9f3a"
          ],
          [
           0.8888888888888888,
           "#fdca26"
          ],
          [
           1,
           "#f0f921"
          ]
         ]
        },
        "font": {
         "color": "red",
         "family": "Times New Roman",
         "size": 15
        },
        "legend": {
         "tracegroupgap": 0
        },
        "margin": {
         "t": 60
        },
        "paper_bgcolor": "black",
        "template": {
         "data": {
          "bar": [
           {
            "error_x": {
             "color": "#f2f5fa"
            },
            "error_y": {
             "color": "#f2f5fa"
            },
            "marker": {
             "line": {
              "color": "rgb(17,17,17)",
              "width": 0.5
             }
            },
            "type": "bar"
           }
          ],
          "barpolar": [
           {
            "marker": {
             "line": {
              "color": "rgb(17,17,17)",
              "width": 0.5
             }
            },
            "type": "barpolar"
           }
          ],
          "carpet": [
           {
            "aaxis": {
             "endlinecolor": "#A2B1C6",
             "gridcolor": "#506784",
             "linecolor": "#506784",
             "minorgridcolor": "#506784",
             "startlinecolor": "#A2B1C6"
            },
            "baxis": {
             "endlinecolor": "#A2B1C6",
             "gridcolor": "#506784",
             "linecolor": "#506784",
             "minorgridcolor": "#506784",
             "startlinecolor": "#A2B1C6"
            },
            "type": "carpet"
           }
          ],
          "choropleth": [
           {
            "colorbar": {
             "outlinewidth": 0,
             "ticks": ""
            },
            "type": "choropleth"
           }
          ],
          "contour": [
           {
            "colorbar": {
             "outlinewidth": 0,
             "ticks": ""
            },
            "colorscale": [
             [
              0,
              "#0d0887"
             ],
             [
              0.1111111111111111,
              "#46039f"
             ],
             [
              0.2222222222222222,
              "#7201a8"
             ],
             [
              0.3333333333333333,
              "#9c179e"
             ],
             [
              0.4444444444444444,
              "#bd3786"
             ],
             [
              0.5555555555555556,
              "#d8576b"
             ],
             [
              0.6666666666666666,
              "#ed7953"
             ],
             [
              0.7777777777777778,
              "#fb9f3a"
             ],
             [
              0.8888888888888888,
              "#fdca26"
             ],
             [
              1,
              "#f0f921"
             ]
            ],
            "type": "contour"
           }
          ],
          "contourcarpet": [
           {
            "colorbar": {
             "outlinewidth": 0,
             "ticks": ""
            },
            "type": "contourcarpet"
           }
          ],
          "heatmap": [
           {
            "colorbar": {
             "outlinewidth": 0,
             "ticks": ""
            },
            "colorscale": [
             [
              0,
              "#0d0887"
             ],
             [
              0.1111111111111111,
              "#46039f"
             ],
             [
              0.2222222222222222,
              "#7201a8"
             ],
             [
              0.3333333333333333,
              "#9c179e"
             ],
             [
              0.4444444444444444,
              "#bd3786"
             ],
             [
              0.5555555555555556,
              "#d8576b"
             ],
             [
              0.6666666666666666,
              "#ed7953"
             ],
             [
              0.7777777777777778,
              "#fb9f3a"
             ],
             [
              0.8888888888888888,
              "#fdca26"
             ],
             [
              1,
              "#f0f921"
             ]
            ],
            "type": "heatmap"
           }
          ],
          "heatmapgl": [
           {
            "colorbar": {
             "outlinewidth": 0,
             "ticks": ""
            },
            "colorscale": [
             [
              0,
              "#0d0887"
             ],
             [
              0.1111111111111111,
              "#46039f"
             ],
             [
              0.2222222222222222,
              "#7201a8"
             ],
             [
              0.3333333333333333,
              "#9c179e"
             ],
             [
              0.4444444444444444,
              "#bd3786"
             ],
             [
              0.5555555555555556,
              "#d8576b"
             ],
             [
              0.6666666666666666,
              "#ed7953"
             ],
             [
              0.7777777777777778,
              "#fb9f3a"
             ],
             [
              0.8888888888888888,
              "#fdca26"
             ],
             [
              1,
              "#f0f921"
             ]
            ],
            "type": "heatmapgl"
           }
          ],
          "histogram": [
           {
            "marker": {
             "colorbar": {
              "outlinewidth": 0,
              "ticks": ""
             }
            },
            "type": "histogram"
           }
          ],
          "histogram2d": [
           {
            "colorbar": {
             "outlinewidth": 0,
             "ticks": ""
            },
            "colorscale": [
             [
              0,
              "#0d0887"
             ],
             [
              0.1111111111111111,
              "#46039f"
             ],
             [
              0.2222222222222222,
              "#7201a8"
             ],
             [
              0.3333333333333333,
              "#9c179e"
             ],
             [
              0.4444444444444444,
              "#bd3786"
             ],
             [
              0.5555555555555556,
              "#d8576b"
             ],
             [
              0.6666666666666666,
              "#ed7953"
             ],
             [
              0.7777777777777778,
              "#fb9f3a"
             ],
             [
              0.8888888888888888,
              "#fdca26"
             ],
             [
              1,
              "#f0f921"
             ]
            ],
            "type": "histogram2d"
           }
          ],
          "histogram2dcontour": [
           {
            "colorbar": {
             "outlinewidth": 0,
             "ticks": ""
            },
            "colorscale": [
             [
              0,
              "#0d0887"
             ],
             [
              0.1111111111111111,
              "#46039f"
             ],
             [
              0.2222222222222222,
              "#7201a8"
             ],
             [
              0.3333333333333333,
              "#9c179e"
             ],
             [
              0.4444444444444444,
              "#bd3786"
             ],
             [
              0.5555555555555556,
              "#d8576b"
             ],
             [
              0.6666666666666666,
              "#ed7953"
             ],
             [
              0.7777777777777778,
              "#fb9f3a"
             ],
             [
              0.8888888888888888,
              "#fdca26"
             ],
             [
              1,
              "#f0f921"
             ]
            ],
            "type": "histogram2dcontour"
           }
          ],
          "mesh3d": [
           {
            "colorbar": {
             "outlinewidth": 0,
             "ticks": ""
            },
            "type": "mesh3d"
           }
          ],
          "parcoords": [
           {
            "line": {
             "colorbar": {
              "outlinewidth": 0,
              "ticks": ""
             }
            },
            "type": "parcoords"
           }
          ],
          "pie": [
           {
            "automargin": true,
            "type": "pie"
           }
          ],
          "scatter": [
           {
            "marker": {
             "line": {
              "color": "#283442"
             }
            },
            "type": "scatter"
           }
          ],
          "scatter3d": [
           {
            "line": {
             "colorbar": {
              "outlinewidth": 0,
              "ticks": ""
             }
            },
            "marker": {
             "colorbar": {
              "outlinewidth": 0,
              "ticks": ""
             }
            },
            "type": "scatter3d"
           }
          ],
          "scattercarpet": [
           {
            "marker": {
             "colorbar": {
              "outlinewidth": 0,
              "ticks": ""
             }
            },
            "type": "scattercarpet"
           }
          ],
          "scattergeo": [
           {
            "marker": {
             "colorbar": {
              "outlinewidth": 0,
              "ticks": ""
             }
            },
            "type": "scattergeo"
           }
          ],
          "scattergl": [
           {
            "marker": {
             "line": {
              "color": "#283442"
             }
            },
            "type": "scattergl"
           }
          ],
          "scattermapbox": [
           {
            "marker": {
             "colorbar": {
              "outlinewidth": 0,
              "ticks": ""
             }
            },
            "type": "scattermapbox"
           }
          ],
          "scatterpolar": [
           {
            "marker": {
             "colorbar": {
              "outlinewidth": 0,
              "ticks": ""
             }
            },
            "type": "scatterpolar"
           }
          ],
          "scatterpolargl": [
           {
            "marker": {
             "colorbar": {
              "outlinewidth": 0,
              "ticks": ""
             }
            },
            "type": "scatterpolargl"
           }
          ],
          "scatterternary": [
           {
            "marker": {
             "colorbar": {
              "outlinewidth": 0,
              "ticks": ""
             }
            },
            "type": "scatterternary"
           }
          ],
          "surface": [
           {
            "colorbar": {
             "outlinewidth": 0,
             "ticks": ""
            },
            "colorscale": [
             [
              0,
              "#0d0887"
             ],
             [
              0.1111111111111111,
              "#46039f"
             ],
             [
              0.2222222222222222,
              "#7201a8"
             ],
             [
              0.3333333333333333,
              "#9c179e"
             ],
             [
              0.4444444444444444,
              "#bd3786"
             ],
             [
              0.5555555555555556,
              "#d8576b"
             ],
             [
              0.6666666666666666,
              "#ed7953"
             ],
             [
              0.7777777777777778,
              "#fb9f3a"
             ],
             [
              0.8888888888888888,
              "#fdca26"
             ],
             [
              1,
              "#f0f921"
             ]
            ],
            "type": "surface"
           }
          ],
          "table": [
           {
            "cells": {
             "fill": {
              "color": "#506784"
             },
             "line": {
              "color": "rgb(17,17,17)"
             }
            },
            "header": {
             "fill": {
              "color": "#2a3f5f"
             },
             "line": {
              "color": "rgb(17,17,17)"
             }
            },
            "type": "table"
           }
          ]
         },
         "layout": {
          "annotationdefaults": {
           "arrowcolor": "#f2f5fa",
           "arrowhead": 0,
           "arrowwidth": 1
          },
          "coloraxis": {
           "colorbar": {
            "outlinewidth": 0,
            "ticks": ""
           }
          },
          "colorscale": {
           "diverging": [
            [
             0,
             "#8e0152"
            ],
            [
             0.1,
             "#c51b7d"
            ],
            [
             0.2,
             "#de77ae"
            ],
            [
             0.3,
             "#f1b6da"
            ],
            [
             0.4,
             "#fde0ef"
            ],
            [
             0.5,
             "#f7f7f7"
            ],
            [
             0.6,
             "#e6f5d0"
            ],
            [
             0.7,
             "#b8e186"
            ],
            [
             0.8,
             "#7fbc41"
            ],
            [
             0.9,
             "#4d9221"
            ],
            [
             1,
             "#276419"
            ]
           ],
           "sequential": [
            [
             0,
             "#0d0887"
            ],
            [
             0.1111111111111111,
             "#46039f"
            ],
            [
             0.2222222222222222,
             "#7201a8"
            ],
            [
             0.3333333333333333,
             "#9c179e"
            ],
            [
             0.4444444444444444,
             "#bd3786"
            ],
            [
             0.5555555555555556,
             "#d8576b"
            ],
            [
             0.6666666666666666,
             "#ed7953"
            ],
            [
             0.7777777777777778,
             "#fb9f3a"
            ],
            [
             0.8888888888888888,
             "#fdca26"
            ],
            [
             1,
             "#f0f921"
            ]
           ],
           "sequentialminus": [
            [
             0,
             "#0d0887"
            ],
            [
             0.1111111111111111,
             "#46039f"
            ],
            [
             0.2222222222222222,
             "#7201a8"
            ],
            [
             0.3333333333333333,
             "#9c179e"
            ],
            [
             0.4444444444444444,
             "#bd3786"
            ],
            [
             0.5555555555555556,
             "#d8576b"
            ],
            [
             0.6666666666666666,
             "#ed7953"
            ],
            [
             0.7777777777777778,
             "#fb9f3a"
            ],
            [
             0.8888888888888888,
             "#fdca26"
            ],
            [
             1,
             "#f0f921"
            ]
           ]
          },
          "colorway": [
           "#636efa",
           "#EF553B",
           "#00cc96",
           "#ab63fa",
           "#FFA15A",
           "#19d3f3",
           "#FF6692",
           "#B6E880",
           "#FF97FF",
           "#FECB52"
          ],
          "font": {
           "color": "#f2f5fa"
          },
          "geo": {
           "bgcolor": "rgb(17,17,17)",
           "lakecolor": "rgb(17,17,17)",
           "landcolor": "rgb(17,17,17)",
           "showlakes": true,
           "showland": true,
           "subunitcolor": "#506784"
          },
          "hoverlabel": {
           "align": "left"
          },
          "hovermode": "closest",
          "mapbox": {
           "style": "dark"
          },
          "paper_bgcolor": "rgb(17,17,17)",
          "plot_bgcolor": "rgb(17,17,17)",
          "polar": {
           "angularaxis": {
            "gridcolor": "#506784",
            "linecolor": "#506784",
            "ticks": ""
           },
           "bgcolor": "rgb(17,17,17)",
           "radialaxis": {
            "gridcolor": "#506784",
            "linecolor": "#506784",
            "ticks": ""
           }
          },
          "scene": {
           "xaxis": {
            "backgroundcolor": "rgb(17,17,17)",
            "gridcolor": "#506784",
            "gridwidth": 2,
            "linecolor": "#506784",
            "showbackground": true,
            "ticks": "",
            "zerolinecolor": "#C8D4E3"
           },
           "yaxis": {
            "backgroundcolor": "rgb(17,17,17)",
            "gridcolor": "#506784",
            "gridwidth": 2,
            "linecolor": "#506784",
            "showbackground": true,
            "ticks": "",
            "zerolinecolor": "#C8D4E3"
           },
           "zaxis": {
            "backgroundcolor": "rgb(17,17,17)",
            "gridcolor": "#506784",
            "gridwidth": 2,
            "linecolor": "#506784",
            "showbackground": true,
            "ticks": "",
            "zerolinecolor": "#C8D4E3"
           }
          },
          "shapedefaults": {
           "line": {
            "color": "#f2f5fa"
           }
          },
          "sliderdefaults": {
           "bgcolor": "#C8D4E3",
           "bordercolor": "rgb(17,17,17)",
           "borderwidth": 1,
           "tickwidth": 0
          },
          "ternary": {
           "aaxis": {
            "gridcolor": "#506784",
            "linecolor": "#506784",
            "ticks": ""
           },
           "baxis": {
            "gridcolor": "#506784",
            "linecolor": "#506784",
            "ticks": ""
           },
           "bgcolor": "rgb(17,17,17)",
           "caxis": {
            "gridcolor": "#506784",
            "linecolor": "#506784",
            "ticks": ""
           }
          },
          "title": {
           "x": 0.05
          },
          "updatemenudefaults": {
           "bgcolor": "#506784",
           "borderwidth": 0
          },
          "xaxis": {
           "automargin": true,
           "gridcolor": "#283442",
           "linecolor": "#506784",
           "ticks": "",
           "title": {
            "standoff": 15
           },
           "zerolinecolor": "#283442",
           "zerolinewidth": 2
          },
          "yaxis": {
           "automargin": true,
           "gridcolor": "#283442",
           "linecolor": "#506784",
           "ticks": "",
           "title": {
            "standoff": 15
           },
           "zerolinecolor": "#283442",
           "zerolinewidth": 2
          }
         }
        },
        "title": {
         "font": {
          "family": "Aerial",
          "size": 24
         },
         "text": "Crimes in top 10 states with their district in 2012 "
        }
       }
      },
      "text/html": [
       "<div>\n",
       "        \n",
       "        \n",
       "            <div id=\"9bb428ed-3c72-4222-b0a6-f31f19ef7740\" class=\"plotly-graph-div\" style=\"height:525px; width:100%;\"></div>\n",
       "            <script type=\"text/javascript\">\n",
       "                require([\"plotly\"], function(Plotly) {\n",
       "                    window.PLOTLYENV=window.PLOTLYENV || {};\n",
       "                    \n",
       "                if (document.getElementById(\"9bb428ed-3c72-4222-b0a6-f31f19ef7740\")) {\n",
       "                    Plotly.newPlot(\n",
       "                        '9bb428ed-3c72-4222-b0a6-f31f19ef7740',\n",
       "                        [{\"branchvalues\": \"total\", \"customdata\": [[81.0, 88, 82, 14, 0, 2, 56, 81.0], [152.0, 58, 321, 233, 0, 14, 476, 152.0], [90.0, 63, 229, 603, 0, 24, 159, 90.0], [34.0, 5, 67, 30, 0, 15, 73, 34.0], [111.0, 61, 59, 262, 0, 48, 572, 111.0], [7.0, 1, 1, 0, 0, 1, 5, 7.0], [38.0, 70, 107, 17, 0, 1, 6, 38.0], [42.0, 19, 22, 49, 0, 3, 107, 42.0], [20.0, 44, 18, 16, 0, 2, 553, 20.0], [177.0, 64, 298, 121, 0, 22, 252, 177.0], [60.0, 22, 13, 16, 0, 1, 9, 60.0], [115.0, 52, 223, 55, 0, 4, 113, 115.0], [100.0, 129, 243, 63, 0, 8, 8, 100.0], [35.0, 12, 69, 24, 0, 0, 66, 35.0], [24.0, 20, 20, 54, 0, 5, 77, 24.0], [63.0, 64, 17, 39, 0, 9, 97, 63.0], [18.0, 10, 80, 13, 0, 2, 56, 18.0], [25.0, 9, 56, 6, 0, 3, 27, 25.0], [173.0, 18, 74, 6, 0, 14, 41, 173.0], [35.0, 62, 8, 15, 0, 1, 17, 35.0], [81.0, 53, 122, 16, 0, 7, 190, 81.0], [19.0, 11, 47, 8, 0, 1, 41, 19.0], [20.0, 5, 26, 6, 0, 1, 32, 20.0], [34.0, 50, 6, 11, 0, 2, 24, 34.0], [24.0, 13, 102, 19, 0, 1, 9, 24.0], [89.0, 22, 71, 45, 0, 32, 320, 89.0], [46.0, 23, 25, 178, 0, 25, 168, 46.0], [74.0, 25, 16, 45, 0, 16, 306, 74.0], [73.0, 19, 121, 59, 0, 1, 182, 73.0], [108.0, 24, 107, 40, 0, 3, 6, 108.0], [43.0, 11, 76, 8, 0, 2, 150, 43.0], [51.0, 11, 17, 18, 2, 7, 221, 51.0], [80.0, 18, 80, 46, 0, 3, 63, 80.0], [41.0, 27, 116, 15, 0, 1, 69, 41.0], [43.0, 78, 9, 13, 0, 0, 48, 43.0], [45.0, 12, 84, 38, 0, 8, 102, 45.0], [23.0, 12, 53, 6, 0, 2, 21, 23.0], [40.0, 22, 48, 9, 0, 0, 34, 40.0], [266.0, 90, 532, 670, 0, 37, 551, 266.0], [93.0, 31, 53, 113, 0, 26, 257, 93.0], [76.0, 17, 52, 24, 0, 15, 201, 76.0], [34.0, 56, 96, 13, 0, 0, 50, 34.0], [73.0, 31, 130, 16, 0, 0, 12, 73.0], [45.0, 69, 84, 4, 0, 0, 0, 45.0], [114.0, 86, 265, 68, 0, 3, 134, 114.0], [29.0, 21, 35, 3, 0, 0, 0, 29.0], [46.0, 50, 8, 13, 0, 1, 18, 46.0], [33.0, 7, 61, 12, 0, 0, 13, 33.0], [84.0, 42, 50, 70, 0, 32, 339, 84.0], [120.0, 11, 143, 53, 0, 14, 295, 120.0], [142.0, 37, 54, 80, 0, 7, 460, 142.0], [54.0, 18, 31, 44, 0, 6, 228, 54.0], [83.0, 35, 166, 24, 0, 6, 483, 83.0], [75.0, 118, 12, 7, 0, 0, 13, 75.0], [48.0, 10, 45, 16, 0, 3, 129, 48.0], [99.0, 31, 132, 51, 0, 9, 271, 99.0], [20.0, 26, 11, 31, 0, 3, 34, 20.0], [91.0, 108, 212, 41, 0, 1, 0, 91.0], [42.0, 12, 28, 25, 0, 12, 44, 42.0], [46.0, 13, 105, 30, 0, 2, 71, 46.0], [29.0, 59, 78, 21, 0, 0, 18, 29.0], [77.0, 23, 93, 43, 0, 7, 99, 77.0], [64.0, 49, 27, 87, 0, 6, 77, 64.0], [71.0, 9, 74, 21, 0, 13, 137, 71.0], [78.0, 143, 63, 200, 0, 2, 118, 78.0], [4.0, 4, 1, 25, 0, 1, 1, 4.0], [38.0, 11, 30, 32, 0, 1, 168, 38.0], [69.0, 18, 30, 33, 9, 5, 245, 69.0], [89.0, 43, 160, 56, 0, 4, 67, 89.0], [45.0, 67, 41, 12, 0, 0, 0, 45.0], [140.0, 46, 188, 61, 0, 6, 97, 140.0], [49.0, 29, 31, 23, 0, 5, 220, 49.0], [18.0, 43, 81, 3, 0, 0, 5, 18.0], [11.0, 23, 6, 7, 0, 0, 8, 11.0], [56.0, 21, 89, 36, 0, 13, 218, 56.0], [51.0, 12, 25, 32, 0, 3, 280, 51.0], [18.0, 9, 10, 8, 1, 6, 120, 18.0], [25.0, 11, 34, 13, 0, 2, 9, 25.0], [44.0, 44, 34, 46, 0, 4, 95, 44.0], [180.0, 94, 87, 85, 0, 2, 95, 180.0], [1.0, 0, 2, 18, 0, 2, 2, 1.0], [50.0, 62, 39, 40, 0, 2, 61, 50.0], [61.0, 122, 21, 31, 0, 1, 66, 61.0], [33.0, 11, 12, 22, 4, 8, 114, 33.0], [43.0, 26, 34, 25, 0, 3, 323, 43.0], [34.0, 31, 43, 7, 0, 2, 16, 34.0], [91.0, 28, 56, 10, 0, 3, 32, 91.0], [38.0, 59, 96, 18, 0, 0, 17, 38.0], [42.0, 59, 37, 4, 0, 0, 0, 42.0], [1.0, 1, 0, 0, 0, 0, 0, 1.0], [51.0, 9, 41, 72, 0, 4, 130, 51.0], [29.0, 20, 20, 101, 0, 2, 16, 29.0], [35.0, 26, 105, 17, 0, 1, 51, 35.0], [70.0, 40, 152, 44, 0, 7, 332, 70.0], [118.0, 26, 76, 9, 0, 4, 114, 118.0], [198.0, 75, 158, 86, 0, 14, 28, 198.0], [34.0, 10, 72, 51, 0, 38, 55, 34.0], [23.0, 12, 10, 15, 0, 5, 115, 23.0], [51.0, 50, 32, 18, 0, 0, 15, 51.0], [78.0, 44, 207, 46, 0, 9, 812, 78.0], [51.0, 23, 28, 40, 0, 0, 35, 51.0], [30.0, 14, 101, 18, 0, 0, 14, 30.0], [42.0, 17, 23, 50, 0, 3, 298, 42.0], [35.0, 18, 67, 12, 0, 2, 48, 35.0], [62.0, 70, 31, 26, 0, 3, 34, 62.0], [61.0, 81, 49, 14, 0, 4, 24, 61.0], [50.0, 25, 98, 21, 0, 1, 92, 50.0], [18.0, 6, 54, 77, 0, 2, 94, 18.0], [27.0, 5, 13, 4, 0, 0, 147, 27.0], [50.0, 32, 79, 13, 0, 1, 0, 50.0], [50.0, 30, 18, 54, 0, 51, 173, 50.0], [74.0, 16, 97, 60, 0, 1, 81, 74.0], [32.0, 40, 6, 2, 0, 0, 10, 32.0], [26.0, 32, 67, 16, 0, 0, 9, 26.0], [70.0, 71, 54, 16, 0, 1, 31, 70.0], [9.0, 28, 6, 25, 0, 5, 393, 9.0], [21.0, 59, 10, 36, 0, 5, 470, 21.0], [40.0, 8, 30, 44, 0, 1, 32, 40.0], [73.0, 22, 110, 37, 0, 9, 108, 73.0], [59.0, 9, 71, 33, 0, 3, 14, 59.0], [45.0, 29, 143, 33, 0, 0, 66, 45.0], [68.0, 14, 106, 15, 0, 4, 30, 68.0], [79.0, 35, 118, 17, 0, 6, 48, 79.0], [100.0, 32, 193, 85, 0, 3, 138, 100.0], [22.0, 3, 14, 40, 0, 8, 23, 22.0], [4.0, 4, 8, 2, 0, 0, 5, 4.0], [2.0, 1, 1, 0, 0, 0, 0, 2.0], [24.0, 6, 12, 5, 0, 0, 110, 24.0], [57.0, 18, 9, 3, 0, 4, 21, 57.0], [23.0, 20, 29, 26, 0, 6, 52, 23.0], [51.0, 77, 79, 3, 0, 0, 0, 51.0], [89.0, 19, 158, 202, 0, 7, 150, 89.0], [153.0, 35, 154, 46, 0, 39, 397, 153.0], [146.0, 31, 255, 106, 0, 6, 76, 146.0], [47.0, 9, 61, 28, 0, 3, 64, 47.0], [39.0, 23, 125, 31, 0, 0, 111, 39.0], [41.0, 38, 10, 19, 0, 6, 40, 41.0], [103.0, 20, 135, 17, 0, 13, 339, 103.0], [98.0, 52, 232, 69, 0, 14, 236, 98.0], [82.0, 29, 53, 63, 0, 12, 362, 82.0], [44.0, 60, 28, 26, 0, 4, 36, 44.0], [7.0, 1, 1, 3, 0, 1, 1, 7.0], [96.0, 23, 63, 6, 0, 0, 31, 96.0], [56.0, 24, 42, 29, 0, 2, 11, 56.0], [96.0, 85, 83, 199, 0, 8, 112, 96.0], [36.0, 25, 46, 17, 0, 5, 19, 36.0], [49.0, 92, 63, 5, 0, 1, 0, 49.0], [14.0, 26, 12, 13, 0, 1, 9, 14.0], [77.0, 30, 135, 12, 0, 0, 43, 77.0], [77.0, 21, 26, 72, 0, 11, 244, 77.0], [53.0, 17, 84, 43, 0, 14, 71, 53.0], [19.0, 12, 18, 10, 0, 1, 251, 19.0], [30.0, 10, 57, 9, 0, 5, 52, 30.0], [25.0, 13, 10, 7, 0, 1, 99, 25.0], [44.0, 69, 34, 17, 0, 0, 17, 44.0], [102.0, 74, 88, 57, 0, 12, 354, 102.0], [22.0, 53, 10, 13, 0, 5, 295, 22.0], [123.0, 173, 54, 275, 0, 4, 82, 123.0], [3.0, 3, 3, 8, 0, 2, 1, 3.0], [60.0, 34, 69, 52, 0, 4, 57, 60.0], [98.0, 127, 51, 99, 0, 0, 60, 98.0], [6.0, 3, 1, 34, 0, 0, 1, 6.0], [21.0, 41, 61, 126, 0, 2, 48, 21.0], [12.0, 37, 64, 37, 0, 1, 12, 12.0], [38.0, 39, 96, 21, 0, 8, 12, 38.0], [17.0, 17, 26, 53, 0, 1, 4, 17.0], [26.0, 38, 69, 40, 0, 1, 3, 26.0], [9.0, 12, 9, 3, 0, 0, 8, 9.0], [46.0, 15, 68, 16, 0, 3, 33, 46.0], [102.0, 45, 43, 81, 0, 38, 241, 102.0], [45.0, 25, 25, 71, 0, 19, 221, 45.0], [23.0, 13, 47, 5, 0, 1, 11, 23.0], [8.0, 1, 2, 8, 0, 3, 4, 8.0], [43.0, 22, 41, 48, 0, 10, 96, 43.0], [79.0, 27, 56, 34, 0, 15, 181, 79.0], [50.0, 15, 115, 53, 0, 1, 49, 50.0], [46.0, 8, 47, 14, 0, 4, 103, 46.0], [20.0, 62, 25, 27, 0, 5, 34, 20.0], [47.0, 81, 91, 10, 0, 0, 29, 47.0], [65.0, 19, 74, 29, 0, 2, 73, 65.0], [36.0, 45, 63, 9, 0, 0, 11, 36.0], [12.0, 20, 15, 16, 0, 0, 0, 12.0], [34.0, 27, 33, 12, 0, 1, 3, 34.0], [15.0, 20, 29, 23, 0, 0, 0, 15.0], [40.0, 15, 63, 18, 0, 7, 117, 40.0], [16.0, 10, 7, 14, 0, 1, 87, 16.0], [76.0, 19, 17, 22, 0, 1, 154, 76.0], [48.0, 12, 86, 8, 0, 0, 26, 48.0], [32.0, 66, 23, 71, 0, 7, 1277, 32.0], [151.0, 55, 318, 142, 0, 13, 137, 151.0], [50.0, 18, 65, 12, 0, 0, 42, 50.0], [53.0, 12, 33, 86, 0, 6, 0, 53.0], [41.0, 44, 104, 19, 0, 0, 8, 41.0], [128.0, 40, 141, 25, 0, 4, 112, 128.0], [26.0, 4, 49, 30, 0, 1, 28, 26.0], [14.0, 89, 17, 36, 0, 6, 590, 14.0], [91.0, 73, 137, 32, 0, 13, 229, 91.0], [13.0, 0, 8, 4, 0, 3, 1, 13.0], [36.0, 58, 18, 24, 0, 1, 26, 36.0], [44.0, 11, 54, 13, 0, 1, 22, 44.0], [65.0, 18, 53, 19, 0, 7, 151, 65.0], [130.0, 78, 73, 14, 0, 5, 150, 130.0], [27.0, 66, 8, 10, 0, 0, 20, 27.0], [51.0, 67, 20, 14, 0, 1, 42, 51.0], [24.0, 18, 62, 11, 0, 10, 43, 24.0], [89.0, 34, 182, 23, 0, 2, 42, 89.0], [39.0, 32, 72, 6, 0, 8, 174, 39.0], [29.0, 12, 5, 3, 0, 3, 33, 29.0], [46.0, 18, 20, 20, 0, 4, 239, 46.0], [63.0, 48, 45, 62, 0, 11, 427, 63.0], [21.0, 46, 21, 62, 0, 3, 293, 21.0], [30.0, 49, 14, 30, 0, 2, 469, 30.0], [24.0, 7, 27, 14, 0, 2, 134, 24.0], [28.0, 45, 82, 27, 0, 0, 0, 28.0], [20.0, 42, 49, 8, 0, 0, 3, 20.0], [20.0, 55, 19, 26, 0, 2, 483, 20.0], [7.0, 36, 5, 65, 0, 2, 353, 7.0], [9.0, 42, 16, 31, 0, 3, 1102, 9.0], [78.0, 67, 67, 9, 0, 2, 26, 78.0], [63.0, 14, 45, 57, 0, 2, 160, 63.0], [111.0, 22, 58, 18, 0, 3, 71, 111.0], [36.0, 30, 98, 10, 0, 1, 101, 36.0], [19.0, 17, 25, 18, 0, 3, 24, 19.0], [24.0, 8, 18, 6, 0, 2, 50, 24.0], [40.0, 13, 39, 13, 0, 7, 141, 40.0], [23.0, 14, 25, 11, 0, 0, 16, 23.0], [67.0, 21, 32, 39, 0, 21, 240, 67.0], [141.0, 48, 315, 63, 0, 8, 195, 141.0], [56.0, 31, 77, 37, 0, 10, 314, 56.0], [77.0, 31, 191, 20, 0, 19, 454, 77.0], [76.0, 30, 83, 121, 0, 7, 196, 76.0], [31.0, 11, 65, 79, 0, 2, 26, 31.0], [182.0, 56, 76, 16, 0, 3, 58, 182.0], [30.0, 34, 95, 10, 0, 9, 85, 30.0], [29.0, 16, 48, 12, 0, 0, 24, 29.0], [81.0, 15, 139, 56, 0, 7, 78, 81.0], [16.0, 97, 10, 33, 0, 4, 792, 16.0], [25.0, 75, 8, 6, 0, 0, 7, 25.0], [37.0, 49, 34, 20, 1, 2, 25, 37.0], [86.0, 35, 46, 82, 1, 11, 342, 86.0], [28.0, 12, 16, 69, 3, 1, 112, 28.0], [101.0, 41, 155, 73, 0, 12, 143, 101.0], [23.0, 9, 82, 27, 0, 1, 105, 23.0], [113.0, 26, 54, 17, 0, 6, 130, 113.0], [202.0, 54, 287, 264, 0, 16, 284, 202.0], [31.0, 10, 59, 35, 0, 10, 86, 31.0], [27.0, 4, 7, 3, 0, 1, 0, 27.0], [90.0, 36, 162, 95, 0, 14, 97, 90.0], [53.0, 32, 35, 54, 0, 15, 122, 53.0], [124.0, 22, 233, 46, 0, 27, 728, 124.0], [215.0, 232, 212, 1131, 0, 29, 374, 215.0], [8.0, 1, 7, 423, 0, 1, 11, 8.0], [68.0, 9, 65, 28, 0, 8, 140, 68.0], [126.0, 27, 217, 62, 0, 5, 94, 126.0], [198.0, 34, 279, 73, 3, 48, 427, 198.0], [11.0, 2, 1, 10, 0, 3, 12, 11.0], [31.0, 12, 13, 205, 12, 3, 88, 31.0], [78.0, 28, 67, 30, 0, 4, 305, 78.0], [56.0, 10, 42, 18, 0, 2, 59, 56.0], [49.0, 53, 129, 7, 0, 1, 0, 49.0], [88.0, 57, 53, 491, 0, 13, 169, 88.0], [5.0, 1, 2, 67, 0, 4, 12, 5.0], [55.0, 29, 15, 42, 0, 8, 66, 55.0], [114.0, 11, 113, 16, 0, 6, 174, 114.0], [86.0, 52, 89, 20, 0, 9, 115, 86.0], [30.0, 12, 48, 44, 0, 4, 35, 30.0], [81.0, 48, 37, 47, 0, 18, 276, 81.0], [35.0, 19, 10, 17, 0, 14, 93, 35.0], [17.0, 7, 6, 0, 0, 3, 15, 17.0], [46.0, 71, 16, 16, 0, 0, 20, 46.0], [32.0, 20, 18, 163, 0, 14, 94, 32.0], [87.0, 46, 29, 91, 0, 33, 403, 87.0], [47.0, 2, 21, 8, 0, 2, 119, 47.0], [57.0, 36, 19, 417, 0, 6, 124, 57.0], [19.0, 4, 15, 7, 0, 3, 18, 19.0], [82.0, 18, 89, 18, 0, 5, 261, 82.0], [18.0, 25, 12, 22, 0, 0, 35, 18.0], [94.0, 23, 90, 42, 0, 5, 22, 94.0], [14.0, 9, 8, 5, 0, 0, 8, 14.0], [113.0, 35, 38, 15, 0, 4, 66, 113.0], [54.0, 38, 31, 23, 0, 16, 233, 54.0], [32.0, 68, 13, 30, 0, 6, 706, 32.0], [44.0, 49, 118, 48, 0, 23, 79, 44.0], [56.0, 61, 107, 28, 0, 2, 0, 56.0], [54.0, 5, 74, 20, 0, 25, 52, 54.0], [56.0, 15, 65, 38, 0, 1, 49, 56.0], [30.0, 34, 8, 11, 0, 0, 1, 30.0], [34.0, 28, 31, 65, 0, 25, 160, 34.0], [18.0, 7, 31, 21, 0, 11, 51, 18.0], [28.0, 32, 17, 18, 0, 1, 411, 28.0], [356.0, 49, 376, 119, 0, 38, 522, 356.0], [11.0, 2, 8, 9, 0, 6, 11, 11.0], [11.0, 3, 31, 13, 0, 1, 34, 11.0], [47.0, 10, 65, 7, 0, 7, 6, 47.0], [18.0, 10, 8, 8, 0, 1, 7, 18.0], [55.0, 7, 64, 41, 0, 1, 56, 55.0], [108.0, 37, 84, 27, 0, 2, 41, 108.0], [29.0, 137, 80, 7, 0, 0, 25, 29.0], [57.0, 36, 116, 43, 0, 2, 151, 57.0], [31.0, 6, 33, 18, 0, 1, 55, 31.0], [110.0, 85, 109, 731, 0, 35, 532, 110.0], [4.0, 2, 1, 23, 0, 7, 5, 4.0], [163.0, 92, 71, 258, 0, 46, 512, 163.0], [97.0, 39, 142, 17, 1, 16, 175, 97.0], [37.0, 36, 96, 14, 0, 1, 45, 37.0], [42.0, 19, 34, 10, 0, 2, 243, 42.0], [40.0, 21, 8, 42, 0, 17, 143, 40.0], [19.0, 2, 4, 47, 0, 1, 6, 19.0], [0.0, 0, 4, 3, 0, 0, 5, 0.0], [54.0, 92, 21, 20, 0, 1, 24, 54.0], [23.0, 13, 9, 7, 0, 0, 0, 23.0], [36.0, 90, 52, 26, 0, 2, 61, 36.0], [41.0, 11, 66, 43, 0, 14, 74, 41.0], [48.0, 20, 62, 19, 0, 4, 68, 48.0], [26.0, 14, 62, 19, 0, 0, 20, 26.0], [44.0, 18, 83, 11, 0, 1, 25, 44.0], [77.0, 16, 60, 127, 0, 16, 264, 77.0], [54.0, 9, 40, 45, 0, 4, 99, 54.0], [51.0, 26, 100, 48, 0, 5, 60, 51.0], [72.0, 27, 22, 11, 0, 5, 22, 72.0], [37.0, 72, 28, 26, 0, 1, 27, 37.0], [10.0, 11, 4, 35, 0, 9, 89, 10.0], [54.0, 92, 44, 44, 0, 8, 35, 54.0], [132.0, 26, 130, 34, 0, 23, 222, 132.0], [83.0, 125, 63, 64, 0, 1, 81, 83.0], [70.0, 18, 101, 34, 0, 1, 68, 70.0], [53.0, 16, 95, 35, 0, 1, 251, 53.0], [60.0, 36, 79, 26, 0, 0, 133, 60.0], [16.0, 15, 23, 39, 0, 4, 32, 16.0], [99.0, 24, 131, 38, 0, 7, 320, 99.0], [47.0, 33, 35, 34, 0, 12, 202, 47.0], [16.0, 18, 50, 9, 0, 0, 17, 16.0], [128.0, 23, 178, 37, 0, 17, 370, 128.0], [65.0, 43, 36, 208, 0, 51, 294, 65.0], [72.0, 89, 29, 40, 0, 5, 31, 72.0], [24.0, 19, 95, 5, 0, 0, 0, 24.0], [4.0, 2, 0, 3, 0, 0, 0, 4.0], [38.0, 65, 10, 7, 0, 0, 19, 38.0], [44.0, 81, 27, 33, 0, 2, 31, 44.0], [77.0, 27, 130, 17, 0, 3, 29, 77.0], [39.0, 67, 18, 18, 0, 4, 42, 39.0], [30.0, 10, 39, 8, 0, 6, 65, 30.0], [20.0, 2, 32, 6, 0, 5, 51, 20.0], [8.0, 17, 4, 18, 0, 0, 28, 8.0], [50.0, 14, 32, 57, 0, 6, 276, 50.0], [61.0, 104, 29, 39, 0, 7, 83, 61.0], [24.0, 22, 42, 5, 0, 18, 7, 24.0], [27.0, 22, 48, 3, 0, 2, 15, 27.0], [31.0, 48, 40, 7, 0, 0, 9, 31.0], [23.0, 69, 14, 21, 1, 0, 27, 23.0], [51.0, 55, 96, 4, 0, 0, 11, 51.0], [8.0, 9, 8, 12, 0, 4, 49, 8.0], [36.0, 32, 36, 9, 0, 2, 28, 36.0], [29.0, 29, 69, 10, 0, 0, 26, 29.0], [97.0, 20, 167, 41, 0, 27, 170, 97.0], [96.0, 49, 241, 32, 0, 3, 69, 96.0], [47.0, 11, 43, 34, 0, 4, 75, 47.0], [112.0, 20, 193, 33, 0, 8, 379, 112.0], [18.0, 25, 24, 98, 0, 23, 132, 18.0], [92.0, 67, 38, 60, 0, 15, 365, 92.0], [25.0, 21, 31, 8, 0, 1, 2, 25.0], [35.0, 39, 18, 9, 0, 1, 9, 35.0], [10.0, 4, 18, 2, 0, 0, 6, 10.0], [44.0, 26, 67, 33, 0, 7, 90, 44.0], [31.0, 20, 118, 14, 0, 8, 316, 31.0], [98.0, 40, 91, 68, 0, 6, 65, 98.0], [55.0, 13, 33, 18, 0, 14, 50, 55.0], [40.0, 19, 51, 18, 0, 4, 78, 40.0], [11.0, 5, 3, 4, 0, 1, 10, 11.0], [110.0, 107, 124, 757, 0, 23, 280, 110.0], [146.0, 63, 64, 389, 0, 48, 394, 146.0], [62.0, 14, 57, 100, 0, 4, 176, 62.0], [39.0, 22, 45, 48, 0, 3, 83, 39.0], [88.0, 44, 52, 103, 0, 1, 4, 88.0], [19.0, 3, 7, 38, 0, 0, 0, 19.0], [40.0, 18, 14, 24, 0, 1, 105, 40.0], [52.0, 21, 62, 19, 0, 2, 148, 52.0], [33.0, 11, 34, 20, 0, 1, 20, 33.0], [85.0, 26, 41, 78, 0, 3, 0, 85.0], [9.0, 35, 13, 28, 0, 1, 443, 9.0], [18.0, 46, 12, 40, 0, 6, 588, 18.0], [43.0, 61, 13, 24, 4, 0, 48, 43.0], [37.0, 12, 25, 13, 0, 0, 22, 37.0], [63.0, 8, 51, 131, 0, 6, 67, 63.0], [21.0, 19, 69, 3, 0, 0, 36, 21.0], [2.0, 0, 1, 3, 0, 0, 2, 2.0], [44.0, 14, 29, 46, 0, 0, 34, 44.0], [26.0, 7, 22, 56, 0, 0, 7, 26.0], [14.0, 41, 23, 101, 0, 4, 629, 14.0], [42.0, 97, 18, 48, 0, 8, 826, 42.0], [91.0, 33, 38, 94, 0, 8, 375, 91.0], [76.0, 149, 190, 59, 0, 1, 171, 76.0], [14.0, 5, 12, 36, 0, 5, 119, 14.0], [55.0, 73, 36, 73, 0, 4, 83, 55.0], [12.0, 22, 4, 7, 0, 1, 10, 12.0], [60.0, 41, 182, 14, 0, 1, 46, 60.0], [33.0, 7, 11, 21, 0, 0, 112, 33.0], [29.0, 11, 67, 112, 0, 9, 92, 29.0], [74.0, 15, 73, 18, 0, 11, 55, 74.0], [122.0, 20, 223, 80, 0, 14, 432, 122.0], [21.0, 12, 25, 20, 0, 4, 26, 21.0], [59.0, 21, 99, 28, 0, 0, 96, 59.0], [76.0, 24, 76, 40, 0, 6, 9, 76.0], [58.0, 94, 25, 24, 0, 2, 56, 58.0], [42.0, 47, 66, 60, 0, 1, 16, 42.0], [7.0, 0, 3, 4, 0, 3, 0, 7.0], [100.0, 78, 202, 51, 0, 7, 486, 100.0], [62.0, 23, 39, 51, 0, 3, 80, 62.0], [67.0, 27, 22, 3, 0, 0, 52, 67.0], [44.0, 50, 27, 27, 0, 14, 12, 44.0], [44.0, 44, 21, 4, 0, 2, 1, 44.0], [3.0, 1, 2, 8, 0, 0, 7, 3.0], [5.0, 0, 3, 5, 0, 4, 1, 5.0], [75.0, 56, 66, 22, 0, 3, 173, 75.0], [41.0, 30, 41, 14, 0, 2, 70, 41.0], [30.0, 40, 26, 63, 0, 7, 82, 30.0], [40.0, 31, 29, 35, 0, 4, 124, 40.0], [10.0, 36, 12, 13, 0, 0, 260, 10.0], [91.0, 130, 86, 52, 0, 4, 11, 91.0], [26.0, 9, 22, 5, 0, 1, 179, 26.0], [71.0, 64, 65, 94, 0, 10, 165, 71.0], [101.85730981394335, \"(?)\", \"(?)\", \"(?)\", 0, \"(?)\", \"(?)\", 101.85730981394335], [121.22847067810714, \"(?)\", \"(?)\", \"(?)\", \"(?)\", \"(?)\", \"(?)\", 121.22847067810714], [48.357352003135546, \"(?)\", \"(?)\", \"(?)\", 0, \"(?)\", \"(?)\", 48.357352003135546], [104.80682878056425, \"(?)\", \"(?)\", \"(?)\", \"(?)\", \"(?)\", \"(?)\", 104.80682878056425], [19.91201907050173, \"(?)\", \"(?)\", \"(?)\", 0, \"(?)\", \"(?)\", 19.91201907050173], [61.589969818685184, \"(?)\", \"(?)\", \"(?)\", \"(?)\", \"(?)\", \"(?)\", 61.589969818685184], [96.14686235816478, \"(?)\", \"(?)\", \"(?)\", 0, \"(?)\", \"(?)\", 96.14686235816478], [43.681540585441184, \"(?)\", \"(?)\", \"(?)\", 0, \"(?)\", \"(?)\", 43.681540585441184], [69.36780330616439, \"(?)\", \"(?)\", \"(?)\", 0, \"(?)\", \"(?)\", 69.36780330616439], [92.29616392300586, \"(?)\", \"(?)\", \"(?)\", 0, \"(?)\", \"(?)\", 92.29616392300586]], \"domain\": {\"x\": [0.0, 1.0], \"y\": [0.0, 1.0]}, \"hovertemplate\": \"<b>%{hovertext}</b><br><br>labels=%{label}<br>TOTAL IPC CRIMES=%{value}<br>parent=%{parent}<br>id=%{id}<br>MURDER=%{color}<br>RAPE=%{customdata[1]}<br>KIDNAPPING & ABDUCTION=%{customdata[2]}<br>ROBBERY=%{customdata[3]}<br>IMPORTATION OF GIRLS FROM FOREIGN COUNTRIES=%{customdata[4]}<br>DACOITY=%{customdata[5]}<br>RIOTS=%{customdata[6]}<extra></extra>\", \"hovertext\": [\"ADILABAD\", \"AGRA\", \"AHMEDABAD COMMR.\", \"AHMEDABAD RURAL\", \"AHMEDNAGAR\", \"AHWA-DANG\", \"AJMER\", \"AKOLA\", \"ALAPUZHA\", \"ALIGARH\", \"ALIRAJPUR\", \"ALLAHABAD\", \"ALWAR\", \"AMBEDKAR NAGAR\", \"AMRAVATI COMMR.\", \"AMRAVATI RURAL\", \"AMRELI\", \"ANAND\", \"ANANTAPUR\", \"ANUPPUR\", \"ARARIA\", \"ARIYALUR\", \"ARWAL\", \"ASHOK NAGAR\", \"AURAIYA\", \"AURANGABAD\", \"AURANGABAD COMMR.\", \"AURANGABAD RURAL\", \"AZAMGARH\", \"BADAUN\", \"BAGAHA\", \"BAGALKOT\", \"BAGHPAT\", \"BAHRAICH\", \"BALAGHAT\", \"BALLIA\", \"BALRAMPUR\", \"BANDA\", \"BANGALORE COMMR.\", \"BANGALORE RURAL\", \"BANKA\", \"BANSWARA\", \"BARABANKI\", \"BARAN\", \"BAREILLY\", \"BARMER\", \"BARWANI\", \"BASTI\", \"BEED\", \"BEGUSARAI\", \"BELGAUM\", \"BELLARY\", \"BETTIAH\", \"BETUL\", \"BHABHUA\", \"BHAGALPUR\", \"BHANDARA\", \"BHARATPUR\", \"BHARUCH\", \"BHAVNAGAR\", \"BHILWARA\", \"BHIM NAGAR\", \"BHIND\", \"BHOJPUR\", \"BHOPAL\", \"BHOPAL RLY.\", \"BIDAR\", \"BIJAPUR\", \"BIJNOR\", \"BIKANER\", \"BULANDSHAHAR\", \"BULDHANA\", \"BUNDI\", \"BURHANPUR\", \"BUXAR\", \"CBPURA\", \"CHAMARAJNAGAR\", \"CHANDOLI\", \"CHANDRAPUR\", \"CHENNAI\", \"CHENNAI RLY.\", \"CHHATARPUR\", \"CHHINDWARA\", \"CHICKMAGALUR\", \"CHITRADURGA\", \"CHITRAKOOT DHAM\", \"CHITTOOR\", \"CHITTORGARH\", \"CHURU\", \"CID CRIME\", \"COIMBATORE RURAL\", \"COIMBATORE URBAN\", \"CSM NAGAR\", \"CUDDALORE\", \"CUDDAPAH\", \"CYBERABAD\", \"DAHOD\", \"DAKSHIN KANNADA\", \"DAMOH\", \"DARBHANGA\", \"DATIYA\", \"DAUSA\", \"DAVANAGERE\", \"DEORIA\", \"DEWAS\", \"DHAR\", \"DHARMAPURI\", \"DHARWAD COMMR.\", \"DHARWAD RURAL\", \"DHOLPUR\", \"DHULE\", \"DINDIGUL\", \"DINDORI\", \"DUNGARPUR\", \"EAST GODAVARI\", \"ERNAKULAM COMMR.\", \"ERNAKULAM RURAL\", \"ERODE\", \"ETAH\", \"ETAWAH\", \"FAIZABAD\", \"FATEHGARH\", \"FATEHPUR\", \"FIROZABAD\", \"G.R.P.\", \"G.R.P.AJMER\", \"G.R.P.JODHPUR\", \"GADAG\", \"GADCHIROLI\", \"GANDHINAGAR\", \"GANGANAGAR\", \"GAUTAMBUDH NAGAR\", \"GAYA\", \"GHAZIABAD\", \"GHAZIPUR\", \"GONDA\", \"GONDIA\", \"GOPALGANJ\", \"GORAKHPUR\", \"GULBARGA\", \"GUNA\", \"GUNTAKAL RLY.\", \"GUNTUR\", \"GUNTUR URBAN\", \"GWALIOR\", \"HAMIRPUR\", \"HANUMANGARH\", \"HARDA\", \"HARDOI\", \"HASSAN\", \"HATHRAS\", \"HAVERI\", \"HIMATNAGAR\", \"HINGOLI\", \"HOSHANGABAD\", \"HYDERABAD CITY\", \"IDUKKI\", \"INDORE\", \"INDORE RLY.\", \"J.P.NAGAR\", \"JABALPUR\", \"JABALPUR RLY.\", \"JAIPUR EAST\", \"JAIPUR NORTH\", \"JAIPUR RURAL\", \"JAIPUR SOUTH\", \"JAIPUR WEST\", \"JAISALMER\", \"JALAUN\", \"JALGAON\", \"JALNA\", \"JALORE\", \"JAMALPUR RLY.\", \"JAMNAGAR\", \"JAMUI\", \"JAUNPUR\", \"JEHANABAD\", \"JHABUA\", \"JHALAWAR\", \"JHANSI\", \"JHUNJHUNU\", \"JODHPUR EAST\", \"JODHPUR RURAL\", \"JODHPUR WEST\", \"JUNAGADH\", \"K.G.F.\", \"KANCHIPURAM\", \"KANNAUJ\", \"KANNUR\", \"KANPUR NAGAR\", \"KANSHIRAM NAGAR\", \"KANYAKUMARI\", \"KARAULI\", \"KARIMNAGAR\", \"KARUR\", \"KASARGOD\", \"KATIHAR\", \"KATIHAR RLY.\", \"KATNI\", \"KAUSHAMBI\", \"KHAGARIA\", \"KHAMMAM\", \"KHANDWA\", \"KHARGON\", \"KHEDA NORTH\", \"KHIRI\", \"KISHANGANJ\", \"KODAGU\", \"KOLAR\", \"KOLHAPUR\", \"KOLLAM COMMR.\", \"KOLLAM RURAL\", \"KOPPAL\", \"KOTA CITY\", \"KOTA RURAL\", \"KOTTAYAM\", \"KOZHIKODE COMMR.\", \"KOZHIKODE RURAL\", \"KRISHNA\", \"KRISHNAGIRI\", \"KURNOOL\", \"KUSHI NAGAR\", \"KUTCH (EAST(G))\", \"KUTCH (WEST-BHUJ)\", \"LAKHISARAI\", \"LALITPUR\", \"LATUR\", \"LUCKNOW\", \"MADHEPURA\", \"MADHUBANI\", \"MADURAI RURAL\", \"MADURAI URBAN\", \"MAHABOOBNAGAR\", \"MAHARAJGANJ\", \"MAHOBA\", \"MAINPURI\", \"MALAPPURAM\", \"MANDLA\", \"MANDSAUR\", \"MANDYA\", \"MANGALORE CITY\", \"MATHURA\", \"MAU\", \"MEDAK\", \"MEERUT\", \"MEHSANA\", \"MIRZAPUR\", \"MORADABAD\", \"MORENA\", \"MOTIHARI\", \"MUMBAI COMMR.\", \"MUMBAI RLY.\", \"MUNGER\", \"MUZAFFARNAGAR\", \"MUZAFFARPUR\", \"MUZAFFARPUR RLY.\", \"MYSORE COMMR.\", \"MYSORE RURAL\", \"NAGAPATTINAM\", \"NAGAUR\", \"NAGPUR COMMR.\", \"NAGPUR RLY.\", \"NAGPUR RURAL\", \"NALANDA\", \"NALGONDA\", \"NAMAKKAL\", \"NANDED\", \"NANDURBAR\", \"NARMADA\", \"NARSINGHPUR\", \"NASIK COMMR.\", \"NASIK RURAL\", \"NAUGACHIA\", \"NAVI MUMBAI\", \"NAVSARI\", \"NAWADAH\", \"NEEMUCH\", \"NELLORE\", \"NILGIRIS\", \"NIZAMABAD\", \"OSMANABAD\", \"PALAKKAD\", \"PALANPUR\", \"PALI\", \"PANCHMAHAL\", \"PANCHSHIL NAGAR\", \"PANNA\", \"PARBHANI\", \"PATAN\", \"PATHANAMTHITTA\", \"PATNA\", \"PATNA RLY.\", \"PERAMBALUR\", \"PILIBHIT\", \"PORBANDAR\", \"PRABUDDH NAGAR\", \"PRAKASHAM\", \"PRATAPGARH\", \"PRATAPGARH\", \"PUDUKOTTAI\", \"PUNE COMMR.\", \"PUNE RLY.\", \"PUNE RURAL\", \"PURNEA\", \"RAIBAREILLY\", \"RAICHUR\", \"RAIGAD\", \"RAILWAYS\", \"RAILWAYS\", \"RAISEN\", \"RAJAHMUNDRY\", \"RAJGARH\", \"RAJKOT COMMR.\", \"RAJKOT RURAL\", \"RAJSAMAND\", \"RAMABAI NAGAR\", \"RAMANAGAR\", \"RAMNATHAPURAM\", \"RAMPUR\", \"RANGA REDDY\", \"RATLAM\", \"RATNAGIRI\", \"REWA\", \"ROHTAS\", \"SAGAR\", \"SAHARANPUR\", \"SAHARSA\", \"SALEM RURAL\", \"SALEM URBAN\", \"SAMASTIPUR\", \"SANGLI\", \"SANT KABIRNAGAR\", \"SARAN\", \"SATARA\", \"SATNA\", \"SAWAI MADHOPUR\", \"SECUNDERABAD RLY.\", \"SEONI\", \"SHAHDOL\", \"SHAHJAHANPUR\", \"SHAJAPUR\", \"SHEIKHPURA\", \"SHEOHAR\", \"SHEOPUR\", \"SHIMOGA\", \"SHIVPURI\", \"SHRAWASTI\", \"SIDHARTHNAGAR\", \"SIDHI\", \"SIHORE\", \"SIKAR\", \"SINDHUDURG\", \"SINGRAULI\", \"SIROHI\", \"SITAMARHI\", \"SITAPUR\", \"SIVAGANGAI\", \"SIWAN\", \"SOLAPUR COMMR.\", \"SOLAPUR RURAL\", \"SONBHADRA\", \"SRIKAKULAM\", \"ST.RAVIDASNAGAR\", \"SULTANPUR\", \"SUPAUL\", \"SURAT COMMR.\", \"SURAT RURAL\", \"SURENDRANAGAR\", \"TAPI\", \"THANE COMMR.\", \"THANE RURAL\", \"THANJAVUR\", \"THENI\", \"THIRUNELVELI RURAL\", \"THIRUNELVELI URBAN\", \"THIRUVALLUR\", \"THIRUVANNAMALAI\", \"THIRUVARUR\", \"THOOTHUGUDI\", \"THRISSUR COMMR.\", \"THRISSUR RURAL\", \"TIKAMGARH\", \"TIRUPATHI URBAN\", \"TIRUPPUR\", \"TONK\", \"TRICHY RLY.\", \"TRICHY RURAL\", \"TRICHY URBAN\", \"TRIVANDRUM COMMR.\", \"TRIVANDRUM RURAL\", \"TUMKUR\", \"UDAIPUR\", \"UDUPI\", \"UJJAIN\", \"UMARIYA\", \"UNNAO\", \"UTTAR KANNADA\", \"VADODARA COMMR.\", \"VADODARA RURAL\", \"VAISHALI\", \"VALSAD\", \"VARANASI\", \"VELLORE\", \"VIDISHA\", \"VIJAYAWADA CITY\", \"VIJAYAWADA RLY.\", \"VILLUPURAM\", \"VIRUDHUNAGAR\", \"VISAKHA RURAL\", \"VISAKHAPATNAM\", \"VIZIANAGARAM\", \"W.RLY AHMEDABAD\", \"W.RLY VADODARA\", \"WARANGAL\", \"WARANGAL URBAN\", \"WARDHA\", \"WASHIM\", \"WAYANADU\", \"WEST GODAVARI\", \"YADGIRI\", \"YAVATMAL\", \"(?)\", \"(?)\", \"(?)\", \"(?)\", \"(?)\", \"(?)\", \"(?)\", \"(?)\", \"(?)\", \"(?)\"], \"ids\": [\"ANDHRA PRADESH/ADILABAD\", \"UTTAR PRADESH/AGRA\", \"GUJARAT/AHMEDABAD COMMR.\", \"GUJARAT/AHMEDABAD RURAL\", \"MAHARASHTRA/AHMEDNAGAR\", \"GUJARAT/AHWA-DANG\", \"RAJASTHAN/AJMER\", \"MAHARASHTRA/AKOLA\", \"KERALA/ALAPUZHA\", \"UTTAR PRADESH/ALIGARH\", \"MADHYA PRADESH/ALIRAJPUR\", \"UTTAR PRADESH/ALLAHABAD\", \"RAJASTHAN/ALWAR\", \"UTTAR PRADESH/AMBEDKAR NAGAR\", \"MAHARASHTRA/AMRAVATI COMMR.\", \"MAHARASHTRA/AMRAVATI RURAL\", \"GUJARAT/AMRELI\", \"GUJARAT/ANAND\", \"ANDHRA PRADESH/ANANTAPUR\", \"MADHYA PRADESH/ANUPPUR\", \"BIHAR/ARARIA\", \"TAMIL NADU/ARIYALUR\", \"BIHAR/ARWAL\", \"MADHYA PRADESH/ASHOK NAGAR\", \"UTTAR PRADESH/AURAIYA\", \"BIHAR/AURANGABAD\", \"MAHARASHTRA/AURANGABAD COMMR.\", \"MAHARASHTRA/AURANGABAD RURAL\", \"UTTAR PRADESH/AZAMGARH\", \"UTTAR PRADESH/BADAUN\", \"BIHAR/BAGAHA\", \"KARNATAKA/BAGALKOT\", \"UTTAR PRADESH/BAGHPAT\", \"UTTAR PRADESH/BAHRAICH\", \"MADHYA PRADESH/BALAGHAT\", \"UTTAR PRADESH/BALLIA\", \"UTTAR PRADESH/BALRAMPUR\", \"UTTAR PRADESH/BANDA\", \"KARNATAKA/BANGALORE COMMR.\", \"KARNATAKA/BANGALORE RURAL\", \"BIHAR/BANKA\", \"RAJASTHAN/BANSWARA\", \"UTTAR PRADESH/BARABANKI\", \"RAJASTHAN/BARAN\", \"UTTAR PRADESH/BAREILLY\", \"RAJASTHAN/BARMER\", \"MADHYA PRADESH/BARWANI\", \"UTTAR PRADESH/BASTI\", \"MAHARASHTRA/BEED\", \"BIHAR/BEGUSARAI\", \"KARNATAKA/BELGAUM\", \"KARNATAKA/BELLARY\", \"BIHAR/BETTIAH\", \"MADHYA PRADESH/BETUL\", \"BIHAR/BHABHUA\", \"BIHAR/BHAGALPUR\", \"MAHARASHTRA/BHANDARA\", \"RAJASTHAN/BHARATPUR\", \"GUJARAT/BHARUCH\", \"GUJARAT/BHAVNAGAR\", \"RAJASTHAN/BHILWARA\", \"UTTAR PRADESH/BHIM NAGAR\", \"MADHYA PRADESH/BHIND\", \"BIHAR/BHOJPUR\", \"MADHYA PRADESH/BHOPAL\", \"MADHYA PRADESH/BHOPAL RLY.\", \"KARNATAKA/BIDAR\", \"KARNATAKA/BIJAPUR\", \"UTTAR PRADESH/BIJNOR\", \"RAJASTHAN/BIKANER\", \"UTTAR PRADESH/BULANDSHAHAR\", \"MAHARASHTRA/BULDHANA\", \"RAJASTHAN/BUNDI\", \"MADHYA PRADESH/BURHANPUR\", \"BIHAR/BUXAR\", \"KARNATAKA/CBPURA\", \"KARNATAKA/CHAMARAJNAGAR\", \"UTTAR PRADESH/CHANDOLI\", \"MAHARASHTRA/CHANDRAPUR\", \"TAMIL NADU/CHENNAI\", \"TAMIL NADU/CHENNAI RLY.\", \"MADHYA PRADESH/CHHATARPUR\", \"MADHYA PRADESH/CHHINDWARA\", \"KARNATAKA/CHICKMAGALUR\", \"KARNATAKA/CHITRADURGA\", \"UTTAR PRADESH/CHITRAKOOT DHAM\", \"ANDHRA PRADESH/CHITTOOR\", \"RAJASTHAN/CHITTORGARH\", \"RAJASTHAN/CHURU\", \"GUJARAT/CID CRIME\", \"TAMIL NADU/COIMBATORE RURAL\", \"TAMIL NADU/COIMBATORE URBAN\", \"UTTAR PRADESH/CSM NAGAR\", \"TAMIL NADU/CUDDALORE\", \"ANDHRA PRADESH/CUDDAPAH\", \"ANDHRA PRADESH/CYBERABAD\", \"GUJARAT/DAHOD\", \"KARNATAKA/DAKSHIN KANNADA\", \"MADHYA PRADESH/DAMOH\", \"BIHAR/DARBHANGA\", \"MADHYA PRADESH/DATIYA\", \"RAJASTHAN/DAUSA\", \"KARNATAKA/DAVANAGERE\", \"UTTAR PRADESH/DEORIA\", \"MADHYA PRADESH/DEWAS\", \"MADHYA PRADESH/DHAR\", \"TAMIL NADU/DHARMAPURI\", \"KARNATAKA/DHARWAD COMMR.\", \"KARNATAKA/DHARWAD RURAL\", \"RAJASTHAN/DHOLPUR\", \"MAHARASHTRA/DHULE\", \"TAMIL NADU/DINDIGUL\", \"MADHYA PRADESH/DINDORI\", \"RAJASTHAN/DUNGARPUR\", \"ANDHRA PRADESH/EAST GODAVARI\", \"KERALA/ERNAKULAM COMMR.\", \"KERALA/ERNAKULAM RURAL\", \"TAMIL NADU/ERODE\", \"UTTAR PRADESH/ETAH\", \"UTTAR PRADESH/ETAWAH\", \"UTTAR PRADESH/FAIZABAD\", \"UTTAR PRADESH/FATEHGARH\", \"UTTAR PRADESH/FATEHPUR\", \"UTTAR PRADESH/FIROZABAD\", \"UTTAR PRADESH/G.R.P.\", \"RAJASTHAN/G.R.P.AJMER\", \"RAJASTHAN/G.R.P.JODHPUR\", \"KARNATAKA/GADAG\", \"MAHARASHTRA/GADCHIROLI\", \"GUJARAT/GANDHINAGAR\", \"RAJASTHAN/GANGANAGAR\", \"UTTAR PRADESH/GAUTAMBUDH NAGAR\", \"BIHAR/GAYA\", \"UTTAR PRADESH/GHAZIABAD\", \"UTTAR PRADESH/GHAZIPUR\", \"UTTAR PRADESH/GONDA\", \"MAHARASHTRA/GONDIA\", \"BIHAR/GOPALGANJ\", \"UTTAR PRADESH/GORAKHPUR\", \"KARNATAKA/GULBARGA\", \"MADHYA PRADESH/GUNA\", \"ANDHRA PRADESH/GUNTAKAL RLY.\", \"ANDHRA PRADESH/GUNTUR\", \"ANDHRA PRADESH/GUNTUR URBAN\", \"MADHYA PRADESH/GWALIOR\", \"UTTAR PRADESH/HAMIRPUR\", \"RAJASTHAN/HANUMANGARH\", \"MADHYA PRADESH/HARDA\", \"UTTAR PRADESH/HARDOI\", \"KARNATAKA/HASSAN\", \"UTTAR PRADESH/HATHRAS\", \"KARNATAKA/HAVERI\", \"GUJARAT/HIMATNAGAR\", \"MAHARASHTRA/HINGOLI\", \"MADHYA PRADESH/HOSHANGABAD\", \"ANDHRA PRADESH/HYDERABAD CITY\", \"KERALA/IDUKKI\", \"MADHYA PRADESH/INDORE\", \"MADHYA PRADESH/INDORE RLY.\", \"UTTAR PRADESH/J.P.NAGAR\", \"MADHYA PRADESH/JABALPUR\", \"MADHYA PRADESH/JABALPUR RLY.\", \"RAJASTHAN/JAIPUR EAST\", \"RAJASTHAN/JAIPUR NORTH\", \"RAJASTHAN/JAIPUR RURAL\", \"RAJASTHAN/JAIPUR SOUTH\", \"RAJASTHAN/JAIPUR WEST\", \"RAJASTHAN/JAISALMER\", \"UTTAR PRADESH/JALAUN\", \"MAHARASHTRA/JALGAON\", \"MAHARASHTRA/JALNA\", \"RAJASTHAN/JALORE\", \"BIHAR/JAMALPUR RLY.\", \"GUJARAT/JAMNAGAR\", \"BIHAR/JAMUI\", \"UTTAR PRADESH/JAUNPUR\", \"BIHAR/JEHANABAD\", \"MADHYA PRADESH/JHABUA\", \"RAJASTHAN/JHALAWAR\", \"UTTAR PRADESH/JHANSI\", \"RAJASTHAN/JHUNJHUNU\", \"RAJASTHAN/JODHPUR EAST\", \"RAJASTHAN/JODHPUR RURAL\", \"RAJASTHAN/JODHPUR WEST\", \"GUJARAT/JUNAGADH\", \"KARNATAKA/K.G.F.\", \"TAMIL NADU/KANCHIPURAM\", \"UTTAR PRADESH/KANNAUJ\", \"KERALA/KANNUR\", \"UTTAR PRADESH/KANPUR NAGAR\", \"UTTAR PRADESH/KANSHIRAM NAGAR\", \"TAMIL NADU/KANYAKUMARI\", \"RAJASTHAN/KARAULI\", \"ANDHRA PRADESH/KARIMNAGAR\", \"TAMIL NADU/KARUR\", \"KERALA/KASARGOD\", \"BIHAR/KATIHAR\", \"BIHAR/KATIHAR RLY.\", \"MADHYA PRADESH/KATNI\", \"UTTAR PRADESH/KAUSHAMBI\", \"BIHAR/KHAGARIA\", \"ANDHRA PRADESH/KHAMMAM\", \"MADHYA PRADESH/KHANDWA\", \"MADHYA PRADESH/KHARGON\", \"GUJARAT/KHEDA NORTH\", \"UTTAR PRADESH/KHIRI\", \"BIHAR/KISHANGANJ\", \"KARNATAKA/KODAGU\", \"KARNATAKA/KOLAR\", \"MAHARASHTRA/KOLHAPUR\", \"KERALA/KOLLAM COMMR.\", \"KERALA/KOLLAM RURAL\", \"KARNATAKA/KOPPAL\", \"RAJASTHAN/KOTA CITY\", \"RAJASTHAN/KOTA RURAL\", \"KERALA/KOTTAYAM\", \"KERALA/KOZHIKODE COMMR.\", \"KERALA/KOZHIKODE RURAL\", \"ANDHRA PRADESH/KRISHNA\", \"TAMIL NADU/KRISHNAGIRI\", \"ANDHRA PRADESH/KURNOOL\", \"UTTAR PRADESH/KUSHI NAGAR\", \"GUJARAT/KUTCH (EAST(G))\", \"GUJARAT/KUTCH (WEST-BHUJ)\", \"BIHAR/LAKHISARAI\", \"UTTAR PRADESH/LALITPUR\", \"MAHARASHTRA/LATUR\", \"UTTAR PRADESH/LUCKNOW\", \"BIHAR/MADHEPURA\", \"BIHAR/MADHUBANI\", \"TAMIL NADU/MADURAI RURAL\", \"TAMIL NADU/MADURAI URBAN\", \"ANDHRA PRADESH/MAHABOOBNAGAR\", \"UTTAR PRADESH/MAHARAJGANJ\", \"UTTAR PRADESH/MAHOBA\", \"UTTAR PRADESH/MAINPURI\", \"KERALA/MALAPPURAM\", \"MADHYA PRADESH/MANDLA\", \"MADHYA PRADESH/MANDSAUR\", \"KARNATAKA/MANDYA\", \"KARNATAKA/MANGALORE CITY\", \"UTTAR PRADESH/MATHURA\", \"UTTAR PRADESH/MAU\", \"ANDHRA PRADESH/MEDAK\", \"UTTAR PRADESH/MEERUT\", \"GUJARAT/MEHSANA\", \"UTTAR PRADESH/MIRZAPUR\", \"UTTAR PRADESH/MORADABAD\", \"MADHYA PRADESH/MORENA\", \"BIHAR/MOTIHARI\", \"MAHARASHTRA/MUMBAI COMMR.\", \"MAHARASHTRA/MUMBAI RLY.\", \"BIHAR/MUNGER\", \"UTTAR PRADESH/MUZAFFARNAGAR\", \"BIHAR/MUZAFFARPUR\", \"BIHAR/MUZAFFARPUR RLY.\", \"KARNATAKA/MYSORE COMMR.\", \"KARNATAKA/MYSORE RURAL\", \"TAMIL NADU/NAGAPATTINAM\", \"RAJASTHAN/NAGAUR\", \"MAHARASHTRA/NAGPUR COMMR.\", \"MAHARASHTRA/NAGPUR RLY.\", \"MAHARASHTRA/NAGPUR RURAL\", \"BIHAR/NALANDA\", \"ANDHRA PRADESH/NALGONDA\", \"TAMIL NADU/NAMAKKAL\", \"MAHARASHTRA/NANDED\", \"MAHARASHTRA/NANDURBAR\", \"GUJARAT/NARMADA\", \"MADHYA PRADESH/NARSINGHPUR\", \"MAHARASHTRA/NASIK COMMR.\", \"MAHARASHTRA/NASIK RURAL\", \"BIHAR/NAUGACHIA\", \"MAHARASHTRA/NAVI MUMBAI\", \"GUJARAT/NAVSARI\", \"BIHAR/NAWADAH\", \"MADHYA PRADESH/NEEMUCH\", \"ANDHRA PRADESH/NELLORE\", \"TAMIL NADU/NILGIRIS\", \"ANDHRA PRADESH/NIZAMABAD\", \"MAHARASHTRA/OSMANABAD\", \"KERALA/PALAKKAD\", \"GUJARAT/PALANPUR\", \"RAJASTHAN/PALI\", \"GUJARAT/PANCHMAHAL\", \"UTTAR PRADESH/PANCHSHIL NAGAR\", \"MADHYA PRADESH/PANNA\", \"MAHARASHTRA/PARBHANI\", \"GUJARAT/PATAN\", \"KERALA/PATHANAMTHITTA\", \"BIHAR/PATNA\", \"BIHAR/PATNA RLY.\", \"TAMIL NADU/PERAMBALUR\", \"UTTAR PRADESH/PILIBHIT\", \"GUJARAT/PORBANDAR\", \"UTTAR PRADESH/PRABUDDH NAGAR\", \"ANDHRA PRADESH/PRAKASHAM\", \"RAJASTHAN/PRATAPGARH\", \"UTTAR PRADESH/PRATAPGARH\", \"TAMIL NADU/PUDUKOTTAI\", \"MAHARASHTRA/PUNE COMMR.\", \"MAHARASHTRA/PUNE RLY.\", \"MAHARASHTRA/PUNE RURAL\", \"BIHAR/PURNEA\", \"UTTAR PRADESH/RAIBAREILLY\", \"KARNATAKA/RAICHUR\", \"MAHARASHTRA/RAIGAD\", \"KARNATAKA/RAILWAYS\", \"KERALA/RAILWAYS\", \"MADHYA PRADESH/RAISEN\", \"ANDHRA PRADESH/RAJAHMUNDRY\", \"MADHYA PRADESH/RAJGARH\", \"GUJARAT/RAJKOT COMMR.\", \"GUJARAT/RAJKOT RURAL\", \"RAJASTHAN/RAJSAMAND\", \"UTTAR PRADESH/RAMABAI NAGAR\", \"KARNATAKA/RAMANAGAR\", \"TAMIL NADU/RAMNATHAPURAM\", \"UTTAR PRADESH/RAMPUR\", \"ANDHRA PRADESH/RANGA REDDY\", \"MADHYA PRADESH/RATLAM\", \"MAHARASHTRA/RATNAGIRI\", \"MADHYA PRADESH/REWA\", \"BIHAR/ROHTAS\", \"MADHYA PRADESH/SAGAR\", \"UTTAR PRADESH/SAHARANPUR\", \"BIHAR/SAHARSA\", \"TAMIL NADU/SALEM RURAL\", \"TAMIL NADU/SALEM URBAN\", \"BIHAR/SAMASTIPUR\", \"MAHARASHTRA/SANGLI\", \"UTTAR PRADESH/SANT KABIRNAGAR\", \"BIHAR/SARAN\", \"MAHARASHTRA/SATARA\", \"MADHYA PRADESH/SATNA\", \"RAJASTHAN/SAWAI MADHOPUR\", \"ANDHRA PRADESH/SECUNDERABAD RLY.\", \"MADHYA PRADESH/SEONI\", \"MADHYA PRADESH/SHAHDOL\", \"UTTAR PRADESH/SHAHJAHANPUR\", \"MADHYA PRADESH/SHAJAPUR\", \"BIHAR/SHEIKHPURA\", \"BIHAR/SHEOHAR\", \"MADHYA PRADESH/SHEOPUR\", \"KARNATAKA/SHIMOGA\", \"MADHYA PRADESH/SHIVPURI\", \"UTTAR PRADESH/SHRAWASTI\", \"UTTAR PRADESH/SIDHARTHNAGAR\", \"MADHYA PRADESH/SIDHI\", \"MADHYA PRADESH/SIHORE\", \"RAJASTHAN/SIKAR\", \"MAHARASHTRA/SINDHUDURG\", \"MADHYA PRADESH/SINGRAULI\", \"RAJASTHAN/SIROHI\", \"BIHAR/SITAMARHI\", \"UTTAR PRADESH/SITAPUR\", \"TAMIL NADU/SIVAGANGAI\", \"BIHAR/SIWAN\", \"MAHARASHTRA/SOLAPUR COMMR.\", \"MAHARASHTRA/SOLAPUR RURAL\", \"UTTAR PRADESH/SONBHADRA\", \"ANDHRA PRADESH/SRIKAKULAM\", \"UTTAR PRADESH/ST.RAVIDASNAGAR\", \"UTTAR PRADESH/SULTANPUR\", \"BIHAR/SUPAUL\", \"GUJARAT/SURAT COMMR.\", \"GUJARAT/SURAT RURAL\", \"GUJARAT/SURENDRANAGAR\", \"GUJARAT/TAPI\", \"MAHARASHTRA/THANE COMMR.\", \"MAHARASHTRA/THANE RURAL\", \"TAMIL NADU/THANJAVUR\", \"TAMIL NADU/THENI\", \"TAMIL NADU/THIRUNELVELI RURAL\", \"TAMIL NADU/THIRUNELVELI URBAN\", \"TAMIL NADU/THIRUVALLUR\", \"TAMIL NADU/THIRUVANNAMALAI\", \"TAMIL NADU/THIRUVARUR\", \"TAMIL NADU/THOOTHUGUDI\", \"KERALA/THRISSUR COMMR.\", \"KERALA/THRISSUR RURAL\", \"MADHYA PRADESH/TIKAMGARH\", \"ANDHRA PRADESH/TIRUPATHI URBAN\", \"TAMIL NADU/TIRUPPUR\", \"RAJASTHAN/TONK\", \"TAMIL NADU/TRICHY RLY.\", \"TAMIL NADU/TRICHY RURAL\", \"TAMIL NADU/TRICHY URBAN\", \"KERALA/TRIVANDRUM COMMR.\", \"KERALA/TRIVANDRUM RURAL\", \"KARNATAKA/TUMKUR\", \"RAJASTHAN/UDAIPUR\", \"KARNATAKA/UDUPI\", \"MADHYA PRADESH/UJJAIN\", \"MADHYA PRADESH/UMARIYA\", \"UTTAR PRADESH/UNNAO\", \"KARNATAKA/UTTAR KANNADA\", \"GUJARAT/VADODARA COMMR.\", \"GUJARAT/VADODARA RURAL\", \"BIHAR/VAISHALI\", \"GUJARAT/VALSAD\", \"UTTAR PRADESH/VARANASI\", \"TAMIL NADU/VELLORE\", \"MADHYA PRADESH/VIDISHA\", \"ANDHRA PRADESH/VIJAYAWADA CITY\", \"ANDHRA PRADESH/VIJAYAWADA RLY.\", \"TAMIL NADU/VILLUPURAM\", \"TAMIL NADU/VIRUDHUNAGAR\", \"ANDHRA PRADESH/VISAKHA RURAL\", \"ANDHRA PRADESH/VISAKHAPATNAM\", \"ANDHRA PRADESH/VIZIANAGARAM\", \"GUJARAT/W.RLY AHMEDABAD\", \"GUJARAT/W.RLY VADODARA\", \"ANDHRA PRADESH/WARANGAL\", \"ANDHRA PRADESH/WARANGAL URBAN\", \"MAHARASHTRA/WARDHA\", \"MAHARASHTRA/WASHIM\", \"KERALA/WAYANADU\", \"ANDHRA PRADESH/WEST GODAVARI\", \"KARNATAKA/YADGIRI\", \"MAHARASHTRA/YAVATMAL\", \"ANDHRA PRADESH\", \"BIHAR\", \"GUJARAT\", \"KARNATAKA\", \"KERALA\", \"MADHYA PRADESH\", \"MAHARASHTRA\", \"RAJASTHAN\", \"TAMIL NADU\", \"UTTAR PRADESH\"], \"labels\": [\"ADILABAD\", \"AGRA\", \"AHMEDABAD COMMR.\", \"AHMEDABAD RURAL\", \"AHMEDNAGAR\", \"AHWA-DANG\", \"AJMER\", \"AKOLA\", \"ALAPUZHA\", \"ALIGARH\", \"ALIRAJPUR\", \"ALLAHABAD\", \"ALWAR\", \"AMBEDKAR NAGAR\", \"AMRAVATI COMMR.\", \"AMRAVATI RURAL\", \"AMRELI\", \"ANAND\", \"ANANTAPUR\", \"ANUPPUR\", \"ARARIA\", \"ARIYALUR\", \"ARWAL\", \"ASHOK NAGAR\", \"AURAIYA\", \"AURANGABAD\", \"AURANGABAD COMMR.\", \"AURANGABAD RURAL\", \"AZAMGARH\", \"BADAUN\", \"BAGAHA\", \"BAGALKOT\", \"BAGHPAT\", \"BAHRAICH\", \"BALAGHAT\", \"BALLIA\", \"BALRAMPUR\", \"BANDA\", \"BANGALORE COMMR.\", \"BANGALORE RURAL\", \"BANKA\", \"BANSWARA\", \"BARABANKI\", \"BARAN\", \"BAREILLY\", \"BARMER\", \"BARWANI\", \"BASTI\", \"BEED\", \"BEGUSARAI\", \"BELGAUM\", \"BELLARY\", \"BETTIAH\", \"BETUL\", \"BHABHUA\", \"BHAGALPUR\", \"BHANDARA\", \"BHARATPUR\", \"BHARUCH\", \"BHAVNAGAR\", \"BHILWARA\", \"BHIM NAGAR\", \"BHIND\", \"BHOJPUR\", \"BHOPAL\", \"BHOPAL RLY.\", \"BIDAR\", \"BIJAPUR\", \"BIJNOR\", \"BIKANER\", \"BULANDSHAHAR\", \"BULDHANA\", \"BUNDI\", \"BURHANPUR\", \"BUXAR\", \"CBPURA\", \"CHAMARAJNAGAR\", \"CHANDOLI\", \"CHANDRAPUR\", \"CHENNAI\", \"CHENNAI RLY.\", \"CHHATARPUR\", \"CHHINDWARA\", \"CHICKMAGALUR\", \"CHITRADURGA\", \"CHITRAKOOT DHAM\", \"CHITTOOR\", \"CHITTORGARH\", \"CHURU\", \"CID CRIME\", \"COIMBATORE RURAL\", \"COIMBATORE URBAN\", \"CSM NAGAR\", \"CUDDALORE\", \"CUDDAPAH\", \"CYBERABAD\", \"DAHOD\", \"DAKSHIN KANNADA\", \"DAMOH\", \"DARBHANGA\", \"DATIYA\", \"DAUSA\", \"DAVANAGERE\", \"DEORIA\", \"DEWAS\", \"DHAR\", \"DHARMAPURI\", \"DHARWAD COMMR.\", \"DHARWAD RURAL\", \"DHOLPUR\", \"DHULE\", \"DINDIGUL\", \"DINDORI\", \"DUNGARPUR\", \"EAST GODAVARI\", \"ERNAKULAM COMMR.\", \"ERNAKULAM RURAL\", \"ERODE\", \"ETAH\", \"ETAWAH\", \"FAIZABAD\", \"FATEHGARH\", \"FATEHPUR\", \"FIROZABAD\", \"G.R.P.\", \"G.R.P.AJMER\", \"G.R.P.JODHPUR\", \"GADAG\", \"GADCHIROLI\", \"GANDHINAGAR\", \"GANGANAGAR\", \"GAUTAMBUDH NAGAR\", \"GAYA\", \"GHAZIABAD\", \"GHAZIPUR\", \"GONDA\", \"GONDIA\", \"GOPALGANJ\", \"GORAKHPUR\", \"GULBARGA\", \"GUNA\", \"GUNTAKAL RLY.\", \"GUNTUR\", \"GUNTUR URBAN\", \"GWALIOR\", \"HAMIRPUR\", \"HANUMANGARH\", \"HARDA\", \"HARDOI\", \"HASSAN\", \"HATHRAS\", \"HAVERI\", \"HIMATNAGAR\", \"HINGOLI\", \"HOSHANGABAD\", \"HYDERABAD CITY\", \"IDUKKI\", \"INDORE\", \"INDORE RLY.\", \"J.P.NAGAR\", \"JABALPUR\", \"JABALPUR RLY.\", \"JAIPUR EAST\", \"JAIPUR NORTH\", \"JAIPUR RURAL\", \"JAIPUR SOUTH\", \"JAIPUR WEST\", \"JAISALMER\", \"JALAUN\", \"JALGAON\", \"JALNA\", \"JALORE\", \"JAMALPUR RLY.\", \"JAMNAGAR\", \"JAMUI\", \"JAUNPUR\", \"JEHANABAD\", \"JHABUA\", \"JHALAWAR\", \"JHANSI\", \"JHUNJHUNU\", \"JODHPUR EAST\", \"JODHPUR RURAL\", \"JODHPUR WEST\", \"JUNAGADH\", \"K.G.F.\", \"KANCHIPURAM\", \"KANNAUJ\", \"KANNUR\", \"KANPUR NAGAR\", \"KANSHIRAM NAGAR\", \"KANYAKUMARI\", \"KARAULI\", \"KARIMNAGAR\", \"KARUR\", \"KASARGOD\", \"KATIHAR\", \"KATIHAR RLY.\", \"KATNI\", \"KAUSHAMBI\", \"KHAGARIA\", \"KHAMMAM\", \"KHANDWA\", \"KHARGON\", \"KHEDA NORTH\", \"KHIRI\", \"KISHANGANJ\", \"KODAGU\", \"KOLAR\", \"KOLHAPUR\", \"KOLLAM COMMR.\", \"KOLLAM RURAL\", \"KOPPAL\", \"KOTA CITY\", \"KOTA RURAL\", \"KOTTAYAM\", \"KOZHIKODE COMMR.\", \"KOZHIKODE RURAL\", \"KRISHNA\", \"KRISHNAGIRI\", \"KURNOOL\", \"KUSHI NAGAR\", \"KUTCH (EAST(G))\", \"KUTCH (WEST-BHUJ)\", \"LAKHISARAI\", \"LALITPUR\", \"LATUR\", \"LUCKNOW\", \"MADHEPURA\", \"MADHUBANI\", \"MADURAI RURAL\", \"MADURAI URBAN\", \"MAHABOOBNAGAR\", \"MAHARAJGANJ\", \"MAHOBA\", \"MAINPURI\", \"MALAPPURAM\", \"MANDLA\", \"MANDSAUR\", \"MANDYA\", \"MANGALORE CITY\", \"MATHURA\", \"MAU\", \"MEDAK\", \"MEERUT\", \"MEHSANA\", \"MIRZAPUR\", \"MORADABAD\", \"MORENA\", \"MOTIHARI\", \"MUMBAI COMMR.\", \"MUMBAI RLY.\", \"MUNGER\", \"MUZAFFARNAGAR\", \"MUZAFFARPUR\", \"MUZAFFARPUR RLY.\", \"MYSORE COMMR.\", \"MYSORE RURAL\", \"NAGAPATTINAM\", \"NAGAUR\", \"NAGPUR COMMR.\", \"NAGPUR RLY.\", \"NAGPUR RURAL\", \"NALANDA\", \"NALGONDA\", \"NAMAKKAL\", \"NANDED\", \"NANDURBAR\", \"NARMADA\", \"NARSINGHPUR\", \"NASIK COMMR.\", \"NASIK RURAL\", \"NAUGACHIA\", \"NAVI MUMBAI\", \"NAVSARI\", \"NAWADAH\", \"NEEMUCH\", \"NELLORE\", \"NILGIRIS\", \"NIZAMABAD\", \"OSMANABAD\", \"PALAKKAD\", \"PALANPUR\", \"PALI\", \"PANCHMAHAL\", \"PANCHSHIL NAGAR\", \"PANNA\", \"PARBHANI\", \"PATAN\", \"PATHANAMTHITTA\", \"PATNA\", \"PATNA RLY.\", \"PERAMBALUR\", \"PILIBHIT\", \"PORBANDAR\", \"PRABUDDH NAGAR\", \"PRAKASHAM\", \"PRATAPGARH\", \"PRATAPGARH\", \"PUDUKOTTAI\", \"PUNE COMMR.\", \"PUNE RLY.\", \"PUNE RURAL\", \"PURNEA\", \"RAIBAREILLY\", \"RAICHUR\", \"RAIGAD\", \"RAILWAYS\", \"RAILWAYS\", \"RAISEN\", \"RAJAHMUNDRY\", \"RAJGARH\", \"RAJKOT COMMR.\", \"RAJKOT RURAL\", \"RAJSAMAND\", \"RAMABAI NAGAR\", \"RAMANAGAR\", \"RAMNATHAPURAM\", \"RAMPUR\", \"RANGA REDDY\", \"RATLAM\", \"RATNAGIRI\", \"REWA\", \"ROHTAS\", \"SAGAR\", \"SAHARANPUR\", \"SAHARSA\", \"SALEM RURAL\", \"SALEM URBAN\", \"SAMASTIPUR\", \"SANGLI\", \"SANT KABIRNAGAR\", \"SARAN\", \"SATARA\", \"SATNA\", \"SAWAI MADHOPUR\", \"SECUNDERABAD RLY.\", \"SEONI\", \"SHAHDOL\", \"SHAHJAHANPUR\", \"SHAJAPUR\", \"SHEIKHPURA\", \"SHEOHAR\", \"SHEOPUR\", \"SHIMOGA\", \"SHIVPURI\", \"SHRAWASTI\", \"SIDHARTHNAGAR\", \"SIDHI\", \"SIHORE\", \"SIKAR\", \"SINDHUDURG\", \"SINGRAULI\", \"SIROHI\", \"SITAMARHI\", \"SITAPUR\", \"SIVAGANGAI\", \"SIWAN\", \"SOLAPUR COMMR.\", \"SOLAPUR RURAL\", \"SONBHADRA\", \"SRIKAKULAM\", \"ST.RAVIDASNAGAR\", \"SULTANPUR\", \"SUPAUL\", \"SURAT COMMR.\", \"SURAT RURAL\", \"SURENDRANAGAR\", \"TAPI\", \"THANE COMMR.\", \"THANE RURAL\", \"THANJAVUR\", \"THENI\", \"THIRUNELVELI RURAL\", \"THIRUNELVELI URBAN\", \"THIRUVALLUR\", \"THIRUVANNAMALAI\", \"THIRUVARUR\", \"THOOTHUGUDI\", \"THRISSUR COMMR.\", \"THRISSUR RURAL\", \"TIKAMGARH\", \"TIRUPATHI URBAN\", \"TIRUPPUR\", \"TONK\", \"TRICHY RLY.\", \"TRICHY RURAL\", \"TRICHY URBAN\", \"TRIVANDRUM COMMR.\", \"TRIVANDRUM RURAL\", \"TUMKUR\", \"UDAIPUR\", \"UDUPI\", \"UJJAIN\", \"UMARIYA\", \"UNNAO\", \"UTTAR KANNADA\", \"VADODARA COMMR.\", \"VADODARA RURAL\", \"VAISHALI\", \"VALSAD\", \"VARANASI\", \"VELLORE\", \"VIDISHA\", \"VIJAYAWADA CITY\", \"VIJAYAWADA RLY.\", \"VILLUPURAM\", \"VIRUDHUNAGAR\", \"VISAKHA RURAL\", \"VISAKHAPATNAM\", \"VIZIANAGARAM\", \"W.RLY AHMEDABAD\", \"W.RLY VADODARA\", \"WARANGAL\", \"WARANGAL URBAN\", \"WARDHA\", \"WASHIM\", \"WAYANADU\", \"WEST GODAVARI\", \"YADGIRI\", \"YAVATMAL\", \"ANDHRA PRADESH\", \"BIHAR\", \"GUJARAT\", \"KARNATAKA\", \"KERALA\", \"MADHYA PRADESH\", \"MAHARASHTRA\", \"RAJASTHAN\", \"TAMIL NADU\", \"UTTAR PRADESH\"], \"marker\": {\"coloraxis\": \"coloraxis\", \"colors\": [81.0, 152.0, 90.0, 34.0, 111.0, 7.0, 38.0, 42.0, 20.0, 177.0, 60.0, 115.0, 100.0, 35.0, 24.0, 63.0, 18.0, 25.0, 173.0, 35.0, 81.0, 19.0, 20.0, 34.0, 24.0, 89.0, 46.0, 74.0, 73.0, 108.0, 43.0, 51.0, 80.0, 41.0, 43.0, 45.0, 23.0, 40.0, 266.0, 93.0, 76.0, 34.0, 73.0, 45.0, 114.0, 29.0, 46.0, 33.0, 84.0, 120.0, 142.0, 54.0, 83.0, 75.0, 48.0, 99.0, 20.0, 91.0, 42.0, 46.0, 29.0, 77.0, 64.0, 71.0, 78.0, 4.0, 38.0, 69.0, 89.0, 45.0, 140.0, 49.0, 18.0, 11.0, 56.0, 51.0, 18.0, 25.0, 44.0, 180.0, 1.0, 50.0, 61.0, 33.0, 43.0, 34.0, 91.0, 38.0, 42.0, 1.0, 51.0, 29.0, 35.0, 70.0, 118.0, 198.0, 34.0, 23.0, 51.0, 78.0, 51.0, 30.0, 42.0, 35.0, 62.0, 61.0, 50.0, 18.0, 27.0, 50.0, 50.0, 74.0, 32.0, 26.0, 70.0, 9.0, 21.0, 40.0, 73.0, 59.0, 45.0, 68.0, 79.0, 100.0, 22.0, 4.0, 2.0, 24.0, 57.0, 23.0, 51.0, 89.0, 153.0, 146.0, 47.0, 39.0, 41.0, 103.0, 98.0, 82.0, 44.0, 7.0, 96.0, 56.0, 96.0, 36.0, 49.0, 14.0, 77.0, 77.0, 53.0, 19.0, 30.0, 25.0, 44.0, 102.0, 22.0, 123.0, 3.0, 60.0, 98.0, 6.0, 21.0, 12.0, 38.0, 17.0, 26.0, 9.0, 46.0, 102.0, 45.0, 23.0, 8.0, 43.0, 79.0, 50.0, 46.0, 20.0, 47.0, 65.0, 36.0, 12.0, 34.0, 15.0, 40.0, 16.0, 76.0, 48.0, 32.0, 151.0, 50.0, 53.0, 41.0, 128.0, 26.0, 14.0, 91.0, 13.0, 36.0, 44.0, 65.0, 130.0, 27.0, 51.0, 24.0, 89.0, 39.0, 29.0, 46.0, 63.0, 21.0, 30.0, 24.0, 28.0, 20.0, 20.0, 7.0, 9.0, 78.0, 63.0, 111.0, 36.0, 19.0, 24.0, 40.0, 23.0, 67.0, 141.0, 56.0, 77.0, 76.0, 31.0, 182.0, 30.0, 29.0, 81.0, 16.0, 25.0, 37.0, 86.0, 28.0, 101.0, 23.0, 113.0, 202.0, 31.0, 27.0, 90.0, 53.0, 124.0, 215.0, 8.0, 68.0, 126.0, 198.0, 11.0, 31.0, 78.0, 56.0, 49.0, 88.0, 5.0, 55.0, 114.0, 86.0, 30.0, 81.0, 35.0, 17.0, 46.0, 32.0, 87.0, 47.0, 57.0, 19.0, 82.0, 18.0, 94.0, 14.0, 113.0, 54.0, 32.0, 44.0, 56.0, 54.0, 56.0, 30.0, 34.0, 18.0, 28.0, 356.0, 11.0, 11.0, 47.0, 18.0, 55.0, 108.0, 29.0, 57.0, 31.0, 110.0, 4.0, 163.0, 97.0, 37.0, 42.0, 40.0, 19.0, 0.0, 54.0, 23.0, 36.0, 41.0, 48.0, 26.0, 44.0, 77.0, 54.0, 51.0, 72.0, 37.0, 10.0, 54.0, 132.0, 83.0, 70.0, 53.0, 60.0, 16.0, 99.0, 47.0, 16.0, 128.0, 65.0, 72.0, 24.0, 4.0, 38.0, 44.0, 77.0, 39.0, 30.0, 20.0, 8.0, 50.0, 61.0, 24.0, 27.0, 31.0, 23.0, 51.0, 8.0, 36.0, 29.0, 97.0, 96.0, 47.0, 112.0, 18.0, 92.0, 25.0, 35.0, 10.0, 44.0, 31.0, 98.0, 55.0, 40.0, 11.0, 110.0, 146.0, 62.0, 39.0, 88.0, 19.0, 40.0, 52.0, 33.0, 85.0, 9.0, 18.0, 43.0, 37.0, 63.0, 21.0, 2.0, 44.0, 26.0, 14.0, 42.0, 91.0, 76.0, 14.0, 55.0, 12.0, 60.0, 33.0, 29.0, 74.0, 122.0, 21.0, 59.0, 76.0, 58.0, 42.0, 7.0, 100.0, 62.0, 67.0, 44.0, 44.0, 3.0, 5.0, 75.0, 41.0, 30.0, 40.0, 10.0, 91.0, 26.0, 71.0, 101.85730981394335, 121.22847067810714, 48.357352003135546, 104.80682878056425, 19.91201907050173, 61.589969818685184, 96.14686235816478, 43.681540585441184, 69.36780330616439, 92.29616392300586]}, \"name\": \"\", \"parents\": [\"ANDHRA PRADESH\", \"UTTAR PRADESH\", \"GUJARAT\", \"GUJARAT\", \"MAHARASHTRA\", \"GUJARAT\", \"RAJASTHAN\", \"MAHARASHTRA\", \"KERALA\", \"UTTAR PRADESH\", \"MADHYA PRADESH\", \"UTTAR PRADESH\", \"RAJASTHAN\", \"UTTAR PRADESH\", \"MAHARASHTRA\", \"MAHARASHTRA\", \"GUJARAT\", \"GUJARAT\", \"ANDHRA PRADESH\", \"MADHYA PRADESH\", \"BIHAR\", \"TAMIL NADU\", \"BIHAR\", \"MADHYA PRADESH\", \"UTTAR PRADESH\", \"BIHAR\", \"MAHARASHTRA\", \"MAHARASHTRA\", \"UTTAR PRADESH\", \"UTTAR PRADESH\", \"BIHAR\", \"KARNATAKA\", \"UTTAR PRADESH\", \"UTTAR PRADESH\", \"MADHYA PRADESH\", \"UTTAR PRADESH\", \"UTTAR PRADESH\", \"UTTAR PRADESH\", \"KARNATAKA\", \"KARNATAKA\", \"BIHAR\", \"RAJASTHAN\", \"UTTAR PRADESH\", \"RAJASTHAN\", \"UTTAR PRADESH\", \"RAJASTHAN\", \"MADHYA PRADESH\", \"UTTAR PRADESH\", \"MAHARASHTRA\", \"BIHAR\", \"KARNATAKA\", \"KARNATAKA\", \"BIHAR\", \"MADHYA PRADESH\", \"BIHAR\", \"BIHAR\", \"MAHARASHTRA\", \"RAJASTHAN\", \"GUJARAT\", \"GUJARAT\", \"RAJASTHAN\", \"UTTAR PRADESH\", \"MADHYA PRADESH\", \"BIHAR\", \"MADHYA PRADESH\", \"MADHYA PRADESH\", \"KARNATAKA\", \"KARNATAKA\", \"UTTAR PRADESH\", \"RAJASTHAN\", \"UTTAR PRADESH\", \"MAHARASHTRA\", \"RAJASTHAN\", \"MADHYA PRADESH\", \"BIHAR\", \"KARNATAKA\", \"KARNATAKA\", \"UTTAR PRADESH\", \"MAHARASHTRA\", \"TAMIL NADU\", \"TAMIL NADU\", \"MADHYA PRADESH\", \"MADHYA PRADESH\", \"KARNATAKA\", \"KARNATAKA\", \"UTTAR PRADESH\", \"ANDHRA PRADESH\", \"RAJASTHAN\", \"RAJASTHAN\", \"GUJARAT\", \"TAMIL NADU\", \"TAMIL NADU\", \"UTTAR PRADESH\", \"TAMIL NADU\", \"ANDHRA PRADESH\", \"ANDHRA PRADESH\", \"GUJARAT\", \"KARNATAKA\", \"MADHYA PRADESH\", \"BIHAR\", \"MADHYA PRADESH\", \"RAJASTHAN\", \"KARNATAKA\", \"UTTAR PRADESH\", \"MADHYA PRADESH\", \"MADHYA PRADESH\", \"TAMIL NADU\", \"KARNATAKA\", \"KARNATAKA\", \"RAJASTHAN\", \"MAHARASHTRA\", \"TAMIL NADU\", \"MADHYA PRADESH\", \"RAJASTHAN\", \"ANDHRA PRADESH\", \"KERALA\", \"KERALA\", \"TAMIL NADU\", \"UTTAR PRADESH\", \"UTTAR PRADESH\", \"UTTAR PRADESH\", \"UTTAR PRADESH\", \"UTTAR PRADESH\", \"UTTAR PRADESH\", \"UTTAR PRADESH\", \"RAJASTHAN\", \"RAJASTHAN\", \"KARNATAKA\", \"MAHARASHTRA\", \"GUJARAT\", \"RAJASTHAN\", \"UTTAR PRADESH\", \"BIHAR\", \"UTTAR PRADESH\", \"UTTAR PRADESH\", \"UTTAR PRADESH\", \"MAHARASHTRA\", \"BIHAR\", \"UTTAR PRADESH\", \"KARNATAKA\", \"MADHYA PRADESH\", \"ANDHRA PRADESH\", \"ANDHRA PRADESH\", \"ANDHRA PRADESH\", \"MADHYA PRADESH\", \"UTTAR PRADESH\", \"RAJASTHAN\", \"MADHYA PRADESH\", \"UTTAR PRADESH\", \"KARNATAKA\", \"UTTAR PRADESH\", \"KARNATAKA\", \"GUJARAT\", \"MAHARASHTRA\", \"MADHYA PRADESH\", \"ANDHRA PRADESH\", \"KERALA\", \"MADHYA PRADESH\", \"MADHYA PRADESH\", \"UTTAR PRADESH\", \"MADHYA PRADESH\", \"MADHYA PRADESH\", \"RAJASTHAN\", \"RAJASTHAN\", \"RAJASTHAN\", \"RAJASTHAN\", \"RAJASTHAN\", \"RAJASTHAN\", \"UTTAR PRADESH\", \"MAHARASHTRA\", \"MAHARASHTRA\", \"RAJASTHAN\", \"BIHAR\", \"GUJARAT\", \"BIHAR\", \"UTTAR PRADESH\", \"BIHAR\", \"MADHYA PRADESH\", \"RAJASTHAN\", \"UTTAR PRADESH\", \"RAJASTHAN\", \"RAJASTHAN\", \"RAJASTHAN\", \"RAJASTHAN\", \"GUJARAT\", \"KARNATAKA\", \"TAMIL NADU\", \"UTTAR PRADESH\", \"KERALA\", \"UTTAR PRADESH\", \"UTTAR PRADESH\", \"TAMIL NADU\", \"RAJASTHAN\", \"ANDHRA PRADESH\", \"TAMIL NADU\", \"KERALA\", \"BIHAR\", \"BIHAR\", \"MADHYA PRADESH\", \"UTTAR PRADESH\", \"BIHAR\", \"ANDHRA PRADESH\", \"MADHYA PRADESH\", \"MADHYA PRADESH\", \"GUJARAT\", \"UTTAR PRADESH\", \"BIHAR\", \"KARNATAKA\", \"KARNATAKA\", \"MAHARASHTRA\", \"KERALA\", \"KERALA\", \"KARNATAKA\", \"RAJASTHAN\", \"RAJASTHAN\", \"KERALA\", \"KERALA\", \"KERALA\", \"ANDHRA PRADESH\", \"TAMIL NADU\", \"ANDHRA PRADESH\", \"UTTAR PRADESH\", \"GUJARAT\", \"GUJARAT\", \"BIHAR\", \"UTTAR PRADESH\", \"MAHARASHTRA\", \"UTTAR PRADESH\", \"BIHAR\", \"BIHAR\", \"TAMIL NADU\", \"TAMIL NADU\", \"ANDHRA PRADESH\", \"UTTAR PRADESH\", \"UTTAR PRADESH\", \"UTTAR PRADESH\", \"KERALA\", \"MADHYA PRADESH\", \"MADHYA PRADESH\", \"KARNATAKA\", \"KARNATAKA\", \"UTTAR PRADESH\", \"UTTAR PRADESH\", \"ANDHRA PRADESH\", \"UTTAR PRADESH\", \"GUJARAT\", \"UTTAR PRADESH\", \"UTTAR PRADESH\", \"MADHYA PRADESH\", \"BIHAR\", \"MAHARASHTRA\", \"MAHARASHTRA\", \"BIHAR\", \"UTTAR PRADESH\", \"BIHAR\", \"BIHAR\", \"KARNATAKA\", \"KARNATAKA\", \"TAMIL NADU\", \"RAJASTHAN\", \"MAHARASHTRA\", \"MAHARASHTRA\", \"MAHARASHTRA\", \"BIHAR\", \"ANDHRA PRADESH\", \"TAMIL NADU\", \"MAHARASHTRA\", \"MAHARASHTRA\", \"GUJARAT\", \"MADHYA PRADESH\", \"MAHARASHTRA\", \"MAHARASHTRA\", \"BIHAR\", \"MAHARASHTRA\", \"GUJARAT\", \"BIHAR\", \"MADHYA PRADESH\", \"ANDHRA PRADESH\", \"TAMIL NADU\", \"ANDHRA PRADESH\", \"MAHARASHTRA\", \"KERALA\", \"GUJARAT\", \"RAJASTHAN\", \"GUJARAT\", \"UTTAR PRADESH\", \"MADHYA PRADESH\", \"MAHARASHTRA\", \"GUJARAT\", \"KERALA\", \"BIHAR\", \"BIHAR\", \"TAMIL NADU\", \"UTTAR PRADESH\", \"GUJARAT\", \"UTTAR PRADESH\", \"ANDHRA PRADESH\", \"RAJASTHAN\", \"UTTAR PRADESH\", \"TAMIL NADU\", \"MAHARASHTRA\", \"MAHARASHTRA\", \"MAHARASHTRA\", \"BIHAR\", \"UTTAR PRADESH\", \"KARNATAKA\", \"MAHARASHTRA\", \"KARNATAKA\", \"KERALA\", \"MADHYA PRADESH\", \"ANDHRA PRADESH\", \"MADHYA PRADESH\", \"GUJARAT\", \"GUJARAT\", \"RAJASTHAN\", \"UTTAR PRADESH\", \"KARNATAKA\", \"TAMIL NADU\", \"UTTAR PRADESH\", \"ANDHRA PRADESH\", \"MADHYA PRADESH\", \"MAHARASHTRA\", \"MADHYA PRADESH\", \"BIHAR\", \"MADHYA PRADESH\", \"UTTAR PRADESH\", \"BIHAR\", \"TAMIL NADU\", \"TAMIL NADU\", \"BIHAR\", \"MAHARASHTRA\", \"UTTAR PRADESH\", \"BIHAR\", \"MAHARASHTRA\", \"MADHYA PRADESH\", \"RAJASTHAN\", \"ANDHRA PRADESH\", \"MADHYA PRADESH\", \"MADHYA PRADESH\", \"UTTAR PRADESH\", \"MADHYA PRADESH\", \"BIHAR\", \"BIHAR\", \"MADHYA PRADESH\", \"KARNATAKA\", \"MADHYA PRADESH\", \"UTTAR PRADESH\", \"UTTAR PRADESH\", \"MADHYA PRADESH\", \"MADHYA PRADESH\", \"RAJASTHAN\", \"MAHARASHTRA\", \"MADHYA PRADESH\", \"RAJASTHAN\", \"BIHAR\", \"UTTAR PRADESH\", \"TAMIL NADU\", \"BIHAR\", \"MAHARASHTRA\", \"MAHARASHTRA\", \"UTTAR PRADESH\", \"ANDHRA PRADESH\", \"UTTAR PRADESH\", \"UTTAR PRADESH\", \"BIHAR\", \"GUJARAT\", \"GUJARAT\", \"GUJARAT\", \"GUJARAT\", \"MAHARASHTRA\", \"MAHARASHTRA\", \"TAMIL NADU\", \"TAMIL NADU\", \"TAMIL NADU\", \"TAMIL NADU\", \"TAMIL NADU\", \"TAMIL NADU\", \"TAMIL NADU\", \"TAMIL NADU\", \"KERALA\", \"KERALA\", \"MADHYA PRADESH\", \"ANDHRA PRADESH\", \"TAMIL NADU\", \"RAJASTHAN\", \"TAMIL NADU\", \"TAMIL NADU\", \"TAMIL NADU\", \"KERALA\", \"KERALA\", \"KARNATAKA\", \"RAJASTHAN\", \"KARNATAKA\", \"MADHYA PRADESH\", \"MADHYA PRADESH\", \"UTTAR PRADESH\", \"KARNATAKA\", \"GUJARAT\", \"GUJARAT\", \"BIHAR\", \"GUJARAT\", \"UTTAR PRADESH\", \"TAMIL NADU\", \"MADHYA PRADESH\", \"ANDHRA PRADESH\", \"ANDHRA PRADESH\", \"TAMIL NADU\", \"TAMIL NADU\", \"ANDHRA PRADESH\", \"ANDHRA PRADESH\", \"ANDHRA PRADESH\", \"GUJARAT\", \"GUJARAT\", \"ANDHRA PRADESH\", \"ANDHRA PRADESH\", \"MAHARASHTRA\", \"MAHARASHTRA\", \"KERALA\", \"ANDHRA PRADESH\", \"KARNATAKA\", \"MAHARASHTRA\", \"\", \"\", \"\", \"\", \"\", \"\", \"\", \"\", \"\", \"\"], \"type\": \"sunburst\", \"values\": [5710, 9360, 21347, 3673, 7246, 209, 6550, 3442, 8555, 5806, 1355, 6394, 11941, 1211, 2713, 4442, 2301, 2991, 5441, 1794, 2526, 2480, 858, 2474, 1319, 3279, 3659, 3562, 2284, 2537, 1729, 2297, 1560, 2369, 2792, 1607, 586, 1224, 29297, 5560, 1801, 2777, 2096, 3596, 5228, 3744, 2026, 1237, 4099, 3717, 6845, 3112, 5073, 3080, 1867, 3134, 2019, 8849, 2781, 4375, 4893, 1914, 3920, 3846, 14320, 1429, 3658, 2783, 3108, 4535, 3554, 3497, 3124, 1436, 2566, 2554, 1733, 1043, 3763, 19881, 558, 4521, 5310, 2498, 4059, 780, 4465, 4390, 3363, 15, 5093, 10357, 1522, 11318, 6110, 17979, 1683, 1836, 3248, 6314, 2441, 5101, 3271, 1446, 5369, 5558, 3742, 1937, 1313, 3739, 2542, 5985, 1268, 1844, 6945, 17324, 10678, 4789, 2468, 1996, 2281, 1608, 2152, 3096, 2782, 788, 131, 1083, 981, 6530, 5427, 6687, 6082, 7477, 1430, 2458, 1772, 3959, 4577, 4101, 3592, 339, 7371, 4687, 10313, 848, 4077, 1318, 3005, 5592, 1770, 2333, 6411, 1391, 3298, 15992, 5134, 21091, 427, 1649, 10575, 975, 6371, 2936, 5484, 4016, 5288, 1177, 1292, 4954, 3051, 2480, 264, 5030, 1752, 1822, 1448, 2431, 3795, 2016, 4358, 2303, 2788, 2228, 3915, 1007, 8040, 1689, 8400, 7018, 1123, 4810, 4561, 8991, 2401, 5174, 4072, 317, 3383, 1302, 2257, 6041, 2841, 4171, 5092, 2917, 1420, 1550, 2209, 4554, 7074, 5981, 1899, 3972, 2331, 12355, 4156, 5645, 7211, 4196, 6687, 1698, 3030, 1806, 1238, 697, 3237, 11083, 2293, 4887, 6358, 3261, 6485, 1524, 791, 2400, 14385, 2275, 3469, 5914, 2685, 4438, 1535, 6070, 7984, 5353, 775, 3652, 5431, 7833, 30508, 2325, 1829, 3715, 7306, 553, 2826, 4339, 4245, 4498, 8277, 1292, 3622, 4993, 8934, 4070, 4668, 1358, 674, 3371, 4390, 5216, 1494, 5157, 1542, 2729, 2183, 6854, 1216, 5542, 3055, 8611, 4867, 5469, 3677, 1765, 2234, 2836, 3107, 5327, 14015, 1088, 1455, 2296, 896, 1268, 6675, 2585, 2354, 3142, 12308, 445, 8433, 3953, 1774, 3039, 2159, 649, 348, 4207, 2125, 4712, 4319, 4297, 2439, 2013, 4673, 3549, 2105, 2094, 3420, 1398, 5498, 3665, 9276, 3254, 2421, 5939, 2329, 4817, 2783, 736, 5254, 5042, 5407, 4054, 916, 2728, 3375, 2632, 3350, 1189, 603, 1347, 5034, 4968, 553, 707, 2568, 3894, 5824, 803, 2393, 1906, 3982, 3360, 3598, 4379, 1992, 4476, 901, 3818, 466, 1821, 2626, 9246, 3644, 2985, 792, 10144, 6919, 6785, 4312, 9024, 1352, 3579, 4874, 4039, 5324, 6231, 13403, 3302, 2609, 7046, 3232, 216, 4485, 2926, 7253, 10065, 5567, 7984, 2454, 8286, 1262, 2683, 2828, 6440, 3479, 5186, 2731, 3465, 7710, 4623, 7686, 732, 10486, 5504, 2733, 4626, 4482, 344, 539, 4722, 3583, 3564, 2241, 2890, 7867, 1486, 6365, 192522, 146614, 130121, 134021, 158989, 220335, 202700, 170948, 200474, 198093]}],\n",
       "                        {\"coloraxis\": {\"colorbar\": {\"title\": {\"text\": \"MURDER\"}}, \"colorscale\": [[0.0, \"#0d0887\"], [0.1111111111111111, \"#46039f\"], [0.2222222222222222, \"#7201a8\"], [0.3333333333333333, \"#9c179e\"], [0.4444444444444444, \"#bd3786\"], [0.5555555555555556, \"#d8576b\"], [0.6666666666666666, \"#ed7953\"], [0.7777777777777778, \"#fb9f3a\"], [0.8888888888888888, \"#fdca26\"], [1.0, \"#f0f921\"]]}, \"font\": {\"color\": \"red\", \"family\": \"Times New Roman\", \"size\": 15}, \"legend\": {\"tracegroupgap\": 0}, \"margin\": {\"t\": 60}, \"paper_bgcolor\": \"black\", \"template\": {\"data\": {\"bar\": [{\"error_x\": {\"color\": \"#f2f5fa\"}, \"error_y\": {\"color\": \"#f2f5fa\"}, \"marker\": {\"line\": {\"color\": \"rgb(17,17,17)\", \"width\": 0.5}}, \"type\": \"bar\"}], \"barpolar\": [{\"marker\": {\"line\": {\"color\": \"rgb(17,17,17)\", \"width\": 0.5}}, \"type\": \"barpolar\"}], \"carpet\": [{\"aaxis\": {\"endlinecolor\": \"#A2B1C6\", \"gridcolor\": \"#506784\", \"linecolor\": \"#506784\", \"minorgridcolor\": \"#506784\", \"startlinecolor\": \"#A2B1C6\"}, \"baxis\": {\"endlinecolor\": \"#A2B1C6\", \"gridcolor\": \"#506784\", \"linecolor\": \"#506784\", \"minorgridcolor\": \"#506784\", \"startlinecolor\": \"#A2B1C6\"}, \"type\": \"carpet\"}], \"choropleth\": [{\"colorbar\": {\"outlinewidth\": 0, \"ticks\": \"\"}, \"type\": \"choropleth\"}], \"contour\": [{\"colorbar\": {\"outlinewidth\": 0, \"ticks\": \"\"}, \"colorscale\": [[0.0, \"#0d0887\"], [0.1111111111111111, \"#46039f\"], [0.2222222222222222, \"#7201a8\"], [0.3333333333333333, \"#9c179e\"], [0.4444444444444444, \"#bd3786\"], [0.5555555555555556, \"#d8576b\"], [0.6666666666666666, \"#ed7953\"], [0.7777777777777778, \"#fb9f3a\"], [0.8888888888888888, \"#fdca26\"], [1.0, \"#f0f921\"]], \"type\": \"contour\"}], \"contourcarpet\": [{\"colorbar\": {\"outlinewidth\": 0, \"ticks\": \"\"}, \"type\": \"contourcarpet\"}], \"heatmap\": [{\"colorbar\": {\"outlinewidth\": 0, \"ticks\": \"\"}, \"colorscale\": [[0.0, \"#0d0887\"], [0.1111111111111111, \"#46039f\"], [0.2222222222222222, \"#7201a8\"], [0.3333333333333333, \"#9c179e\"], [0.4444444444444444, \"#bd3786\"], [0.5555555555555556, \"#d8576b\"], [0.6666666666666666, \"#ed7953\"], [0.7777777777777778, \"#fb9f3a\"], [0.8888888888888888, \"#fdca26\"], [1.0, \"#f0f921\"]], \"type\": \"heatmap\"}], \"heatmapgl\": [{\"colorbar\": {\"outlinewidth\": 0, \"ticks\": \"\"}, \"colorscale\": [[0.0, \"#0d0887\"], [0.1111111111111111, \"#46039f\"], [0.2222222222222222, \"#7201a8\"], [0.3333333333333333, \"#9c179e\"], [0.4444444444444444, \"#bd3786\"], [0.5555555555555556, \"#d8576b\"], [0.6666666666666666, \"#ed7953\"], [0.7777777777777778, \"#fb9f3a\"], [0.8888888888888888, \"#fdca26\"], [1.0, \"#f0f921\"]], \"type\": \"heatmapgl\"}], \"histogram\": [{\"marker\": {\"colorbar\": {\"outlinewidth\": 0, \"ticks\": \"\"}}, \"type\": \"histogram\"}], \"histogram2d\": [{\"colorbar\": {\"outlinewidth\": 0, \"ticks\": \"\"}, \"colorscale\": [[0.0, \"#0d0887\"], [0.1111111111111111, \"#46039f\"], [0.2222222222222222, \"#7201a8\"], [0.3333333333333333, \"#9c179e\"], [0.4444444444444444, \"#bd3786\"], [0.5555555555555556, \"#d8576b\"], [0.6666666666666666, \"#ed7953\"], [0.7777777777777778, \"#fb9f3a\"], [0.8888888888888888, \"#fdca26\"], [1.0, \"#f0f921\"]], \"type\": \"histogram2d\"}], \"histogram2dcontour\": [{\"colorbar\": {\"outlinewidth\": 0, \"ticks\": \"\"}, \"colorscale\": [[0.0, \"#0d0887\"], [0.1111111111111111, \"#46039f\"], [0.2222222222222222, \"#7201a8\"], [0.3333333333333333, \"#9c179e\"], [0.4444444444444444, \"#bd3786\"], [0.5555555555555556, \"#d8576b\"], [0.6666666666666666, \"#ed7953\"], [0.7777777777777778, \"#fb9f3a\"], [0.8888888888888888, \"#fdca26\"], [1.0, \"#f0f921\"]], \"type\": \"histogram2dcontour\"}], \"mesh3d\": [{\"colorbar\": {\"outlinewidth\": 0, \"ticks\": \"\"}, \"type\": \"mesh3d\"}], \"parcoords\": [{\"line\": {\"colorbar\": {\"outlinewidth\": 0, \"ticks\": \"\"}}, \"type\": \"parcoords\"}], \"pie\": [{\"automargin\": true, \"type\": \"pie\"}], \"scatter\": [{\"marker\": {\"line\": {\"color\": \"#283442\"}}, \"type\": \"scatter\"}], \"scatter3d\": [{\"line\": {\"colorbar\": {\"outlinewidth\": 0, \"ticks\": \"\"}}, \"marker\": {\"colorbar\": {\"outlinewidth\": 0, \"ticks\": \"\"}}, \"type\": \"scatter3d\"}], \"scattercarpet\": [{\"marker\": {\"colorbar\": {\"outlinewidth\": 0, \"ticks\": \"\"}}, \"type\": \"scattercarpet\"}], \"scattergeo\": [{\"marker\": {\"colorbar\": {\"outlinewidth\": 0, \"ticks\": \"\"}}, \"type\": \"scattergeo\"}], \"scattergl\": [{\"marker\": {\"line\": {\"color\": \"#283442\"}}, \"type\": \"scattergl\"}], \"scattermapbox\": [{\"marker\": {\"colorbar\": {\"outlinewidth\": 0, \"ticks\": \"\"}}, \"type\": \"scattermapbox\"}], \"scatterpolar\": [{\"marker\": {\"colorbar\": {\"outlinewidth\": 0, \"ticks\": \"\"}}, \"type\": \"scatterpolar\"}], \"scatterpolargl\": [{\"marker\": {\"colorbar\": {\"outlinewidth\": 0, \"ticks\": \"\"}}, \"type\": \"scatterpolargl\"}], \"scatterternary\": [{\"marker\": {\"colorbar\": {\"outlinewidth\": 0, \"ticks\": \"\"}}, \"type\": \"scatterternary\"}], \"surface\": [{\"colorbar\": {\"outlinewidth\": 0, \"ticks\": \"\"}, \"colorscale\": [[0.0, \"#0d0887\"], [0.1111111111111111, \"#46039f\"], [0.2222222222222222, \"#7201a8\"], [0.3333333333333333, \"#9c179e\"], [0.4444444444444444, \"#bd3786\"], [0.5555555555555556, \"#d8576b\"], [0.6666666666666666, \"#ed7953\"], [0.7777777777777778, \"#fb9f3a\"], [0.8888888888888888, \"#fdca26\"], [1.0, \"#f0f921\"]], \"type\": \"surface\"}], \"table\": [{\"cells\": {\"fill\": {\"color\": \"#506784\"}, \"line\": {\"color\": \"rgb(17,17,17)\"}}, \"header\": {\"fill\": {\"color\": \"#2a3f5f\"}, \"line\": {\"color\": \"rgb(17,17,17)\"}}, \"type\": \"table\"}]}, \"layout\": {\"annotationdefaults\": {\"arrowcolor\": \"#f2f5fa\", \"arrowhead\": 0, \"arrowwidth\": 1}, \"coloraxis\": {\"colorbar\": {\"outlinewidth\": 0, \"ticks\": \"\"}}, \"colorscale\": {\"diverging\": [[0, \"#8e0152\"], [0.1, \"#c51b7d\"], [0.2, \"#de77ae\"], [0.3, \"#f1b6da\"], [0.4, \"#fde0ef\"], [0.5, \"#f7f7f7\"], [0.6, \"#e6f5d0\"], [0.7, \"#b8e186\"], [0.8, \"#7fbc41\"], [0.9, \"#4d9221\"], [1, \"#276419\"]], \"sequential\": [[0.0, \"#0d0887\"], [0.1111111111111111, \"#46039f\"], [0.2222222222222222, \"#7201a8\"], [0.3333333333333333, \"#9c179e\"], [0.4444444444444444, \"#bd3786\"], [0.5555555555555556, \"#d8576b\"], [0.6666666666666666, \"#ed7953\"], [0.7777777777777778, \"#fb9f3a\"], [0.8888888888888888, \"#fdca26\"], [1.0, \"#f0f921\"]], \"sequentialminus\": [[0.0, \"#0d0887\"], [0.1111111111111111, \"#46039f\"], [0.2222222222222222, \"#7201a8\"], [0.3333333333333333, \"#9c179e\"], [0.4444444444444444, \"#bd3786\"], [0.5555555555555556, \"#d8576b\"], [0.6666666666666666, \"#ed7953\"], [0.7777777777777778, \"#fb9f3a\"], [0.8888888888888888, \"#fdca26\"], [1.0, \"#f0f921\"]]}, \"colorway\": [\"#636efa\", \"#EF553B\", \"#00cc96\", \"#ab63fa\", \"#FFA15A\", \"#19d3f3\", \"#FF6692\", \"#B6E880\", \"#FF97FF\", \"#FECB52\"], \"font\": {\"color\": \"#f2f5fa\"}, \"geo\": {\"bgcolor\": \"rgb(17,17,17)\", \"lakecolor\": \"rgb(17,17,17)\", \"landcolor\": \"rgb(17,17,17)\", \"showlakes\": true, \"showland\": true, \"subunitcolor\": \"#506784\"}, \"hoverlabel\": {\"align\": \"left\"}, \"hovermode\": \"closest\", \"mapbox\": {\"style\": \"dark\"}, \"paper_bgcolor\": \"rgb(17,17,17)\", \"plot_bgcolor\": \"rgb(17,17,17)\", \"polar\": {\"angularaxis\": {\"gridcolor\": \"#506784\", \"linecolor\": \"#506784\", \"ticks\": \"\"}, \"bgcolor\": \"rgb(17,17,17)\", \"radialaxis\": {\"gridcolor\": \"#506784\", \"linecolor\": \"#506784\", \"ticks\": \"\"}}, \"scene\": {\"xaxis\": {\"backgroundcolor\": \"rgb(17,17,17)\", \"gridcolor\": \"#506784\", \"gridwidth\": 2, \"linecolor\": \"#506784\", \"showbackground\": true, \"ticks\": \"\", \"zerolinecolor\": \"#C8D4E3\"}, \"yaxis\": {\"backgroundcolor\": \"rgb(17,17,17)\", \"gridcolor\": \"#506784\", \"gridwidth\": 2, \"linecolor\": \"#506784\", \"showbackground\": true, \"ticks\": \"\", \"zerolinecolor\": \"#C8D4E3\"}, \"zaxis\": {\"backgroundcolor\": \"rgb(17,17,17)\", \"gridcolor\": \"#506784\", \"gridwidth\": 2, \"linecolor\": \"#506784\", \"showbackground\": true, \"ticks\": \"\", \"zerolinecolor\": \"#C8D4E3\"}}, \"shapedefaults\": {\"line\": {\"color\": \"#f2f5fa\"}}, \"sliderdefaults\": {\"bgcolor\": \"#C8D4E3\", \"bordercolor\": \"rgb(17,17,17)\", \"borderwidth\": 1, \"tickwidth\": 0}, \"ternary\": {\"aaxis\": {\"gridcolor\": \"#506784\", \"linecolor\": \"#506784\", \"ticks\": \"\"}, \"baxis\": {\"gridcolor\": \"#506784\", \"linecolor\": \"#506784\", \"ticks\": \"\"}, \"bgcolor\": \"rgb(17,17,17)\", \"caxis\": {\"gridcolor\": \"#506784\", \"linecolor\": \"#506784\", \"ticks\": \"\"}}, \"title\": {\"x\": 0.05}, \"updatemenudefaults\": {\"bgcolor\": \"#506784\", \"borderwidth\": 0}, \"xaxis\": {\"automargin\": true, \"gridcolor\": \"#283442\", \"linecolor\": \"#506784\", \"ticks\": \"\", \"title\": {\"standoff\": 15}, \"zerolinecolor\": \"#283442\", \"zerolinewidth\": 2}, \"yaxis\": {\"automargin\": true, \"gridcolor\": \"#283442\", \"linecolor\": \"#506784\", \"ticks\": \"\", \"title\": {\"standoff\": 15}, \"zerolinecolor\": \"#283442\", \"zerolinewidth\": 2}}}, \"title\": {\"font\": {\"family\": \"Aerial\", \"size\": 24}, \"text\": \"Crimes in top 10 states with their district in 2012 \"}},\n",
       "                        {\"responsive\": true}\n",
       "                    ).then(function(){\n",
       "                            \n",
       "var gd = document.getElementById('9bb428ed-3c72-4222-b0a6-f31f19ef7740');\n",
       "var x = new MutationObserver(function (mutations, observer) {{\n",
       "        var display = window.getComputedStyle(gd).display;\n",
       "        if (!display || display === 'none') {{\n",
       "            console.log([gd, 'removed!']);\n",
       "            Plotly.purge(gd);\n",
       "            observer.disconnect();\n",
       "        }}\n",
       "}});\n",
       "\n",
       "// Listen for the removal of the full notebook cells\n",
       "var notebookContainer = gd.closest('#notebook-container');\n",
       "if (notebookContainer) {{\n",
       "    x.observe(notebookContainer, {childList: true});\n",
       "}}\n",
       "\n",
       "// Listen for the clearing of the current output cell\n",
       "var outputEl = gd.closest('.output');\n",
       "if (outputEl) {{\n",
       "    x.observe(outputEl, {childList: true});\n",
       "}}\n",
       "\n",
       "                        })\n",
       "                };\n",
       "                });\n",
       "            </script>\n",
       "        </div>"
      ]
     },
     "metadata": {},
     "output_type": "display_data"
    }
   ],
   "source": [
    "famous_crime = ['MURDER','RAPE','KIDNAPPING & ABDUCTION','ROBBERY','IMPORTATION OF GIRLS FROM FOREIGN COUNTRIES','DACOITY'\n",
    "                ,'RIOTS']\n",
    "\n",
    "fig = px.sunburst(df_top10_det[df_top10_det['YEAR'] == 2012],path = ['STATE/UT','DISTRICT'],values='TOTAL IPC CRIMES',\n",
    "                  color='MURDER',hover_data = famous_crime,hover_name = 'DISTRICT',template = 'plotly_dark')\n",
    "fig.update_layout(title = 'Crimes in top 10 states with their district in 2012 ',title_font_size=24,paper_bgcolor='black',\n",
    "                     title_font_family='Aerial',font={'color':'red','family':'Times New Roman','size':15})\n"
   ]
  },
  {
   "cell_type": "markdown",
   "metadata": {},
   "source": [
    "from above plot when we click on any state then we can see the in which district which crime has most popular the size of leafs are depend on the total ipc crimes and the color gives us the idea murder from above graph we can see the patna is most popular city in Murder in all the district in top 10 states in 2012 of these top10 states"
   ]
  },
  {
   "cell_type": "code",
   "execution_count": 47,
   "metadata": {},
   "outputs": [],
   "source": [
    "df_top10 = df_top10[df_top10['DISTRICT'] == 'TOTAL']\n"
   ]
  },
  {
   "cell_type": "code",
   "execution_count": 48,
   "metadata": {},
   "outputs": [
    {
     "data": {
      "application/vnd.plotly.v1+json": {
       "config": {
        "plotlyServerURL": "https://plot.ly"
       },
       "data": [
        {
         "hovertemplate": "variable=MURDER<br>YEAR=2001<br>STATE/UT=%{x}<br>value=%{y}<extra></extra>",
         "legendgroup": "MURDER",
         "line": {
          "color": "#636efa"
         },
         "mode": "lines",
         "name": "MURDER",
         "orientation": "v",
         "showlegend": true,
         "stackgroup": "1",
         "type": "scatter",
         "x": [
          "ANDHRA PRADESH",
          "BIHAR",
          "GUJARAT",
          "KARNATAKA",
          "KERALA",
          "MADHYA PRADESH",
          "MAHARASHTRA",
          "RAJASTHAN",
          "TAMIL NADU",
          "UTTAR PRADESH"
         ],
         "xaxis": "x",
         "y": [
          2602,
          3643,
          1226,
          1626,
          472,
          2425,
          2839,
          1259,
          1662,
          7601
         ],
         "yaxis": "y"
        },
        {
         "hovertemplate": "variable=RAPE<br>YEAR=2001<br>STATE/UT=%{x}<br>value=%{y}<extra></extra>",
         "legendgroup": "RAPE",
         "line": {
          "color": "#EF553B"
         },
         "mode": "lines",
         "name": "RAPE",
         "orientation": "v",
         "showlegend": true,
         "stackgroup": "1",
         "type": "scatter",
         "x": [
          "ANDHRA PRADESH",
          "BIHAR",
          "GUJARAT",
          "KARNATAKA",
          "KERALA",
          "MADHYA PRADESH",
          "MAHARASHTRA",
          "RAJASTHAN",
          "TAMIL NADU",
          "UTTAR PRADESH"
         ],
         "xaxis": "x",
         "y": [
          871,
          888,
          286,
          293,
          562,
          2851,
          1302,
          1049,
          423,
          1958
         ],
         "yaxis": "y"
        },
        {
         "hovertemplate": "variable=KIDNAPPING & ABDUCTION<br>YEAR=2001<br>STATE/UT=%{x}<br>value=%{y}<extra></extra>",
         "legendgroup": "KIDNAPPING & ABDUCTION",
         "line": {
          "color": "#00cc96"
         },
         "mode": "lines",
         "name": "KIDNAPPING & ABDUCTION",
         "orientation": "v",
         "showlegend": true,
         "stackgroup": "1",
         "type": "scatter",
         "x": [
          "ANDHRA PRADESH",
          "BIHAR",
          "GUJARAT",
          "KARNATAKA",
          "KERALA",
          "MADHYA PRADESH",
          "MAHARASHTRA",
          "RAJASTHAN",
          "TAMIL NADU",
          "UTTAR PRADESH"
         ],
         "xaxis": "x",
         "y": [
          1182,
          2159,
          998,
          559,
          183,
          956,
          985,
          2718,
          952,
          4330
         ],
         "yaxis": "y"
        },
        {
         "hovertemplate": "variable=ROBBERY<br>YEAR=2001<br>STATE/UT=%{x}<br>value=%{y}<extra></extra>",
         "legendgroup": "ROBBERY",
         "line": {
          "color": "#ab63fa"
         },
         "mode": "lines",
         "name": "ROBBERY",
         "orientation": "v",
         "showlegend": true,
         "stackgroup": "1",
         "type": "scatter",
         "x": [
          "ANDHRA PRADESH",
          "BIHAR",
          "GUJARAT",
          "KARNATAKA",
          "KERALA",
          "MADHYA PRADESH",
          "MAHARASHTRA",
          "RAJASTHAN",
          "TAMIL NADU",
          "UTTAR PRADESH"
         ],
         "xaxis": "x",
         "y": [
          629,
          2203,
          991,
          847,
          517,
          1764,
          2239,
          889,
          672,
          3825
         ],
         "yaxis": "y"
        },
        {
         "hovertemplate": "variable=IMPORTATION OF GIRLS FROM FOREIGN COUNTRIES<br>YEAR=2001<br>STATE/UT=%{x}<br>value=%{y}<extra></extra>",
         "legendgroup": "IMPORTATION OF GIRLS FROM FOREIGN COUNTRIES",
         "line": {
          "color": "#FFA15A"
         },
         "mode": "lines",
         "name": "IMPORTATION OF GIRLS FROM FOREIGN COUNTRIES",
         "orientation": "v",
         "showlegend": true,
         "stackgroup": "1",
         "type": "scatter",
         "x": [
          "ANDHRA PRADESH",
          "BIHAR",
          "GUJARAT",
          "KARNATAKA",
          "KERALA",
          "MADHYA PRADESH",
          "MAHARASHTRA",
          "RAJASTHAN",
          "TAMIL NADU",
          "UTTAR PRADESH"
         ],
         "xaxis": "x",
         "y": [
          7,
          83,
          0,
          0,
          0,
          0,
          1,
          1,
          14,
          0
         ],
         "yaxis": "y"
        },
        {
         "hovertemplate": "variable=DACOITY<br>YEAR=2001<br>STATE/UT=%{x}<br>value=%{y}<extra></extra>",
         "legendgroup": "DACOITY",
         "line": {
          "color": "#19d3f3"
         },
         "mode": "lines",
         "name": "DACOITY",
         "orientation": "v",
         "showlegend": true,
         "stackgroup": "1",
         "type": "scatter",
         "x": [
          "ANDHRA PRADESH",
          "BIHAR",
          "GUJARAT",
          "KARNATAKA",
          "KERALA",
          "MADHYA PRADESH",
          "MAHARASHTRA",
          "RAJASTHAN",
          "TAMIL NADU",
          "UTTAR PRADESH"
         ],
         "xaxis": "x",
         "y": [
          214,
          1291,
          327,
          178,
          176,
          166,
          529,
          60,
          158,
          905
         ],
         "yaxis": "y"
        },
        {
         "hovertemplate": "variable=RIOTS<br>YEAR=2001<br>STATE/UT=%{x}<br>value=%{y}<extra></extra>",
         "legendgroup": "RIOTS",
         "line": {
          "color": "#FF6692"
         },
         "mode": "lines",
         "name": "RIOTS",
         "orientation": "v",
         "showlegend": true,
         "stackgroup": "1",
         "type": "scatter",
         "x": [
          "ANDHRA PRADESH",
          "BIHAR",
          "GUJARAT",
          "KARNATAKA",
          "KERALA",
          "MADHYA PRADESH",
          "MAHARASHTRA",
          "RAJASTHAN",
          "TAMIL NADU",
          "UTTAR PRADESH"
         ],
         "xaxis": "x",
         "y": [
          3001,
          8606,
          1930,
          6686,
          8108,
          3395,
          6719,
          11214,
          5196,
          7343
         ],
         "yaxis": "y"
        }
       ],
       "frames": [
        {
         "data": [
          {
           "hovertemplate": "variable=MURDER<br>YEAR=2001<br>STATE/UT=%{x}<br>value=%{y}<extra></extra>",
           "legendgroup": "MURDER",
           "line": {
            "color": "#636efa"
           },
           "mode": "lines",
           "name": "MURDER",
           "orientation": "v",
           "showlegend": true,
           "stackgroup": "1",
           "type": "scatter",
           "x": [
            "ANDHRA PRADESH",
            "BIHAR",
            "GUJARAT",
            "KARNATAKA",
            "KERALA",
            "MADHYA PRADESH",
            "MAHARASHTRA",
            "RAJASTHAN",
            "TAMIL NADU",
            "UTTAR PRADESH"
           ],
           "xaxis": "x",
           "y": [
            2602,
            3643,
            1226,
            1626,
            472,
            2425,
            2839,
            1259,
            1662,
            7601
           ],
           "yaxis": "y"
          },
          {
           "hovertemplate": "variable=RAPE<br>YEAR=2001<br>STATE/UT=%{x}<br>value=%{y}<extra></extra>",
           "legendgroup": "RAPE",
           "line": {
            "color": "#EF553B"
           },
           "mode": "lines",
           "name": "RAPE",
           "orientation": "v",
           "showlegend": true,
           "stackgroup": "1",
           "type": "scatter",
           "x": [
            "ANDHRA PRADESH",
            "BIHAR",
            "GUJARAT",
            "KARNATAKA",
            "KERALA",
            "MADHYA PRADESH",
            "MAHARASHTRA",
            "RAJASTHAN",
            "TAMIL NADU",
            "UTTAR PRADESH"
           ],
           "xaxis": "x",
           "y": [
            871,
            888,
            286,
            293,
            562,
            2851,
            1302,
            1049,
            423,
            1958
           ],
           "yaxis": "y"
          },
          {
           "hovertemplate": "variable=KIDNAPPING & ABDUCTION<br>YEAR=2001<br>STATE/UT=%{x}<br>value=%{y}<extra></extra>",
           "legendgroup": "KIDNAPPING & ABDUCTION",
           "line": {
            "color": "#00cc96"
           },
           "mode": "lines",
           "name": "KIDNAPPING & ABDUCTION",
           "orientation": "v",
           "showlegend": true,
           "stackgroup": "1",
           "type": "scatter",
           "x": [
            "ANDHRA PRADESH",
            "BIHAR",
            "GUJARAT",
            "KARNATAKA",
            "KERALA",
            "MADHYA PRADESH",
            "MAHARASHTRA",
            "RAJASTHAN",
            "TAMIL NADU",
            "UTTAR PRADESH"
           ],
           "xaxis": "x",
           "y": [
            1182,
            2159,
            998,
            559,
            183,
            956,
            985,
            2718,
            952,
            4330
           ],
           "yaxis": "y"
          },
          {
           "hovertemplate": "variable=ROBBERY<br>YEAR=2001<br>STATE/UT=%{x}<br>value=%{y}<extra></extra>",
           "legendgroup": "ROBBERY",
           "line": {
            "color": "#ab63fa"
           },
           "mode": "lines",
           "name": "ROBBERY",
           "orientation": "v",
           "showlegend": true,
           "stackgroup": "1",
           "type": "scatter",
           "x": [
            "ANDHRA PRADESH",
            "BIHAR",
            "GUJARAT",
            "KARNATAKA",
            "KERALA",
            "MADHYA PRADESH",
            "MAHARASHTRA",
            "RAJASTHAN",
            "TAMIL NADU",
            "UTTAR PRADESH"
           ],
           "xaxis": "x",
           "y": [
            629,
            2203,
            991,
            847,
            517,
            1764,
            2239,
            889,
            672,
            3825
           ],
           "yaxis": "y"
          },
          {
           "hovertemplate": "variable=IMPORTATION OF GIRLS FROM FOREIGN COUNTRIES<br>YEAR=2001<br>STATE/UT=%{x}<br>value=%{y}<extra></extra>",
           "legendgroup": "IMPORTATION OF GIRLS FROM FOREIGN COUNTRIES",
           "line": {
            "color": "#FFA15A"
           },
           "mode": "lines",
           "name": "IMPORTATION OF GIRLS FROM FOREIGN COUNTRIES",
           "orientation": "v",
           "showlegend": true,
           "stackgroup": "1",
           "type": "scatter",
           "x": [
            "ANDHRA PRADESH",
            "BIHAR",
            "GUJARAT",
            "KARNATAKA",
            "KERALA",
            "MADHYA PRADESH",
            "MAHARASHTRA",
            "RAJASTHAN",
            "TAMIL NADU",
            "UTTAR PRADESH"
           ],
           "xaxis": "x",
           "y": [
            7,
            83,
            0,
            0,
            0,
            0,
            1,
            1,
            14,
            0
           ],
           "yaxis": "y"
          },
          {
           "hovertemplate": "variable=DACOITY<br>YEAR=2001<br>STATE/UT=%{x}<br>value=%{y}<extra></extra>",
           "legendgroup": "DACOITY",
           "line": {
            "color": "#19d3f3"
           },
           "mode": "lines",
           "name": "DACOITY",
           "orientation": "v",
           "showlegend": true,
           "stackgroup": "1",
           "type": "scatter",
           "x": [
            "ANDHRA PRADESH",
            "BIHAR",
            "GUJARAT",
            "KARNATAKA",
            "KERALA",
            "MADHYA PRADESH",
            "MAHARASHTRA",
            "RAJASTHAN",
            "TAMIL NADU",
            "UTTAR PRADESH"
           ],
           "xaxis": "x",
           "y": [
            214,
            1291,
            327,
            178,
            176,
            166,
            529,
            60,
            158,
            905
           ],
           "yaxis": "y"
          },
          {
           "hovertemplate": "variable=RIOTS<br>YEAR=2001<br>STATE/UT=%{x}<br>value=%{y}<extra></extra>",
           "legendgroup": "RIOTS",
           "line": {
            "color": "#FF6692"
           },
           "mode": "lines",
           "name": "RIOTS",
           "orientation": "v",
           "showlegend": true,
           "stackgroup": "1",
           "type": "scatter",
           "x": [
            "ANDHRA PRADESH",
            "BIHAR",
            "GUJARAT",
            "KARNATAKA",
            "KERALA",
            "MADHYA PRADESH",
            "MAHARASHTRA",
            "RAJASTHAN",
            "TAMIL NADU",
            "UTTAR PRADESH"
           ],
           "xaxis": "x",
           "y": [
            3001,
            8606,
            1930,
            6686,
            8108,
            3395,
            6719,
            11214,
            5196,
            7343
           ],
           "yaxis": "y"
          }
         ],
         "name": "2001"
        },
        {
         "data": [
          {
           "hovertemplate": "variable=MURDER<br>YEAR=2002<br>STATE/UT=%{x}<br>value=%{y}<extra></extra>",
           "legendgroup": "MURDER",
           "line": {
            "color": "#636efa"
           },
           "mode": "lines",
           "name": "MURDER",
           "orientation": "v",
           "showlegend": true,
           "stackgroup": "1",
           "type": "scatter",
           "x": [
            "ANDHRA PRADESH",
            "BIHAR",
            "GUJARAT",
            "KARNATAKA",
            "KERALA",
            "MADHYA PRADESH",
            "MAHARASHTRA",
            "RAJASTHAN",
            "TAMIL NADU",
            "UTTAR PRADESH"
           ],
           "xaxis": "x",
           "y": [
            2525,
            3712,
            1532,
            1627,
            454,
            2395,
            2768,
            1276,
            1723,
            6825
           ],
           "yaxis": "y"
          },
          {
           "hovertemplate": "variable=RAPE<br>YEAR=2002<br>STATE/UT=%{x}<br>value=%{y}<extra></extra>",
           "legendgroup": "RAPE",
           "line": {
            "color": "#EF553B"
           },
           "mode": "lines",
           "name": "RAPE",
           "orientation": "v",
           "showlegend": true,
           "stackgroup": "1",
           "type": "scatter",
           "x": [
            "ANDHRA PRADESH",
            "BIHAR",
            "GUJARAT",
            "KARNATAKA",
            "KERALA",
            "MADHYA PRADESH",
            "MAHARASHTRA",
            "RAJASTHAN",
            "TAMIL NADU",
            "UTTAR PRADESH"
           ],
           "xaxis": "x",
           "y": [
            1002,
            1040,
            267,
            292,
            499,
            2891,
            1352,
            1051,
            534,
            1415
           ],
           "yaxis": "y"
          },
          {
           "hovertemplate": "variable=KIDNAPPING & ABDUCTION<br>YEAR=2002<br>STATE/UT=%{x}<br>value=%{y}<extra></extra>",
           "legendgroup": "KIDNAPPING & ABDUCTION",
           "line": {
            "color": "#00cc96"
           },
           "mode": "lines",
           "name": "KIDNAPPING & ABDUCTION",
           "orientation": "v",
           "showlegend": true,
           "stackgroup": "1",
           "type": "scatter",
           "x": [
            "ANDHRA PRADESH",
            "BIHAR",
            "GUJARAT",
            "KARNATAKA",
            "KERALA",
            "MADHYA PRADESH",
            "MAHARASHTRA",
            "RAJASTHAN",
            "TAMIL NADU",
            "UTTAR PRADESH"
           ],
           "xaxis": "x",
           "y": [
            1302,
            2361,
            1015,
            645,
            162,
            964,
            953,
            2587,
            1001,
            3430
           ],
           "yaxis": "y"
          },
          {
           "hovertemplate": "variable=ROBBERY<br>YEAR=2002<br>STATE/UT=%{x}<br>value=%{y}<extra></extra>",
           "legendgroup": "ROBBERY",
           "line": {
            "color": "#ab63fa"
           },
           "mode": "lines",
           "name": "ROBBERY",
           "orientation": "v",
           "showlegend": true,
           "stackgroup": "1",
           "type": "scatter",
           "x": [
            "ANDHRA PRADESH",
            "BIHAR",
            "GUJARAT",
            "KARNATAKA",
            "KERALA",
            "MADHYA PRADESH",
            "MAHARASHTRA",
            "RAJASTHAN",
            "TAMIL NADU",
            "UTTAR PRADESH"
           ],
           "xaxis": "x",
           "y": [
            648,
            2288,
            1098,
            972,
            610,
            1829,
            2136,
            734,
            653,
            2840
           ],
           "yaxis": "y"
          },
          {
           "hovertemplate": "variable=IMPORTATION OF GIRLS FROM FOREIGN COUNTRIES<br>YEAR=2002<br>STATE/UT=%{x}<br>value=%{y}<extra></extra>",
           "legendgroup": "IMPORTATION OF GIRLS FROM FOREIGN COUNTRIES",
           "line": {
            "color": "#FFA15A"
           },
           "mode": "lines",
           "name": "IMPORTATION OF GIRLS FROM FOREIGN COUNTRIES",
           "orientation": "v",
           "showlegend": true,
           "stackgroup": "1",
           "type": "scatter",
           "x": [
            "ANDHRA PRADESH",
            "BIHAR",
            "GUJARAT",
            "KARNATAKA",
            "KERALA",
            "MADHYA PRADESH",
            "MAHARASHTRA",
            "RAJASTHAN",
            "TAMIL NADU",
            "UTTAR PRADESH"
           ],
           "xaxis": "x",
           "y": [
            0,
            38,
            0,
            0,
            0,
            0,
            0,
            0,
            0,
            0
           ],
           "yaxis": "y"
          },
          {
           "hovertemplate": "variable=DACOITY<br>YEAR=2002<br>STATE/UT=%{x}<br>value=%{y}<extra></extra>",
           "legendgroup": "DACOITY",
           "line": {
            "color": "#19d3f3"
           },
           "mode": "lines",
           "name": "DACOITY",
           "orientation": "v",
           "showlegend": true,
           "stackgroup": "1",
           "type": "scatter",
           "x": [
            "ANDHRA PRADESH",
            "BIHAR",
            "GUJARAT",
            "KARNATAKA",
            "KERALA",
            "MADHYA PRADESH",
            "MAHARASHTRA",
            "RAJASTHAN",
            "TAMIL NADU",
            "UTTAR PRADESH"
           ],
           "xaxis": "x",
           "y": [
            197,
            1289,
            804,
            178,
            137,
            136,
            548,
            47,
            176,
            552
           ],
           "yaxis": "y"
          },
          {
           "hovertemplate": "variable=RIOTS<br>YEAR=2002<br>STATE/UT=%{x}<br>value=%{y}<extra></extra>",
           "legendgroup": "RIOTS",
           "line": {
            "color": "#FF6692"
           },
           "mode": "lines",
           "name": "RIOTS",
           "orientation": "v",
           "showlegend": true,
           "stackgroup": "1",
           "type": "scatter",
           "x": [
            "ANDHRA PRADESH",
            "BIHAR",
            "GUJARAT",
            "KARNATAKA",
            "KERALA",
            "MADHYA PRADESH",
            "MAHARASHTRA",
            "RAJASTHAN",
            "TAMIL NADU",
            "UTTAR PRADESH"
           ],
           "xaxis": "x",
           "y": [
            2140,
            8675,
            3665,
            6838,
            8090,
            3178,
            6360,
            7178,
            4252,
            4878
           ],
           "yaxis": "y"
          }
         ],
         "name": "2002"
        },
        {
         "data": [
          {
           "hovertemplate": "variable=MURDER<br>YEAR=2003<br>STATE/UT=%{x}<br>value=%{y}<extra></extra>",
           "legendgroup": "MURDER",
           "line": {
            "color": "#636efa"
           },
           "mode": "lines",
           "name": "MURDER",
           "orientation": "v",
           "showlegend": true,
           "stackgroup": "1",
           "type": "scatter",
           "x": [
            "ANDHRA PRADESH",
            "BIHAR",
            "GUJARAT",
            "KARNATAKA",
            "KERALA",
            "MADHYA PRADESH",
            "MAHARASHTRA",
            "RAJASTHAN",
            "TAMIL NADU",
            "UTTAR PRADESH"
           ],
           "xaxis": "x",
           "y": [
            2667,
            3771,
            1114,
            1506,
            435,
            2227,
            2772,
            1262,
            1591,
            5284
           ],
           "yaxis": "y"
          },
          {
           "hovertemplate": "variable=RAPE<br>YEAR=2003<br>STATE/UT=%{x}<br>value=%{y}<extra></extra>",
           "legendgroup": "RAPE",
           "line": {
            "color": "#EF553B"
           },
           "mode": "lines",
           "name": "RAPE",
           "orientation": "v",
           "showlegend": true,
           "stackgroup": "1",
           "type": "scatter",
           "x": [
            "ANDHRA PRADESH",
            "BIHAR",
            "GUJARAT",
            "KARNATAKA",
            "KERALA",
            "MADHYA PRADESH",
            "MAHARASHTRA",
            "RAJASTHAN",
            "TAMIL NADU",
            "UTTAR PRADESH"
           ],
           "xaxis": "x",
           "y": [
            946,
            985,
            236,
            321,
            394,
            2738,
            1268,
            1050,
            557,
            911
           ],
           "yaxis": "y"
          },
          {
           "hovertemplate": "variable=KIDNAPPING & ABDUCTION<br>YEAR=2003<br>STATE/UT=%{x}<br>value=%{y}<extra></extra>",
           "legendgroup": "KIDNAPPING & ABDUCTION",
           "line": {
            "color": "#00cc96"
           },
           "mode": "lines",
           "name": "KIDNAPPING & ABDUCTION",
           "orientation": "v",
           "showlegend": true,
           "stackgroup": "1",
           "type": "scatter",
           "x": [
            "ANDHRA PRADESH",
            "BIHAR",
            "GUJARAT",
            "KARNATAKA",
            "KERALA",
            "MADHYA PRADESH",
            "MAHARASHTRA",
            "RAJASTHAN",
            "TAMIL NADU",
            "UTTAR PRADESH"
           ],
           "xaxis": "x",
           "y": [
            1485,
            2427,
            1044,
            531,
            189,
            887,
            926,
            2238,
            879,
            2208
           ],
           "yaxis": "y"
          },
          {
           "hovertemplate": "variable=ROBBERY<br>YEAR=2003<br>STATE/UT=%{x}<br>value=%{y}<extra></extra>",
           "legendgroup": "ROBBERY",
           "line": {
            "color": "#ab63fa"
           },
           "mode": "lines",
           "name": "ROBBERY",
           "orientation": "v",
           "showlegend": true,
           "stackgroup": "1",
           "type": "scatter",
           "x": [
            "ANDHRA PRADESH",
            "BIHAR",
            "GUJARAT",
            "KARNATAKA",
            "KERALA",
            "MADHYA PRADESH",
            "MAHARASHTRA",
            "RAJASTHAN",
            "TAMIL NADU",
            "UTTAR PRADESH"
           ],
           "xaxis": "x",
           "y": [
            660,
            2463,
            1267,
            861,
            634,
            1578,
            2096,
            655,
            514,
            1988
           ],
           "yaxis": "y"
          },
          {
           "hovertemplate": "variable=IMPORTATION OF GIRLS FROM FOREIGN COUNTRIES<br>YEAR=2003<br>STATE/UT=%{x}<br>value=%{y}<extra></extra>",
           "legendgroup": "IMPORTATION OF GIRLS FROM FOREIGN COUNTRIES",
           "line": {
            "color": "#FFA15A"
           },
           "mode": "lines",
           "name": "IMPORTATION OF GIRLS FROM FOREIGN COUNTRIES",
           "orientation": "v",
           "showlegend": true,
           "stackgroup": "1",
           "type": "scatter",
           "x": [
            "ANDHRA PRADESH",
            "BIHAR",
            "GUJARAT",
            "KARNATAKA",
            "KERALA",
            "MADHYA PRADESH",
            "MAHARASHTRA",
            "RAJASTHAN",
            "TAMIL NADU",
            "UTTAR PRADESH"
           ],
           "xaxis": "x",
           "y": [
            5,
            37,
            0,
            0,
            0,
            0,
            0,
            1,
            1,
            0
           ],
           "yaxis": "y"
          },
          {
           "hovertemplate": "variable=DACOITY<br>YEAR=2003<br>STATE/UT=%{x}<br>value=%{y}<extra></extra>",
           "legendgroup": "DACOITY",
           "line": {
            "color": "#19d3f3"
           },
           "mode": "lines",
           "name": "DACOITY",
           "orientation": "v",
           "showlegend": true,
           "stackgroup": "1",
           "type": "scatter",
           "x": [
            "ANDHRA PRADESH",
            "BIHAR",
            "GUJARAT",
            "KARNATAKA",
            "KERALA",
            "MADHYA PRADESH",
            "MAHARASHTRA",
            "RAJASTHAN",
            "TAMIL NADU",
            "UTTAR PRADESH"
           ],
           "xaxis": "x",
           "y": [
            176,
            1221,
            338,
            220,
            142,
            153,
            514,
            36,
            95,
            317
           ],
           "yaxis": "y"
          },
          {
           "hovertemplate": "variable=RIOTS<br>YEAR=2003<br>STATE/UT=%{x}<br>value=%{y}<extra></extra>",
           "legendgroup": "RIOTS",
           "line": {
            "color": "#FF6692"
           },
           "mode": "lines",
           "name": "RIOTS",
           "orientation": "v",
           "showlegend": true,
           "stackgroup": "1",
           "type": "scatter",
           "x": [
            "ANDHRA PRADESH",
            "BIHAR",
            "GUJARAT",
            "KARNATAKA",
            "KERALA",
            "MADHYA PRADESH",
            "MAHARASHTRA",
            "RAJASTHAN",
            "TAMIL NADU",
            "UTTAR PRADESH"
           ],
           "xaxis": "x",
           "y": [
            2328,
            8029,
            1824,
            5784,
            6798,
            2729,
            5714,
            4052,
            3706,
            2251
           ],
           "yaxis": "y"
          }
         ],
         "name": "2003"
        },
        {
         "data": [
          {
           "hovertemplate": "variable=MURDER<br>YEAR=2004<br>STATE/UT=%{x}<br>value=%{y}<extra></extra>",
           "legendgroup": "MURDER",
           "line": {
            "color": "#636efa"
           },
           "mode": "lines",
           "name": "MURDER",
           "orientation": "v",
           "showlegend": true,
           "stackgroup": "1",
           "type": "scatter",
           "x": [
            "ANDHRA PRADESH",
            "BIHAR",
            "GUJARAT",
            "KARNATAKA",
            "KERALA",
            "MADHYA PRADESH",
            "MAHARASHTRA",
            "RAJASTHAN",
            "TAMIL NADU",
            "UTTAR PRADESH"
           ],
           "xaxis": "x",
           "y": [
            2579,
            3948,
            1113,
            1519,
            417,
            2379,
            2696,
            1279,
            1479,
            6126
           ],
           "yaxis": "y"
          },
          {
           "hovertemplate": "variable=RAPE<br>YEAR=2004<br>STATE/UT=%{x}<br>value=%{y}<extra></extra>",
           "legendgroup": "RAPE",
           "line": {
            "color": "#EF553B"
           },
           "mode": "lines",
           "name": "RAPE",
           "orientation": "v",
           "showlegend": true,
           "stackgroup": "1",
           "type": "scatter",
           "x": [
            "ANDHRA PRADESH",
            "BIHAR",
            "GUJARAT",
            "KARNATAKA",
            "KERALA",
            "MADHYA PRADESH",
            "MAHARASHTRA",
            "RAJASTHAN",
            "TAMIL NADU",
            "UTTAR PRADESH"
           ],
           "xaxis": "x",
           "y": [
            1016,
            1390,
            339,
            291,
            480,
            2875,
            1388,
            1038,
            618,
            1397
           ],
           "yaxis": "y"
          },
          {
           "hovertemplate": "variable=KIDNAPPING & ABDUCTION<br>YEAR=2004<br>STATE/UT=%{x}<br>value=%{y}<extra></extra>",
           "legendgroup": "KIDNAPPING & ABDUCTION",
           "line": {
            "color": "#00cc96"
           },
           "mode": "lines",
           "name": "KIDNAPPING & ABDUCTION",
           "orientation": "v",
           "showlegend": true,
           "stackgroup": "1",
           "type": "scatter",
           "x": [
            "ANDHRA PRADESH",
            "BIHAR",
            "GUJARAT",
            "KARNATAKA",
            "KERALA",
            "MADHYA PRADESH",
            "MAHARASHTRA",
            "RAJASTHAN",
            "TAMIL NADU",
            "UTTAR PRADESH"
           ],
           "xaxis": "x",
           "y": [
            1526,
            3413,
            1133,
            592,
            232,
            832,
            1045,
            2384,
            870,
            3337
           ],
           "yaxis": "y"
          },
          {
           "hovertemplate": "variable=ROBBERY<br>YEAR=2004<br>STATE/UT=%{x}<br>value=%{y}<extra></extra>",
           "legendgroup": "ROBBERY",
           "line": {
            "color": "#ab63fa"
           },
           "mode": "lines",
           "name": "ROBBERY",
           "orientation": "v",
           "showlegend": true,
           "stackgroup": "1",
           "type": "scatter",
           "x": [
            "ANDHRA PRADESH",
            "BIHAR",
            "GUJARAT",
            "KARNATAKA",
            "KERALA",
            "MADHYA PRADESH",
            "MAHARASHTRA",
            "RAJASTHAN",
            "TAMIL NADU",
            "UTTAR PRADESH"
           ],
           "xaxis": "x",
           "y": [
            596,
            2986,
            1136,
            1024,
            639,
            1526,
            2229,
            673,
            464,
            2606
           ],
           "yaxis": "y"
          },
          {
           "hovertemplate": "variable=IMPORTATION OF GIRLS FROM FOREIGN COUNTRIES<br>YEAR=2004<br>STATE/UT=%{x}<br>value=%{y}<extra></extra>",
           "legendgroup": "IMPORTATION OF GIRLS FROM FOREIGN COUNTRIES",
           "line": {
            "color": "#FFA15A"
           },
           "mode": "lines",
           "name": "IMPORTATION OF GIRLS FROM FOREIGN COUNTRIES",
           "orientation": "v",
           "showlegend": true,
           "stackgroup": "1",
           "type": "scatter",
           "x": [
            "ANDHRA PRADESH",
            "BIHAR",
            "GUJARAT",
            "KARNATAKA",
            "KERALA",
            "MADHYA PRADESH",
            "MAHARASHTRA",
            "RAJASTHAN",
            "TAMIL NADU",
            "UTTAR PRADESH"
           ],
           "xaxis": "x",
           "y": [
            2,
            35,
            0,
            0,
            0,
            0,
            0,
            1,
            0,
            3
           ],
           "yaxis": "y"
          },
          {
           "hovertemplate": "variable=DACOITY<br>YEAR=2004<br>STATE/UT=%{x}<br>value=%{y}<extra></extra>",
           "legendgroup": "DACOITY",
           "line": {
            "color": "#19d3f3"
           },
           "mode": "lines",
           "name": "DACOITY",
           "orientation": "v",
           "showlegend": true,
           "stackgroup": "1",
           "type": "scatter",
           "x": [
            "ANDHRA PRADESH",
            "BIHAR",
            "GUJARAT",
            "KARNATAKA",
            "KERALA",
            "MADHYA PRADESH",
            "MAHARASHTRA",
            "RAJASTHAN",
            "TAMIL NADU",
            "UTTAR PRADESH"
           ],
           "xaxis": "x",
           "y": [
            199,
            1319,
            360,
            177,
            129,
            147,
            629,
            58,
            72,
            378
           ],
           "yaxis": "y"
          },
          {
           "hovertemplate": "variable=RIOTS<br>YEAR=2004<br>STATE/UT=%{x}<br>value=%{y}<extra></extra>",
           "legendgroup": "RIOTS",
           "line": {
            "color": "#FF6692"
           },
           "mode": "lines",
           "name": "RIOTS",
           "orientation": "v",
           "showlegend": true,
           "stackgroup": "1",
           "type": "scatter",
           "x": [
            "ANDHRA PRADESH",
            "BIHAR",
            "GUJARAT",
            "KARNATAKA",
            "KERALA",
            "MADHYA PRADESH",
            "MAHARASHTRA",
            "RAJASTHAN",
            "TAMIL NADU",
            "UTTAR PRADESH"
           ],
           "xaxis": "x",
           "y": [
            2540,
            9793,
            1599,
            6237,
            6461,
            2479,
            5980,
            3101,
            3433,
            3915
           ],
           "yaxis": "y"
          }
         ],
         "name": "2004"
        },
        {
         "data": [
          {
           "hovertemplate": "variable=MURDER<br>YEAR=2005<br>STATE/UT=%{x}<br>value=%{y}<extra></extra>",
           "legendgroup": "MURDER",
           "line": {
            "color": "#636efa"
           },
           "mode": "lines",
           "name": "MURDER",
           "orientation": "v",
           "showlegend": true,
           "stackgroup": "1",
           "type": "scatter",
           "x": [
            "ANDHRA PRADESH",
            "BIHAR",
            "GUJARAT",
            "KARNATAKA",
            "KERALA",
            "MADHYA PRADESH",
            "MAHARASHTRA",
            "RAJASTHAN",
            "TAMIL NADU",
            "UTTAR PRADESH"
           ],
           "xaxis": "x",
           "y": [
            2750,
            3471,
            1033,
            1609,
            388,
            2405,
            2621,
            1221,
            1440,
            5711
           ],
           "yaxis": "y"
          },
          {
           "hovertemplate": "variable=RAPE<br>YEAR=2005<br>STATE/UT=%{x}<br>value=%{y}<extra></extra>",
           "legendgroup": "RAPE",
           "line": {
            "color": "#EF553B"
           },
           "mode": "lines",
           "name": "RAPE",
           "orientation": "v",
           "showlegend": true,
           "stackgroup": "1",
           "type": "scatter",
           "x": [
            "ANDHRA PRADESH",
            "BIHAR",
            "GUJARAT",
            "KARNATAKA",
            "KERALA",
            "MADHYA PRADESH",
            "MAHARASHTRA",
            "RAJASTHAN",
            "TAMIL NADU",
            "UTTAR PRADESH"
           ],
           "xaxis": "x",
           "y": [
            935,
            1147,
            324,
            343,
            478,
            2921,
            1545,
            993,
            571,
            1217
           ],
           "yaxis": "y"
          },
          {
           "hovertemplate": "variable=KIDNAPPING & ABDUCTION<br>YEAR=2005<br>STATE/UT=%{x}<br>value=%{y}<extra></extra>",
           "legendgroup": "KIDNAPPING & ABDUCTION",
           "line": {
            "color": "#00cc96"
           },
           "mode": "lines",
           "name": "KIDNAPPING & ABDUCTION",
           "orientation": "v",
           "showlegend": true,
           "stackgroup": "1",
           "type": "scatter",
           "x": [
            "ANDHRA PRADESH",
            "BIHAR",
            "GUJARAT",
            "KARNATAKA",
            "KERALA",
            "MADHYA PRADESH",
            "MAHARASHTRA",
            "RAJASTHAN",
            "TAMIL NADU",
            "UTTAR PRADESH"
           ],
           "xaxis": "x",
           "y": [
            1612,
            2693,
            1164,
            589,
            226,
            847,
            1194,
            1993,
            1029,
            2955
           ],
           "yaxis": "y"
          },
          {
           "hovertemplate": "variable=ROBBERY<br>YEAR=2005<br>STATE/UT=%{x}<br>value=%{y}<extra></extra>",
           "legendgroup": "ROBBERY",
           "line": {
            "color": "#ab63fa"
           },
           "mode": "lines",
           "name": "ROBBERY",
           "orientation": "v",
           "showlegend": true,
           "stackgroup": "1",
           "type": "scatter",
           "x": [
            "ANDHRA PRADESH",
            "BIHAR",
            "GUJARAT",
            "KARNATAKA",
            "KERALA",
            "MADHYA PRADESH",
            "MAHARASHTRA",
            "RAJASTHAN",
            "TAMIL NADU",
            "UTTAR PRADESH"
           ],
           "xaxis": "x",
           "y": [
            794,
            2374,
            966,
            1202,
            621,
            1557,
            2411,
            590,
            437,
            2049
           ],
           "yaxis": "y"
          },
          {
           "hovertemplate": "variable=IMPORTATION OF GIRLS FROM FOREIGN COUNTRIES<br>YEAR=2005<br>STATE/UT=%{x}<br>value=%{y}<extra></extra>",
           "legendgroup": "IMPORTATION OF GIRLS FROM FOREIGN COUNTRIES",
           "line": {
            "color": "#FFA15A"
           },
           "mode": "lines",
           "name": "IMPORTATION OF GIRLS FROM FOREIGN COUNTRIES",
           "orientation": "v",
           "showlegend": true,
           "stackgroup": "1",
           "type": "scatter",
           "x": [
            "ANDHRA PRADESH",
            "BIHAR",
            "GUJARAT",
            "KARNATAKA",
            "KERALA",
            "MADHYA PRADESH",
            "MAHARASHTRA",
            "RAJASTHAN",
            "TAMIL NADU",
            "UTTAR PRADESH"
           ],
           "xaxis": "x",
           "y": [
            3,
            74,
            0,
            0,
            0,
            3,
            0,
            0,
            0,
            0
           ],
           "yaxis": "y"
          },
          {
           "hovertemplate": "variable=DACOITY<br>YEAR=2005<br>STATE/UT=%{x}<br>value=%{y}<extra></extra>",
           "legendgroup": "DACOITY",
           "line": {
            "color": "#19d3f3"
           },
           "mode": "lines",
           "name": "DACOITY",
           "orientation": "v",
           "showlegend": true,
           "stackgroup": "1",
           "type": "scatter",
           "x": [
            "ANDHRA PRADESH",
            "BIHAR",
            "GUJARAT",
            "KARNATAKA",
            "KERALA",
            "MADHYA PRADESH",
            "MAHARASHTRA",
            "RAJASTHAN",
            "TAMIL NADU",
            "UTTAR PRADESH"
           ],
           "xaxis": "x",
           "y": [
            250,
            1212,
            282,
            208,
            110,
            147,
            641,
            41,
            73,
            286
           ],
           "yaxis": "y"
          },
          {
           "hovertemplate": "variable=RIOTS<br>YEAR=2005<br>STATE/UT=%{x}<br>value=%{y}<extra></extra>",
           "legendgroup": "RIOTS",
           "line": {
            "color": "#FF6692"
           },
           "mode": "lines",
           "name": "RIOTS",
           "orientation": "v",
           "showlegend": true,
           "stackgroup": "1",
           "type": "scatter",
           "x": [
            "ANDHRA PRADESH",
            "BIHAR",
            "GUJARAT",
            "KARNATAKA",
            "KERALA",
            "MADHYA PRADESH",
            "MAHARASHTRA",
            "RAJASTHAN",
            "TAMIL NADU",
            "UTTAR PRADESH"
           ],
           "xaxis": "x",
           "y": [
            2026,
            7671,
            1628,
            6151,
            6535,
            2573,
            6779,
            2290,
            2551,
            3926
           ],
           "yaxis": "y"
          }
         ],
         "name": "2005"
        },
        {
         "data": [
          {
           "hovertemplate": "variable=MURDER<br>YEAR=2006<br>STATE/UT=%{x}<br>value=%{y}<extra></extra>",
           "legendgroup": "MURDER",
           "line": {
            "color": "#636efa"
           },
           "mode": "lines",
           "name": "MURDER",
           "orientation": "v",
           "showlegend": true,
           "stackgroup": "1",
           "type": "scatter",
           "x": [
            "ANDHRA PRADESH",
            "BIHAR",
            "GUJARAT",
            "KARNATAKA",
            "KERALA",
            "MADHYA PRADESH",
            "MAHARASHTRA",
            "RAJASTHAN",
            "TAMIL NADU",
            "UTTAR PRADESH"
           ],
           "xaxis": "x",
           "y": [
            2766,
            3249,
            1165,
            1627,
            393,
            2309,
            2656,
            1209,
            1363,
            5480
           ],
           "yaxis": "y"
          },
          {
           "hovertemplate": "variable=RAPE<br>YEAR=2006<br>STATE/UT=%{x}<br>value=%{y}<extra></extra>",
           "legendgroup": "RAPE",
           "line": {
            "color": "#EF553B"
           },
           "mode": "lines",
           "name": "RAPE",
           "orientation": "v",
           "showlegend": true,
           "stackgroup": "1",
           "type": "scatter",
           "x": [
            "ANDHRA PRADESH",
            "BIHAR",
            "GUJARAT",
            "KARNATAKA",
            "KERALA",
            "MADHYA PRADESH",
            "MAHARASHTRA",
            "RAJASTHAN",
            "TAMIL NADU",
            "UTTAR PRADESH"
           ],
           "xaxis": "x",
           "y": [
            1049,
            1232,
            354,
            400,
            601,
            2900,
            1500,
            1085,
            457,
            1314
           ],
           "yaxis": "y"
          },
          {
           "hovertemplate": "variable=KIDNAPPING & ABDUCTION<br>YEAR=2006<br>STATE/UT=%{x}<br>value=%{y}<extra></extra>",
           "legendgroup": "KIDNAPPING & ABDUCTION",
           "line": {
            "color": "#00cc96"
           },
           "mode": "lines",
           "name": "KIDNAPPING & ABDUCTION",
           "orientation": "v",
           "showlegend": true,
           "stackgroup": "1",
           "type": "scatter",
           "x": [
            "ANDHRA PRADESH",
            "BIHAR",
            "GUJARAT",
            "KARNATAKA",
            "KERALA",
            "MADHYA PRADESH",
            "MAHARASHTRA",
            "RAJASTHAN",
            "TAMIL NADU",
            "UTTAR PRADESH"
           ],
           "xaxis": "x",
           "y": [
            2030,
            2619,
            1128,
            563,
            294,
            808,
            1261,
            1970,
            906,
            3318
           ],
           "yaxis": "y"
          },
          {
           "hovertemplate": "variable=ROBBERY<br>YEAR=2006<br>STATE/UT=%{x}<br>value=%{y}<extra></extra>",
           "legendgroup": "ROBBERY",
           "line": {
            "color": "#ab63fa"
           },
           "mode": "lines",
           "name": "ROBBERY",
           "orientation": "v",
           "showlegend": true,
           "stackgroup": "1",
           "type": "scatter",
           "x": [
            "ANDHRA PRADESH",
            "BIHAR",
            "GUJARAT",
            "KARNATAKA",
            "KERALA",
            "MADHYA PRADESH",
            "MAHARASHTRA",
            "RAJASTHAN",
            "TAMIL NADU",
            "UTTAR PRADESH"
           ],
           "xaxis": "x",
           "y": [
            679,
            2169,
            970,
            1349,
            691,
            1770,
            2574,
            631,
            450,
            2024
           ],
           "yaxis": "y"
          },
          {
           "hovertemplate": "variable=IMPORTATION OF GIRLS FROM FOREIGN COUNTRIES<br>YEAR=2006<br>STATE/UT=%{x}<br>value=%{y}<extra></extra>",
           "legendgroup": "IMPORTATION OF GIRLS FROM FOREIGN COUNTRIES",
           "line": {
            "color": "#FFA15A"
           },
           "mode": "lines",
           "name": "IMPORTATION OF GIRLS FROM FOREIGN COUNTRIES",
           "orientation": "v",
           "showlegend": true,
           "stackgroup": "1",
           "type": "scatter",
           "x": [
            "ANDHRA PRADESH",
            "BIHAR",
            "GUJARAT",
            "KARNATAKA",
            "KERALA",
            "MADHYA PRADESH",
            "MAHARASHTRA",
            "RAJASTHAN",
            "TAMIL NADU",
            "UTTAR PRADESH"
           ],
           "xaxis": "x",
           "y": [
            0,
            42,
            0,
            0,
            0,
            0,
            1,
            3,
            0,
            0
           ],
           "yaxis": "y"
          },
          {
           "hovertemplate": "variable=DACOITY<br>YEAR=2006<br>STATE/UT=%{x}<br>value=%{y}<extra></extra>",
           "legendgroup": "DACOITY",
           "line": {
            "color": "#19d3f3"
           },
           "mode": "lines",
           "name": "DACOITY",
           "orientation": "v",
           "showlegend": true,
           "stackgroup": "1",
           "type": "scatter",
           "x": [
            "ANDHRA PRADESH",
            "BIHAR",
            "GUJARAT",
            "KARNATAKA",
            "KERALA",
            "MADHYA PRADESH",
            "MAHARASHTRA",
            "RAJASTHAN",
            "TAMIL NADU",
            "UTTAR PRADESH"
           ],
           "xaxis": "x",
           "y": [
            178,
            1001,
            290,
            202,
            129,
            151,
            663,
            37,
            95,
            218
           ],
           "yaxis": "y"
          },
          {
           "hovertemplate": "variable=RIOTS<br>YEAR=2006<br>STATE/UT=%{x}<br>value=%{y}<extra></extra>",
           "legendgroup": "RIOTS",
           "line": {
            "color": "#FF6692"
           },
           "mode": "lines",
           "name": "RIOTS",
           "orientation": "v",
           "showlegend": true,
           "stackgroup": "1",
           "type": "scatter",
           "x": [
            "ANDHRA PRADESH",
            "BIHAR",
            "GUJARAT",
            "KARNATAKA",
            "KERALA",
            "MADHYA PRADESH",
            "MAHARASHTRA",
            "RAJASTHAN",
            "TAMIL NADU",
            "UTTAR PRADESH"
           ],
           "xaxis": "x",
           "y": [
            2916,
            8259,
            1534,
            6183,
            6365,
            2308,
            7453,
            1767,
            1838,
            3774
           ],
           "yaxis": "y"
          }
         ],
         "name": "2006"
        },
        {
         "data": [
          {
           "hovertemplate": "variable=MURDER<br>YEAR=2007<br>STATE/UT=%{x}<br>value=%{y}<extra></extra>",
           "legendgroup": "MURDER",
           "line": {
            "color": "#636efa"
           },
           "mode": "lines",
           "name": "MURDER",
           "orientation": "v",
           "showlegend": true,
           "stackgroup": "1",
           "type": "scatter",
           "x": [
            "ANDHRA PRADESH",
            "BIHAR",
            "GUJARAT",
            "KARNATAKA",
            "KERALA",
            "MADHYA PRADESH",
            "MAHARASHTRA",
            "RAJASTHAN",
            "TAMIL NADU",
            "UTTAR PRADESH"
           ],
           "xaxis": "x",
           "y": [
            2665,
            3034,
            1166,
            1538,
            367,
            2244,
            2693,
            1303,
            1633,
            5000
           ],
           "yaxis": "y"
          },
          {
           "hovertemplate": "variable=RAPE<br>YEAR=2007<br>STATE/UT=%{x}<br>value=%{y}<extra></extra>",
           "legendgroup": "RAPE",
           "line": {
            "color": "#EF553B"
           },
           "mode": "lines",
           "name": "RAPE",
           "orientation": "v",
           "showlegend": true,
           "stackgroup": "1",
           "type": "scatter",
           "x": [
            "ANDHRA PRADESH",
            "BIHAR",
            "GUJARAT",
            "KARNATAKA",
            "KERALA",
            "MADHYA PRADESH",
            "MAHARASHTRA",
            "RAJASTHAN",
            "TAMIL NADU",
            "UTTAR PRADESH"
           ],
           "xaxis": "x",
           "y": [
            1070,
            1555,
            316,
            436,
            512,
            3010,
            1451,
            1238,
            523,
            1648
           ],
           "yaxis": "y"
          },
          {
           "hovertemplate": "variable=KIDNAPPING & ABDUCTION<br>YEAR=2007<br>STATE/UT=%{x}<br>value=%{y}<extra></extra>",
           "legendgroup": "KIDNAPPING & ABDUCTION",
           "line": {
            "color": "#00cc96"
           },
           "mode": "lines",
           "name": "KIDNAPPING & ABDUCTION",
           "orientation": "v",
           "showlegend": true,
           "stackgroup": "1",
           "type": "scatter",
           "x": [
            "ANDHRA PRADESH",
            "BIHAR",
            "GUJARAT",
            "KARNATAKA",
            "KERALA",
            "MADHYA PRADESH",
            "MAHARASHTRA",
            "RAJASTHAN",
            "TAMIL NADU",
            "UTTAR PRADESH"
           ],
           "xaxis": "x",
           "y": [
            2097,
            2530,
            1312,
            680,
            255,
            922,
            1312,
            2177,
            1270,
            4478
           ],
           "yaxis": "y"
          },
          {
           "hovertemplate": "variable=ROBBERY<br>YEAR=2007<br>STATE/UT=%{x}<br>value=%{y}<extra></extra>",
           "legendgroup": "ROBBERY",
           "line": {
            "color": "#ab63fa"
           },
           "mode": "lines",
           "name": "ROBBERY",
           "orientation": "v",
           "showlegend": true,
           "stackgroup": "1",
           "type": "scatter",
           "x": [
            "ANDHRA PRADESH",
            "BIHAR",
            "GUJARAT",
            "KARNATAKA",
            "KERALA",
            "MADHYA PRADESH",
            "MAHARASHTRA",
            "RAJASTHAN",
            "TAMIL NADU",
            "UTTAR PRADESH"
           ],
           "xaxis": "x",
           "y": [
            614,
            1787,
            1095,
            1313,
            869,
            1975,
            2770,
            778,
            495,
            2169
           ],
           "yaxis": "y"
          },
          {
           "hovertemplate": "variable=IMPORTATION OF GIRLS FROM FOREIGN COUNTRIES<br>YEAR=2007<br>STATE/UT=%{x}<br>value=%{y}<extra></extra>",
           "legendgroup": "IMPORTATION OF GIRLS FROM FOREIGN COUNTRIES",
           "line": {
            "color": "#FFA15A"
           },
           "mode": "lines",
           "name": "IMPORTATION OF GIRLS FROM FOREIGN COUNTRIES",
           "orientation": "v",
           "showlegend": true,
           "stackgroup": "1",
           "type": "scatter",
           "x": [
            "ANDHRA PRADESH",
            "BIHAR",
            "GUJARAT",
            "KARNATAKA",
            "KERALA",
            "MADHYA PRADESH",
            "MAHARASHTRA",
            "RAJASTHAN",
            "TAMIL NADU",
            "UTTAR PRADESH"
           ],
           "xaxis": "x",
           "y": [
            0,
            56,
            0,
            0,
            0,
            0,
            0,
            0,
            0,
            0
           ],
           "yaxis": "y"
          },
          {
           "hovertemplate": "variable=DACOITY<br>YEAR=2007<br>STATE/UT=%{x}<br>value=%{y}<extra></extra>",
           "legendgroup": "DACOITY",
           "line": {
            "color": "#19d3f3"
           },
           "mode": "lines",
           "name": "DACOITY",
           "orientation": "v",
           "showlegend": true,
           "stackgroup": "1",
           "type": "scatter",
           "x": [
            "ANDHRA PRADESH",
            "BIHAR",
            "GUJARAT",
            "KARNATAKA",
            "KERALA",
            "MADHYA PRADESH",
            "MAHARASHTRA",
            "RAJASTHAN",
            "TAMIL NADU",
            "UTTAR PRADESH"
           ],
           "xaxis": "x",
           "y": [
            170,
            686,
            245,
            178,
            121,
            143,
            716,
            71,
            88,
            437
           ],
           "yaxis": "y"
          },
          {
           "hovertemplate": "variable=RIOTS<br>YEAR=2007<br>STATE/UT=%{x}<br>value=%{y}<extra></extra>",
           "legendgroup": "RIOTS",
           "line": {
            "color": "#FF6692"
           },
           "mode": "lines",
           "name": "RIOTS",
           "orientation": "v",
           "showlegend": true,
           "stackgroup": "1",
           "type": "scatter",
           "x": [
            "ANDHRA PRADESH",
            "BIHAR",
            "GUJARAT",
            "KARNATAKA",
            "KERALA",
            "MADHYA PRADESH",
            "MAHARASHTRA",
            "RAJASTHAN",
            "TAMIL NADU",
            "UTTAR PRADESH"
           ],
           "xaxis": "x",
           "y": [
            1998,
            7962,
            1668,
            5783,
            7358,
            2648,
            7993,
            1626,
            2375,
            4495
           ],
           "yaxis": "y"
          }
         ],
         "name": "2007"
        },
        {
         "data": [
          {
           "hovertemplate": "variable=MURDER<br>YEAR=2008<br>STATE/UT=%{x}<br>value=%{y}<extra></extra>",
           "legendgroup": "MURDER",
           "line": {
            "color": "#636efa"
           },
           "mode": "lines",
           "name": "MURDER",
           "orientation": "v",
           "showlegend": true,
           "stackgroup": "1",
           "type": "scatter",
           "x": [
            "ANDHRA PRADESH",
            "BIHAR",
            "GUJARAT",
            "KARNATAKA",
            "KERALA",
            "MADHYA PRADESH",
            "MAHARASHTRA",
            "RAJASTHAN",
            "TAMIL NADU",
            "UTTAR PRADESH"
           ],
           "xaxis": "x",
           "y": [
            2690,
            3139,
            1106,
            1698,
            362,
            2322,
            2795,
            1297,
            1759,
            4564
           ],
           "yaxis": "y"
          },
          {
           "hovertemplate": "variable=RAPE<br>YEAR=2008<br>STATE/UT=%{x}<br>value=%{y}<extra></extra>",
           "legendgroup": "RAPE",
           "line": {
            "color": "#EF553B"
           },
           "mode": "lines",
           "name": "RAPE",
           "orientation": "v",
           "showlegend": true,
           "stackgroup": "1",
           "type": "scatter",
           "x": [
            "ANDHRA PRADESH",
            "BIHAR",
            "GUJARAT",
            "KARNATAKA",
            "KERALA",
            "MADHYA PRADESH",
            "MAHARASHTRA",
            "RAJASTHAN",
            "TAMIL NADU",
            "UTTAR PRADESH"
           ],
           "xaxis": "x",
           "y": [
            1257,
            1302,
            374,
            446,
            568,
            2937,
            1558,
            1355,
            573,
            1871
           ],
           "yaxis": "y"
          },
          {
           "hovertemplate": "variable=KIDNAPPING & ABDUCTION<br>YEAR=2008<br>STATE/UT=%{x}<br>value=%{y}<extra></extra>",
           "legendgroup": "KIDNAPPING & ABDUCTION",
           "line": {
            "color": "#00cc96"
           },
           "mode": "lines",
           "name": "KIDNAPPING & ABDUCTION",
           "orientation": "v",
           "showlegend": true,
           "stackgroup": "1",
           "type": "scatter",
           "x": [
            "ANDHRA PRADESH",
            "BIHAR",
            "GUJARAT",
            "KARNATAKA",
            "KERALA",
            "MADHYA PRADESH",
            "MAHARASHTRA",
            "RAJASTHAN",
            "TAMIL NADU",
            "UTTAR PRADESH"
           ],
           "xaxis": "x",
           "y": [
            1970,
            3047,
            1323,
            758,
            253,
            929,
            1379,
            2358,
            1375,
            5428
           ],
           "yaxis": "y"
          },
          {
           "hovertemplate": "variable=ROBBERY<br>YEAR=2008<br>STATE/UT=%{x}<br>value=%{y}<extra></extra>",
           "legendgroup": "ROBBERY",
           "line": {
            "color": "#ab63fa"
           },
           "mode": "lines",
           "name": "ROBBERY",
           "orientation": "v",
           "showlegend": true,
           "stackgroup": "1",
           "type": "scatter",
           "x": [
            "ANDHRA PRADESH",
            "BIHAR",
            "GUJARAT",
            "KARNATAKA",
            "KERALA",
            "MADHYA PRADESH",
            "MAHARASHTRA",
            "RAJASTHAN",
            "TAMIL NADU",
            "UTTAR PRADESH"
           ],
           "xaxis": "x",
           "y": [
            623,
            1592,
            1322,
            1615,
            816,
            2234,
            3031,
            829,
            662,
            2097
           ],
           "yaxis": "y"
          },
          {
           "hovertemplate": "variable=IMPORTATION OF GIRLS FROM FOREIGN COUNTRIES<br>YEAR=2008<br>STATE/UT=%{x}<br>value=%{y}<extra></extra>",
           "legendgroup": "IMPORTATION OF GIRLS FROM FOREIGN COUNTRIES",
           "line": {
            "color": "#FFA15A"
           },
           "mode": "lines",
           "name": "IMPORTATION OF GIRLS FROM FOREIGN COUNTRIES",
           "orientation": "v",
           "showlegend": true,
           "stackgroup": "1",
           "type": "scatter",
           "x": [
            "ANDHRA PRADESH",
            "BIHAR",
            "GUJARAT",
            "KARNATAKA",
            "KERALA",
            "MADHYA PRADESH",
            "MAHARASHTRA",
            "RAJASTHAN",
            "TAMIL NADU",
            "UTTAR PRADESH"
           ],
           "xaxis": "x",
           "y": [
            0,
            22,
            0,
            1,
            0,
            0,
            0,
            0,
            0,
            0
           ],
           "yaxis": "y"
          },
          {
           "hovertemplate": "variable=DACOITY<br>YEAR=2008<br>STATE/UT=%{x}<br>value=%{y}<extra></extra>",
           "legendgroup": "DACOITY",
           "line": {
            "color": "#19d3f3"
           },
           "mode": "lines",
           "name": "DACOITY",
           "orientation": "v",
           "showlegend": true,
           "stackgroup": "1",
           "type": "scatter",
           "x": [
            "ANDHRA PRADESH",
            "BIHAR",
            "GUJARAT",
            "KARNATAKA",
            "KERALA",
            "MADHYA PRADESH",
            "MAHARASHTRA",
            "RAJASTHAN",
            "TAMIL NADU",
            "UTTAR PRADESH"
           ],
           "xaxis": "x",
           "y": [
            110,
            686,
            256,
            270,
            91,
            160,
            811,
            64,
            100,
            313
           ],
           "yaxis": "y"
          },
          {
           "hovertemplate": "variable=RIOTS<br>YEAR=2008<br>STATE/UT=%{x}<br>value=%{y}<extra></extra>",
           "legendgroup": "RIOTS",
           "line": {
            "color": "#FF6692"
           },
           "mode": "lines",
           "name": "RIOTS",
           "orientation": "v",
           "showlegend": true,
           "stackgroup": "1",
           "type": "scatter",
           "x": [
            "ANDHRA PRADESH",
            "BIHAR",
            "GUJARAT",
            "KARNATAKA",
            "KERALA",
            "MADHYA PRADESH",
            "MAHARASHTRA",
            "RAJASTHAN",
            "TAMIL NADU",
            "UTTAR PRADESH"
           ],
           "xaxis": "x",
           "y": [
            1930,
            8099,
            1809,
            6013,
            8057,
            2768,
            9388,
            1390,
            2811,
            4381
           ],
           "yaxis": "y"
          }
         ],
         "name": "2008"
        },
        {
         "data": [
          {
           "hovertemplate": "variable=MURDER<br>YEAR=2009<br>STATE/UT=%{x}<br>value=%{y}<extra></extra>",
           "legendgroup": "MURDER",
           "line": {
            "color": "#636efa"
           },
           "mode": "lines",
           "name": "MURDER",
           "orientation": "v",
           "showlegend": true,
           "stackgroup": "1",
           "type": "scatter",
           "x": [
            "ANDHRA PRADESH",
            "BIHAR",
            "GUJARAT",
            "KARNATAKA",
            "KERALA",
            "MADHYA PRADESH",
            "MAHARASHTRA",
            "RAJASTHAN",
            "TAMIL NADU",
            "UTTAR PRADESH"
           ],
           "xaxis": "x",
           "y": [
            2449,
            3152,
            1020,
            1702,
            343,
            2386,
            2653,
            1395,
            1776,
            4534
           ],
           "yaxis": "y"
          },
          {
           "hovertemplate": "variable=RAPE<br>YEAR=2009<br>STATE/UT=%{x}<br>value=%{y}<extra></extra>",
           "legendgroup": "RAPE",
           "line": {
            "color": "#EF553B"
           },
           "mode": "lines",
           "name": "RAPE",
           "orientation": "v",
           "showlegend": true,
           "stackgroup": "1",
           "type": "scatter",
           "x": [
            "ANDHRA PRADESH",
            "BIHAR",
            "GUJARAT",
            "KARNATAKA",
            "KERALA",
            "MADHYA PRADESH",
            "MAHARASHTRA",
            "RAJASTHAN",
            "TAMIL NADU",
            "UTTAR PRADESH"
           ],
           "xaxis": "x",
           "y": [
            1188,
            929,
            433,
            509,
            568,
            2998,
            1483,
            1519,
            596,
            1759
           ],
           "yaxis": "y"
          },
          {
           "hovertemplate": "variable=KIDNAPPING & ABDUCTION<br>YEAR=2009<br>STATE/UT=%{x}<br>value=%{y}<extra></extra>",
           "legendgroup": "KIDNAPPING & ABDUCTION",
           "line": {
            "color": "#00cc96"
           },
           "mode": "lines",
           "name": "KIDNAPPING & ABDUCTION",
           "orientation": "v",
           "showlegend": true,
           "stackgroup": "1",
           "type": "scatter",
           "x": [
            "ANDHRA PRADESH",
            "BIHAR",
            "GUJARAT",
            "KARNATAKA",
            "KERALA",
            "MADHYA PRADESH",
            "MAHARASHTRA",
            "RAJASTHAN",
            "TAMIL NADU",
            "UTTAR PRADESH"
           ],
           "xaxis": "x",
           "y": [
            1958,
            3222,
            1348,
            892,
            256,
            1036,
            1286,
            2870,
            1372,
            6083
           ],
           "yaxis": "y"
          },
          {
           "hovertemplate": "variable=ROBBERY<br>YEAR=2009<br>STATE/UT=%{x}<br>value=%{y}<extra></extra>",
           "legendgroup": "ROBBERY",
           "line": {
            "color": "#ab63fa"
           },
           "mode": "lines",
           "name": "ROBBERY",
           "orientation": "v",
           "showlegend": true,
           "stackgroup": "1",
           "type": "scatter",
           "x": [
            "ANDHRA PRADESH",
            "BIHAR",
            "GUJARAT",
            "KARNATAKA",
            "KERALA",
            "MADHYA PRADESH",
            "MAHARASHTRA",
            "RAJASTHAN",
            "TAMIL NADU",
            "UTTAR PRADESH"
           ],
           "xaxis": "x",
           "y": [
            544,
            1619,
            1420,
            1825,
            830,
            2270,
            3314,
            886,
            1144,
            2285
           ],
           "yaxis": "y"
          },
          {
           "hovertemplate": "variable=IMPORTATION OF GIRLS FROM FOREIGN COUNTRIES<br>YEAR=2009<br>STATE/UT=%{x}<br>value=%{y}<extra></extra>",
           "legendgroup": "IMPORTATION OF GIRLS FROM FOREIGN COUNTRIES",
           "line": {
            "color": "#FFA15A"
           },
           "mode": "lines",
           "name": "IMPORTATION OF GIRLS FROM FOREIGN COUNTRIES",
           "orientation": "v",
           "showlegend": true,
           "stackgroup": "1",
           "type": "scatter",
           "x": [
            "ANDHRA PRADESH",
            "BIHAR",
            "GUJARAT",
            "KARNATAKA",
            "KERALA",
            "MADHYA PRADESH",
            "MAHARASHTRA",
            "RAJASTHAN",
            "TAMIL NADU",
            "UTTAR PRADESH"
           ],
           "xaxis": "x",
           "y": [
            0,
            31,
            0,
            2,
            0,
            1,
            0,
            0,
            0,
            0
           ],
           "yaxis": "y"
          },
          {
           "hovertemplate": "variable=DACOITY<br>YEAR=2009<br>STATE/UT=%{x}<br>value=%{y}<extra></extra>",
           "legendgroup": "DACOITY",
           "line": {
            "color": "#19d3f3"
           },
           "mode": "lines",
           "name": "DACOITY",
           "orientation": "v",
           "showlegend": true,
           "stackgroup": "1",
           "type": "scatter",
           "x": [
            "ANDHRA PRADESH",
            "BIHAR",
            "GUJARAT",
            "KARNATAKA",
            "KERALA",
            "MADHYA PRADESH",
            "MAHARASHTRA",
            "RAJASTHAN",
            "TAMIL NADU",
            "UTTAR PRADESH"
           ],
           "xaxis": "x",
           "y": [
            102,
            654,
            246,
            273,
            112,
            117,
            780,
            53,
            97,
            365
           ],
           "yaxis": "y"
          },
          {
           "hovertemplate": "variable=RIOTS<br>YEAR=2009<br>STATE/UT=%{x}<br>value=%{y}<extra></extra>",
           "legendgroup": "RIOTS",
           "line": {
            "color": "#FF6692"
           },
           "mode": "lines",
           "name": "RIOTS",
           "orientation": "v",
           "showlegend": true,
           "stackgroup": "1",
           "type": "scatter",
           "x": [
            "ANDHRA PRADESH",
            "BIHAR",
            "GUJARAT",
            "KARNATAKA",
            "KERALA",
            "MADHYA PRADESH",
            "MAHARASHTRA",
            "RAJASTHAN",
            "TAMIL NADU",
            "UTTAR PRADESH"
           ],
           "xaxis": "x",
           "y": [
            2261,
            8554,
            1539,
            6269,
            8086,
            2409,
            8030,
            1145,
            2397,
            4263
           ],
           "yaxis": "y"
          }
         ],
         "name": "2009"
        },
        {
         "data": [
          {
           "hovertemplate": "variable=MURDER<br>YEAR=2010<br>STATE/UT=%{x}<br>value=%{y}<extra></extra>",
           "legendgroup": "MURDER",
           "line": {
            "color": "#636efa"
           },
           "mode": "lines",
           "name": "MURDER",
           "orientation": "v",
           "showlegend": true,
           "stackgroup": "1",
           "type": "scatter",
           "x": [
            "ANDHRA PRADESH",
            "BIHAR",
            "GUJARAT",
            "KARNATAKA",
            "KERALA",
            "MADHYA PRADESH",
            "MAHARASHTRA",
            "RAJASTHAN",
            "TAMIL NADU",
            "UTTAR PRADESH"
           ],
           "xaxis": "x",
           "y": [
            2538,
            3362,
            1048,
            1805,
            363,
            2423,
            2744,
            1421,
            1875,
            4401
           ],
           "yaxis": "y"
          },
          {
           "hovertemplate": "variable=RAPE<br>YEAR=2010<br>STATE/UT=%{x}<br>value=%{y}<extra></extra>",
           "legendgroup": "RAPE",
           "line": {
            "color": "#EF553B"
           },
           "mode": "lines",
           "name": "RAPE",
           "orientation": "v",
           "showlegend": true,
           "stackgroup": "1",
           "type": "scatter",
           "x": [
            "ANDHRA PRADESH",
            "BIHAR",
            "GUJARAT",
            "KARNATAKA",
            "KERALA",
            "MADHYA PRADESH",
            "MAHARASHTRA",
            "RAJASTHAN",
            "TAMIL NADU",
            "UTTAR PRADESH"
           ],
           "xaxis": "x",
           "y": [
            1362,
            795,
            408,
            586,
            634,
            3135,
            1599,
            1571,
            686,
            1563
           ],
           "yaxis": "y"
          },
          {
           "hovertemplate": "variable=KIDNAPPING & ABDUCTION<br>YEAR=2010<br>STATE/UT=%{x}<br>value=%{y}<extra></extra>",
           "legendgroup": "KIDNAPPING & ABDUCTION",
           "line": {
            "color": "#00cc96"
           },
           "mode": "lines",
           "name": "KIDNAPPING & ABDUCTION",
           "orientation": "v",
           "showlegend": true,
           "stackgroup": "1",
           "type": "scatter",
           "x": [
            "ANDHRA PRADESH",
            "BIHAR",
            "GUJARAT",
            "KARNATAKA",
            "KERALA",
            "MADHYA PRADESH",
            "MAHARASHTRA",
            "RAJASTHAN",
            "TAMIL NADU",
            "UTTAR PRADESH"
           ],
           "xaxis": "x",
           "y": [
            2053,
            3674,
            1447,
            1374,
            261,
            1187,
            1508,
            2985,
            1720,
            6321
           ],
           "yaxis": "y"
          },
          {
           "hovertemplate": "variable=ROBBERY<br>YEAR=2010<br>STATE/UT=%{x}<br>value=%{y}<extra></extra>",
           "legendgroup": "ROBBERY",
           "line": {
            "color": "#ab63fa"
           },
           "mode": "lines",
           "name": "ROBBERY",
           "orientation": "v",
           "showlegend": true,
           "stackgroup": "1",
           "type": "scatter",
           "x": [
            "ANDHRA PRADESH",
            "BIHAR",
            "GUJARAT",
            "KARNATAKA",
            "KERALA",
            "MADHYA PRADESH",
            "MAHARASHTRA",
            "RAJASTHAN",
            "TAMIL NADU",
            "UTTAR PRADESH"
           ],
           "xaxis": "x",
           "y": [
            550,
            1538,
            1384,
            1949,
            636,
            1919,
            3721,
            872,
            1817,
            2577
           ],
           "yaxis": "y"
          },
          {
           "hovertemplate": "variable=IMPORTATION OF GIRLS FROM FOREIGN COUNTRIES<br>YEAR=2010<br>STATE/UT=%{x}<br>value=%{y}<extra></extra>",
           "legendgroup": "IMPORTATION OF GIRLS FROM FOREIGN COUNTRIES",
           "line": {
            "color": "#FFA15A"
           },
           "mode": "lines",
           "name": "IMPORTATION OF GIRLS FROM FOREIGN COUNTRIES",
           "orientation": "v",
           "showlegend": true,
           "stackgroup": "1",
           "type": "scatter",
           "x": [
            "ANDHRA PRADESH",
            "BIHAR",
            "GUJARAT",
            "KARNATAKA",
            "KERALA",
            "MADHYA PRADESH",
            "MAHARASHTRA",
            "RAJASTHAN",
            "TAMIL NADU",
            "UTTAR PRADESH"
           ],
           "xaxis": "x",
           "y": [
            0,
            8,
            0,
            0,
            0,
            5,
            0,
            0,
            0,
            0
           ],
           "yaxis": "y"
          },
          {
           "hovertemplate": "variable=DACOITY<br>YEAR=2010<br>STATE/UT=%{x}<br>value=%{y}<extra></extra>",
           "legendgroup": "DACOITY",
           "line": {
            "color": "#19d3f3"
           },
           "mode": "lines",
           "name": "DACOITY",
           "orientation": "v",
           "showlegend": true,
           "stackgroup": "1",
           "type": "scatter",
           "x": [
            "ANDHRA PRADESH",
            "BIHAR",
            "GUJARAT",
            "KARNATAKA",
            "KERALA",
            "MADHYA PRADESH",
            "MAHARASHTRA",
            "RAJASTHAN",
            "TAMIL NADU",
            "UTTAR PRADESH"
           ],
           "xaxis": "x",
           "y": [
            134,
            644,
            186,
            272,
            74,
            110,
            778,
            37,
            85,
            337
           ],
           "yaxis": "y"
          },
          {
           "hovertemplate": "variable=RIOTS<br>YEAR=2010<br>STATE/UT=%{x}<br>value=%{y}<extra></extra>",
           "legendgroup": "RIOTS",
           "line": {
            "color": "#FF6692"
           },
           "mode": "lines",
           "name": "RIOTS",
           "orientation": "v",
           "showlegend": true,
           "stackgroup": "1",
           "type": "scatter",
           "x": [
            "ANDHRA PRADESH",
            "BIHAR",
            "GUJARAT",
            "KARNATAKA",
            "KERALA",
            "MADHYA PRADESH",
            "MAHARASHTRA",
            "RAJASTHAN",
            "TAMIL NADU",
            "UTTAR PRADESH"
           ],
           "xaxis": "x",
           "y": [
            2231,
            8809,
            1623,
            7710,
            8724,
            2606,
            8412,
            986,
            2664,
            4186
           ],
           "yaxis": "y"
          }
         ],
         "name": "2010"
        },
        {
         "data": [
          {
           "hovertemplate": "variable=MURDER<br>YEAR=2011<br>STATE/UT=%{x}<br>value=%{y}<extra></extra>",
           "legendgroup": "MURDER",
           "line": {
            "color": "#636efa"
           },
           "mode": "lines",
           "name": "MURDER",
           "orientation": "v",
           "showlegend": true,
           "stackgroup": "1",
           "type": "scatter",
           "x": [
            "ANDHRA PRADESH",
            "BIHAR",
            "GUJARAT",
            "KARNATAKA",
            "KERALA",
            "MADHYA PRADESH",
            "MAHARASHTRA",
            "RAJASTHAN",
            "TAMIL NADU",
            "UTTAR PRADESH"
           ],
           "xaxis": "x",
           "y": [
            2808,
            3198,
            1126,
            1820,
            365,
            2511,
            2818,
            1461,
            1877,
            4951
           ],
           "yaxis": "y"
          },
          {
           "hovertemplate": "variable=RAPE<br>YEAR=2011<br>STATE/UT=%{x}<br>value=%{y}<extra></extra>",
           "legendgroup": "RAPE",
           "line": {
            "color": "#EF553B"
           },
           "mode": "lines",
           "name": "RAPE",
           "orientation": "v",
           "showlegend": true,
           "stackgroup": "1",
           "type": "scatter",
           "x": [
            "ANDHRA PRADESH",
            "BIHAR",
            "GUJARAT",
            "KARNATAKA",
            "KERALA",
            "MADHYA PRADESH",
            "MAHARASHTRA",
            "RAJASTHAN",
            "TAMIL NADU",
            "UTTAR PRADESH"
           ],
           "xaxis": "x",
           "y": [
            1442,
            934,
            439,
            636,
            1132,
            3406,
            1701,
            1800,
            677,
            2042
           ],
           "yaxis": "y"
          },
          {
           "hovertemplate": "variable=KIDNAPPING & ABDUCTION<br>YEAR=2011<br>STATE/UT=%{x}<br>value=%{y}<extra></extra>",
           "legendgroup": "KIDNAPPING & ABDUCTION",
           "line": {
            "color": "#00cc96"
           },
           "mode": "lines",
           "name": "KIDNAPPING & ABDUCTION",
           "orientation": "v",
           "showlegend": true,
           "stackgroup": "1",
           "type": "scatter",
           "x": [
            "ANDHRA PRADESH",
            "BIHAR",
            "GUJARAT",
            "KARNATAKA",
            "KERALA",
            "MADHYA PRADESH",
            "MAHARASHTRA",
            "RAJASTHAN",
            "TAMIL NADU",
            "UTTAR PRADESH"
           ],
           "xaxis": "x",
           "y": [
            2154,
            4268,
            1614,
            1395,
            299,
            1288,
            1669,
            3204,
            1984,
            8500
           ],
           "yaxis": "y"
          },
          {
           "hovertemplate": "variable=ROBBERY<br>YEAR=2011<br>STATE/UT=%{x}<br>value=%{y}<extra></extra>",
           "legendgroup": "ROBBERY",
           "line": {
            "color": "#ab63fa"
           },
           "mode": "lines",
           "name": "ROBBERY",
           "orientation": "v",
           "showlegend": true,
           "stackgroup": "1",
           "type": "scatter",
           "x": [
            "ANDHRA PRADESH",
            "BIHAR",
            "GUJARAT",
            "KARNATAKA",
            "KERALA",
            "MADHYA PRADESH",
            "MAHARASHTRA",
            "RAJASTHAN",
            "TAMIL NADU",
            "UTTAR PRADESH"
           ],
           "xaxis": "x",
           "y": [
            600,
            1381,
            1368,
            2123,
            741,
            1952,
            4249,
            727,
            2066,
            3148
           ],
           "yaxis": "y"
          },
          {
           "hovertemplate": "variable=IMPORTATION OF GIRLS FROM FOREIGN COUNTRIES<br>YEAR=2011<br>STATE/UT=%{x}<br>value=%{y}<extra></extra>",
           "legendgroup": "IMPORTATION OF GIRLS FROM FOREIGN COUNTRIES",
           "line": {
            "color": "#FFA15A"
           },
           "mode": "lines",
           "name": "IMPORTATION OF GIRLS FROM FOREIGN COUNTRIES",
           "orientation": "v",
           "showlegend": true,
           "stackgroup": "1",
           "type": "scatter",
           "x": [
            "ANDHRA PRADESH",
            "BIHAR",
            "GUJARAT",
            "KARNATAKA",
            "KERALA",
            "MADHYA PRADESH",
            "MAHARASHTRA",
            "RAJASTHAN",
            "TAMIL NADU",
            "UTTAR PRADESH"
           ],
           "xaxis": "x",
           "y": [
            0,
            10,
            0,
            12,
            0,
            45,
            0,
            0,
            0,
            0
           ],
           "yaxis": "y"
          },
          {
           "hovertemplate": "variable=DACOITY<br>YEAR=2011<br>STATE/UT=%{x}<br>value=%{y}<extra></extra>",
           "legendgroup": "DACOITY",
           "line": {
            "color": "#19d3f3"
           },
           "mode": "lines",
           "name": "DACOITY",
           "orientation": "v",
           "showlegend": true,
           "stackgroup": "1",
           "type": "scatter",
           "x": [
            "ANDHRA PRADESH",
            "BIHAR",
            "GUJARAT",
            "KARNATAKA",
            "KERALA",
            "MADHYA PRADESH",
            "MAHARASHTRA",
            "RAJASTHAN",
            "TAMIL NADU",
            "UTTAR PRADESH"
           ],
           "xaxis": "x",
           "y": [
            126,
            556,
            221,
            214,
            71,
            118,
            773,
            28,
            101,
            379
           ],
           "yaxis": "y"
          },
          {
           "hovertemplate": "variable=RIOTS<br>YEAR=2011<br>STATE/UT=%{x}<br>value=%{y}<extra></extra>",
           "legendgroup": "RIOTS",
           "line": {
            "color": "#FF6692"
           },
           "mode": "lines",
           "name": "RIOTS",
           "orientation": "v",
           "showlegend": true,
           "stackgroup": "1",
           "type": "scatter",
           "x": [
            "ANDHRA PRADESH",
            "BIHAR",
            "GUJARAT",
            "KARNATAKA",
            "KERALA",
            "MADHYA PRADESH",
            "MAHARASHTRA",
            "RAJASTHAN",
            "TAMIL NADU",
            "UTTAR PRADESH"
           ],
           "xaxis": "x",
           "y": [
            2210,
            9768,
            1615,
            7265,
            10754,
            2080,
            8556,
            751,
            3009,
            5022
           ],
           "yaxis": "y"
          }
         ],
         "name": "2011"
        },
        {
         "data": [
          {
           "hovertemplate": "variable=MURDER<br>YEAR=2012<br>STATE/UT=%{x}<br>value=%{y}<extra></extra>",
           "legendgroup": "MURDER",
           "line": {
            "color": "#636efa"
           },
           "mode": "lines",
           "name": "MURDER",
           "orientation": "v",
           "showlegend": true,
           "stackgroup": "1",
           "type": "scatter",
           "x": [
            "ANDHRA PRADESH",
            "BIHAR",
            "GUJARAT",
            "KARNATAKA",
            "KERALA",
            "MADHYA PRADESH",
            "MAHARASHTRA",
            "RAJASTHAN",
            "TAMIL NADU",
            "UTTAR PRADESH"
           ],
           "xaxis": "x",
           "y": [
            2717,
            3566,
            1126,
            1860,
            374,
            2373,
            2712,
            1461,
            1949,
            4966
           ],
           "yaxis": "y"
          },
          {
           "hovertemplate": "variable=RAPE<br>YEAR=2012<br>STATE/UT=%{x}<br>value=%{y}<extra></extra>",
           "legendgroup": "RAPE",
           "line": {
            "color": "#EF553B"
           },
           "mode": "lines",
           "name": "RAPE",
           "orientation": "v",
           "showlegend": true,
           "stackgroup": "1",
           "type": "scatter",
           "x": [
            "ANDHRA PRADESH",
            "BIHAR",
            "GUJARAT",
            "KARNATAKA",
            "KERALA",
            "MADHYA PRADESH",
            "MAHARASHTRA",
            "RAJASTHAN",
            "TAMIL NADU",
            "UTTAR PRADESH"
           ],
           "xaxis": "x",
           "y": [
            1341,
            927,
            473,
            621,
            1019,
            3425,
            1839,
            2049,
            737,
            1963
           ],
           "yaxis": "y"
          },
          {
           "hovertemplate": "variable=KIDNAPPING & ABDUCTION<br>YEAR=2012<br>STATE/UT=%{x}<br>value=%{y}<extra></extra>",
           "legendgroup": "KIDNAPPING & ABDUCTION",
           "line": {
            "color": "#00cc96"
           },
           "mode": "lines",
           "name": "KIDNAPPING & ABDUCTION",
           "orientation": "v",
           "showlegend": true,
           "stackgroup": "1",
           "type": "scatter",
           "x": [
            "ANDHRA PRADESH",
            "BIHAR",
            "GUJARAT",
            "KARNATAKA",
            "KERALA",
            "MADHYA PRADESH",
            "MAHARASHTRA",
            "RAJASTHAN",
            "TAMIL NADU",
            "UTTAR PRADESH"
           ],
           "xaxis": "x",
           "y": [
            1870,
            4807,
            1720,
            1451,
            281,
            1302,
            1583,
            3243,
            1945,
            8878
           ],
           "yaxis": "y"
          },
          {
           "hovertemplate": "variable=ROBBERY<br>YEAR=2012<br>STATE/UT=%{x}<br>value=%{y}<extra></extra>",
           "legendgroup": "ROBBERY",
           "line": {
            "color": "#ab63fa"
           },
           "mode": "lines",
           "name": "ROBBERY",
           "orientation": "v",
           "showlegend": true,
           "stackgroup": "1",
           "type": "scatter",
           "x": [
            "ANDHRA PRADESH",
            "BIHAR",
            "GUJARAT",
            "KARNATAKA",
            "KERALA",
            "MADHYA PRADESH",
            "MAHARASHTRA",
            "RAJASTHAN",
            "TAMIL NADU",
            "UTTAR PRADESH"
           ],
           "xaxis": "x",
           "y": [
            668,
            1266,
            1366,
            2207,
            725,
            1940,
            6949,
            807,
            1898,
            3159
           ],
           "yaxis": "y"
          },
          {
           "hovertemplate": "variable=IMPORTATION OF GIRLS FROM FOREIGN COUNTRIES<br>YEAR=2012<br>STATE/UT=%{x}<br>value=%{y}<extra></extra>",
           "legendgroup": "IMPORTATION OF GIRLS FROM FOREIGN COUNTRIES",
           "line": {
            "color": "#FFA15A"
           },
           "mode": "lines",
           "name": "IMPORTATION OF GIRLS FROM FOREIGN COUNTRIES",
           "orientation": "v",
           "showlegend": true,
           "stackgroup": "1",
           "type": "scatter",
           "x": [
            "ANDHRA PRADESH",
            "BIHAR",
            "GUJARAT",
            "KARNATAKA",
            "KERALA",
            "MADHYA PRADESH",
            "MAHARASHTRA",
            "RAJASTHAN",
            "TAMIL NADU",
            "UTTAR PRADESH"
           ],
           "xaxis": "x",
           "y": [
            0,
            4,
            0,
            32,
            0,
            6,
            0,
            0,
            0,
            0
           ],
           "yaxis": "y"
          },
          {
           "hovertemplate": "variable=DACOITY<br>YEAR=2012<br>STATE/UT=%{x}<br>value=%{y}<extra></extra>",
           "legendgroup": "DACOITY",
           "line": {
            "color": "#19d3f3"
           },
           "mode": "lines",
           "name": "DACOITY",
           "orientation": "v",
           "showlegend": true,
           "stackgroup": "1",
           "type": "scatter",
           "x": [
            "ANDHRA PRADESH",
            "BIHAR",
            "GUJARAT",
            "KARNATAKA",
            "KERALA",
            "MADHYA PRADESH",
            "MAHARASHTRA",
            "RAJASTHAN",
            "TAMIL NADU",
            "UTTAR PRADESH"
           ],
           "xaxis": "x",
           "y": [
            131,
            540,
            287,
            211,
            72,
            107,
            793,
            31,
            97,
            322
           ],
           "yaxis": "y"
          },
          {
           "hovertemplate": "variable=RIOTS<br>YEAR=2012<br>STATE/UT=%{x}<br>value=%{y}<extra></extra>",
           "legendgroup": "RIOTS",
           "line": {
            "color": "#FF6692"
           },
           "mode": "lines",
           "name": "RIOTS",
           "orientation": "v",
           "showlegend": true,
           "stackgroup": "1",
           "type": "scatter",
           "x": [
            "ANDHRA PRADESH",
            "BIHAR",
            "GUJARAT",
            "KARNATAKA",
            "KERALA",
            "MADHYA PRADESH",
            "MAHARASHTRA",
            "RAJASTHAN",
            "TAMIL NADU",
            "UTTAR PRADESH"
           ],
           "xaxis": "x",
           "y": [
            1878,
            10871,
            1758,
            7502,
            10938,
            1951,
            8860,
            573,
            3136,
            5676
           ],
           "yaxis": "y"
          }
         ],
         "name": "2012"
        }
       ],
       "layout": {
        "font": {
         "color": "#e31757",
         "family": "Times New Roman",
         "size": 11
        },
        "legend": {
         "title": {
          "text": "variable"
         },
         "tracegroupgap": 0
        },
        "margin": {
         "t": 60
        },
        "paper_bgcolor": "black",
        "sliders": [
         {
          "active": 0,
          "currentvalue": {
           "prefix": "YEAR="
          },
          "len": 0.9,
          "pad": {
           "b": 10,
           "t": 60
          },
          "steps": [
           {
            "args": [
             [
              "2001"
             ],
             {
              "frame": {
               "duration": 0,
               "redraw": false
              },
              "fromcurrent": true,
              "mode": "immediate",
              "transition": {
               "duration": 0,
               "easing": "linear"
              }
             }
            ],
            "label": "2001",
            "method": "animate"
           },
           {
            "args": [
             [
              "2002"
             ],
             {
              "frame": {
               "duration": 0,
               "redraw": false
              },
              "fromcurrent": true,
              "mode": "immediate",
              "transition": {
               "duration": 0,
               "easing": "linear"
              }
             }
            ],
            "label": "2002",
            "method": "animate"
           },
           {
            "args": [
             [
              "2003"
             ],
             {
              "frame": {
               "duration": 0,
               "redraw": false
              },
              "fromcurrent": true,
              "mode": "immediate",
              "transition": {
               "duration": 0,
               "easing": "linear"
              }
             }
            ],
            "label": "2003",
            "method": "animate"
           },
           {
            "args": [
             [
              "2004"
             ],
             {
              "frame": {
               "duration": 0,
               "redraw": false
              },
              "fromcurrent": true,
              "mode": "immediate",
              "transition": {
               "duration": 0,
               "easing": "linear"
              }
             }
            ],
            "label": "2004",
            "method": "animate"
           },
           {
            "args": [
             [
              "2005"
             ],
             {
              "frame": {
               "duration": 0,
               "redraw": false
              },
              "fromcurrent": true,
              "mode": "immediate",
              "transition": {
               "duration": 0,
               "easing": "linear"
              }
             }
            ],
            "label": "2005",
            "method": "animate"
           },
           {
            "args": [
             [
              "2006"
             ],
             {
              "frame": {
               "duration": 0,
               "redraw": false
              },
              "fromcurrent": true,
              "mode": "immediate",
              "transition": {
               "duration": 0,
               "easing": "linear"
              }
             }
            ],
            "label": "2006",
            "method": "animate"
           },
           {
            "args": [
             [
              "2007"
             ],
             {
              "frame": {
               "duration": 0,
               "redraw": false
              },
              "fromcurrent": true,
              "mode": "immediate",
              "transition": {
               "duration": 0,
               "easing": "linear"
              }
             }
            ],
            "label": "2007",
            "method": "animate"
           },
           {
            "args": [
             [
              "2008"
             ],
             {
              "frame": {
               "duration": 0,
               "redraw": false
              },
              "fromcurrent": true,
              "mode": "immediate",
              "transition": {
               "duration": 0,
               "easing": "linear"
              }
             }
            ],
            "label": "2008",
            "method": "animate"
           },
           {
            "args": [
             [
              "2009"
             ],
             {
              "frame": {
               "duration": 0,
               "redraw": false
              },
              "fromcurrent": true,
              "mode": "immediate",
              "transition": {
               "duration": 0,
               "easing": "linear"
              }
             }
            ],
            "label": "2009",
            "method": "animate"
           },
           {
            "args": [
             [
              "2010"
             ],
             {
              "frame": {
               "duration": 0,
               "redraw": false
              },
              "fromcurrent": true,
              "mode": "immediate",
              "transition": {
               "duration": 0,
               "easing": "linear"
              }
             }
            ],
            "label": "2010",
            "method": "animate"
           },
           {
            "args": [
             [
              "2011"
             ],
             {
              "frame": {
               "duration": 0,
               "redraw": false
              },
              "fromcurrent": true,
              "mode": "immediate",
              "transition": {
               "duration": 0,
               "easing": "linear"
              }
             }
            ],
            "label": "2011",
            "method": "animate"
           },
           {
            "args": [
             [
              "2012"
             ],
             {
              "frame": {
               "duration": 0,
               "redraw": false
              },
              "fromcurrent": true,
              "mode": "immediate",
              "transition": {
               "duration": 0,
               "easing": "linear"
              }
             }
            ],
            "label": "2012",
            "method": "animate"
           }
          ],
          "x": 0.1,
          "xanchor": "left",
          "y": 0,
          "yanchor": "top"
         }
        ],
        "template": {
         "data": {
          "bar": [
           {
            "error_x": {
             "color": "#2a3f5f"
            },
            "error_y": {
             "color": "#2a3f5f"
            },
            "marker": {
             "line": {
              "color": "white",
              "width": 0.5
             }
            },
            "type": "bar"
           }
          ],
          "barpolar": [
           {
            "marker": {
             "line": {
              "color": "white",
              "width": 0.5
             }
            },
            "type": "barpolar"
           }
          ],
          "carpet": [
           {
            "aaxis": {
             "endlinecolor": "#2a3f5f",
             "gridcolor": "#C8D4E3",
             "linecolor": "#C8D4E3",
             "minorgridcolor": "#C8D4E3",
             "startlinecolor": "#2a3f5f"
            },
            "baxis": {
             "endlinecolor": "#2a3f5f",
             "gridcolor": "#C8D4E3",
             "linecolor": "#C8D4E3",
             "minorgridcolor": "#C8D4E3",
             "startlinecolor": "#2a3f5f"
            },
            "type": "carpet"
           }
          ],
          "choropleth": [
           {
            "colorbar": {
             "outlinewidth": 0,
             "ticks": ""
            },
            "type": "choropleth"
           }
          ],
          "contour": [
           {
            "colorbar": {
             "outlinewidth": 0,
             "ticks": ""
            },
            "colorscale": [
             [
              0,
              "#0d0887"
             ],
             [
              0.1111111111111111,
              "#46039f"
             ],
             [
              0.2222222222222222,
              "#7201a8"
             ],
             [
              0.3333333333333333,
              "#9c179e"
             ],
             [
              0.4444444444444444,
              "#bd3786"
             ],
             [
              0.5555555555555556,
              "#d8576b"
             ],
             [
              0.6666666666666666,
              "#ed7953"
             ],
             [
              0.7777777777777778,
              "#fb9f3a"
             ],
             [
              0.8888888888888888,
              "#fdca26"
             ],
             [
              1,
              "#f0f921"
             ]
            ],
            "type": "contour"
           }
          ],
          "contourcarpet": [
           {
            "colorbar": {
             "outlinewidth": 0,
             "ticks": ""
            },
            "type": "contourcarpet"
           }
          ],
          "heatmap": [
           {
            "colorbar": {
             "outlinewidth": 0,
             "ticks": ""
            },
            "colorscale": [
             [
              0,
              "#0d0887"
             ],
             [
              0.1111111111111111,
              "#46039f"
             ],
             [
              0.2222222222222222,
              "#7201a8"
             ],
             [
              0.3333333333333333,
              "#9c179e"
             ],
             [
              0.4444444444444444,
              "#bd3786"
             ],
             [
              0.5555555555555556,
              "#d8576b"
             ],
             [
              0.6666666666666666,
              "#ed7953"
             ],
             [
              0.7777777777777778,
              "#fb9f3a"
             ],
             [
              0.8888888888888888,
              "#fdca26"
             ],
             [
              1,
              "#f0f921"
             ]
            ],
            "type": "heatmap"
           }
          ],
          "heatmapgl": [
           {
            "colorbar": {
             "outlinewidth": 0,
             "ticks": ""
            },
            "colorscale": [
             [
              0,
              "#0d0887"
             ],
             [
              0.1111111111111111,
              "#46039f"
             ],
             [
              0.2222222222222222,
              "#7201a8"
             ],
             [
              0.3333333333333333,
              "#9c179e"
             ],
             [
              0.4444444444444444,
              "#bd3786"
             ],
             [
              0.5555555555555556,
              "#d8576b"
             ],
             [
              0.6666666666666666,
              "#ed7953"
             ],
             [
              0.7777777777777778,
              "#fb9f3a"
             ],
             [
              0.8888888888888888,
              "#fdca26"
             ],
             [
              1,
              "#f0f921"
             ]
            ],
            "type": "heatmapgl"
           }
          ],
          "histogram": [
           {
            "marker": {
             "colorbar": {
              "outlinewidth": 0,
              "ticks": ""
             }
            },
            "type": "histogram"
           }
          ],
          "histogram2d": [
           {
            "colorbar": {
             "outlinewidth": 0,
             "ticks": ""
            },
            "colorscale": [
             [
              0,
              "#0d0887"
             ],
             [
              0.1111111111111111,
              "#46039f"
             ],
             [
              0.2222222222222222,
              "#7201a8"
             ],
             [
              0.3333333333333333,
              "#9c179e"
             ],
             [
              0.4444444444444444,
              "#bd3786"
             ],
             [
              0.5555555555555556,
              "#d8576b"
             ],
             [
              0.6666666666666666,
              "#ed7953"
             ],
             [
              0.7777777777777778,
              "#fb9f3a"
             ],
             [
              0.8888888888888888,
              "#fdca26"
             ],
             [
              1,
              "#f0f921"
             ]
            ],
            "type": "histogram2d"
           }
          ],
          "histogram2dcontour": [
           {
            "colorbar": {
             "outlinewidth": 0,
             "ticks": ""
            },
            "colorscale": [
             [
              0,
              "#0d0887"
             ],
             [
              0.1111111111111111,
              "#46039f"
             ],
             [
              0.2222222222222222,
              "#7201a8"
             ],
             [
              0.3333333333333333,
              "#9c179e"
             ],
             [
              0.4444444444444444,
              "#bd3786"
             ],
             [
              0.5555555555555556,
              "#d8576b"
             ],
             [
              0.6666666666666666,
              "#ed7953"
             ],
             [
              0.7777777777777778,
              "#fb9f3a"
             ],
             [
              0.8888888888888888,
              "#fdca26"
             ],
             [
              1,
              "#f0f921"
             ]
            ],
            "type": "histogram2dcontour"
           }
          ],
          "mesh3d": [
           {
            "colorbar": {
             "outlinewidth": 0,
             "ticks": ""
            },
            "type": "mesh3d"
           }
          ],
          "parcoords": [
           {
            "line": {
             "colorbar": {
              "outlinewidth": 0,
              "ticks": ""
             }
            },
            "type": "parcoords"
           }
          ],
          "pie": [
           {
            "automargin": true,
            "type": "pie"
           }
          ],
          "scatter": [
           {
            "marker": {
             "colorbar": {
              "outlinewidth": 0,
              "ticks": ""
             }
            },
            "type": "scatter"
           }
          ],
          "scatter3d": [
           {
            "line": {
             "colorbar": {
              "outlinewidth": 0,
              "ticks": ""
             }
            },
            "marker": {
             "colorbar": {
              "outlinewidth": 0,
              "ticks": ""
             }
            },
            "type": "scatter3d"
           }
          ],
          "scattercarpet": [
           {
            "marker": {
             "colorbar": {
              "outlinewidth": 0,
              "ticks": ""
             }
            },
            "type": "scattercarpet"
           }
          ],
          "scattergeo": [
           {
            "marker": {
             "colorbar": {
              "outlinewidth": 0,
              "ticks": ""
             }
            },
            "type": "scattergeo"
           }
          ],
          "scattergl": [
           {
            "marker": {
             "colorbar": {
              "outlinewidth": 0,
              "ticks": ""
             }
            },
            "type": "scattergl"
           }
          ],
          "scattermapbox": [
           {
            "marker": {
             "colorbar": {
              "outlinewidth": 0,
              "ticks": ""
             }
            },
            "type": "scattermapbox"
           }
          ],
          "scatterpolar": [
           {
            "marker": {
             "colorbar": {
              "outlinewidth": 0,
              "ticks": ""
             }
            },
            "type": "scatterpolar"
           }
          ],
          "scatterpolargl": [
           {
            "marker": {
             "colorbar": {
              "outlinewidth": 0,
              "ticks": ""
             }
            },
            "type": "scatterpolargl"
           }
          ],
          "scatterternary": [
           {
            "marker": {
             "colorbar": {
              "outlinewidth": 0,
              "ticks": ""
             }
            },
            "type": "scatterternary"
           }
          ],
          "surface": [
           {
            "colorbar": {
             "outlinewidth": 0,
             "ticks": ""
            },
            "colorscale": [
             [
              0,
              "#0d0887"
             ],
             [
              0.1111111111111111,
              "#46039f"
             ],
             [
              0.2222222222222222,
              "#7201a8"
             ],
             [
              0.3333333333333333,
              "#9c179e"
             ],
             [
              0.4444444444444444,
              "#bd3786"
             ],
             [
              0.5555555555555556,
              "#d8576b"
             ],
             [
              0.6666666666666666,
              "#ed7953"
             ],
             [
              0.7777777777777778,
              "#fb9f3a"
             ],
             [
              0.8888888888888888,
              "#fdca26"
             ],
             [
              1,
              "#f0f921"
             ]
            ],
            "type": "surface"
           }
          ],
          "table": [
           {
            "cells": {
             "fill": {
              "color": "#EBF0F8"
             },
             "line": {
              "color": "white"
             }
            },
            "header": {
             "fill": {
              "color": "#C8D4E3"
             },
             "line": {
              "color": "white"
             }
            },
            "type": "table"
           }
          ]
         },
         "layout": {
          "annotationdefaults": {
           "arrowcolor": "#2a3f5f",
           "arrowhead": 0,
           "arrowwidth": 1
          },
          "coloraxis": {
           "colorbar": {
            "outlinewidth": 0,
            "ticks": ""
           }
          },
          "colorscale": {
           "diverging": [
            [
             0,
             "#8e0152"
            ],
            [
             0.1,
             "#c51b7d"
            ],
            [
             0.2,
             "#de77ae"
            ],
            [
             0.3,
             "#f1b6da"
            ],
            [
             0.4,
             "#fde0ef"
            ],
            [
             0.5,
             "#f7f7f7"
            ],
            [
             0.6,
             "#e6f5d0"
            ],
            [
             0.7,
             "#b8e186"
            ],
            [
             0.8,
             "#7fbc41"
            ],
            [
             0.9,
             "#4d9221"
            ],
            [
             1,
             "#276419"
            ]
           ],
           "sequential": [
            [
             0,
             "#0d0887"
            ],
            [
             0.1111111111111111,
             "#46039f"
            ],
            [
             0.2222222222222222,
             "#7201a8"
            ],
            [
             0.3333333333333333,
             "#9c179e"
            ],
            [
             0.4444444444444444,
             "#bd3786"
            ],
            [
             0.5555555555555556,
             "#d8576b"
            ],
            [
             0.6666666666666666,
             "#ed7953"
            ],
            [
             0.7777777777777778,
             "#fb9f3a"
            ],
            [
             0.8888888888888888,
             "#fdca26"
            ],
            [
             1,
             "#f0f921"
            ]
           ],
           "sequentialminus": [
            [
             0,
             "#0d0887"
            ],
            [
             0.1111111111111111,
             "#46039f"
            ],
            [
             0.2222222222222222,
             "#7201a8"
            ],
            [
             0.3333333333333333,
             "#9c179e"
            ],
            [
             0.4444444444444444,
             "#bd3786"
            ],
            [
             0.5555555555555556,
             "#d8576b"
            ],
            [
             0.6666666666666666,
             "#ed7953"
            ],
            [
             0.7777777777777778,
             "#fb9f3a"
            ],
            [
             0.8888888888888888,
             "#fdca26"
            ],
            [
             1,
             "#f0f921"
            ]
           ]
          },
          "colorway": [
           "#636efa",
           "#EF553B",
           "#00cc96",
           "#ab63fa",
           "#FFA15A",
           "#19d3f3",
           "#FF6692",
           "#B6E880",
           "#FF97FF",
           "#FECB52"
          ],
          "font": {
           "color": "#2a3f5f"
          },
          "geo": {
           "bgcolor": "white",
           "lakecolor": "white",
           "landcolor": "white",
           "showlakes": true,
           "showland": true,
           "subunitcolor": "#C8D4E3"
          },
          "hoverlabel": {
           "align": "left"
          },
          "hovermode": "closest",
          "mapbox": {
           "style": "light"
          },
          "paper_bgcolor": "white",
          "plot_bgcolor": "white",
          "polar": {
           "angularaxis": {
            "gridcolor": "#EBF0F8",
            "linecolor": "#EBF0F8",
            "ticks": ""
           },
           "bgcolor": "white",
           "radialaxis": {
            "gridcolor": "#EBF0F8",
            "linecolor": "#EBF0F8",
            "ticks": ""
           }
          },
          "scene": {
           "xaxis": {
            "backgroundcolor": "white",
            "gridcolor": "#DFE8F3",
            "gridwidth": 2,
            "linecolor": "#EBF0F8",
            "showbackground": true,
            "ticks": "",
            "zerolinecolor": "#EBF0F8"
           },
           "yaxis": {
            "backgroundcolor": "white",
            "gridcolor": "#DFE8F3",
            "gridwidth": 2,
            "linecolor": "#EBF0F8",
            "showbackground": true,
            "ticks": "",
            "zerolinecolor": "#EBF0F8"
           },
           "zaxis": {
            "backgroundcolor": "white",
            "gridcolor": "#DFE8F3",
            "gridwidth": 2,
            "linecolor": "#EBF0F8",
            "showbackground": true,
            "ticks": "",
            "zerolinecolor": "#EBF0F8"
           }
          },
          "shapedefaults": {
           "line": {
            "color": "#2a3f5f"
           }
          },
          "ternary": {
           "aaxis": {
            "gridcolor": "#DFE8F3",
            "linecolor": "#A2B1C6",
            "ticks": ""
           },
           "baxis": {
            "gridcolor": "#DFE8F3",
            "linecolor": "#A2B1C6",
            "ticks": ""
           },
           "bgcolor": "white",
           "caxis": {
            "gridcolor": "#DFE8F3",
            "linecolor": "#A2B1C6",
            "ticks": ""
           }
          },
          "title": {
           "x": 0.05
          },
          "xaxis": {
           "automargin": true,
           "gridcolor": "#EBF0F8",
           "linecolor": "#EBF0F8",
           "ticks": "",
           "title": {
            "standoff": 15
           },
           "zerolinecolor": "#EBF0F8",
           "zerolinewidth": 2
          },
          "yaxis": {
           "automargin": true,
           "gridcolor": "#EBF0F8",
           "linecolor": "#EBF0F8",
           "ticks": "",
           "title": {
            "standoff": 15
           },
           "zerolinecolor": "#EBF0F8",
           "zerolinewidth": 2
          }
         }
        },
        "title": {
         "font": {
          "family": "Aerial",
          "size": 24
         },
         "text": "Crimes in top 10 states with their district in 2012 "
        },
        "updatemenus": [
         {
          "buttons": [
           {
            "args": [
             null,
             {
              "frame": {
               "duration": 500,
               "redraw": false
              },
              "fromcurrent": true,
              "mode": "immediate",
              "transition": {
               "duration": 500,
               "easing": "linear"
              }
             }
            ],
            "label": "&#9654;",
            "method": "animate"
           },
           {
            "args": [
             [
              null
             ],
             {
              "frame": {
               "duration": 0,
               "redraw": false
              },
              "fromcurrent": true,
              "mode": "immediate",
              "transition": {
               "duration": 0,
               "easing": "linear"
              }
             }
            ],
            "label": "&#9724;",
            "method": "animate"
           }
          ],
          "direction": "left",
          "pad": {
           "r": 10,
           "t": 70
          },
          "showactive": false,
          "type": "buttons",
          "x": 0.1,
          "xanchor": "right",
          "y": 0,
          "yanchor": "top"
         }
        ],
        "xaxis": {
         "anchor": "y",
         "domain": [
          0,
          1
         ],
         "title": {
          "text": "STATE/UT"
         }
        },
        "yaxis": {
         "anchor": "x",
         "domain": [
          0,
          1
         ],
         "title": {
          "text": "value"
         }
        }
       }
      },
      "text/html": [
       "<div>\n",
       "        \n",
       "        \n",
       "            <div id=\"7319ba7c-7618-4e1c-8ec6-626e43444a9d\" class=\"plotly-graph-div\" style=\"height:525px; width:100%;\"></div>\n",
       "            <script type=\"text/javascript\">\n",
       "                require([\"plotly\"], function(Plotly) {\n",
       "                    window.PLOTLYENV=window.PLOTLYENV || {};\n",
       "                    \n",
       "                if (document.getElementById(\"7319ba7c-7618-4e1c-8ec6-626e43444a9d\")) {\n",
       "                    Plotly.newPlot(\n",
       "                        '7319ba7c-7618-4e1c-8ec6-626e43444a9d',\n",
       "                        [{\"hovertemplate\": \"variable=MURDER<br>YEAR=2001<br>STATE/UT=%{x}<br>value=%{y}<extra></extra>\", \"legendgroup\": \"MURDER\", \"line\": {\"color\": \"#636efa\"}, \"mode\": \"lines\", \"name\": \"MURDER\", \"orientation\": \"v\", \"showlegend\": true, \"stackgroup\": \"1\", \"type\": \"scatter\", \"x\": [\"ANDHRA PRADESH\", \"BIHAR\", \"GUJARAT\", \"KARNATAKA\", \"KERALA\", \"MADHYA PRADESH\", \"MAHARASHTRA\", \"RAJASTHAN\", \"TAMIL NADU\", \"UTTAR PRADESH\"], \"xaxis\": \"x\", \"y\": [2602, 3643, 1226, 1626, 472, 2425, 2839, 1259, 1662, 7601], \"yaxis\": \"y\"}, {\"hovertemplate\": \"variable=RAPE<br>YEAR=2001<br>STATE/UT=%{x}<br>value=%{y}<extra></extra>\", \"legendgroup\": \"RAPE\", \"line\": {\"color\": \"#EF553B\"}, \"mode\": \"lines\", \"name\": \"RAPE\", \"orientation\": \"v\", \"showlegend\": true, \"stackgroup\": \"1\", \"type\": \"scatter\", \"x\": [\"ANDHRA PRADESH\", \"BIHAR\", \"GUJARAT\", \"KARNATAKA\", \"KERALA\", \"MADHYA PRADESH\", \"MAHARASHTRA\", \"RAJASTHAN\", \"TAMIL NADU\", \"UTTAR PRADESH\"], \"xaxis\": \"x\", \"y\": [871, 888, 286, 293, 562, 2851, 1302, 1049, 423, 1958], \"yaxis\": \"y\"}, {\"hovertemplate\": \"variable=KIDNAPPING & ABDUCTION<br>YEAR=2001<br>STATE/UT=%{x}<br>value=%{y}<extra></extra>\", \"legendgroup\": \"KIDNAPPING & ABDUCTION\", \"line\": {\"color\": \"#00cc96\"}, \"mode\": \"lines\", \"name\": \"KIDNAPPING & ABDUCTION\", \"orientation\": \"v\", \"showlegend\": true, \"stackgroup\": \"1\", \"type\": \"scatter\", \"x\": [\"ANDHRA PRADESH\", \"BIHAR\", \"GUJARAT\", \"KARNATAKA\", \"KERALA\", \"MADHYA PRADESH\", \"MAHARASHTRA\", \"RAJASTHAN\", \"TAMIL NADU\", \"UTTAR PRADESH\"], \"xaxis\": \"x\", \"y\": [1182, 2159, 998, 559, 183, 956, 985, 2718, 952, 4330], \"yaxis\": \"y\"}, {\"hovertemplate\": \"variable=ROBBERY<br>YEAR=2001<br>STATE/UT=%{x}<br>value=%{y}<extra></extra>\", \"legendgroup\": \"ROBBERY\", \"line\": {\"color\": \"#ab63fa\"}, \"mode\": \"lines\", \"name\": \"ROBBERY\", \"orientation\": \"v\", \"showlegend\": true, \"stackgroup\": \"1\", \"type\": \"scatter\", \"x\": [\"ANDHRA PRADESH\", \"BIHAR\", \"GUJARAT\", \"KARNATAKA\", \"KERALA\", \"MADHYA PRADESH\", \"MAHARASHTRA\", \"RAJASTHAN\", \"TAMIL NADU\", \"UTTAR PRADESH\"], \"xaxis\": \"x\", \"y\": [629, 2203, 991, 847, 517, 1764, 2239, 889, 672, 3825], \"yaxis\": \"y\"}, {\"hovertemplate\": \"variable=IMPORTATION OF GIRLS FROM FOREIGN COUNTRIES<br>YEAR=2001<br>STATE/UT=%{x}<br>value=%{y}<extra></extra>\", \"legendgroup\": \"IMPORTATION OF GIRLS FROM FOREIGN COUNTRIES\", \"line\": {\"color\": \"#FFA15A\"}, \"mode\": \"lines\", \"name\": \"IMPORTATION OF GIRLS FROM FOREIGN COUNTRIES\", \"orientation\": \"v\", \"showlegend\": true, \"stackgroup\": \"1\", \"type\": \"scatter\", \"x\": [\"ANDHRA PRADESH\", \"BIHAR\", \"GUJARAT\", \"KARNATAKA\", \"KERALA\", \"MADHYA PRADESH\", \"MAHARASHTRA\", \"RAJASTHAN\", \"TAMIL NADU\", \"UTTAR PRADESH\"], \"xaxis\": \"x\", \"y\": [7, 83, 0, 0, 0, 0, 1, 1, 14, 0], \"yaxis\": \"y\"}, {\"hovertemplate\": \"variable=DACOITY<br>YEAR=2001<br>STATE/UT=%{x}<br>value=%{y}<extra></extra>\", \"legendgroup\": \"DACOITY\", \"line\": {\"color\": \"#19d3f3\"}, \"mode\": \"lines\", \"name\": \"DACOITY\", \"orientation\": \"v\", \"showlegend\": true, \"stackgroup\": \"1\", \"type\": \"scatter\", \"x\": [\"ANDHRA PRADESH\", \"BIHAR\", \"GUJARAT\", \"KARNATAKA\", \"KERALA\", \"MADHYA PRADESH\", \"MAHARASHTRA\", \"RAJASTHAN\", \"TAMIL NADU\", \"UTTAR PRADESH\"], \"xaxis\": \"x\", \"y\": [214, 1291, 327, 178, 176, 166, 529, 60, 158, 905], \"yaxis\": \"y\"}, {\"hovertemplate\": \"variable=RIOTS<br>YEAR=2001<br>STATE/UT=%{x}<br>value=%{y}<extra></extra>\", \"legendgroup\": \"RIOTS\", \"line\": {\"color\": \"#FF6692\"}, \"mode\": \"lines\", \"name\": \"RIOTS\", \"orientation\": \"v\", \"showlegend\": true, \"stackgroup\": \"1\", \"type\": \"scatter\", \"x\": [\"ANDHRA PRADESH\", \"BIHAR\", \"GUJARAT\", \"KARNATAKA\", \"KERALA\", \"MADHYA PRADESH\", \"MAHARASHTRA\", \"RAJASTHAN\", \"TAMIL NADU\", \"UTTAR PRADESH\"], \"xaxis\": \"x\", \"y\": [3001, 8606, 1930, 6686, 8108, 3395, 6719, 11214, 5196, 7343], \"yaxis\": \"y\"}],\n",
       "                        {\"font\": {\"color\": \"#e31757\", \"family\": \"Times New Roman\", \"size\": 11}, \"legend\": {\"title\": {\"text\": \"variable\"}, \"tracegroupgap\": 0}, \"margin\": {\"t\": 60}, \"paper_bgcolor\": \"black\", \"sliders\": [{\"active\": 0, \"currentvalue\": {\"prefix\": \"YEAR=\"}, \"len\": 0.9, \"pad\": {\"b\": 10, \"t\": 60}, \"steps\": [{\"args\": [[\"2001\"], {\"frame\": {\"duration\": 0, \"redraw\": false}, \"fromcurrent\": true, \"mode\": \"immediate\", \"transition\": {\"duration\": 0, \"easing\": \"linear\"}}], \"label\": \"2001\", \"method\": \"animate\"}, {\"args\": [[\"2002\"], {\"frame\": {\"duration\": 0, \"redraw\": false}, \"fromcurrent\": true, \"mode\": \"immediate\", \"transition\": {\"duration\": 0, \"easing\": \"linear\"}}], \"label\": \"2002\", \"method\": \"animate\"}, {\"args\": [[\"2003\"], {\"frame\": {\"duration\": 0, \"redraw\": false}, \"fromcurrent\": true, \"mode\": \"immediate\", \"transition\": {\"duration\": 0, \"easing\": \"linear\"}}], \"label\": \"2003\", \"method\": \"animate\"}, {\"args\": [[\"2004\"], {\"frame\": {\"duration\": 0, \"redraw\": false}, \"fromcurrent\": true, \"mode\": \"immediate\", \"transition\": {\"duration\": 0, \"easing\": \"linear\"}}], \"label\": \"2004\", \"method\": \"animate\"}, {\"args\": [[\"2005\"], {\"frame\": {\"duration\": 0, \"redraw\": false}, \"fromcurrent\": true, \"mode\": \"immediate\", \"transition\": {\"duration\": 0, \"easing\": \"linear\"}}], \"label\": \"2005\", \"method\": \"animate\"}, {\"args\": [[\"2006\"], {\"frame\": {\"duration\": 0, \"redraw\": false}, \"fromcurrent\": true, \"mode\": \"immediate\", \"transition\": {\"duration\": 0, \"easing\": \"linear\"}}], \"label\": \"2006\", \"method\": \"animate\"}, {\"args\": [[\"2007\"], {\"frame\": {\"duration\": 0, \"redraw\": false}, \"fromcurrent\": true, \"mode\": \"immediate\", \"transition\": {\"duration\": 0, \"easing\": \"linear\"}}], \"label\": \"2007\", \"method\": \"animate\"}, {\"args\": [[\"2008\"], {\"frame\": {\"duration\": 0, \"redraw\": false}, \"fromcurrent\": true, \"mode\": \"immediate\", \"transition\": {\"duration\": 0, \"easing\": \"linear\"}}], \"label\": \"2008\", \"method\": \"animate\"}, {\"args\": [[\"2009\"], {\"frame\": {\"duration\": 0, \"redraw\": false}, \"fromcurrent\": true, \"mode\": \"immediate\", \"transition\": {\"duration\": 0, \"easing\": \"linear\"}}], \"label\": \"2009\", \"method\": \"animate\"}, {\"args\": [[\"2010\"], {\"frame\": {\"duration\": 0, \"redraw\": false}, \"fromcurrent\": true, \"mode\": \"immediate\", \"transition\": {\"duration\": 0, \"easing\": \"linear\"}}], \"label\": \"2010\", \"method\": \"animate\"}, {\"args\": [[\"2011\"], {\"frame\": {\"duration\": 0, \"redraw\": false}, \"fromcurrent\": true, \"mode\": \"immediate\", \"transition\": {\"duration\": 0, \"easing\": \"linear\"}}], \"label\": \"2011\", \"method\": \"animate\"}, {\"args\": [[\"2012\"], {\"frame\": {\"duration\": 0, \"redraw\": false}, \"fromcurrent\": true, \"mode\": \"immediate\", \"transition\": {\"duration\": 0, \"easing\": \"linear\"}}], \"label\": \"2012\", \"method\": \"animate\"}], \"x\": 0.1, \"xanchor\": \"left\", \"y\": 0, \"yanchor\": \"top\"}], \"template\": {\"data\": {\"bar\": [{\"error_x\": {\"color\": \"#2a3f5f\"}, \"error_y\": {\"color\": \"#2a3f5f\"}, \"marker\": {\"line\": {\"color\": \"white\", \"width\": 0.5}}, \"type\": \"bar\"}], \"barpolar\": [{\"marker\": {\"line\": {\"color\": \"white\", \"width\": 0.5}}, \"type\": \"barpolar\"}], \"carpet\": [{\"aaxis\": {\"endlinecolor\": \"#2a3f5f\", \"gridcolor\": \"#C8D4E3\", \"linecolor\": \"#C8D4E3\", \"minorgridcolor\": \"#C8D4E3\", \"startlinecolor\": \"#2a3f5f\"}, \"baxis\": {\"endlinecolor\": \"#2a3f5f\", \"gridcolor\": \"#C8D4E3\", \"linecolor\": \"#C8D4E3\", \"minorgridcolor\": \"#C8D4E3\", \"startlinecolor\": \"#2a3f5f\"}, \"type\": \"carpet\"}], \"choropleth\": [{\"colorbar\": {\"outlinewidth\": 0, \"ticks\": \"\"}, \"type\": \"choropleth\"}], \"contour\": [{\"colorbar\": {\"outlinewidth\": 0, \"ticks\": \"\"}, \"colorscale\": [[0.0, \"#0d0887\"], [0.1111111111111111, \"#46039f\"], [0.2222222222222222, \"#7201a8\"], [0.3333333333333333, \"#9c179e\"], [0.4444444444444444, \"#bd3786\"], [0.5555555555555556, \"#d8576b\"], [0.6666666666666666, \"#ed7953\"], [0.7777777777777778, \"#fb9f3a\"], [0.8888888888888888, \"#fdca26\"], [1.0, \"#f0f921\"]], \"type\": \"contour\"}], \"contourcarpet\": [{\"colorbar\": {\"outlinewidth\": 0, \"ticks\": \"\"}, \"type\": \"contourcarpet\"}], \"heatmap\": [{\"colorbar\": {\"outlinewidth\": 0, \"ticks\": \"\"}, \"colorscale\": [[0.0, \"#0d0887\"], [0.1111111111111111, \"#46039f\"], [0.2222222222222222, \"#7201a8\"], [0.3333333333333333, \"#9c179e\"], [0.4444444444444444, \"#bd3786\"], [0.5555555555555556, \"#d8576b\"], [0.6666666666666666, \"#ed7953\"], [0.7777777777777778, \"#fb9f3a\"], [0.8888888888888888, \"#fdca26\"], [1.0, \"#f0f921\"]], \"type\": \"heatmap\"}], \"heatmapgl\": [{\"colorbar\": {\"outlinewidth\": 0, \"ticks\": \"\"}, \"colorscale\": [[0.0, \"#0d0887\"], [0.1111111111111111, \"#46039f\"], [0.2222222222222222, \"#7201a8\"], [0.3333333333333333, \"#9c179e\"], [0.4444444444444444, \"#bd3786\"], [0.5555555555555556, \"#d8576b\"], [0.6666666666666666, \"#ed7953\"], [0.7777777777777778, \"#fb9f3a\"], [0.8888888888888888, \"#fdca26\"], [1.0, \"#f0f921\"]], \"type\": \"heatmapgl\"}], \"histogram\": [{\"marker\": {\"colorbar\": {\"outlinewidth\": 0, \"ticks\": \"\"}}, \"type\": \"histogram\"}], \"histogram2d\": [{\"colorbar\": {\"outlinewidth\": 0, \"ticks\": \"\"}, \"colorscale\": [[0.0, \"#0d0887\"], [0.1111111111111111, \"#46039f\"], [0.2222222222222222, \"#7201a8\"], [0.3333333333333333, \"#9c179e\"], [0.4444444444444444, \"#bd3786\"], [0.5555555555555556, \"#d8576b\"], [0.6666666666666666, \"#ed7953\"], [0.7777777777777778, \"#fb9f3a\"], [0.8888888888888888, \"#fdca26\"], [1.0, \"#f0f921\"]], \"type\": \"histogram2d\"}], \"histogram2dcontour\": [{\"colorbar\": {\"outlinewidth\": 0, \"ticks\": \"\"}, \"colorscale\": [[0.0, \"#0d0887\"], [0.1111111111111111, \"#46039f\"], [0.2222222222222222, \"#7201a8\"], [0.3333333333333333, \"#9c179e\"], [0.4444444444444444, \"#bd3786\"], [0.5555555555555556, \"#d8576b\"], [0.6666666666666666, \"#ed7953\"], [0.7777777777777778, \"#fb9f3a\"], [0.8888888888888888, \"#fdca26\"], [1.0, \"#f0f921\"]], \"type\": \"histogram2dcontour\"}], \"mesh3d\": [{\"colorbar\": {\"outlinewidth\": 0, \"ticks\": \"\"}, \"type\": \"mesh3d\"}], \"parcoords\": [{\"line\": {\"colorbar\": {\"outlinewidth\": 0, \"ticks\": \"\"}}, \"type\": \"parcoords\"}], \"pie\": [{\"automargin\": true, \"type\": \"pie\"}], \"scatter\": [{\"marker\": {\"colorbar\": {\"outlinewidth\": 0, \"ticks\": \"\"}}, \"type\": \"scatter\"}], \"scatter3d\": [{\"line\": {\"colorbar\": {\"outlinewidth\": 0, \"ticks\": \"\"}}, \"marker\": {\"colorbar\": {\"outlinewidth\": 0, \"ticks\": \"\"}}, \"type\": \"scatter3d\"}], \"scattercarpet\": [{\"marker\": {\"colorbar\": {\"outlinewidth\": 0, \"ticks\": \"\"}}, \"type\": \"scattercarpet\"}], \"scattergeo\": [{\"marker\": {\"colorbar\": {\"outlinewidth\": 0, \"ticks\": \"\"}}, \"type\": \"scattergeo\"}], \"scattergl\": [{\"marker\": {\"colorbar\": {\"outlinewidth\": 0, \"ticks\": \"\"}}, \"type\": \"scattergl\"}], \"scattermapbox\": [{\"marker\": {\"colorbar\": {\"outlinewidth\": 0, \"ticks\": \"\"}}, \"type\": \"scattermapbox\"}], \"scatterpolar\": [{\"marker\": {\"colorbar\": {\"outlinewidth\": 0, \"ticks\": \"\"}}, \"type\": \"scatterpolar\"}], \"scatterpolargl\": [{\"marker\": {\"colorbar\": {\"outlinewidth\": 0, \"ticks\": \"\"}}, \"type\": \"scatterpolargl\"}], \"scatterternary\": [{\"marker\": {\"colorbar\": {\"outlinewidth\": 0, \"ticks\": \"\"}}, \"type\": \"scatterternary\"}], \"surface\": [{\"colorbar\": {\"outlinewidth\": 0, \"ticks\": \"\"}, \"colorscale\": [[0.0, \"#0d0887\"], [0.1111111111111111, \"#46039f\"], [0.2222222222222222, \"#7201a8\"], [0.3333333333333333, \"#9c179e\"], [0.4444444444444444, \"#bd3786\"], [0.5555555555555556, \"#d8576b\"], [0.6666666666666666, \"#ed7953\"], [0.7777777777777778, \"#fb9f3a\"], [0.8888888888888888, \"#fdca26\"], [1.0, \"#f0f921\"]], \"type\": \"surface\"}], \"table\": [{\"cells\": {\"fill\": {\"color\": \"#EBF0F8\"}, \"line\": {\"color\": \"white\"}}, \"header\": {\"fill\": {\"color\": \"#C8D4E3\"}, \"line\": {\"color\": \"white\"}}, \"type\": \"table\"}]}, \"layout\": {\"annotationdefaults\": {\"arrowcolor\": \"#2a3f5f\", \"arrowhead\": 0, \"arrowwidth\": 1}, \"coloraxis\": {\"colorbar\": {\"outlinewidth\": 0, \"ticks\": \"\"}}, \"colorscale\": {\"diverging\": [[0, \"#8e0152\"], [0.1, \"#c51b7d\"], [0.2, \"#de77ae\"], [0.3, \"#f1b6da\"], [0.4, \"#fde0ef\"], [0.5, \"#f7f7f7\"], [0.6, \"#e6f5d0\"], [0.7, \"#b8e186\"], [0.8, \"#7fbc41\"], [0.9, \"#4d9221\"], [1, \"#276419\"]], \"sequential\": [[0.0, \"#0d0887\"], [0.1111111111111111, \"#46039f\"], [0.2222222222222222, \"#7201a8\"], [0.3333333333333333, \"#9c179e\"], [0.4444444444444444, \"#bd3786\"], [0.5555555555555556, \"#d8576b\"], [0.6666666666666666, \"#ed7953\"], [0.7777777777777778, \"#fb9f3a\"], [0.8888888888888888, \"#fdca26\"], [1.0, \"#f0f921\"]], \"sequentialminus\": [[0.0, \"#0d0887\"], [0.1111111111111111, \"#46039f\"], [0.2222222222222222, \"#7201a8\"], [0.3333333333333333, \"#9c179e\"], [0.4444444444444444, \"#bd3786\"], [0.5555555555555556, \"#d8576b\"], [0.6666666666666666, \"#ed7953\"], [0.7777777777777778, \"#fb9f3a\"], [0.8888888888888888, \"#fdca26\"], [1.0, \"#f0f921\"]]}, \"colorway\": [\"#636efa\", \"#EF553B\", \"#00cc96\", \"#ab63fa\", \"#FFA15A\", \"#19d3f3\", \"#FF6692\", \"#B6E880\", \"#FF97FF\", \"#FECB52\"], \"font\": {\"color\": \"#2a3f5f\"}, \"geo\": {\"bgcolor\": \"white\", \"lakecolor\": \"white\", \"landcolor\": \"white\", \"showlakes\": true, \"showland\": true, \"subunitcolor\": \"#C8D4E3\"}, \"hoverlabel\": {\"align\": \"left\"}, \"hovermode\": \"closest\", \"mapbox\": {\"style\": \"light\"}, \"paper_bgcolor\": \"white\", \"plot_bgcolor\": \"white\", \"polar\": {\"angularaxis\": {\"gridcolor\": \"#EBF0F8\", \"linecolor\": \"#EBF0F8\", \"ticks\": \"\"}, \"bgcolor\": \"white\", \"radialaxis\": {\"gridcolor\": \"#EBF0F8\", \"linecolor\": \"#EBF0F8\", \"ticks\": \"\"}}, \"scene\": {\"xaxis\": {\"backgroundcolor\": \"white\", \"gridcolor\": \"#DFE8F3\", \"gridwidth\": 2, \"linecolor\": \"#EBF0F8\", \"showbackground\": true, \"ticks\": \"\", \"zerolinecolor\": \"#EBF0F8\"}, \"yaxis\": {\"backgroundcolor\": \"white\", \"gridcolor\": \"#DFE8F3\", \"gridwidth\": 2, \"linecolor\": \"#EBF0F8\", \"showbackground\": true, \"ticks\": \"\", \"zerolinecolor\": \"#EBF0F8\"}, \"zaxis\": {\"backgroundcolor\": \"white\", \"gridcolor\": \"#DFE8F3\", \"gridwidth\": 2, \"linecolor\": \"#EBF0F8\", \"showbackground\": true, \"ticks\": \"\", \"zerolinecolor\": \"#EBF0F8\"}}, \"shapedefaults\": {\"line\": {\"color\": \"#2a3f5f\"}}, \"ternary\": {\"aaxis\": {\"gridcolor\": \"#DFE8F3\", \"linecolor\": \"#A2B1C6\", \"ticks\": \"\"}, \"baxis\": {\"gridcolor\": \"#DFE8F3\", \"linecolor\": \"#A2B1C6\", \"ticks\": \"\"}, \"bgcolor\": \"white\", \"caxis\": {\"gridcolor\": \"#DFE8F3\", \"linecolor\": \"#A2B1C6\", \"ticks\": \"\"}}, \"title\": {\"x\": 0.05}, \"xaxis\": {\"automargin\": true, \"gridcolor\": \"#EBF0F8\", \"linecolor\": \"#EBF0F8\", \"ticks\": \"\", \"title\": {\"standoff\": 15}, \"zerolinecolor\": \"#EBF0F8\", \"zerolinewidth\": 2}, \"yaxis\": {\"automargin\": true, \"gridcolor\": \"#EBF0F8\", \"linecolor\": \"#EBF0F8\", \"ticks\": \"\", \"title\": {\"standoff\": 15}, \"zerolinecolor\": \"#EBF0F8\", \"zerolinewidth\": 2}}}, \"title\": {\"font\": {\"family\": \"Aerial\", \"size\": 24}, \"text\": \"Crimes in top 10 states with their district in 2012 \"}, \"updatemenus\": [{\"buttons\": [{\"args\": [null, {\"frame\": {\"duration\": 500, \"redraw\": false}, \"fromcurrent\": true, \"mode\": \"immediate\", \"transition\": {\"duration\": 500, \"easing\": \"linear\"}}], \"label\": \"&#9654;\", \"method\": \"animate\"}, {\"args\": [[null], {\"frame\": {\"duration\": 0, \"redraw\": false}, \"fromcurrent\": true, \"mode\": \"immediate\", \"transition\": {\"duration\": 0, \"easing\": \"linear\"}}], \"label\": \"&#9724;\", \"method\": \"animate\"}], \"direction\": \"left\", \"pad\": {\"r\": 10, \"t\": 70}, \"showactive\": false, \"type\": \"buttons\", \"x\": 0.1, \"xanchor\": \"right\", \"y\": 0, \"yanchor\": \"top\"}], \"xaxis\": {\"anchor\": \"y\", \"domain\": [0.0, 1.0], \"title\": {\"text\": \"STATE/UT\"}}, \"yaxis\": {\"anchor\": \"x\", \"domain\": [0.0, 1.0], \"title\": {\"text\": \"value\"}}},\n",
       "                        {\"responsive\": true}\n",
       "                    ).then(function(){\n",
       "                            Plotly.addFrames('7319ba7c-7618-4e1c-8ec6-626e43444a9d', [{\"data\": [{\"hovertemplate\": \"variable=MURDER<br>YEAR=2001<br>STATE/UT=%{x}<br>value=%{y}<extra></extra>\", \"legendgroup\": \"MURDER\", \"line\": {\"color\": \"#636efa\"}, \"mode\": \"lines\", \"name\": \"MURDER\", \"orientation\": \"v\", \"showlegend\": true, \"stackgroup\": \"1\", \"x\": [\"ANDHRA PRADESH\", \"BIHAR\", \"GUJARAT\", \"KARNATAKA\", \"KERALA\", \"MADHYA PRADESH\", \"MAHARASHTRA\", \"RAJASTHAN\", \"TAMIL NADU\", \"UTTAR PRADESH\"], \"xaxis\": \"x\", \"y\": [2602, 3643, 1226, 1626, 472, 2425, 2839, 1259, 1662, 7601], \"yaxis\": \"y\", \"type\": \"scatter\"}, {\"hovertemplate\": \"variable=RAPE<br>YEAR=2001<br>STATE/UT=%{x}<br>value=%{y}<extra></extra>\", \"legendgroup\": \"RAPE\", \"line\": {\"color\": \"#EF553B\"}, \"mode\": \"lines\", \"name\": \"RAPE\", \"orientation\": \"v\", \"showlegend\": true, \"stackgroup\": \"1\", \"x\": [\"ANDHRA PRADESH\", \"BIHAR\", \"GUJARAT\", \"KARNATAKA\", \"KERALA\", \"MADHYA PRADESH\", \"MAHARASHTRA\", \"RAJASTHAN\", \"TAMIL NADU\", \"UTTAR PRADESH\"], \"xaxis\": \"x\", \"y\": [871, 888, 286, 293, 562, 2851, 1302, 1049, 423, 1958], \"yaxis\": \"y\", \"type\": \"scatter\"}, {\"hovertemplate\": \"variable=KIDNAPPING & ABDUCTION<br>YEAR=2001<br>STATE/UT=%{x}<br>value=%{y}<extra></extra>\", \"legendgroup\": \"KIDNAPPING & ABDUCTION\", \"line\": {\"color\": \"#00cc96\"}, \"mode\": \"lines\", \"name\": \"KIDNAPPING & ABDUCTION\", \"orientation\": \"v\", \"showlegend\": true, \"stackgroup\": \"1\", \"x\": [\"ANDHRA PRADESH\", \"BIHAR\", \"GUJARAT\", \"KARNATAKA\", \"KERALA\", \"MADHYA PRADESH\", \"MAHARASHTRA\", \"RAJASTHAN\", \"TAMIL NADU\", \"UTTAR PRADESH\"], \"xaxis\": \"x\", \"y\": [1182, 2159, 998, 559, 183, 956, 985, 2718, 952, 4330], \"yaxis\": \"y\", \"type\": \"scatter\"}, {\"hovertemplate\": \"variable=ROBBERY<br>YEAR=2001<br>STATE/UT=%{x}<br>value=%{y}<extra></extra>\", \"legendgroup\": \"ROBBERY\", \"line\": {\"color\": \"#ab63fa\"}, \"mode\": \"lines\", \"name\": \"ROBBERY\", \"orientation\": \"v\", \"showlegend\": true, \"stackgroup\": \"1\", \"x\": [\"ANDHRA PRADESH\", \"BIHAR\", \"GUJARAT\", \"KARNATAKA\", \"KERALA\", \"MADHYA PRADESH\", \"MAHARASHTRA\", \"RAJASTHAN\", \"TAMIL NADU\", \"UTTAR PRADESH\"], \"xaxis\": \"x\", \"y\": [629, 2203, 991, 847, 517, 1764, 2239, 889, 672, 3825], \"yaxis\": \"y\", \"type\": \"scatter\"}, {\"hovertemplate\": \"variable=IMPORTATION OF GIRLS FROM FOREIGN COUNTRIES<br>YEAR=2001<br>STATE/UT=%{x}<br>value=%{y}<extra></extra>\", \"legendgroup\": \"IMPORTATION OF GIRLS FROM FOREIGN COUNTRIES\", \"line\": {\"color\": \"#FFA15A\"}, \"mode\": \"lines\", \"name\": \"IMPORTATION OF GIRLS FROM FOREIGN COUNTRIES\", \"orientation\": \"v\", \"showlegend\": true, \"stackgroup\": \"1\", \"x\": [\"ANDHRA PRADESH\", \"BIHAR\", \"GUJARAT\", \"KARNATAKA\", \"KERALA\", \"MADHYA PRADESH\", \"MAHARASHTRA\", \"RAJASTHAN\", \"TAMIL NADU\", \"UTTAR PRADESH\"], \"xaxis\": \"x\", \"y\": [7, 83, 0, 0, 0, 0, 1, 1, 14, 0], \"yaxis\": \"y\", \"type\": \"scatter\"}, {\"hovertemplate\": \"variable=DACOITY<br>YEAR=2001<br>STATE/UT=%{x}<br>value=%{y}<extra></extra>\", \"legendgroup\": \"DACOITY\", \"line\": {\"color\": \"#19d3f3\"}, \"mode\": \"lines\", \"name\": \"DACOITY\", \"orientation\": \"v\", \"showlegend\": true, \"stackgroup\": \"1\", \"x\": [\"ANDHRA PRADESH\", \"BIHAR\", \"GUJARAT\", \"KARNATAKA\", \"KERALA\", \"MADHYA PRADESH\", \"MAHARASHTRA\", \"RAJASTHAN\", \"TAMIL NADU\", \"UTTAR PRADESH\"], \"xaxis\": \"x\", \"y\": [214, 1291, 327, 178, 176, 166, 529, 60, 158, 905], \"yaxis\": \"y\", \"type\": \"scatter\"}, {\"hovertemplate\": \"variable=RIOTS<br>YEAR=2001<br>STATE/UT=%{x}<br>value=%{y}<extra></extra>\", \"legendgroup\": \"RIOTS\", \"line\": {\"color\": \"#FF6692\"}, \"mode\": \"lines\", \"name\": \"RIOTS\", \"orientation\": \"v\", \"showlegend\": true, \"stackgroup\": \"1\", \"x\": [\"ANDHRA PRADESH\", \"BIHAR\", \"GUJARAT\", \"KARNATAKA\", \"KERALA\", \"MADHYA PRADESH\", \"MAHARASHTRA\", \"RAJASTHAN\", \"TAMIL NADU\", \"UTTAR PRADESH\"], \"xaxis\": \"x\", \"y\": [3001, 8606, 1930, 6686, 8108, 3395, 6719, 11214, 5196, 7343], \"yaxis\": \"y\", \"type\": \"scatter\"}], \"name\": \"2001\"}, {\"data\": [{\"hovertemplate\": \"variable=MURDER<br>YEAR=2002<br>STATE/UT=%{x}<br>value=%{y}<extra></extra>\", \"legendgroup\": \"MURDER\", \"line\": {\"color\": \"#636efa\"}, \"mode\": \"lines\", \"name\": \"MURDER\", \"orientation\": \"v\", \"showlegend\": true, \"stackgroup\": \"1\", \"x\": [\"ANDHRA PRADESH\", \"BIHAR\", \"GUJARAT\", \"KARNATAKA\", \"KERALA\", \"MADHYA PRADESH\", \"MAHARASHTRA\", \"RAJASTHAN\", \"TAMIL NADU\", \"UTTAR PRADESH\"], \"xaxis\": \"x\", \"y\": [2525, 3712, 1532, 1627, 454, 2395, 2768, 1276, 1723, 6825], \"yaxis\": \"y\", \"type\": \"scatter\"}, {\"hovertemplate\": \"variable=RAPE<br>YEAR=2002<br>STATE/UT=%{x}<br>value=%{y}<extra></extra>\", \"legendgroup\": \"RAPE\", \"line\": {\"color\": \"#EF553B\"}, \"mode\": \"lines\", \"name\": \"RAPE\", \"orientation\": \"v\", \"showlegend\": true, \"stackgroup\": \"1\", \"x\": [\"ANDHRA PRADESH\", \"BIHAR\", \"GUJARAT\", \"KARNATAKA\", \"KERALA\", \"MADHYA PRADESH\", \"MAHARASHTRA\", \"RAJASTHAN\", \"TAMIL NADU\", \"UTTAR PRADESH\"], \"xaxis\": \"x\", \"y\": [1002, 1040, 267, 292, 499, 2891, 1352, 1051, 534, 1415], \"yaxis\": \"y\", \"type\": \"scatter\"}, {\"hovertemplate\": \"variable=KIDNAPPING & ABDUCTION<br>YEAR=2002<br>STATE/UT=%{x}<br>value=%{y}<extra></extra>\", \"legendgroup\": \"KIDNAPPING & ABDUCTION\", \"line\": {\"color\": \"#00cc96\"}, \"mode\": \"lines\", \"name\": \"KIDNAPPING & ABDUCTION\", \"orientation\": \"v\", \"showlegend\": true, \"stackgroup\": \"1\", \"x\": [\"ANDHRA PRADESH\", \"BIHAR\", \"GUJARAT\", \"KARNATAKA\", \"KERALA\", \"MADHYA PRADESH\", \"MAHARASHTRA\", \"RAJASTHAN\", \"TAMIL NADU\", \"UTTAR PRADESH\"], \"xaxis\": \"x\", \"y\": [1302, 2361, 1015, 645, 162, 964, 953, 2587, 1001, 3430], \"yaxis\": \"y\", \"type\": \"scatter\"}, {\"hovertemplate\": \"variable=ROBBERY<br>YEAR=2002<br>STATE/UT=%{x}<br>value=%{y}<extra></extra>\", \"legendgroup\": \"ROBBERY\", \"line\": {\"color\": \"#ab63fa\"}, \"mode\": \"lines\", \"name\": \"ROBBERY\", \"orientation\": \"v\", \"showlegend\": true, \"stackgroup\": \"1\", \"x\": [\"ANDHRA PRADESH\", \"BIHAR\", \"GUJARAT\", \"KARNATAKA\", \"KERALA\", \"MADHYA PRADESH\", \"MAHARASHTRA\", \"RAJASTHAN\", \"TAMIL NADU\", \"UTTAR PRADESH\"], \"xaxis\": \"x\", \"y\": [648, 2288, 1098, 972, 610, 1829, 2136, 734, 653, 2840], \"yaxis\": \"y\", \"type\": \"scatter\"}, {\"hovertemplate\": \"variable=IMPORTATION OF GIRLS FROM FOREIGN COUNTRIES<br>YEAR=2002<br>STATE/UT=%{x}<br>value=%{y}<extra></extra>\", \"legendgroup\": \"IMPORTATION OF GIRLS FROM FOREIGN COUNTRIES\", \"line\": {\"color\": \"#FFA15A\"}, \"mode\": \"lines\", \"name\": \"IMPORTATION OF GIRLS FROM FOREIGN COUNTRIES\", \"orientation\": \"v\", \"showlegend\": true, \"stackgroup\": \"1\", \"x\": [\"ANDHRA PRADESH\", \"BIHAR\", \"GUJARAT\", \"KARNATAKA\", \"KERALA\", \"MADHYA PRADESH\", \"MAHARASHTRA\", \"RAJASTHAN\", \"TAMIL NADU\", \"UTTAR PRADESH\"], \"xaxis\": \"x\", \"y\": [0, 38, 0, 0, 0, 0, 0, 0, 0, 0], \"yaxis\": \"y\", \"type\": \"scatter\"}, {\"hovertemplate\": \"variable=DACOITY<br>YEAR=2002<br>STATE/UT=%{x}<br>value=%{y}<extra></extra>\", \"legendgroup\": \"DACOITY\", \"line\": {\"color\": \"#19d3f3\"}, \"mode\": \"lines\", \"name\": \"DACOITY\", \"orientation\": \"v\", \"showlegend\": true, \"stackgroup\": \"1\", \"x\": [\"ANDHRA PRADESH\", \"BIHAR\", \"GUJARAT\", \"KARNATAKA\", \"KERALA\", \"MADHYA PRADESH\", \"MAHARASHTRA\", \"RAJASTHAN\", \"TAMIL NADU\", \"UTTAR PRADESH\"], \"xaxis\": \"x\", \"y\": [197, 1289, 804, 178, 137, 136, 548, 47, 176, 552], \"yaxis\": \"y\", \"type\": \"scatter\"}, {\"hovertemplate\": \"variable=RIOTS<br>YEAR=2002<br>STATE/UT=%{x}<br>value=%{y}<extra></extra>\", \"legendgroup\": \"RIOTS\", \"line\": {\"color\": \"#FF6692\"}, \"mode\": \"lines\", \"name\": \"RIOTS\", \"orientation\": \"v\", \"showlegend\": true, \"stackgroup\": \"1\", \"x\": [\"ANDHRA PRADESH\", \"BIHAR\", \"GUJARAT\", \"KARNATAKA\", \"KERALA\", \"MADHYA PRADESH\", \"MAHARASHTRA\", \"RAJASTHAN\", \"TAMIL NADU\", \"UTTAR PRADESH\"], \"xaxis\": \"x\", \"y\": [2140, 8675, 3665, 6838, 8090, 3178, 6360, 7178, 4252, 4878], \"yaxis\": \"y\", \"type\": \"scatter\"}], \"name\": \"2002\"}, {\"data\": [{\"hovertemplate\": \"variable=MURDER<br>YEAR=2003<br>STATE/UT=%{x}<br>value=%{y}<extra></extra>\", \"legendgroup\": \"MURDER\", \"line\": {\"color\": \"#636efa\"}, \"mode\": \"lines\", \"name\": \"MURDER\", \"orientation\": \"v\", \"showlegend\": true, \"stackgroup\": \"1\", \"x\": [\"ANDHRA PRADESH\", \"BIHAR\", \"GUJARAT\", \"KARNATAKA\", \"KERALA\", \"MADHYA PRADESH\", \"MAHARASHTRA\", \"RAJASTHAN\", \"TAMIL NADU\", \"UTTAR PRADESH\"], \"xaxis\": \"x\", \"y\": [2667, 3771, 1114, 1506, 435, 2227, 2772, 1262, 1591, 5284], \"yaxis\": \"y\", \"type\": \"scatter\"}, {\"hovertemplate\": \"variable=RAPE<br>YEAR=2003<br>STATE/UT=%{x}<br>value=%{y}<extra></extra>\", \"legendgroup\": \"RAPE\", \"line\": {\"color\": \"#EF553B\"}, \"mode\": \"lines\", \"name\": \"RAPE\", \"orientation\": \"v\", \"showlegend\": true, \"stackgroup\": \"1\", \"x\": [\"ANDHRA PRADESH\", \"BIHAR\", \"GUJARAT\", \"KARNATAKA\", \"KERALA\", \"MADHYA PRADESH\", \"MAHARASHTRA\", \"RAJASTHAN\", \"TAMIL NADU\", \"UTTAR PRADESH\"], \"xaxis\": \"x\", \"y\": [946, 985, 236, 321, 394, 2738, 1268, 1050, 557, 911], \"yaxis\": \"y\", \"type\": \"scatter\"}, {\"hovertemplate\": \"variable=KIDNAPPING & ABDUCTION<br>YEAR=2003<br>STATE/UT=%{x}<br>value=%{y}<extra></extra>\", \"legendgroup\": \"KIDNAPPING & ABDUCTION\", \"line\": {\"color\": \"#00cc96\"}, \"mode\": \"lines\", \"name\": \"KIDNAPPING & ABDUCTION\", \"orientation\": \"v\", \"showlegend\": true, \"stackgroup\": \"1\", \"x\": [\"ANDHRA PRADESH\", \"BIHAR\", \"GUJARAT\", \"KARNATAKA\", \"KERALA\", \"MADHYA PRADESH\", \"MAHARASHTRA\", \"RAJASTHAN\", \"TAMIL NADU\", \"UTTAR PRADESH\"], \"xaxis\": \"x\", \"y\": [1485, 2427, 1044, 531, 189, 887, 926, 2238, 879, 2208], \"yaxis\": \"y\", \"type\": \"scatter\"}, {\"hovertemplate\": \"variable=ROBBERY<br>YEAR=2003<br>STATE/UT=%{x}<br>value=%{y}<extra></extra>\", \"legendgroup\": \"ROBBERY\", \"line\": {\"color\": \"#ab63fa\"}, \"mode\": \"lines\", \"name\": \"ROBBERY\", \"orientation\": \"v\", \"showlegend\": true, \"stackgroup\": \"1\", \"x\": [\"ANDHRA PRADESH\", \"BIHAR\", \"GUJARAT\", \"KARNATAKA\", \"KERALA\", \"MADHYA PRADESH\", \"MAHARASHTRA\", \"RAJASTHAN\", \"TAMIL NADU\", \"UTTAR PRADESH\"], \"xaxis\": \"x\", \"y\": [660, 2463, 1267, 861, 634, 1578, 2096, 655, 514, 1988], \"yaxis\": \"y\", \"type\": \"scatter\"}, {\"hovertemplate\": \"variable=IMPORTATION OF GIRLS FROM FOREIGN COUNTRIES<br>YEAR=2003<br>STATE/UT=%{x}<br>value=%{y}<extra></extra>\", \"legendgroup\": \"IMPORTATION OF GIRLS FROM FOREIGN COUNTRIES\", \"line\": {\"color\": \"#FFA15A\"}, \"mode\": \"lines\", \"name\": \"IMPORTATION OF GIRLS FROM FOREIGN COUNTRIES\", \"orientation\": \"v\", \"showlegend\": true, \"stackgroup\": \"1\", \"x\": [\"ANDHRA PRADESH\", \"BIHAR\", \"GUJARAT\", \"KARNATAKA\", \"KERALA\", \"MADHYA PRADESH\", \"MAHARASHTRA\", \"RAJASTHAN\", \"TAMIL NADU\", \"UTTAR PRADESH\"], \"xaxis\": \"x\", \"y\": [5, 37, 0, 0, 0, 0, 0, 1, 1, 0], \"yaxis\": \"y\", \"type\": \"scatter\"}, {\"hovertemplate\": \"variable=DACOITY<br>YEAR=2003<br>STATE/UT=%{x}<br>value=%{y}<extra></extra>\", \"legendgroup\": \"DACOITY\", \"line\": {\"color\": \"#19d3f3\"}, \"mode\": \"lines\", \"name\": \"DACOITY\", \"orientation\": \"v\", \"showlegend\": true, \"stackgroup\": \"1\", \"x\": [\"ANDHRA PRADESH\", \"BIHAR\", \"GUJARAT\", \"KARNATAKA\", \"KERALA\", \"MADHYA PRADESH\", \"MAHARASHTRA\", \"RAJASTHAN\", \"TAMIL NADU\", \"UTTAR PRADESH\"], \"xaxis\": \"x\", \"y\": [176, 1221, 338, 220, 142, 153, 514, 36, 95, 317], \"yaxis\": \"y\", \"type\": \"scatter\"}, {\"hovertemplate\": \"variable=RIOTS<br>YEAR=2003<br>STATE/UT=%{x}<br>value=%{y}<extra></extra>\", \"legendgroup\": \"RIOTS\", \"line\": {\"color\": \"#FF6692\"}, \"mode\": \"lines\", \"name\": \"RIOTS\", \"orientation\": \"v\", \"showlegend\": true, \"stackgroup\": \"1\", \"x\": [\"ANDHRA PRADESH\", \"BIHAR\", \"GUJARAT\", \"KARNATAKA\", \"KERALA\", \"MADHYA PRADESH\", \"MAHARASHTRA\", \"RAJASTHAN\", \"TAMIL NADU\", \"UTTAR PRADESH\"], \"xaxis\": \"x\", \"y\": [2328, 8029, 1824, 5784, 6798, 2729, 5714, 4052, 3706, 2251], \"yaxis\": \"y\", \"type\": \"scatter\"}], \"name\": \"2003\"}, {\"data\": [{\"hovertemplate\": \"variable=MURDER<br>YEAR=2004<br>STATE/UT=%{x}<br>value=%{y}<extra></extra>\", \"legendgroup\": \"MURDER\", \"line\": {\"color\": \"#636efa\"}, \"mode\": \"lines\", \"name\": \"MURDER\", \"orientation\": \"v\", \"showlegend\": true, \"stackgroup\": \"1\", \"x\": [\"ANDHRA PRADESH\", \"BIHAR\", \"GUJARAT\", \"KARNATAKA\", \"KERALA\", \"MADHYA PRADESH\", \"MAHARASHTRA\", \"RAJASTHAN\", \"TAMIL NADU\", \"UTTAR PRADESH\"], \"xaxis\": \"x\", \"y\": [2579, 3948, 1113, 1519, 417, 2379, 2696, 1279, 1479, 6126], \"yaxis\": \"y\", \"type\": \"scatter\"}, {\"hovertemplate\": \"variable=RAPE<br>YEAR=2004<br>STATE/UT=%{x}<br>value=%{y}<extra></extra>\", \"legendgroup\": \"RAPE\", \"line\": {\"color\": \"#EF553B\"}, \"mode\": \"lines\", \"name\": \"RAPE\", \"orientation\": \"v\", \"showlegend\": true, \"stackgroup\": \"1\", \"x\": [\"ANDHRA PRADESH\", \"BIHAR\", \"GUJARAT\", \"KARNATAKA\", \"KERALA\", \"MADHYA PRADESH\", \"MAHARASHTRA\", \"RAJASTHAN\", \"TAMIL NADU\", \"UTTAR PRADESH\"], \"xaxis\": \"x\", \"y\": [1016, 1390, 339, 291, 480, 2875, 1388, 1038, 618, 1397], \"yaxis\": \"y\", \"type\": \"scatter\"}, {\"hovertemplate\": \"variable=KIDNAPPING & ABDUCTION<br>YEAR=2004<br>STATE/UT=%{x}<br>value=%{y}<extra></extra>\", \"legendgroup\": \"KIDNAPPING & ABDUCTION\", \"line\": {\"color\": \"#00cc96\"}, \"mode\": \"lines\", \"name\": \"KIDNAPPING & ABDUCTION\", \"orientation\": \"v\", \"showlegend\": true, \"stackgroup\": \"1\", \"x\": [\"ANDHRA PRADESH\", \"BIHAR\", \"GUJARAT\", \"KARNATAKA\", \"KERALA\", \"MADHYA PRADESH\", \"MAHARASHTRA\", \"RAJASTHAN\", \"TAMIL NADU\", \"UTTAR PRADESH\"], \"xaxis\": \"x\", \"y\": [1526, 3413, 1133, 592, 232, 832, 1045, 2384, 870, 3337], \"yaxis\": \"y\", \"type\": \"scatter\"}, {\"hovertemplate\": \"variable=ROBBERY<br>YEAR=2004<br>STATE/UT=%{x}<br>value=%{y}<extra></extra>\", \"legendgroup\": \"ROBBERY\", \"line\": {\"color\": \"#ab63fa\"}, \"mode\": \"lines\", \"name\": \"ROBBERY\", \"orientation\": \"v\", \"showlegend\": true, \"stackgroup\": \"1\", \"x\": [\"ANDHRA PRADESH\", \"BIHAR\", \"GUJARAT\", \"KARNATAKA\", \"KERALA\", \"MADHYA PRADESH\", \"MAHARASHTRA\", \"RAJASTHAN\", \"TAMIL NADU\", \"UTTAR PRADESH\"], \"xaxis\": \"x\", \"y\": [596, 2986, 1136, 1024, 639, 1526, 2229, 673, 464, 2606], \"yaxis\": \"y\", \"type\": \"scatter\"}, {\"hovertemplate\": \"variable=IMPORTATION OF GIRLS FROM FOREIGN COUNTRIES<br>YEAR=2004<br>STATE/UT=%{x}<br>value=%{y}<extra></extra>\", \"legendgroup\": \"IMPORTATION OF GIRLS FROM FOREIGN COUNTRIES\", \"line\": {\"color\": \"#FFA15A\"}, \"mode\": \"lines\", \"name\": \"IMPORTATION OF GIRLS FROM FOREIGN COUNTRIES\", \"orientation\": \"v\", \"showlegend\": true, \"stackgroup\": \"1\", \"x\": [\"ANDHRA PRADESH\", \"BIHAR\", \"GUJARAT\", \"KARNATAKA\", \"KERALA\", \"MADHYA PRADESH\", \"MAHARASHTRA\", \"RAJASTHAN\", \"TAMIL NADU\", \"UTTAR PRADESH\"], \"xaxis\": \"x\", \"y\": [2, 35, 0, 0, 0, 0, 0, 1, 0, 3], \"yaxis\": \"y\", \"type\": \"scatter\"}, {\"hovertemplate\": \"variable=DACOITY<br>YEAR=2004<br>STATE/UT=%{x}<br>value=%{y}<extra></extra>\", \"legendgroup\": \"DACOITY\", \"line\": {\"color\": \"#19d3f3\"}, \"mode\": \"lines\", \"name\": \"DACOITY\", \"orientation\": \"v\", \"showlegend\": true, \"stackgroup\": \"1\", \"x\": [\"ANDHRA PRADESH\", \"BIHAR\", \"GUJARAT\", \"KARNATAKA\", \"KERALA\", \"MADHYA PRADESH\", \"MAHARASHTRA\", \"RAJASTHAN\", \"TAMIL NADU\", \"UTTAR PRADESH\"], \"xaxis\": \"x\", \"y\": [199, 1319, 360, 177, 129, 147, 629, 58, 72, 378], \"yaxis\": \"y\", \"type\": \"scatter\"}, {\"hovertemplate\": \"variable=RIOTS<br>YEAR=2004<br>STATE/UT=%{x}<br>value=%{y}<extra></extra>\", \"legendgroup\": \"RIOTS\", \"line\": {\"color\": \"#FF6692\"}, \"mode\": \"lines\", \"name\": \"RIOTS\", \"orientation\": \"v\", \"showlegend\": true, \"stackgroup\": \"1\", \"x\": [\"ANDHRA PRADESH\", \"BIHAR\", \"GUJARAT\", \"KARNATAKA\", \"KERALA\", \"MADHYA PRADESH\", \"MAHARASHTRA\", \"RAJASTHAN\", \"TAMIL NADU\", \"UTTAR PRADESH\"], \"xaxis\": \"x\", \"y\": [2540, 9793, 1599, 6237, 6461, 2479, 5980, 3101, 3433, 3915], \"yaxis\": \"y\", \"type\": \"scatter\"}], \"name\": \"2004\"}, {\"data\": [{\"hovertemplate\": \"variable=MURDER<br>YEAR=2005<br>STATE/UT=%{x}<br>value=%{y}<extra></extra>\", \"legendgroup\": \"MURDER\", \"line\": {\"color\": \"#636efa\"}, \"mode\": \"lines\", \"name\": \"MURDER\", \"orientation\": \"v\", \"showlegend\": true, \"stackgroup\": \"1\", \"x\": [\"ANDHRA PRADESH\", \"BIHAR\", \"GUJARAT\", \"KARNATAKA\", \"KERALA\", \"MADHYA PRADESH\", \"MAHARASHTRA\", \"RAJASTHAN\", \"TAMIL NADU\", \"UTTAR PRADESH\"], \"xaxis\": \"x\", \"y\": [2750, 3471, 1033, 1609, 388, 2405, 2621, 1221, 1440, 5711], \"yaxis\": \"y\", \"type\": \"scatter\"}, {\"hovertemplate\": \"variable=RAPE<br>YEAR=2005<br>STATE/UT=%{x}<br>value=%{y}<extra></extra>\", \"legendgroup\": \"RAPE\", \"line\": {\"color\": \"#EF553B\"}, \"mode\": \"lines\", \"name\": \"RAPE\", \"orientation\": \"v\", \"showlegend\": true, \"stackgroup\": \"1\", \"x\": [\"ANDHRA PRADESH\", \"BIHAR\", \"GUJARAT\", \"KARNATAKA\", \"KERALA\", \"MADHYA PRADESH\", \"MAHARASHTRA\", \"RAJASTHAN\", \"TAMIL NADU\", \"UTTAR PRADESH\"], \"xaxis\": \"x\", \"y\": [935, 1147, 324, 343, 478, 2921, 1545, 993, 571, 1217], \"yaxis\": \"y\", \"type\": \"scatter\"}, {\"hovertemplate\": \"variable=KIDNAPPING & ABDUCTION<br>YEAR=2005<br>STATE/UT=%{x}<br>value=%{y}<extra></extra>\", \"legendgroup\": \"KIDNAPPING & ABDUCTION\", \"line\": {\"color\": \"#00cc96\"}, \"mode\": \"lines\", \"name\": \"KIDNAPPING & ABDUCTION\", \"orientation\": \"v\", \"showlegend\": true, \"stackgroup\": \"1\", \"x\": [\"ANDHRA PRADESH\", \"BIHAR\", \"GUJARAT\", \"KARNATAKA\", \"KERALA\", \"MADHYA PRADESH\", \"MAHARASHTRA\", \"RAJASTHAN\", \"TAMIL NADU\", \"UTTAR PRADESH\"], \"xaxis\": \"x\", \"y\": [1612, 2693, 1164, 589, 226, 847, 1194, 1993, 1029, 2955], \"yaxis\": \"y\", \"type\": \"scatter\"}, {\"hovertemplate\": \"variable=ROBBERY<br>YEAR=2005<br>STATE/UT=%{x}<br>value=%{y}<extra></extra>\", \"legendgroup\": \"ROBBERY\", \"line\": {\"color\": \"#ab63fa\"}, \"mode\": \"lines\", \"name\": \"ROBBERY\", \"orientation\": \"v\", \"showlegend\": true, \"stackgroup\": \"1\", \"x\": [\"ANDHRA PRADESH\", \"BIHAR\", \"GUJARAT\", \"KARNATAKA\", \"KERALA\", \"MADHYA PRADESH\", \"MAHARASHTRA\", \"RAJASTHAN\", \"TAMIL NADU\", \"UTTAR PRADESH\"], \"xaxis\": \"x\", \"y\": [794, 2374, 966, 1202, 621, 1557, 2411, 590, 437, 2049], \"yaxis\": \"y\", \"type\": \"scatter\"}, {\"hovertemplate\": \"variable=IMPORTATION OF GIRLS FROM FOREIGN COUNTRIES<br>YEAR=2005<br>STATE/UT=%{x}<br>value=%{y}<extra></extra>\", \"legendgroup\": \"IMPORTATION OF GIRLS FROM FOREIGN COUNTRIES\", \"line\": {\"color\": \"#FFA15A\"}, \"mode\": \"lines\", \"name\": \"IMPORTATION OF GIRLS FROM FOREIGN COUNTRIES\", \"orientation\": \"v\", \"showlegend\": true, \"stackgroup\": \"1\", \"x\": [\"ANDHRA PRADESH\", \"BIHAR\", \"GUJARAT\", \"KARNATAKA\", \"KERALA\", \"MADHYA PRADESH\", \"MAHARASHTRA\", \"RAJASTHAN\", \"TAMIL NADU\", \"UTTAR PRADESH\"], \"xaxis\": \"x\", \"y\": [3, 74, 0, 0, 0, 3, 0, 0, 0, 0], \"yaxis\": \"y\", \"type\": \"scatter\"}, {\"hovertemplate\": \"variable=DACOITY<br>YEAR=2005<br>STATE/UT=%{x}<br>value=%{y}<extra></extra>\", \"legendgroup\": \"DACOITY\", \"line\": {\"color\": \"#19d3f3\"}, \"mode\": \"lines\", \"name\": \"DACOITY\", \"orientation\": \"v\", \"showlegend\": true, \"stackgroup\": \"1\", \"x\": [\"ANDHRA PRADESH\", \"BIHAR\", \"GUJARAT\", \"KARNATAKA\", \"KERALA\", \"MADHYA PRADESH\", \"MAHARASHTRA\", \"RAJASTHAN\", \"TAMIL NADU\", \"UTTAR PRADESH\"], \"xaxis\": \"x\", \"y\": [250, 1212, 282, 208, 110, 147, 641, 41, 73, 286], \"yaxis\": \"y\", \"type\": \"scatter\"}, {\"hovertemplate\": \"variable=RIOTS<br>YEAR=2005<br>STATE/UT=%{x}<br>value=%{y}<extra></extra>\", \"legendgroup\": \"RIOTS\", \"line\": {\"color\": \"#FF6692\"}, \"mode\": \"lines\", \"name\": \"RIOTS\", \"orientation\": \"v\", \"showlegend\": true, \"stackgroup\": \"1\", \"x\": [\"ANDHRA PRADESH\", \"BIHAR\", \"GUJARAT\", \"KARNATAKA\", \"KERALA\", \"MADHYA PRADESH\", \"MAHARASHTRA\", \"RAJASTHAN\", \"TAMIL NADU\", \"UTTAR PRADESH\"], \"xaxis\": \"x\", \"y\": [2026, 7671, 1628, 6151, 6535, 2573, 6779, 2290, 2551, 3926], \"yaxis\": \"y\", \"type\": \"scatter\"}], \"name\": \"2005\"}, {\"data\": [{\"hovertemplate\": \"variable=MURDER<br>YEAR=2006<br>STATE/UT=%{x}<br>value=%{y}<extra></extra>\", \"legendgroup\": \"MURDER\", \"line\": {\"color\": \"#636efa\"}, \"mode\": \"lines\", \"name\": \"MURDER\", \"orientation\": \"v\", \"showlegend\": true, \"stackgroup\": \"1\", \"x\": [\"ANDHRA PRADESH\", \"BIHAR\", \"GUJARAT\", \"KARNATAKA\", \"KERALA\", \"MADHYA PRADESH\", \"MAHARASHTRA\", \"RAJASTHAN\", \"TAMIL NADU\", \"UTTAR PRADESH\"], \"xaxis\": \"x\", \"y\": [2766, 3249, 1165, 1627, 393, 2309, 2656, 1209, 1363, 5480], \"yaxis\": \"y\", \"type\": \"scatter\"}, {\"hovertemplate\": \"variable=RAPE<br>YEAR=2006<br>STATE/UT=%{x}<br>value=%{y}<extra></extra>\", \"legendgroup\": \"RAPE\", \"line\": {\"color\": \"#EF553B\"}, \"mode\": \"lines\", \"name\": \"RAPE\", \"orientation\": \"v\", \"showlegend\": true, \"stackgroup\": \"1\", \"x\": [\"ANDHRA PRADESH\", \"BIHAR\", \"GUJARAT\", \"KARNATAKA\", \"KERALA\", \"MADHYA PRADESH\", \"MAHARASHTRA\", \"RAJASTHAN\", \"TAMIL NADU\", \"UTTAR PRADESH\"], \"xaxis\": \"x\", \"y\": [1049, 1232, 354, 400, 601, 2900, 1500, 1085, 457, 1314], \"yaxis\": \"y\", \"type\": \"scatter\"}, {\"hovertemplate\": \"variable=KIDNAPPING & ABDUCTION<br>YEAR=2006<br>STATE/UT=%{x}<br>value=%{y}<extra></extra>\", \"legendgroup\": \"KIDNAPPING & ABDUCTION\", \"line\": {\"color\": \"#00cc96\"}, \"mode\": \"lines\", \"name\": \"KIDNAPPING & ABDUCTION\", \"orientation\": \"v\", \"showlegend\": true, \"stackgroup\": \"1\", \"x\": [\"ANDHRA PRADESH\", \"BIHAR\", \"GUJARAT\", \"KARNATAKA\", \"KERALA\", \"MADHYA PRADESH\", \"MAHARASHTRA\", \"RAJASTHAN\", \"TAMIL NADU\", \"UTTAR PRADESH\"], \"xaxis\": \"x\", \"y\": [2030, 2619, 1128, 563, 294, 808, 1261, 1970, 906, 3318], \"yaxis\": \"y\", \"type\": \"scatter\"}, {\"hovertemplate\": \"variable=ROBBERY<br>YEAR=2006<br>STATE/UT=%{x}<br>value=%{y}<extra></extra>\", \"legendgroup\": \"ROBBERY\", \"line\": {\"color\": \"#ab63fa\"}, \"mode\": \"lines\", \"name\": \"ROBBERY\", \"orientation\": \"v\", \"showlegend\": true, \"stackgroup\": \"1\", \"x\": [\"ANDHRA PRADESH\", \"BIHAR\", \"GUJARAT\", \"KARNATAKA\", \"KERALA\", \"MADHYA PRADESH\", \"MAHARASHTRA\", \"RAJASTHAN\", \"TAMIL NADU\", \"UTTAR PRADESH\"], \"xaxis\": \"x\", \"y\": [679, 2169, 970, 1349, 691, 1770, 2574, 631, 450, 2024], \"yaxis\": \"y\", \"type\": \"scatter\"}, {\"hovertemplate\": \"variable=IMPORTATION OF GIRLS FROM FOREIGN COUNTRIES<br>YEAR=2006<br>STATE/UT=%{x}<br>value=%{y}<extra></extra>\", \"legendgroup\": \"IMPORTATION OF GIRLS FROM FOREIGN COUNTRIES\", \"line\": {\"color\": \"#FFA15A\"}, \"mode\": \"lines\", \"name\": \"IMPORTATION OF GIRLS FROM FOREIGN COUNTRIES\", \"orientation\": \"v\", \"showlegend\": true, \"stackgroup\": \"1\", \"x\": [\"ANDHRA PRADESH\", \"BIHAR\", \"GUJARAT\", \"KARNATAKA\", \"KERALA\", \"MADHYA PRADESH\", \"MAHARASHTRA\", \"RAJASTHAN\", \"TAMIL NADU\", \"UTTAR PRADESH\"], \"xaxis\": \"x\", \"y\": [0, 42, 0, 0, 0, 0, 1, 3, 0, 0], \"yaxis\": \"y\", \"type\": \"scatter\"}, {\"hovertemplate\": \"variable=DACOITY<br>YEAR=2006<br>STATE/UT=%{x}<br>value=%{y}<extra></extra>\", \"legendgroup\": \"DACOITY\", \"line\": {\"color\": \"#19d3f3\"}, \"mode\": \"lines\", \"name\": \"DACOITY\", \"orientation\": \"v\", \"showlegend\": true, \"stackgroup\": \"1\", \"x\": [\"ANDHRA PRADESH\", \"BIHAR\", \"GUJARAT\", \"KARNATAKA\", \"KERALA\", \"MADHYA PRADESH\", \"MAHARASHTRA\", \"RAJASTHAN\", \"TAMIL NADU\", \"UTTAR PRADESH\"], \"xaxis\": \"x\", \"y\": [178, 1001, 290, 202, 129, 151, 663, 37, 95, 218], \"yaxis\": \"y\", \"type\": \"scatter\"}, {\"hovertemplate\": \"variable=RIOTS<br>YEAR=2006<br>STATE/UT=%{x}<br>value=%{y}<extra></extra>\", \"legendgroup\": \"RIOTS\", \"line\": {\"color\": \"#FF6692\"}, \"mode\": \"lines\", \"name\": \"RIOTS\", \"orientation\": \"v\", \"showlegend\": true, \"stackgroup\": \"1\", \"x\": [\"ANDHRA PRADESH\", \"BIHAR\", \"GUJARAT\", \"KARNATAKA\", \"KERALA\", \"MADHYA PRADESH\", \"MAHARASHTRA\", \"RAJASTHAN\", \"TAMIL NADU\", \"UTTAR PRADESH\"], \"xaxis\": \"x\", \"y\": [2916, 8259, 1534, 6183, 6365, 2308, 7453, 1767, 1838, 3774], \"yaxis\": \"y\", \"type\": \"scatter\"}], \"name\": \"2006\"}, {\"data\": [{\"hovertemplate\": \"variable=MURDER<br>YEAR=2007<br>STATE/UT=%{x}<br>value=%{y}<extra></extra>\", \"legendgroup\": \"MURDER\", \"line\": {\"color\": \"#636efa\"}, \"mode\": \"lines\", \"name\": \"MURDER\", \"orientation\": \"v\", \"showlegend\": true, \"stackgroup\": \"1\", \"x\": [\"ANDHRA PRADESH\", \"BIHAR\", \"GUJARAT\", \"KARNATAKA\", \"KERALA\", \"MADHYA PRADESH\", \"MAHARASHTRA\", \"RAJASTHAN\", \"TAMIL NADU\", \"UTTAR PRADESH\"], \"xaxis\": \"x\", \"y\": [2665, 3034, 1166, 1538, 367, 2244, 2693, 1303, 1633, 5000], \"yaxis\": \"y\", \"type\": \"scatter\"}, {\"hovertemplate\": \"variable=RAPE<br>YEAR=2007<br>STATE/UT=%{x}<br>value=%{y}<extra></extra>\", \"legendgroup\": \"RAPE\", \"line\": {\"color\": \"#EF553B\"}, \"mode\": \"lines\", \"name\": \"RAPE\", \"orientation\": \"v\", \"showlegend\": true, \"stackgroup\": \"1\", \"x\": [\"ANDHRA PRADESH\", \"BIHAR\", \"GUJARAT\", \"KARNATAKA\", \"KERALA\", \"MADHYA PRADESH\", \"MAHARASHTRA\", \"RAJASTHAN\", \"TAMIL NADU\", \"UTTAR PRADESH\"], \"xaxis\": \"x\", \"y\": [1070, 1555, 316, 436, 512, 3010, 1451, 1238, 523, 1648], \"yaxis\": \"y\", \"type\": \"scatter\"}, {\"hovertemplate\": \"variable=KIDNAPPING & ABDUCTION<br>YEAR=2007<br>STATE/UT=%{x}<br>value=%{y}<extra></extra>\", \"legendgroup\": \"KIDNAPPING & ABDUCTION\", \"line\": {\"color\": \"#00cc96\"}, \"mode\": \"lines\", \"name\": \"KIDNAPPING & ABDUCTION\", \"orientation\": \"v\", \"showlegend\": true, \"stackgroup\": \"1\", \"x\": [\"ANDHRA PRADESH\", \"BIHAR\", \"GUJARAT\", \"KARNATAKA\", \"KERALA\", \"MADHYA PRADESH\", \"MAHARASHTRA\", \"RAJASTHAN\", \"TAMIL NADU\", \"UTTAR PRADESH\"], \"xaxis\": \"x\", \"y\": [2097, 2530, 1312, 680, 255, 922, 1312, 2177, 1270, 4478], \"yaxis\": \"y\", \"type\": \"scatter\"}, {\"hovertemplate\": \"variable=ROBBERY<br>YEAR=2007<br>STATE/UT=%{x}<br>value=%{y}<extra></extra>\", \"legendgroup\": \"ROBBERY\", \"line\": {\"color\": \"#ab63fa\"}, \"mode\": \"lines\", \"name\": \"ROBBERY\", \"orientation\": \"v\", \"showlegend\": true, \"stackgroup\": \"1\", \"x\": [\"ANDHRA PRADESH\", \"BIHAR\", \"GUJARAT\", \"KARNATAKA\", \"KERALA\", \"MADHYA PRADESH\", \"MAHARASHTRA\", \"RAJASTHAN\", \"TAMIL NADU\", \"UTTAR PRADESH\"], \"xaxis\": \"x\", \"y\": [614, 1787, 1095, 1313, 869, 1975, 2770, 778, 495, 2169], \"yaxis\": \"y\", \"type\": \"scatter\"}, {\"hovertemplate\": \"variable=IMPORTATION OF GIRLS FROM FOREIGN COUNTRIES<br>YEAR=2007<br>STATE/UT=%{x}<br>value=%{y}<extra></extra>\", \"legendgroup\": \"IMPORTATION OF GIRLS FROM FOREIGN COUNTRIES\", \"line\": {\"color\": \"#FFA15A\"}, \"mode\": \"lines\", \"name\": \"IMPORTATION OF GIRLS FROM FOREIGN COUNTRIES\", \"orientation\": \"v\", \"showlegend\": true, \"stackgroup\": \"1\", \"x\": [\"ANDHRA PRADESH\", \"BIHAR\", \"GUJARAT\", \"KARNATAKA\", \"KERALA\", \"MADHYA PRADESH\", \"MAHARASHTRA\", \"RAJASTHAN\", \"TAMIL NADU\", \"UTTAR PRADESH\"], \"xaxis\": \"x\", \"y\": [0, 56, 0, 0, 0, 0, 0, 0, 0, 0], \"yaxis\": \"y\", \"type\": \"scatter\"}, {\"hovertemplate\": \"variable=DACOITY<br>YEAR=2007<br>STATE/UT=%{x}<br>value=%{y}<extra></extra>\", \"legendgroup\": \"DACOITY\", \"line\": {\"color\": \"#19d3f3\"}, \"mode\": \"lines\", \"name\": \"DACOITY\", \"orientation\": \"v\", \"showlegend\": true, \"stackgroup\": \"1\", \"x\": [\"ANDHRA PRADESH\", \"BIHAR\", \"GUJARAT\", \"KARNATAKA\", \"KERALA\", \"MADHYA PRADESH\", \"MAHARASHTRA\", \"RAJASTHAN\", \"TAMIL NADU\", \"UTTAR PRADESH\"], \"xaxis\": \"x\", \"y\": [170, 686, 245, 178, 121, 143, 716, 71, 88, 437], \"yaxis\": \"y\", \"type\": \"scatter\"}, {\"hovertemplate\": \"variable=RIOTS<br>YEAR=2007<br>STATE/UT=%{x}<br>value=%{y}<extra></extra>\", \"legendgroup\": \"RIOTS\", \"line\": {\"color\": \"#FF6692\"}, \"mode\": \"lines\", \"name\": \"RIOTS\", \"orientation\": \"v\", \"showlegend\": true, \"stackgroup\": \"1\", \"x\": [\"ANDHRA PRADESH\", \"BIHAR\", \"GUJARAT\", \"KARNATAKA\", \"KERALA\", \"MADHYA PRADESH\", \"MAHARASHTRA\", \"RAJASTHAN\", \"TAMIL NADU\", \"UTTAR PRADESH\"], \"xaxis\": \"x\", \"y\": [1998, 7962, 1668, 5783, 7358, 2648, 7993, 1626, 2375, 4495], \"yaxis\": \"y\", \"type\": \"scatter\"}], \"name\": \"2007\"}, {\"data\": [{\"hovertemplate\": \"variable=MURDER<br>YEAR=2008<br>STATE/UT=%{x}<br>value=%{y}<extra></extra>\", \"legendgroup\": \"MURDER\", \"line\": {\"color\": \"#636efa\"}, \"mode\": \"lines\", \"name\": \"MURDER\", \"orientation\": \"v\", \"showlegend\": true, \"stackgroup\": \"1\", \"x\": [\"ANDHRA PRADESH\", \"BIHAR\", \"GUJARAT\", \"KARNATAKA\", \"KERALA\", \"MADHYA PRADESH\", \"MAHARASHTRA\", \"RAJASTHAN\", \"TAMIL NADU\", \"UTTAR PRADESH\"], \"xaxis\": \"x\", \"y\": [2690, 3139, 1106, 1698, 362, 2322, 2795, 1297, 1759, 4564], \"yaxis\": \"y\", \"type\": \"scatter\"}, {\"hovertemplate\": \"variable=RAPE<br>YEAR=2008<br>STATE/UT=%{x}<br>value=%{y}<extra></extra>\", \"legendgroup\": \"RAPE\", \"line\": {\"color\": \"#EF553B\"}, \"mode\": \"lines\", \"name\": \"RAPE\", \"orientation\": \"v\", \"showlegend\": true, \"stackgroup\": \"1\", \"x\": [\"ANDHRA PRADESH\", \"BIHAR\", \"GUJARAT\", \"KARNATAKA\", \"KERALA\", \"MADHYA PRADESH\", \"MAHARASHTRA\", \"RAJASTHAN\", \"TAMIL NADU\", \"UTTAR PRADESH\"], \"xaxis\": \"x\", \"y\": [1257, 1302, 374, 446, 568, 2937, 1558, 1355, 573, 1871], \"yaxis\": \"y\", \"type\": \"scatter\"}, {\"hovertemplate\": \"variable=KIDNAPPING & ABDUCTION<br>YEAR=2008<br>STATE/UT=%{x}<br>value=%{y}<extra></extra>\", \"legendgroup\": \"KIDNAPPING & ABDUCTION\", \"line\": {\"color\": \"#00cc96\"}, \"mode\": \"lines\", \"name\": \"KIDNAPPING & ABDUCTION\", \"orientation\": \"v\", \"showlegend\": true, \"stackgroup\": \"1\", \"x\": [\"ANDHRA PRADESH\", \"BIHAR\", \"GUJARAT\", \"KARNATAKA\", \"KERALA\", \"MADHYA PRADESH\", \"MAHARASHTRA\", \"RAJASTHAN\", \"TAMIL NADU\", \"UTTAR PRADESH\"], \"xaxis\": \"x\", \"y\": [1970, 3047, 1323, 758, 253, 929, 1379, 2358, 1375, 5428], \"yaxis\": \"y\", \"type\": \"scatter\"}, {\"hovertemplate\": \"variable=ROBBERY<br>YEAR=2008<br>STATE/UT=%{x}<br>value=%{y}<extra></extra>\", \"legendgroup\": \"ROBBERY\", \"line\": {\"color\": \"#ab63fa\"}, \"mode\": \"lines\", \"name\": \"ROBBERY\", \"orientation\": \"v\", \"showlegend\": true, \"stackgroup\": \"1\", \"x\": [\"ANDHRA PRADESH\", \"BIHAR\", \"GUJARAT\", \"KARNATAKA\", \"KERALA\", \"MADHYA PRADESH\", \"MAHARASHTRA\", \"RAJASTHAN\", \"TAMIL NADU\", \"UTTAR PRADESH\"], \"xaxis\": \"x\", \"y\": [623, 1592, 1322, 1615, 816, 2234, 3031, 829, 662, 2097], \"yaxis\": \"y\", \"type\": \"scatter\"}, {\"hovertemplate\": \"variable=IMPORTATION OF GIRLS FROM FOREIGN COUNTRIES<br>YEAR=2008<br>STATE/UT=%{x}<br>value=%{y}<extra></extra>\", \"legendgroup\": \"IMPORTATION OF GIRLS FROM FOREIGN COUNTRIES\", \"line\": {\"color\": \"#FFA15A\"}, \"mode\": \"lines\", \"name\": \"IMPORTATION OF GIRLS FROM FOREIGN COUNTRIES\", \"orientation\": \"v\", \"showlegend\": true, \"stackgroup\": \"1\", \"x\": [\"ANDHRA PRADESH\", \"BIHAR\", \"GUJARAT\", \"KARNATAKA\", \"KERALA\", \"MADHYA PRADESH\", \"MAHARASHTRA\", \"RAJASTHAN\", \"TAMIL NADU\", \"UTTAR PRADESH\"], \"xaxis\": \"x\", \"y\": [0, 22, 0, 1, 0, 0, 0, 0, 0, 0], \"yaxis\": \"y\", \"type\": \"scatter\"}, {\"hovertemplate\": \"variable=DACOITY<br>YEAR=2008<br>STATE/UT=%{x}<br>value=%{y}<extra></extra>\", \"legendgroup\": \"DACOITY\", \"line\": {\"color\": \"#19d3f3\"}, \"mode\": \"lines\", \"name\": \"DACOITY\", \"orientation\": \"v\", \"showlegend\": true, \"stackgroup\": \"1\", \"x\": [\"ANDHRA PRADESH\", \"BIHAR\", \"GUJARAT\", \"KARNATAKA\", \"KERALA\", \"MADHYA PRADESH\", \"MAHARASHTRA\", \"RAJASTHAN\", \"TAMIL NADU\", \"UTTAR PRADESH\"], \"xaxis\": \"x\", \"y\": [110, 686, 256, 270, 91, 160, 811, 64, 100, 313], \"yaxis\": \"y\", \"type\": \"scatter\"}, {\"hovertemplate\": \"variable=RIOTS<br>YEAR=2008<br>STATE/UT=%{x}<br>value=%{y}<extra></extra>\", \"legendgroup\": \"RIOTS\", \"line\": {\"color\": \"#FF6692\"}, \"mode\": \"lines\", \"name\": \"RIOTS\", \"orientation\": \"v\", \"showlegend\": true, \"stackgroup\": \"1\", \"x\": [\"ANDHRA PRADESH\", \"BIHAR\", \"GUJARAT\", \"KARNATAKA\", \"KERALA\", \"MADHYA PRADESH\", \"MAHARASHTRA\", \"RAJASTHAN\", \"TAMIL NADU\", \"UTTAR PRADESH\"], \"xaxis\": \"x\", \"y\": [1930, 8099, 1809, 6013, 8057, 2768, 9388, 1390, 2811, 4381], \"yaxis\": \"y\", \"type\": \"scatter\"}], \"name\": \"2008\"}, {\"data\": [{\"hovertemplate\": \"variable=MURDER<br>YEAR=2009<br>STATE/UT=%{x}<br>value=%{y}<extra></extra>\", \"legendgroup\": \"MURDER\", \"line\": {\"color\": \"#636efa\"}, \"mode\": \"lines\", \"name\": \"MURDER\", \"orientation\": \"v\", \"showlegend\": true, \"stackgroup\": \"1\", \"x\": [\"ANDHRA PRADESH\", \"BIHAR\", \"GUJARAT\", \"KARNATAKA\", \"KERALA\", \"MADHYA PRADESH\", \"MAHARASHTRA\", \"RAJASTHAN\", \"TAMIL NADU\", \"UTTAR PRADESH\"], \"xaxis\": \"x\", \"y\": [2449, 3152, 1020, 1702, 343, 2386, 2653, 1395, 1776, 4534], \"yaxis\": \"y\", \"type\": \"scatter\"}, {\"hovertemplate\": \"variable=RAPE<br>YEAR=2009<br>STATE/UT=%{x}<br>value=%{y}<extra></extra>\", \"legendgroup\": \"RAPE\", \"line\": {\"color\": \"#EF553B\"}, \"mode\": \"lines\", \"name\": \"RAPE\", \"orientation\": \"v\", \"showlegend\": true, \"stackgroup\": \"1\", \"x\": [\"ANDHRA PRADESH\", \"BIHAR\", \"GUJARAT\", \"KARNATAKA\", \"KERALA\", \"MADHYA PRADESH\", \"MAHARASHTRA\", \"RAJASTHAN\", \"TAMIL NADU\", \"UTTAR PRADESH\"], \"xaxis\": \"x\", \"y\": [1188, 929, 433, 509, 568, 2998, 1483, 1519, 596, 1759], \"yaxis\": \"y\", \"type\": \"scatter\"}, {\"hovertemplate\": \"variable=KIDNAPPING & ABDUCTION<br>YEAR=2009<br>STATE/UT=%{x}<br>value=%{y}<extra></extra>\", \"legendgroup\": \"KIDNAPPING & ABDUCTION\", \"line\": {\"color\": \"#00cc96\"}, \"mode\": \"lines\", \"name\": \"KIDNAPPING & ABDUCTION\", \"orientation\": \"v\", \"showlegend\": true, \"stackgroup\": \"1\", \"x\": [\"ANDHRA PRADESH\", \"BIHAR\", \"GUJARAT\", \"KARNATAKA\", \"KERALA\", \"MADHYA PRADESH\", \"MAHARASHTRA\", \"RAJASTHAN\", \"TAMIL NADU\", \"UTTAR PRADESH\"], \"xaxis\": \"x\", \"y\": [1958, 3222, 1348, 892, 256, 1036, 1286, 2870, 1372, 6083], \"yaxis\": \"y\", \"type\": \"scatter\"}, {\"hovertemplate\": \"variable=ROBBERY<br>YEAR=2009<br>STATE/UT=%{x}<br>value=%{y}<extra></extra>\", \"legendgroup\": \"ROBBERY\", \"line\": {\"color\": \"#ab63fa\"}, \"mode\": \"lines\", \"name\": \"ROBBERY\", \"orientation\": \"v\", \"showlegend\": true, \"stackgroup\": \"1\", \"x\": [\"ANDHRA PRADESH\", \"BIHAR\", \"GUJARAT\", \"KARNATAKA\", \"KERALA\", \"MADHYA PRADESH\", \"MAHARASHTRA\", \"RAJASTHAN\", \"TAMIL NADU\", \"UTTAR PRADESH\"], \"xaxis\": \"x\", \"y\": [544, 1619, 1420, 1825, 830, 2270, 3314, 886, 1144, 2285], \"yaxis\": \"y\", \"type\": \"scatter\"}, {\"hovertemplate\": \"variable=IMPORTATION OF GIRLS FROM FOREIGN COUNTRIES<br>YEAR=2009<br>STATE/UT=%{x}<br>value=%{y}<extra></extra>\", \"legendgroup\": \"IMPORTATION OF GIRLS FROM FOREIGN COUNTRIES\", \"line\": {\"color\": \"#FFA15A\"}, \"mode\": \"lines\", \"name\": \"IMPORTATION OF GIRLS FROM FOREIGN COUNTRIES\", \"orientation\": \"v\", \"showlegend\": true, \"stackgroup\": \"1\", \"x\": [\"ANDHRA PRADESH\", \"BIHAR\", \"GUJARAT\", \"KARNATAKA\", \"KERALA\", \"MADHYA PRADESH\", \"MAHARASHTRA\", \"RAJASTHAN\", \"TAMIL NADU\", \"UTTAR PRADESH\"], \"xaxis\": \"x\", \"y\": [0, 31, 0, 2, 0, 1, 0, 0, 0, 0], \"yaxis\": \"y\", \"type\": \"scatter\"}, {\"hovertemplate\": \"variable=DACOITY<br>YEAR=2009<br>STATE/UT=%{x}<br>value=%{y}<extra></extra>\", \"legendgroup\": \"DACOITY\", \"line\": {\"color\": \"#19d3f3\"}, \"mode\": \"lines\", \"name\": \"DACOITY\", \"orientation\": \"v\", \"showlegend\": true, \"stackgroup\": \"1\", \"x\": [\"ANDHRA PRADESH\", \"BIHAR\", \"GUJARAT\", \"KARNATAKA\", \"KERALA\", \"MADHYA PRADESH\", \"MAHARASHTRA\", \"RAJASTHAN\", \"TAMIL NADU\", \"UTTAR PRADESH\"], \"xaxis\": \"x\", \"y\": [102, 654, 246, 273, 112, 117, 780, 53, 97, 365], \"yaxis\": \"y\", \"type\": \"scatter\"}, {\"hovertemplate\": \"variable=RIOTS<br>YEAR=2009<br>STATE/UT=%{x}<br>value=%{y}<extra></extra>\", \"legendgroup\": \"RIOTS\", \"line\": {\"color\": \"#FF6692\"}, \"mode\": \"lines\", \"name\": \"RIOTS\", \"orientation\": \"v\", \"showlegend\": true, \"stackgroup\": \"1\", \"x\": [\"ANDHRA PRADESH\", \"BIHAR\", \"GUJARAT\", \"KARNATAKA\", \"KERALA\", \"MADHYA PRADESH\", \"MAHARASHTRA\", \"RAJASTHAN\", \"TAMIL NADU\", \"UTTAR PRADESH\"], \"xaxis\": \"x\", \"y\": [2261, 8554, 1539, 6269, 8086, 2409, 8030, 1145, 2397, 4263], \"yaxis\": \"y\", \"type\": \"scatter\"}], \"name\": \"2009\"}, {\"data\": [{\"hovertemplate\": \"variable=MURDER<br>YEAR=2010<br>STATE/UT=%{x}<br>value=%{y}<extra></extra>\", \"legendgroup\": \"MURDER\", \"line\": {\"color\": \"#636efa\"}, \"mode\": \"lines\", \"name\": \"MURDER\", \"orientation\": \"v\", \"showlegend\": true, \"stackgroup\": \"1\", \"x\": [\"ANDHRA PRADESH\", \"BIHAR\", \"GUJARAT\", \"KARNATAKA\", \"KERALA\", \"MADHYA PRADESH\", \"MAHARASHTRA\", \"RAJASTHAN\", \"TAMIL NADU\", \"UTTAR PRADESH\"], \"xaxis\": \"x\", \"y\": [2538, 3362, 1048, 1805, 363, 2423, 2744, 1421, 1875, 4401], \"yaxis\": \"y\", \"type\": \"scatter\"}, {\"hovertemplate\": \"variable=RAPE<br>YEAR=2010<br>STATE/UT=%{x}<br>value=%{y}<extra></extra>\", \"legendgroup\": \"RAPE\", \"line\": {\"color\": \"#EF553B\"}, \"mode\": \"lines\", \"name\": \"RAPE\", \"orientation\": \"v\", \"showlegend\": true, \"stackgroup\": \"1\", \"x\": [\"ANDHRA PRADESH\", \"BIHAR\", \"GUJARAT\", \"KARNATAKA\", \"KERALA\", \"MADHYA PRADESH\", \"MAHARASHTRA\", \"RAJASTHAN\", \"TAMIL NADU\", \"UTTAR PRADESH\"], \"xaxis\": \"x\", \"y\": [1362, 795, 408, 586, 634, 3135, 1599, 1571, 686, 1563], \"yaxis\": \"y\", \"type\": \"scatter\"}, {\"hovertemplate\": \"variable=KIDNAPPING & ABDUCTION<br>YEAR=2010<br>STATE/UT=%{x}<br>value=%{y}<extra></extra>\", \"legendgroup\": \"KIDNAPPING & ABDUCTION\", \"line\": {\"color\": \"#00cc96\"}, \"mode\": \"lines\", \"name\": \"KIDNAPPING & ABDUCTION\", \"orientation\": \"v\", \"showlegend\": true, \"stackgroup\": \"1\", \"x\": [\"ANDHRA PRADESH\", \"BIHAR\", \"GUJARAT\", \"KARNATAKA\", \"KERALA\", \"MADHYA PRADESH\", \"MAHARASHTRA\", \"RAJASTHAN\", \"TAMIL NADU\", \"UTTAR PRADESH\"], \"xaxis\": \"x\", \"y\": [2053, 3674, 1447, 1374, 261, 1187, 1508, 2985, 1720, 6321], \"yaxis\": \"y\", \"type\": \"scatter\"}, {\"hovertemplate\": \"variable=ROBBERY<br>YEAR=2010<br>STATE/UT=%{x}<br>value=%{y}<extra></extra>\", \"legendgroup\": \"ROBBERY\", \"line\": {\"color\": \"#ab63fa\"}, \"mode\": \"lines\", \"name\": \"ROBBERY\", \"orientation\": \"v\", \"showlegend\": true, \"stackgroup\": \"1\", \"x\": [\"ANDHRA PRADESH\", \"BIHAR\", \"GUJARAT\", \"KARNATAKA\", \"KERALA\", \"MADHYA PRADESH\", \"MAHARASHTRA\", \"RAJASTHAN\", \"TAMIL NADU\", \"UTTAR PRADESH\"], \"xaxis\": \"x\", \"y\": [550, 1538, 1384, 1949, 636, 1919, 3721, 872, 1817, 2577], \"yaxis\": \"y\", \"type\": \"scatter\"}, {\"hovertemplate\": \"variable=IMPORTATION OF GIRLS FROM FOREIGN COUNTRIES<br>YEAR=2010<br>STATE/UT=%{x}<br>value=%{y}<extra></extra>\", \"legendgroup\": \"IMPORTATION OF GIRLS FROM FOREIGN COUNTRIES\", \"line\": {\"color\": \"#FFA15A\"}, \"mode\": \"lines\", \"name\": \"IMPORTATION OF GIRLS FROM FOREIGN COUNTRIES\", \"orientation\": \"v\", \"showlegend\": true, \"stackgroup\": \"1\", \"x\": [\"ANDHRA PRADESH\", \"BIHAR\", \"GUJARAT\", \"KARNATAKA\", \"KERALA\", \"MADHYA PRADESH\", \"MAHARASHTRA\", \"RAJASTHAN\", \"TAMIL NADU\", \"UTTAR PRADESH\"], \"xaxis\": \"x\", \"y\": [0, 8, 0, 0, 0, 5, 0, 0, 0, 0], \"yaxis\": \"y\", \"type\": \"scatter\"}, {\"hovertemplate\": \"variable=DACOITY<br>YEAR=2010<br>STATE/UT=%{x}<br>value=%{y}<extra></extra>\", \"legendgroup\": \"DACOITY\", \"line\": {\"color\": \"#19d3f3\"}, \"mode\": \"lines\", \"name\": \"DACOITY\", \"orientation\": \"v\", \"showlegend\": true, \"stackgroup\": \"1\", \"x\": [\"ANDHRA PRADESH\", \"BIHAR\", \"GUJARAT\", \"KARNATAKA\", \"KERALA\", \"MADHYA PRADESH\", \"MAHARASHTRA\", \"RAJASTHAN\", \"TAMIL NADU\", \"UTTAR PRADESH\"], \"xaxis\": \"x\", \"y\": [134, 644, 186, 272, 74, 110, 778, 37, 85, 337], \"yaxis\": \"y\", \"type\": \"scatter\"}, {\"hovertemplate\": \"variable=RIOTS<br>YEAR=2010<br>STATE/UT=%{x}<br>value=%{y}<extra></extra>\", \"legendgroup\": \"RIOTS\", \"line\": {\"color\": \"#FF6692\"}, \"mode\": \"lines\", \"name\": \"RIOTS\", \"orientation\": \"v\", \"showlegend\": true, \"stackgroup\": \"1\", \"x\": [\"ANDHRA PRADESH\", \"BIHAR\", \"GUJARAT\", \"KARNATAKA\", \"KERALA\", \"MADHYA PRADESH\", \"MAHARASHTRA\", \"RAJASTHAN\", \"TAMIL NADU\", \"UTTAR PRADESH\"], \"xaxis\": \"x\", \"y\": [2231, 8809, 1623, 7710, 8724, 2606, 8412, 986, 2664, 4186], \"yaxis\": \"y\", \"type\": \"scatter\"}], \"name\": \"2010\"}, {\"data\": [{\"hovertemplate\": \"variable=MURDER<br>YEAR=2011<br>STATE/UT=%{x}<br>value=%{y}<extra></extra>\", \"legendgroup\": \"MURDER\", \"line\": {\"color\": \"#636efa\"}, \"mode\": \"lines\", \"name\": \"MURDER\", \"orientation\": \"v\", \"showlegend\": true, \"stackgroup\": \"1\", \"x\": [\"ANDHRA PRADESH\", \"BIHAR\", \"GUJARAT\", \"KARNATAKA\", \"KERALA\", \"MADHYA PRADESH\", \"MAHARASHTRA\", \"RAJASTHAN\", \"TAMIL NADU\", \"UTTAR PRADESH\"], \"xaxis\": \"x\", \"y\": [2808, 3198, 1126, 1820, 365, 2511, 2818, 1461, 1877, 4951], \"yaxis\": \"y\", \"type\": \"scatter\"}, {\"hovertemplate\": \"variable=RAPE<br>YEAR=2011<br>STATE/UT=%{x}<br>value=%{y}<extra></extra>\", \"legendgroup\": \"RAPE\", \"line\": {\"color\": \"#EF553B\"}, \"mode\": \"lines\", \"name\": \"RAPE\", \"orientation\": \"v\", \"showlegend\": true, \"stackgroup\": \"1\", \"x\": [\"ANDHRA PRADESH\", \"BIHAR\", \"GUJARAT\", \"KARNATAKA\", \"KERALA\", \"MADHYA PRADESH\", \"MAHARASHTRA\", \"RAJASTHAN\", \"TAMIL NADU\", \"UTTAR PRADESH\"], \"xaxis\": \"x\", \"y\": [1442, 934, 439, 636, 1132, 3406, 1701, 1800, 677, 2042], \"yaxis\": \"y\", \"type\": \"scatter\"}, {\"hovertemplate\": \"variable=KIDNAPPING & ABDUCTION<br>YEAR=2011<br>STATE/UT=%{x}<br>value=%{y}<extra></extra>\", \"legendgroup\": \"KIDNAPPING & ABDUCTION\", \"line\": {\"color\": \"#00cc96\"}, \"mode\": \"lines\", \"name\": \"KIDNAPPING & ABDUCTION\", \"orientation\": \"v\", \"showlegend\": true, \"stackgroup\": \"1\", \"x\": [\"ANDHRA PRADESH\", \"BIHAR\", \"GUJARAT\", \"KARNATAKA\", \"KERALA\", \"MADHYA PRADESH\", \"MAHARASHTRA\", \"RAJASTHAN\", \"TAMIL NADU\", \"UTTAR PRADESH\"], \"xaxis\": \"x\", \"y\": [2154, 4268, 1614, 1395, 299, 1288, 1669, 3204, 1984, 8500], \"yaxis\": \"y\", \"type\": \"scatter\"}, {\"hovertemplate\": \"variable=ROBBERY<br>YEAR=2011<br>STATE/UT=%{x}<br>value=%{y}<extra></extra>\", \"legendgroup\": \"ROBBERY\", \"line\": {\"color\": \"#ab63fa\"}, \"mode\": \"lines\", \"name\": \"ROBBERY\", \"orientation\": \"v\", \"showlegend\": true, \"stackgroup\": \"1\", \"x\": [\"ANDHRA PRADESH\", \"BIHAR\", \"GUJARAT\", \"KARNATAKA\", \"KERALA\", \"MADHYA PRADESH\", \"MAHARASHTRA\", \"RAJASTHAN\", \"TAMIL NADU\", \"UTTAR PRADESH\"], \"xaxis\": \"x\", \"y\": [600, 1381, 1368, 2123, 741, 1952, 4249, 727, 2066, 3148], \"yaxis\": \"y\", \"type\": \"scatter\"}, {\"hovertemplate\": \"variable=IMPORTATION OF GIRLS FROM FOREIGN COUNTRIES<br>YEAR=2011<br>STATE/UT=%{x}<br>value=%{y}<extra></extra>\", \"legendgroup\": \"IMPORTATION OF GIRLS FROM FOREIGN COUNTRIES\", \"line\": {\"color\": \"#FFA15A\"}, \"mode\": \"lines\", \"name\": \"IMPORTATION OF GIRLS FROM FOREIGN COUNTRIES\", \"orientation\": \"v\", \"showlegend\": true, \"stackgroup\": \"1\", \"x\": [\"ANDHRA PRADESH\", \"BIHAR\", \"GUJARAT\", \"KARNATAKA\", \"KERALA\", \"MADHYA PRADESH\", \"MAHARASHTRA\", \"RAJASTHAN\", \"TAMIL NADU\", \"UTTAR PRADESH\"], \"xaxis\": \"x\", \"y\": [0, 10, 0, 12, 0, 45, 0, 0, 0, 0], \"yaxis\": \"y\", \"type\": \"scatter\"}, {\"hovertemplate\": \"variable=DACOITY<br>YEAR=2011<br>STATE/UT=%{x}<br>value=%{y}<extra></extra>\", \"legendgroup\": \"DACOITY\", \"line\": {\"color\": \"#19d3f3\"}, \"mode\": \"lines\", \"name\": \"DACOITY\", \"orientation\": \"v\", \"showlegend\": true, \"stackgroup\": \"1\", \"x\": [\"ANDHRA PRADESH\", \"BIHAR\", \"GUJARAT\", \"KARNATAKA\", \"KERALA\", \"MADHYA PRADESH\", \"MAHARASHTRA\", \"RAJASTHAN\", \"TAMIL NADU\", \"UTTAR PRADESH\"], \"xaxis\": \"x\", \"y\": [126, 556, 221, 214, 71, 118, 773, 28, 101, 379], \"yaxis\": \"y\", \"type\": \"scatter\"}, {\"hovertemplate\": \"variable=RIOTS<br>YEAR=2011<br>STATE/UT=%{x}<br>value=%{y}<extra></extra>\", \"legendgroup\": \"RIOTS\", \"line\": {\"color\": \"#FF6692\"}, \"mode\": \"lines\", \"name\": \"RIOTS\", \"orientation\": \"v\", \"showlegend\": true, \"stackgroup\": \"1\", \"x\": [\"ANDHRA PRADESH\", \"BIHAR\", \"GUJARAT\", \"KARNATAKA\", \"KERALA\", \"MADHYA PRADESH\", \"MAHARASHTRA\", \"RAJASTHAN\", \"TAMIL NADU\", \"UTTAR PRADESH\"], \"xaxis\": \"x\", \"y\": [2210, 9768, 1615, 7265, 10754, 2080, 8556, 751, 3009, 5022], \"yaxis\": \"y\", \"type\": \"scatter\"}], \"name\": \"2011\"}, {\"data\": [{\"hovertemplate\": \"variable=MURDER<br>YEAR=2012<br>STATE/UT=%{x}<br>value=%{y}<extra></extra>\", \"legendgroup\": \"MURDER\", \"line\": {\"color\": \"#636efa\"}, \"mode\": \"lines\", \"name\": \"MURDER\", \"orientation\": \"v\", \"showlegend\": true, \"stackgroup\": \"1\", \"x\": [\"ANDHRA PRADESH\", \"BIHAR\", \"GUJARAT\", \"KARNATAKA\", \"KERALA\", \"MADHYA PRADESH\", \"MAHARASHTRA\", \"RAJASTHAN\", \"TAMIL NADU\", \"UTTAR PRADESH\"], \"xaxis\": \"x\", \"y\": [2717, 3566, 1126, 1860, 374, 2373, 2712, 1461, 1949, 4966], \"yaxis\": \"y\", \"type\": \"scatter\"}, {\"hovertemplate\": \"variable=RAPE<br>YEAR=2012<br>STATE/UT=%{x}<br>value=%{y}<extra></extra>\", \"legendgroup\": \"RAPE\", \"line\": {\"color\": \"#EF553B\"}, \"mode\": \"lines\", \"name\": \"RAPE\", \"orientation\": \"v\", \"showlegend\": true, \"stackgroup\": \"1\", \"x\": [\"ANDHRA PRADESH\", \"BIHAR\", \"GUJARAT\", \"KARNATAKA\", \"KERALA\", \"MADHYA PRADESH\", \"MAHARASHTRA\", \"RAJASTHAN\", \"TAMIL NADU\", \"UTTAR PRADESH\"], \"xaxis\": \"x\", \"y\": [1341, 927, 473, 621, 1019, 3425, 1839, 2049, 737, 1963], \"yaxis\": \"y\", \"type\": \"scatter\"}, {\"hovertemplate\": \"variable=KIDNAPPING & ABDUCTION<br>YEAR=2012<br>STATE/UT=%{x}<br>value=%{y}<extra></extra>\", \"legendgroup\": \"KIDNAPPING & ABDUCTION\", \"line\": {\"color\": \"#00cc96\"}, \"mode\": \"lines\", \"name\": \"KIDNAPPING & ABDUCTION\", \"orientation\": \"v\", \"showlegend\": true, \"stackgroup\": \"1\", \"x\": [\"ANDHRA PRADESH\", \"BIHAR\", \"GUJARAT\", \"KARNATAKA\", \"KERALA\", \"MADHYA PRADESH\", \"MAHARASHTRA\", \"RAJASTHAN\", \"TAMIL NADU\", \"UTTAR PRADESH\"], \"xaxis\": \"x\", \"y\": [1870, 4807, 1720, 1451, 281, 1302, 1583, 3243, 1945, 8878], \"yaxis\": \"y\", \"type\": \"scatter\"}, {\"hovertemplate\": \"variable=ROBBERY<br>YEAR=2012<br>STATE/UT=%{x}<br>value=%{y}<extra></extra>\", \"legendgroup\": \"ROBBERY\", \"line\": {\"color\": \"#ab63fa\"}, \"mode\": \"lines\", \"name\": \"ROBBERY\", \"orientation\": \"v\", \"showlegend\": true, \"stackgroup\": \"1\", \"x\": [\"ANDHRA PRADESH\", \"BIHAR\", \"GUJARAT\", \"KARNATAKA\", \"KERALA\", \"MADHYA PRADESH\", \"MAHARASHTRA\", \"RAJASTHAN\", \"TAMIL NADU\", \"UTTAR PRADESH\"], \"xaxis\": \"x\", \"y\": [668, 1266, 1366, 2207, 725, 1940, 6949, 807, 1898, 3159], \"yaxis\": \"y\", \"type\": \"scatter\"}, {\"hovertemplate\": \"variable=IMPORTATION OF GIRLS FROM FOREIGN COUNTRIES<br>YEAR=2012<br>STATE/UT=%{x}<br>value=%{y}<extra></extra>\", \"legendgroup\": \"IMPORTATION OF GIRLS FROM FOREIGN COUNTRIES\", \"line\": {\"color\": \"#FFA15A\"}, \"mode\": \"lines\", \"name\": \"IMPORTATION OF GIRLS FROM FOREIGN COUNTRIES\", \"orientation\": \"v\", \"showlegend\": true, \"stackgroup\": \"1\", \"x\": [\"ANDHRA PRADESH\", \"BIHAR\", \"GUJARAT\", \"KARNATAKA\", \"KERALA\", \"MADHYA PRADESH\", \"MAHARASHTRA\", \"RAJASTHAN\", \"TAMIL NADU\", \"UTTAR PRADESH\"], \"xaxis\": \"x\", \"y\": [0, 4, 0, 32, 0, 6, 0, 0, 0, 0], \"yaxis\": \"y\", \"type\": \"scatter\"}, {\"hovertemplate\": \"variable=DACOITY<br>YEAR=2012<br>STATE/UT=%{x}<br>value=%{y}<extra></extra>\", \"legendgroup\": \"DACOITY\", \"line\": {\"color\": \"#19d3f3\"}, \"mode\": \"lines\", \"name\": \"DACOITY\", \"orientation\": \"v\", \"showlegend\": true, \"stackgroup\": \"1\", \"x\": [\"ANDHRA PRADESH\", \"BIHAR\", \"GUJARAT\", \"KARNATAKA\", \"KERALA\", \"MADHYA PRADESH\", \"MAHARASHTRA\", \"RAJASTHAN\", \"TAMIL NADU\", \"UTTAR PRADESH\"], \"xaxis\": \"x\", \"y\": [131, 540, 287, 211, 72, 107, 793, 31, 97, 322], \"yaxis\": \"y\", \"type\": \"scatter\"}, {\"hovertemplate\": \"variable=RIOTS<br>YEAR=2012<br>STATE/UT=%{x}<br>value=%{y}<extra></extra>\", \"legendgroup\": \"RIOTS\", \"line\": {\"color\": \"#FF6692\"}, \"mode\": \"lines\", \"name\": \"RIOTS\", \"orientation\": \"v\", \"showlegend\": true, \"stackgroup\": \"1\", \"x\": [\"ANDHRA PRADESH\", \"BIHAR\", \"GUJARAT\", \"KARNATAKA\", \"KERALA\", \"MADHYA PRADESH\", \"MAHARASHTRA\", \"RAJASTHAN\", \"TAMIL NADU\", \"UTTAR PRADESH\"], \"xaxis\": \"x\", \"y\": [1878, 10871, 1758, 7502, 10938, 1951, 8860, 573, 3136, 5676], \"yaxis\": \"y\", \"type\": \"scatter\"}], \"name\": \"2012\"}]);\n",
       "                        }).then(function(){\n",
       "                            \n",
       "var gd = document.getElementById('7319ba7c-7618-4e1c-8ec6-626e43444a9d');\n",
       "var x = new MutationObserver(function (mutations, observer) {{\n",
       "        var display = window.getComputedStyle(gd).display;\n",
       "        if (!display || display === 'none') {{\n",
       "            console.log([gd, 'removed!']);\n",
       "            Plotly.purge(gd);\n",
       "            observer.disconnect();\n",
       "        }}\n",
       "}});\n",
       "\n",
       "// Listen for the removal of the full notebook cells\n",
       "var notebookContainer = gd.closest('#notebook-container');\n",
       "if (notebookContainer) {{\n",
       "    x.observe(notebookContainer, {childList: true});\n",
       "}}\n",
       "\n",
       "// Listen for the clearing of the current output cell\n",
       "var outputEl = gd.closest('.output');\n",
       "if (outputEl) {{\n",
       "    x.observe(outputEl, {childList: true});\n",
       "}}\n",
       "\n",
       "                        })\n",
       "                };\n",
       "                });\n",
       "            </script>\n",
       "        </div>"
      ]
     },
     "metadata": {},
     "output_type": "display_data"
    }
   ],
   "source": [
    "fig = px.area(df_top10,x=df_top10['STATE/UT'],y=famous_crime,animation_frame='YEAR',template='plotly_white')\n",
    "\n",
    "fig.update_layout(title = 'Crimes in top 10 states with their district in 2012 ',title_font_size=24,paper_bgcolor='black',\n",
    "                     title_font_family='Aerial',font={'color':'#e31757','family':'Times New Roman','size':11})\n"
   ]
  },
  {
   "cell_type": "markdown",
   "metadata": {},
   "source": [
    "from above graph we can collect so much information "
   ]
  },
  {
   "cell_type": "markdown",
   "metadata": {},
   "source": [
    "# City Wise analysis"
   ]
  },
  {
   "cell_type": "code",
   "execution_count": 49,
   "metadata": {},
   "outputs": [
    {
     "data": {
      "text/html": [
       "<div>\n",
       "<style scoped>\n",
       "    .dataframe tbody tr th:only-of-type {\n",
       "        vertical-align: middle;\n",
       "    }\n",
       "\n",
       "    .dataframe tbody tr th {\n",
       "        vertical-align: top;\n",
       "    }\n",
       "\n",
       "    .dataframe thead th {\n",
       "        text-align: right;\n",
       "    }\n",
       "</style>\n",
       "<table border=\"1\" class=\"dataframe\">\n",
       "  <thead>\n",
       "    <tr style=\"text-align: right;\">\n",
       "      <th></th>\n",
       "      <th>MURDER</th>\n",
       "      <th>ATTEMPT TO MURDER</th>\n",
       "      <th>CULPABLE HOMICIDE NOT AMOUNTING TO MURDER</th>\n",
       "      <th>RAPE</th>\n",
       "      <th>CUSTODIAL RAPE</th>\n",
       "      <th>OTHER RAPE</th>\n",
       "      <th>KIDNAPPING &amp; ABDUCTION</th>\n",
       "      <th>KIDNAPPING AND ABDUCTION OF WOMEN AND GIRLS</th>\n",
       "      <th>KIDNAPPING AND ABDUCTION OF OTHERS</th>\n",
       "      <th>DACOITY</th>\n",
       "      <th>...</th>\n",
       "      <th>HURT/GREVIOUS HURT</th>\n",
       "      <th>DOWRY DEATHS</th>\n",
       "      <th>ASSAULT ON WOMEN WITH INTENT TO OUTRAGE HER MODESTY</th>\n",
       "      <th>INSULT TO MODESTY OF WOMEN</th>\n",
       "      <th>CRUELTY BY HUSBAND OR HIS RELATIVES</th>\n",
       "      <th>IMPORTATION OF GIRLS FROM FOREIGN COUNTRIES</th>\n",
       "      <th>CAUSING DEATH BY NEGLIGENCE</th>\n",
       "      <th>OTHER IPC CRIMES</th>\n",
       "      <th>TOTAL IPC CRIMES</th>\n",
       "      <th>IPC_pct</th>\n",
       "    </tr>\n",
       "    <tr>\n",
       "      <th>DISTRICT</th>\n",
       "      <th></th>\n",
       "      <th></th>\n",
       "      <th></th>\n",
       "      <th></th>\n",
       "      <th></th>\n",
       "      <th></th>\n",
       "      <th></th>\n",
       "      <th></th>\n",
       "      <th></th>\n",
       "      <th></th>\n",
       "      <th></th>\n",
       "      <th></th>\n",
       "      <th></th>\n",
       "      <th></th>\n",
       "      <th></th>\n",
       "      <th></th>\n",
       "      <th></th>\n",
       "      <th></th>\n",
       "      <th></th>\n",
       "      <th></th>\n",
       "      <th></th>\n",
       "    </tr>\n",
       "  </thead>\n",
       "  <tbody>\n",
       "    <tr>\n",
       "      <th>DELHI UT TOTAL</th>\n",
       "      <td>6205</td>\n",
       "      <td>5277</td>\n",
       "      <td>883</td>\n",
       "      <td>6424</td>\n",
       "      <td>0</td>\n",
       "      <td>6424</td>\n",
       "      <td>25083</td>\n",
       "      <td>15650</td>\n",
       "      <td>9433</td>\n",
       "      <td>381</td>\n",
       "      <td>...</td>\n",
       "      <td>22210</td>\n",
       "      <td>1582</td>\n",
       "      <td>7534</td>\n",
       "      <td>1687</td>\n",
       "      <td>15211</td>\n",
       "      <td>1</td>\n",
       "      <td>7503</td>\n",
       "      <td>237457</td>\n",
       "      <td>633174</td>\n",
       "      <td>2.576619</td>\n",
       "    </tr>\n",
       "    <tr>\n",
       "      <th>BANGALORE COMMR.</th>\n",
       "      <td>2831</td>\n",
       "      <td>4067</td>\n",
       "      <td>54</td>\n",
       "      <td>642</td>\n",
       "      <td>1</td>\n",
       "      <td>641</td>\n",
       "      <td>3014</td>\n",
       "      <td>947</td>\n",
       "      <td>2067</td>\n",
       "      <td>529</td>\n",
       "      <td>...</td>\n",
       "      <td>37973</td>\n",
       "      <td>552</td>\n",
       "      <td>2630</td>\n",
       "      <td>407</td>\n",
       "      <td>3832</td>\n",
       "      <td>0</td>\n",
       "      <td>1182</td>\n",
       "      <td>124176</td>\n",
       "      <td>350347</td>\n",
       "      <td>1.425692</td>\n",
       "    </tr>\n",
       "    <tr>\n",
       "      <th>MUMBAI COMMR.</th>\n",
       "      <td>1542</td>\n",
       "      <td>1063</td>\n",
       "      <td>33</td>\n",
       "      <td>1386</td>\n",
       "      <td>0</td>\n",
       "      <td>1386</td>\n",
       "      <td>1334</td>\n",
       "      <td>904</td>\n",
       "      <td>430</td>\n",
       "      <td>226</td>\n",
       "      <td>...</td>\n",
       "      <td>28353</td>\n",
       "      <td>106</td>\n",
       "      <td>3200</td>\n",
       "      <td>971</td>\n",
       "      <td>2736</td>\n",
       "      <td>1</td>\n",
       "      <td>4942</td>\n",
       "      <td>47568</td>\n",
       "      <td>222670</td>\n",
       "      <td>0.906127</td>\n",
       "    </tr>\n",
       "    <tr>\n",
       "      <th>AHMEDABAD COMMR.</th>\n",
       "      <td>1204</td>\n",
       "      <td>778</td>\n",
       "      <td>101</td>\n",
       "      <td>506</td>\n",
       "      <td>0</td>\n",
       "      <td>506</td>\n",
       "      <td>2301</td>\n",
       "      <td>1669</td>\n",
       "      <td>632</td>\n",
       "      <td>471</td>\n",
       "      <td>...</td>\n",
       "      <td>16439</td>\n",
       "      <td>83</td>\n",
       "      <td>820</td>\n",
       "      <td>225</td>\n",
       "      <td>11670</td>\n",
       "      <td>0</td>\n",
       "      <td>2084</td>\n",
       "      <td>100241</td>\n",
       "      <td>218005</td>\n",
       "      <td>0.887143</td>\n",
       "    </tr>\n",
       "    <tr>\n",
       "      <th>INDORE</th>\n",
       "      <td>1339</td>\n",
       "      <td>1810</td>\n",
       "      <td>40</td>\n",
       "      <td>1255</td>\n",
       "      <td>0</td>\n",
       "      <td>1255</td>\n",
       "      <td>625</td>\n",
       "      <td>460</td>\n",
       "      <td>165</td>\n",
       "      <td>73</td>\n",
       "      <td>...</td>\n",
       "      <td>20260</td>\n",
       "      <td>359</td>\n",
       "      <td>3535</td>\n",
       "      <td>860</td>\n",
       "      <td>3918</td>\n",
       "      <td>5</td>\n",
       "      <td>4657</td>\n",
       "      <td>105984</td>\n",
       "      <td>204398</td>\n",
       "      <td>0.831771</td>\n",
       "    </tr>\n",
       "    <tr>\n",
       "      <th>...</th>\n",
       "      <td>...</td>\n",
       "      <td>...</td>\n",
       "      <td>...</td>\n",
       "      <td>...</td>\n",
       "      <td>...</td>\n",
       "      <td>...</td>\n",
       "      <td>...</td>\n",
       "      <td>...</td>\n",
       "      <td>...</td>\n",
       "      <td>...</td>\n",
       "      <td>...</td>\n",
       "      <td>...</td>\n",
       "      <td>...</td>\n",
       "      <td>...</td>\n",
       "      <td>...</td>\n",
       "      <td>...</td>\n",
       "      <td>...</td>\n",
       "      <td>...</td>\n",
       "      <td>...</td>\n",
       "      <td>...</td>\n",
       "      <td>...</td>\n",
       "    </tr>\n",
       "    <tr>\n",
       "      <th>CAR</th>\n",
       "      <td>2</td>\n",
       "      <td>0</td>\n",
       "      <td>0</td>\n",
       "      <td>0</td>\n",
       "      <td>0</td>\n",
       "      <td>0</td>\n",
       "      <td>1</td>\n",
       "      <td>1</td>\n",
       "      <td>0</td>\n",
       "      <td>1</td>\n",
       "      <td>...</td>\n",
       "      <td>4</td>\n",
       "      <td>0</td>\n",
       "      <td>1</td>\n",
       "      <td>0</td>\n",
       "      <td>0</td>\n",
       "      <td>0</td>\n",
       "      <td>1</td>\n",
       "      <td>8</td>\n",
       "      <td>24</td>\n",
       "      <td>0.000098</td>\n",
       "    </tr>\n",
       "    <tr>\n",
       "      <th>CID</th>\n",
       "      <td>0</td>\n",
       "      <td>0</td>\n",
       "      <td>0</td>\n",
       "      <td>0</td>\n",
       "      <td>0</td>\n",
       "      <td>0</td>\n",
       "      <td>0</td>\n",
       "      <td>0</td>\n",
       "      <td>0</td>\n",
       "      <td>0</td>\n",
       "      <td>...</td>\n",
       "      <td>0</td>\n",
       "      <td>0</td>\n",
       "      <td>0</td>\n",
       "      <td>0</td>\n",
       "      <td>0</td>\n",
       "      <td>0</td>\n",
       "      <td>0</td>\n",
       "      <td>13</td>\n",
       "      <td>23</td>\n",
       "      <td>0.000094</td>\n",
       "    </tr>\n",
       "    <tr>\n",
       "      <th>BIEO</th>\n",
       "      <td>0</td>\n",
       "      <td>0</td>\n",
       "      <td>0</td>\n",
       "      <td>0</td>\n",
       "      <td>0</td>\n",
       "      <td>0</td>\n",
       "      <td>0</td>\n",
       "      <td>0</td>\n",
       "      <td>0</td>\n",
       "      <td>0</td>\n",
       "      <td>...</td>\n",
       "      <td>0</td>\n",
       "      <td>0</td>\n",
       "      <td>0</td>\n",
       "      <td>0</td>\n",
       "      <td>0</td>\n",
       "      <td>0</td>\n",
       "      <td>0</td>\n",
       "      <td>0</td>\n",
       "      <td>16</td>\n",
       "      <td>0.000065</td>\n",
       "    </tr>\n",
       "    <tr>\n",
       "      <th>RAILWAYS KMR</th>\n",
       "      <td>0</td>\n",
       "      <td>0</td>\n",
       "      <td>0</td>\n",
       "      <td>0</td>\n",
       "      <td>0</td>\n",
       "      <td>0</td>\n",
       "      <td>0</td>\n",
       "      <td>0</td>\n",
       "      <td>0</td>\n",
       "      <td>0</td>\n",
       "      <td>...</td>\n",
       "      <td>0</td>\n",
       "      <td>0</td>\n",
       "      <td>2</td>\n",
       "      <td>0</td>\n",
       "      <td>0</td>\n",
       "      <td>0</td>\n",
       "      <td>0</td>\n",
       "      <td>7</td>\n",
       "      <td>10</td>\n",
       "      <td>0.000041</td>\n",
       "    </tr>\n",
       "    <tr>\n",
       "      <th>RAILWAYS KATRA</th>\n",
       "      <td>0</td>\n",
       "      <td>0</td>\n",
       "      <td>0</td>\n",
       "      <td>0</td>\n",
       "      <td>0</td>\n",
       "      <td>0</td>\n",
       "      <td>0</td>\n",
       "      <td>0</td>\n",
       "      <td>0</td>\n",
       "      <td>0</td>\n",
       "      <td>...</td>\n",
       "      <td>0</td>\n",
       "      <td>0</td>\n",
       "      <td>0</td>\n",
       "      <td>0</td>\n",
       "      <td>0</td>\n",
       "      <td>0</td>\n",
       "      <td>0</td>\n",
       "      <td>0</td>\n",
       "      <td>2</td>\n",
       "      <td>0.000008</td>\n",
       "    </tr>\n",
       "  </tbody>\n",
       "</table>\n",
       "<p>807 rows × 31 columns</p>\n",
       "</div>"
      ],
      "text/plain": [
       "                  MURDER  ATTEMPT TO MURDER  \\\n",
       "DISTRICT                                      \n",
       "DELHI UT TOTAL      6205               5277   \n",
       "BANGALORE COMMR.    2831               4067   \n",
       "MUMBAI COMMR.       1542               1063   \n",
       "AHMEDABAD COMMR.    1204                778   \n",
       "INDORE              1339               1810   \n",
       "...                  ...                ...   \n",
       "CAR                    2                  0   \n",
       "CID                    0                  0   \n",
       "BIEO                   0                  0   \n",
       "RAILWAYS KMR           0                  0   \n",
       "RAILWAYS KATRA         0                  0   \n",
       "\n",
       "                  CULPABLE HOMICIDE NOT AMOUNTING TO MURDER  RAPE  \\\n",
       "DISTRICT                                                            \n",
       "DELHI UT TOTAL                                          883  6424   \n",
       "BANGALORE COMMR.                                         54   642   \n",
       "MUMBAI COMMR.                                            33  1386   \n",
       "AHMEDABAD COMMR.                                        101   506   \n",
       "INDORE                                                   40  1255   \n",
       "...                                                     ...   ...   \n",
       "CAR                                                       0     0   \n",
       "CID                                                       0     0   \n",
       "BIEO                                                      0     0   \n",
       "RAILWAYS KMR                                              0     0   \n",
       "RAILWAYS KATRA                                            0     0   \n",
       "\n",
       "                  CUSTODIAL RAPE  OTHER RAPE  KIDNAPPING & ABDUCTION  \\\n",
       "DISTRICT                                                               \n",
       "DELHI UT TOTAL                 0        6424                   25083   \n",
       "BANGALORE COMMR.               1         641                    3014   \n",
       "MUMBAI COMMR.                  0        1386                    1334   \n",
       "AHMEDABAD COMMR.               0         506                    2301   \n",
       "INDORE                         0        1255                     625   \n",
       "...                          ...         ...                     ...   \n",
       "CAR                            0           0                       1   \n",
       "CID                            0           0                       0   \n",
       "BIEO                           0           0                       0   \n",
       "RAILWAYS KMR                   0           0                       0   \n",
       "RAILWAYS KATRA                 0           0                       0   \n",
       "\n",
       "                  KIDNAPPING AND ABDUCTION OF WOMEN AND GIRLS  \\\n",
       "DISTRICT                                                        \n",
       "DELHI UT TOTAL                                          15650   \n",
       "BANGALORE COMMR.                                          947   \n",
       "MUMBAI COMMR.                                             904   \n",
       "AHMEDABAD COMMR.                                         1669   \n",
       "INDORE                                                    460   \n",
       "...                                                       ...   \n",
       "CAR                                                         1   \n",
       "CID                                                         0   \n",
       "BIEO                                                        0   \n",
       "RAILWAYS KMR                                                0   \n",
       "RAILWAYS KATRA                                              0   \n",
       "\n",
       "                  KIDNAPPING AND ABDUCTION OF OTHERS  DACOITY  ...  \\\n",
       "DISTRICT                                                       ...   \n",
       "DELHI UT TOTAL                                  9433      381  ...   \n",
       "BANGALORE COMMR.                                2067      529  ...   \n",
       "MUMBAI COMMR.                                    430      226  ...   \n",
       "AHMEDABAD COMMR.                                 632      471  ...   \n",
       "INDORE                                           165       73  ...   \n",
       "...                                              ...      ...  ...   \n",
       "CAR                                                0        1  ...   \n",
       "CID                                                0        0  ...   \n",
       "BIEO                                               0        0  ...   \n",
       "RAILWAYS KMR                                       0        0  ...   \n",
       "RAILWAYS KATRA                                     0        0  ...   \n",
       "\n",
       "                  HURT/GREVIOUS HURT  DOWRY DEATHS  \\\n",
       "DISTRICT                                             \n",
       "DELHI UT TOTAL                 22210          1582   \n",
       "BANGALORE COMMR.               37973           552   \n",
       "MUMBAI COMMR.                  28353           106   \n",
       "AHMEDABAD COMMR.               16439            83   \n",
       "INDORE                         20260           359   \n",
       "...                              ...           ...   \n",
       "CAR                                4             0   \n",
       "CID                                0             0   \n",
       "BIEO                               0             0   \n",
       "RAILWAYS KMR                       0             0   \n",
       "RAILWAYS KATRA                     0             0   \n",
       "\n",
       "                  ASSAULT ON WOMEN WITH INTENT TO OUTRAGE HER MODESTY  \\\n",
       "DISTRICT                                                                \n",
       "DELHI UT TOTAL                                                 7534     \n",
       "BANGALORE COMMR.                                               2630     \n",
       "MUMBAI COMMR.                                                  3200     \n",
       "AHMEDABAD COMMR.                                                820     \n",
       "INDORE                                                         3535     \n",
       "...                                                             ...     \n",
       "CAR                                                               1     \n",
       "CID                                                               0     \n",
       "BIEO                                                              0     \n",
       "RAILWAYS KMR                                                      2     \n",
       "RAILWAYS KATRA                                                    0     \n",
       "\n",
       "                  INSULT TO MODESTY OF WOMEN  \\\n",
       "DISTRICT                                       \n",
       "DELHI UT TOTAL                          1687   \n",
       "BANGALORE COMMR.                         407   \n",
       "MUMBAI COMMR.                            971   \n",
       "AHMEDABAD COMMR.                         225   \n",
       "INDORE                                   860   \n",
       "...                                      ...   \n",
       "CAR                                        0   \n",
       "CID                                        0   \n",
       "BIEO                                       0   \n",
       "RAILWAYS KMR                               0   \n",
       "RAILWAYS KATRA                             0   \n",
       "\n",
       "                  CRUELTY BY HUSBAND OR HIS RELATIVES  \\\n",
       "DISTRICT                                                \n",
       "DELHI UT TOTAL                                  15211   \n",
       "BANGALORE COMMR.                                 3832   \n",
       "MUMBAI COMMR.                                    2736   \n",
       "AHMEDABAD COMMR.                                11670   \n",
       "INDORE                                           3918   \n",
       "...                                               ...   \n",
       "CAR                                                 0   \n",
       "CID                                                 0   \n",
       "BIEO                                                0   \n",
       "RAILWAYS KMR                                        0   \n",
       "RAILWAYS KATRA                                      0   \n",
       "\n",
       "                  IMPORTATION OF GIRLS FROM FOREIGN COUNTRIES  \\\n",
       "DISTRICT                                                        \n",
       "DELHI UT TOTAL                                              1   \n",
       "BANGALORE COMMR.                                            0   \n",
       "MUMBAI COMMR.                                               1   \n",
       "AHMEDABAD COMMR.                                            0   \n",
       "INDORE                                                      5   \n",
       "...                                                       ...   \n",
       "CAR                                                         0   \n",
       "CID                                                         0   \n",
       "BIEO                                                        0   \n",
       "RAILWAYS KMR                                                0   \n",
       "RAILWAYS KATRA                                              0   \n",
       "\n",
       "                  CAUSING DEATH BY NEGLIGENCE  OTHER IPC CRIMES  \\\n",
       "DISTRICT                                                          \n",
       "DELHI UT TOTAL                           7503            237457   \n",
       "BANGALORE COMMR.                         1182            124176   \n",
       "MUMBAI COMMR.                            4942             47568   \n",
       "AHMEDABAD COMMR.                         2084            100241   \n",
       "INDORE                                   4657            105984   \n",
       "...                                       ...               ...   \n",
       "CAR                                         1                 8   \n",
       "CID                                         0                13   \n",
       "BIEO                                        0                 0   \n",
       "RAILWAYS KMR                                0                 7   \n",
       "RAILWAYS KATRA                              0                 0   \n",
       "\n",
       "                  TOTAL IPC CRIMES   IPC_pct  \n",
       "DISTRICT                                      \n",
       "DELHI UT TOTAL              633174  2.576619  \n",
       "BANGALORE COMMR.            350347  1.425692  \n",
       "MUMBAI COMMR.               222670  0.906127  \n",
       "AHMEDABAD COMMR.            218005  0.887143  \n",
       "INDORE                      204398  0.831771  \n",
       "...                            ...       ...  \n",
       "CAR                             24  0.000098  \n",
       "CID                             23  0.000094  \n",
       "BIEO                            16  0.000065  \n",
       "RAILWAYS KMR                    10  0.000041  \n",
       "RAILWAYS KATRA                   2  0.000008  \n",
       "\n",
       "[807 rows x 31 columns]"
      ]
     },
     "execution_count": 49,
     "metadata": {},
     "output_type": "execute_result"
    }
   ],
   "source": [
    "df_by_city = df.groupby(by='DISTRICT').sum()\n",
    "df_by_city = df_by_city[df_by_city.index != 'TOTAL']\n",
    "df_by_city.drop('YEAR',axis =1,inplace=True)\n",
    "df_by_city.sort_values(by='TOTAL IPC CRIMES',ascending = False,inplace=True)\n",
    "total= df_by_city['TOTAL IPC CRIMES'].sum()\n",
    "\n",
    "IPC_pct = []\n",
    "for i in range(0,807):\n",
    "    IPC_pct.append((df_by_city['TOTAL IPC CRIMES'][i]/total)*100)\n",
    "\n",
    "df_by_city['IPC_pct'] = IPC_pct\n",
    "df_by_city"
   ]
  },
  {
   "cell_type": "markdown",
   "metadata": {},
   "source": [
    "from above dataframe we can conclude that the top most dangerous city in India is Delhi with a 2.5% of all the total ipc crimes in India \n",
    "the top 5 cities in crime rate are :\n",
    "DELHI - 2.5% ,  BANGLORE - 1.42% , MUMBAI - 0.906% , AHEMADABAD - 0.887143 , INDORE - 0.831771% in 2001-2012"
   ]
  },
  {
   "cell_type": "markdown",
   "metadata": {},
   "source": [
    "now we will do analysis of top 10 cities in crimes of India "
   ]
  },
  {
   "cell_type": "code",
   "execution_count": 50,
   "metadata": {},
   "outputs": [],
   "source": [
    "df_by_city_top10 = df_by_city.head(10)"
   ]
  },
  {
   "cell_type": "code",
   "execution_count": 51,
   "metadata": {},
   "outputs": [
    {
     "data": {
      "application/vnd.plotly.v1+json": {
       "config": {
        "plotlyServerURL": "https://plot.ly"
       },
       "data": [
        {
         "branchvalues": "total",
         "customdata": [
          [
           1204,
           506,
           2301,
           5292,
           0,
           471,
           2434,
           1204
          ],
          [
           2831,
           642,
           3014,
           6740,
           0,
           529,
           4665,
           2831
          ],
          [
           821,
           1272,
           610,
           1839,
           3,
           48,
           1189,
           821
          ],
          [
           1365,
           531,
           627,
           1039,
           0,
           73,
           996,
           1365
          ],
          [
           6205,
           6424,
           25083,
           6461,
           1,
           381,
           996,
           6205
          ],
          [
           1455,
           712,
           1466,
           942,
           2,
           121,
           2432,
           1455
          ],
          [
           1339,
           1255,
           625,
           2326,
           5,
           73,
           1616,
           1339
          ],
          [
           596,
           433,
           1534,
           1007,
           27,
           151,
           2993,
           596
          ],
          [
           1542,
           1386,
           1334,
           3209,
           1,
           226,
           2364,
           1542
          ],
          [
           4586,
           572,
           3502,
           4901,
           39,
           951,
           5948,
           4586
          ]
         ],
         "domain": {
          "x": [
           0,
           1
          ],
          "y": [
           0,
           1
          ]
         },
         "hovertemplate": "labels=%{label}<br>TOTAL IPC CRIMES=%{value}<br>parent=%{parent}<br>id=%{id}<br>MURDER=%{color}<br>RAPE=%{customdata[1]}<br>KIDNAPPING & ABDUCTION=%{customdata[2]}<br>ROBBERY=%{customdata[3]}<br>IMPORTATION OF GIRLS FROM FOREIGN COUNTRIES=%{customdata[4]}<br>DACOITY=%{customdata[5]}<br>RIOTS=%{customdata[6]}<extra></extra>",
         "ids": [
          "AHMEDABAD COMMR.",
          "BANGALORE COMMR.",
          "BHOPAL",
          "CHENNAI",
          "DELHI UT TOTAL",
          "HYDERABAD CITY",
          "INDORE",
          "KOLKATA",
          "MUMBAI COMMR.",
          "PATNA"
         ],
         "labels": [
          "AHMEDABAD COMMR.",
          "BANGALORE COMMR.",
          "BHOPAL",
          "CHENNAI",
          "DELHI UT TOTAL",
          "HYDERABAD CITY",
          "INDORE",
          "KOLKATA",
          "MUMBAI COMMR.",
          "PATNA"
         ],
         "marker": {
          "coloraxis": "coloraxis",
          "colors": [
           1204,
           2831,
           821,
           1365,
           6205,
           1455,
           1339,
           596,
           1542,
           4586
          ]
         },
         "name": "",
         "parents": [
          "",
          "",
          "",
          "",
          "",
          "",
          "",
          "",
          "",
          ""
         ],
         "type": "sunburst",
         "values": [
          218005,
          350347,
          169575,
          164467,
          633174,
          202931,
          204398,
          158429,
          222670,
          147542
         ]
        }
       ],
       "layout": {
        "coloraxis": {
         "colorbar": {
          "title": {
           "text": "MURDER"
          }
         },
         "colorscale": [
          [
           0,
           "#0d0887"
          ],
          [
           0.1111111111111111,
           "#46039f"
          ],
          [
           0.2222222222222222,
           "#7201a8"
          ],
          [
           0.3333333333333333,
           "#9c179e"
          ],
          [
           0.4444444444444444,
           "#bd3786"
          ],
          [
           0.5555555555555556,
           "#d8576b"
          ],
          [
           0.6666666666666666,
           "#ed7953"
          ],
          [
           0.7777777777777778,
           "#fb9f3a"
          ],
          [
           0.8888888888888888,
           "#fdca26"
          ],
          [
           1,
           "#f0f921"
          ]
         ]
        },
        "font": {
         "color": "red",
         "family": "Times New Roman",
         "size": 10
        },
        "legend": {
         "tracegroupgap": 0
        },
        "margin": {
         "t": 60
        },
        "paper_bgcolor": "black",
        "template": {
         "data": {
          "bar": [
           {
            "error_x": {
             "color": "#2a3f5f"
            },
            "error_y": {
             "color": "#2a3f5f"
            },
            "marker": {
             "line": {
              "color": "white",
              "width": 0.5
             }
            },
            "type": "bar"
           }
          ],
          "barpolar": [
           {
            "marker": {
             "line": {
              "color": "white",
              "width": 0.5
             }
            },
            "type": "barpolar"
           }
          ],
          "carpet": [
           {
            "aaxis": {
             "endlinecolor": "#2a3f5f",
             "gridcolor": "#C8D4E3",
             "linecolor": "#C8D4E3",
             "minorgridcolor": "#C8D4E3",
             "startlinecolor": "#2a3f5f"
            },
            "baxis": {
             "endlinecolor": "#2a3f5f",
             "gridcolor": "#C8D4E3",
             "linecolor": "#C8D4E3",
             "minorgridcolor": "#C8D4E3",
             "startlinecolor": "#2a3f5f"
            },
            "type": "carpet"
           }
          ],
          "choropleth": [
           {
            "colorbar": {
             "outlinewidth": 0,
             "ticks": ""
            },
            "type": "choropleth"
           }
          ],
          "contour": [
           {
            "colorbar": {
             "outlinewidth": 0,
             "ticks": ""
            },
            "colorscale": [
             [
              0,
              "#0d0887"
             ],
             [
              0.1111111111111111,
              "#46039f"
             ],
             [
              0.2222222222222222,
              "#7201a8"
             ],
             [
              0.3333333333333333,
              "#9c179e"
             ],
             [
              0.4444444444444444,
              "#bd3786"
             ],
             [
              0.5555555555555556,
              "#d8576b"
             ],
             [
              0.6666666666666666,
              "#ed7953"
             ],
             [
              0.7777777777777778,
              "#fb9f3a"
             ],
             [
              0.8888888888888888,
              "#fdca26"
             ],
             [
              1,
              "#f0f921"
             ]
            ],
            "type": "contour"
           }
          ],
          "contourcarpet": [
           {
            "colorbar": {
             "outlinewidth": 0,
             "ticks": ""
            },
            "type": "contourcarpet"
           }
          ],
          "heatmap": [
           {
            "colorbar": {
             "outlinewidth": 0,
             "ticks": ""
            },
            "colorscale": [
             [
              0,
              "#0d0887"
             ],
             [
              0.1111111111111111,
              "#46039f"
             ],
             [
              0.2222222222222222,
              "#7201a8"
             ],
             [
              0.3333333333333333,
              "#9c179e"
             ],
             [
              0.4444444444444444,
              "#bd3786"
             ],
             [
              0.5555555555555556,
              "#d8576b"
             ],
             [
              0.6666666666666666,
              "#ed7953"
             ],
             [
              0.7777777777777778,
              "#fb9f3a"
             ],
             [
              0.8888888888888888,
              "#fdca26"
             ],
             [
              1,
              "#f0f921"
             ]
            ],
            "type": "heatmap"
           }
          ],
          "heatmapgl": [
           {
            "colorbar": {
             "outlinewidth": 0,
             "ticks": ""
            },
            "colorscale": [
             [
              0,
              "#0d0887"
             ],
             [
              0.1111111111111111,
              "#46039f"
             ],
             [
              0.2222222222222222,
              "#7201a8"
             ],
             [
              0.3333333333333333,
              "#9c179e"
             ],
             [
              0.4444444444444444,
              "#bd3786"
             ],
             [
              0.5555555555555556,
              "#d8576b"
             ],
             [
              0.6666666666666666,
              "#ed7953"
             ],
             [
              0.7777777777777778,
              "#fb9f3a"
             ],
             [
              0.8888888888888888,
              "#fdca26"
             ],
             [
              1,
              "#f0f921"
             ]
            ],
            "type": "heatmapgl"
           }
          ],
          "histogram": [
           {
            "marker": {
             "colorbar": {
              "outlinewidth": 0,
              "ticks": ""
             }
            },
            "type": "histogram"
           }
          ],
          "histogram2d": [
           {
            "colorbar": {
             "outlinewidth": 0,
             "ticks": ""
            },
            "colorscale": [
             [
              0,
              "#0d0887"
             ],
             [
              0.1111111111111111,
              "#46039f"
             ],
             [
              0.2222222222222222,
              "#7201a8"
             ],
             [
              0.3333333333333333,
              "#9c179e"
             ],
             [
              0.4444444444444444,
              "#bd3786"
             ],
             [
              0.5555555555555556,
              "#d8576b"
             ],
             [
              0.6666666666666666,
              "#ed7953"
             ],
             [
              0.7777777777777778,
              "#fb9f3a"
             ],
             [
              0.8888888888888888,
              "#fdca26"
             ],
             [
              1,
              "#f0f921"
             ]
            ],
            "type": "histogram2d"
           }
          ],
          "histogram2dcontour": [
           {
            "colorbar": {
             "outlinewidth": 0,
             "ticks": ""
            },
            "colorscale": [
             [
              0,
              "#0d0887"
             ],
             [
              0.1111111111111111,
              "#46039f"
             ],
             [
              0.2222222222222222,
              "#7201a8"
             ],
             [
              0.3333333333333333,
              "#9c179e"
             ],
             [
              0.4444444444444444,
              "#bd3786"
             ],
             [
              0.5555555555555556,
              "#d8576b"
             ],
             [
              0.6666666666666666,
              "#ed7953"
             ],
             [
              0.7777777777777778,
              "#fb9f3a"
             ],
             [
              0.8888888888888888,
              "#fdca26"
             ],
             [
              1,
              "#f0f921"
             ]
            ],
            "type": "histogram2dcontour"
           }
          ],
          "mesh3d": [
           {
            "colorbar": {
             "outlinewidth": 0,
             "ticks": ""
            },
            "type": "mesh3d"
           }
          ],
          "parcoords": [
           {
            "line": {
             "colorbar": {
              "outlinewidth": 0,
              "ticks": ""
             }
            },
            "type": "parcoords"
           }
          ],
          "pie": [
           {
            "automargin": true,
            "type": "pie"
           }
          ],
          "scatter": [
           {
            "marker": {
             "colorbar": {
              "outlinewidth": 0,
              "ticks": ""
             }
            },
            "type": "scatter"
           }
          ],
          "scatter3d": [
           {
            "line": {
             "colorbar": {
              "outlinewidth": 0,
              "ticks": ""
             }
            },
            "marker": {
             "colorbar": {
              "outlinewidth": 0,
              "ticks": ""
             }
            },
            "type": "scatter3d"
           }
          ],
          "scattercarpet": [
           {
            "marker": {
             "colorbar": {
              "outlinewidth": 0,
              "ticks": ""
             }
            },
            "type": "scattercarpet"
           }
          ],
          "scattergeo": [
           {
            "marker": {
             "colorbar": {
              "outlinewidth": 0,
              "ticks": ""
             }
            },
            "type": "scattergeo"
           }
          ],
          "scattergl": [
           {
            "marker": {
             "colorbar": {
              "outlinewidth": 0,
              "ticks": ""
             }
            },
            "type": "scattergl"
           }
          ],
          "scattermapbox": [
           {
            "marker": {
             "colorbar": {
              "outlinewidth": 0,
              "ticks": ""
             }
            },
            "type": "scattermapbox"
           }
          ],
          "scatterpolar": [
           {
            "marker": {
             "colorbar": {
              "outlinewidth": 0,
              "ticks": ""
             }
            },
            "type": "scatterpolar"
           }
          ],
          "scatterpolargl": [
           {
            "marker": {
             "colorbar": {
              "outlinewidth": 0,
              "ticks": ""
             }
            },
            "type": "scatterpolargl"
           }
          ],
          "scatterternary": [
           {
            "marker": {
             "colorbar": {
              "outlinewidth": 0,
              "ticks": ""
             }
            },
            "type": "scatterternary"
           }
          ],
          "surface": [
           {
            "colorbar": {
             "outlinewidth": 0,
             "ticks": ""
            },
            "colorscale": [
             [
              0,
              "#0d0887"
             ],
             [
              0.1111111111111111,
              "#46039f"
             ],
             [
              0.2222222222222222,
              "#7201a8"
             ],
             [
              0.3333333333333333,
              "#9c179e"
             ],
             [
              0.4444444444444444,
              "#bd3786"
             ],
             [
              0.5555555555555556,
              "#d8576b"
             ],
             [
              0.6666666666666666,
              "#ed7953"
             ],
             [
              0.7777777777777778,
              "#fb9f3a"
             ],
             [
              0.8888888888888888,
              "#fdca26"
             ],
             [
              1,
              "#f0f921"
             ]
            ],
            "type": "surface"
           }
          ],
          "table": [
           {
            "cells": {
             "fill": {
              "color": "#EBF0F8"
             },
             "line": {
              "color": "white"
             }
            },
            "header": {
             "fill": {
              "color": "#C8D4E3"
             },
             "line": {
              "color": "white"
             }
            },
            "type": "table"
           }
          ]
         },
         "layout": {
          "annotationdefaults": {
           "arrowcolor": "#2a3f5f",
           "arrowhead": 0,
           "arrowwidth": 1
          },
          "coloraxis": {
           "colorbar": {
            "outlinewidth": 0,
            "ticks": ""
           }
          },
          "colorscale": {
           "diverging": [
            [
             0,
             "#8e0152"
            ],
            [
             0.1,
             "#c51b7d"
            ],
            [
             0.2,
             "#de77ae"
            ],
            [
             0.3,
             "#f1b6da"
            ],
            [
             0.4,
             "#fde0ef"
            ],
            [
             0.5,
             "#f7f7f7"
            ],
            [
             0.6,
             "#e6f5d0"
            ],
            [
             0.7,
             "#b8e186"
            ],
            [
             0.8,
             "#7fbc41"
            ],
            [
             0.9,
             "#4d9221"
            ],
            [
             1,
             "#276419"
            ]
           ],
           "sequential": [
            [
             0,
             "#0d0887"
            ],
            [
             0.1111111111111111,
             "#46039f"
            ],
            [
             0.2222222222222222,
             "#7201a8"
            ],
            [
             0.3333333333333333,
             "#9c179e"
            ],
            [
             0.4444444444444444,
             "#bd3786"
            ],
            [
             0.5555555555555556,
             "#d8576b"
            ],
            [
             0.6666666666666666,
             "#ed7953"
            ],
            [
             0.7777777777777778,
             "#fb9f3a"
            ],
            [
             0.8888888888888888,
             "#fdca26"
            ],
            [
             1,
             "#f0f921"
            ]
           ],
           "sequentialminus": [
            [
             0,
             "#0d0887"
            ],
            [
             0.1111111111111111,
             "#46039f"
            ],
            [
             0.2222222222222222,
             "#7201a8"
            ],
            [
             0.3333333333333333,
             "#9c179e"
            ],
            [
             0.4444444444444444,
             "#bd3786"
            ],
            [
             0.5555555555555556,
             "#d8576b"
            ],
            [
             0.6666666666666666,
             "#ed7953"
            ],
            [
             0.7777777777777778,
             "#fb9f3a"
            ],
            [
             0.8888888888888888,
             "#fdca26"
            ],
            [
             1,
             "#f0f921"
            ]
           ]
          },
          "colorway": [
           "#636efa",
           "#EF553B",
           "#00cc96",
           "#ab63fa",
           "#FFA15A",
           "#19d3f3",
           "#FF6692",
           "#B6E880",
           "#FF97FF",
           "#FECB52"
          ],
          "font": {
           "color": "#2a3f5f"
          },
          "geo": {
           "bgcolor": "white",
           "lakecolor": "white",
           "landcolor": "white",
           "showlakes": true,
           "showland": true,
           "subunitcolor": "#C8D4E3"
          },
          "hoverlabel": {
           "align": "left"
          },
          "hovermode": "closest",
          "mapbox": {
           "style": "light"
          },
          "paper_bgcolor": "white",
          "plot_bgcolor": "white",
          "polar": {
           "angularaxis": {
            "gridcolor": "#EBF0F8",
            "linecolor": "#EBF0F8",
            "ticks": ""
           },
           "bgcolor": "white",
           "radialaxis": {
            "gridcolor": "#EBF0F8",
            "linecolor": "#EBF0F8",
            "ticks": ""
           }
          },
          "scene": {
           "xaxis": {
            "backgroundcolor": "white",
            "gridcolor": "#DFE8F3",
            "gridwidth": 2,
            "linecolor": "#EBF0F8",
            "showbackground": true,
            "ticks": "",
            "zerolinecolor": "#EBF0F8"
           },
           "yaxis": {
            "backgroundcolor": "white",
            "gridcolor": "#DFE8F3",
            "gridwidth": 2,
            "linecolor": "#EBF0F8",
            "showbackground": true,
            "ticks": "",
            "zerolinecolor": "#EBF0F8"
           },
           "zaxis": {
            "backgroundcolor": "white",
            "gridcolor": "#DFE8F3",
            "gridwidth": 2,
            "linecolor": "#EBF0F8",
            "showbackground": true,
            "ticks": "",
            "zerolinecolor": "#EBF0F8"
           }
          },
          "shapedefaults": {
           "line": {
            "color": "#2a3f5f"
           }
          },
          "ternary": {
           "aaxis": {
            "gridcolor": "#DFE8F3",
            "linecolor": "#A2B1C6",
            "ticks": ""
           },
           "baxis": {
            "gridcolor": "#DFE8F3",
            "linecolor": "#A2B1C6",
            "ticks": ""
           },
           "bgcolor": "white",
           "caxis": {
            "gridcolor": "#DFE8F3",
            "linecolor": "#A2B1C6",
            "ticks": ""
           }
          },
          "title": {
           "x": 0.05
          },
          "xaxis": {
           "automargin": true,
           "gridcolor": "#EBF0F8",
           "linecolor": "#EBF0F8",
           "ticks": "",
           "title": {
            "standoff": 15
           },
           "zerolinecolor": "#EBF0F8",
           "zerolinewidth": 2
          },
          "yaxis": {
           "automargin": true,
           "gridcolor": "#EBF0F8",
           "linecolor": "#EBF0F8",
           "ticks": "",
           "title": {
            "standoff": 15
           },
           "zerolinecolor": "#EBF0F8",
           "zerolinewidth": 2
          }
         }
        },
        "title": {
         "font": {
          "family": "Aerial",
          "size": 24
         },
         "text": "Top 10 cities in crimes in India"
        }
       }
      },
      "text/html": [
       "<div>\n",
       "        \n",
       "        \n",
       "            <div id=\"2c9177e2-b9a4-4780-9bfc-059cd93c7b94\" class=\"plotly-graph-div\" style=\"height:525px; width:100%;\"></div>\n",
       "            <script type=\"text/javascript\">\n",
       "                require([\"plotly\"], function(Plotly) {\n",
       "                    window.PLOTLYENV=window.PLOTLYENV || {};\n",
       "                    \n",
       "                if (document.getElementById(\"2c9177e2-b9a4-4780-9bfc-059cd93c7b94\")) {\n",
       "                    Plotly.newPlot(\n",
       "                        '2c9177e2-b9a4-4780-9bfc-059cd93c7b94',\n",
       "                        [{\"branchvalues\": \"total\", \"customdata\": [[1204, 506, 2301, 5292, 0, 471, 2434, 1204], [2831, 642, 3014, 6740, 0, 529, 4665, 2831], [821, 1272, 610, 1839, 3, 48, 1189, 821], [1365, 531, 627, 1039, 0, 73, 996, 1365], [6205, 6424, 25083, 6461, 1, 381, 996, 6205], [1455, 712, 1466, 942, 2, 121, 2432, 1455], [1339, 1255, 625, 2326, 5, 73, 1616, 1339], [596, 433, 1534, 1007, 27, 151, 2993, 596], [1542, 1386, 1334, 3209, 1, 226, 2364, 1542], [4586, 572, 3502, 4901, 39, 951, 5948, 4586]], \"domain\": {\"x\": [0.0, 1.0], \"y\": [0.0, 1.0]}, \"hovertemplate\": \"labels=%{label}<br>TOTAL IPC CRIMES=%{value}<br>parent=%{parent}<br>id=%{id}<br>MURDER=%{color}<br>RAPE=%{customdata[1]}<br>KIDNAPPING & ABDUCTION=%{customdata[2]}<br>ROBBERY=%{customdata[3]}<br>IMPORTATION OF GIRLS FROM FOREIGN COUNTRIES=%{customdata[4]}<br>DACOITY=%{customdata[5]}<br>RIOTS=%{customdata[6]}<extra></extra>\", \"ids\": [\"AHMEDABAD COMMR.\", \"BANGALORE COMMR.\", \"BHOPAL\", \"CHENNAI\", \"DELHI UT TOTAL\", \"HYDERABAD CITY\", \"INDORE\", \"KOLKATA\", \"MUMBAI COMMR.\", \"PATNA\"], \"labels\": [\"AHMEDABAD COMMR.\", \"BANGALORE COMMR.\", \"BHOPAL\", \"CHENNAI\", \"DELHI UT TOTAL\", \"HYDERABAD CITY\", \"INDORE\", \"KOLKATA\", \"MUMBAI COMMR.\", \"PATNA\"], \"marker\": {\"coloraxis\": \"coloraxis\", \"colors\": [1204, 2831, 821, 1365, 6205, 1455, 1339, 596, 1542, 4586]}, \"name\": \"\", \"parents\": [\"\", \"\", \"\", \"\", \"\", \"\", \"\", \"\", \"\", \"\"], \"type\": \"sunburst\", \"values\": [218005, 350347, 169575, 164467, 633174, 202931, 204398, 158429, 222670, 147542]}],\n",
       "                        {\"coloraxis\": {\"colorbar\": {\"title\": {\"text\": \"MURDER\"}}, \"colorscale\": [[0.0, \"#0d0887\"], [0.1111111111111111, \"#46039f\"], [0.2222222222222222, \"#7201a8\"], [0.3333333333333333, \"#9c179e\"], [0.4444444444444444, \"#bd3786\"], [0.5555555555555556, \"#d8576b\"], [0.6666666666666666, \"#ed7953\"], [0.7777777777777778, \"#fb9f3a\"], [0.8888888888888888, \"#fdca26\"], [1.0, \"#f0f921\"]]}, \"font\": {\"color\": \"red\", \"family\": \"Times New Roman\", \"size\": 10}, \"legend\": {\"tracegroupgap\": 0}, \"margin\": {\"t\": 60}, \"paper_bgcolor\": \"black\", \"template\": {\"data\": {\"bar\": [{\"error_x\": {\"color\": \"#2a3f5f\"}, \"error_y\": {\"color\": \"#2a3f5f\"}, \"marker\": {\"line\": {\"color\": \"white\", \"width\": 0.5}}, \"type\": \"bar\"}], \"barpolar\": [{\"marker\": {\"line\": {\"color\": \"white\", \"width\": 0.5}}, \"type\": \"barpolar\"}], \"carpet\": [{\"aaxis\": {\"endlinecolor\": \"#2a3f5f\", \"gridcolor\": \"#C8D4E3\", \"linecolor\": \"#C8D4E3\", \"minorgridcolor\": \"#C8D4E3\", \"startlinecolor\": \"#2a3f5f\"}, \"baxis\": {\"endlinecolor\": \"#2a3f5f\", \"gridcolor\": \"#C8D4E3\", \"linecolor\": \"#C8D4E3\", \"minorgridcolor\": \"#C8D4E3\", \"startlinecolor\": \"#2a3f5f\"}, \"type\": \"carpet\"}], \"choropleth\": [{\"colorbar\": {\"outlinewidth\": 0, \"ticks\": \"\"}, \"type\": \"choropleth\"}], \"contour\": [{\"colorbar\": {\"outlinewidth\": 0, \"ticks\": \"\"}, \"colorscale\": [[0.0, \"#0d0887\"], [0.1111111111111111, \"#46039f\"], [0.2222222222222222, \"#7201a8\"], [0.3333333333333333, \"#9c179e\"], [0.4444444444444444, \"#bd3786\"], [0.5555555555555556, \"#d8576b\"], [0.6666666666666666, \"#ed7953\"], [0.7777777777777778, \"#fb9f3a\"], [0.8888888888888888, \"#fdca26\"], [1.0, \"#f0f921\"]], \"type\": \"contour\"}], \"contourcarpet\": [{\"colorbar\": {\"outlinewidth\": 0, \"ticks\": \"\"}, \"type\": \"contourcarpet\"}], \"heatmap\": [{\"colorbar\": {\"outlinewidth\": 0, \"ticks\": \"\"}, \"colorscale\": [[0.0, \"#0d0887\"], [0.1111111111111111, \"#46039f\"], [0.2222222222222222, \"#7201a8\"], [0.3333333333333333, \"#9c179e\"], [0.4444444444444444, \"#bd3786\"], [0.5555555555555556, \"#d8576b\"], [0.6666666666666666, \"#ed7953\"], [0.7777777777777778, \"#fb9f3a\"], [0.8888888888888888, \"#fdca26\"], [1.0, \"#f0f921\"]], \"type\": \"heatmap\"}], \"heatmapgl\": [{\"colorbar\": {\"outlinewidth\": 0, \"ticks\": \"\"}, \"colorscale\": [[0.0, \"#0d0887\"], [0.1111111111111111, \"#46039f\"], [0.2222222222222222, \"#7201a8\"], [0.3333333333333333, \"#9c179e\"], [0.4444444444444444, \"#bd3786\"], [0.5555555555555556, \"#d8576b\"], [0.6666666666666666, \"#ed7953\"], [0.7777777777777778, \"#fb9f3a\"], [0.8888888888888888, \"#fdca26\"], [1.0, \"#f0f921\"]], \"type\": \"heatmapgl\"}], \"histogram\": [{\"marker\": {\"colorbar\": {\"outlinewidth\": 0, \"ticks\": \"\"}}, \"type\": \"histogram\"}], \"histogram2d\": [{\"colorbar\": {\"outlinewidth\": 0, \"ticks\": \"\"}, \"colorscale\": [[0.0, \"#0d0887\"], [0.1111111111111111, \"#46039f\"], [0.2222222222222222, \"#7201a8\"], [0.3333333333333333, \"#9c179e\"], [0.4444444444444444, \"#bd3786\"], [0.5555555555555556, \"#d8576b\"], [0.6666666666666666, \"#ed7953\"], [0.7777777777777778, \"#fb9f3a\"], [0.8888888888888888, \"#fdca26\"], [1.0, \"#f0f921\"]], \"type\": \"histogram2d\"}], \"histogram2dcontour\": [{\"colorbar\": {\"outlinewidth\": 0, \"ticks\": \"\"}, \"colorscale\": [[0.0, \"#0d0887\"], [0.1111111111111111, \"#46039f\"], [0.2222222222222222, \"#7201a8\"], [0.3333333333333333, \"#9c179e\"], [0.4444444444444444, \"#bd3786\"], [0.5555555555555556, \"#d8576b\"], [0.6666666666666666, \"#ed7953\"], [0.7777777777777778, \"#fb9f3a\"], [0.8888888888888888, \"#fdca26\"], [1.0, \"#f0f921\"]], \"type\": \"histogram2dcontour\"}], \"mesh3d\": [{\"colorbar\": {\"outlinewidth\": 0, \"ticks\": \"\"}, \"type\": \"mesh3d\"}], \"parcoords\": [{\"line\": {\"colorbar\": {\"outlinewidth\": 0, \"ticks\": \"\"}}, \"type\": \"parcoords\"}], \"pie\": [{\"automargin\": true, \"type\": \"pie\"}], \"scatter\": [{\"marker\": {\"colorbar\": {\"outlinewidth\": 0, \"ticks\": \"\"}}, \"type\": \"scatter\"}], \"scatter3d\": [{\"line\": {\"colorbar\": {\"outlinewidth\": 0, \"ticks\": \"\"}}, \"marker\": {\"colorbar\": {\"outlinewidth\": 0, \"ticks\": \"\"}}, \"type\": \"scatter3d\"}], \"scattercarpet\": [{\"marker\": {\"colorbar\": {\"outlinewidth\": 0, \"ticks\": \"\"}}, \"type\": \"scattercarpet\"}], \"scattergeo\": [{\"marker\": {\"colorbar\": {\"outlinewidth\": 0, \"ticks\": \"\"}}, \"type\": \"scattergeo\"}], \"scattergl\": [{\"marker\": {\"colorbar\": {\"outlinewidth\": 0, \"ticks\": \"\"}}, \"type\": \"scattergl\"}], \"scattermapbox\": [{\"marker\": {\"colorbar\": {\"outlinewidth\": 0, \"ticks\": \"\"}}, \"type\": \"scattermapbox\"}], \"scatterpolar\": [{\"marker\": {\"colorbar\": {\"outlinewidth\": 0, \"ticks\": \"\"}}, \"type\": \"scatterpolar\"}], \"scatterpolargl\": [{\"marker\": {\"colorbar\": {\"outlinewidth\": 0, \"ticks\": \"\"}}, \"type\": \"scatterpolargl\"}], \"scatterternary\": [{\"marker\": {\"colorbar\": {\"outlinewidth\": 0, \"ticks\": \"\"}}, \"type\": \"scatterternary\"}], \"surface\": [{\"colorbar\": {\"outlinewidth\": 0, \"ticks\": \"\"}, \"colorscale\": [[0.0, \"#0d0887\"], [0.1111111111111111, \"#46039f\"], [0.2222222222222222, \"#7201a8\"], [0.3333333333333333, \"#9c179e\"], [0.4444444444444444, \"#bd3786\"], [0.5555555555555556, \"#d8576b\"], [0.6666666666666666, \"#ed7953\"], [0.7777777777777778, \"#fb9f3a\"], [0.8888888888888888, \"#fdca26\"], [1.0, \"#f0f921\"]], \"type\": \"surface\"}], \"table\": [{\"cells\": {\"fill\": {\"color\": \"#EBF0F8\"}, \"line\": {\"color\": \"white\"}}, \"header\": {\"fill\": {\"color\": \"#C8D4E3\"}, \"line\": {\"color\": \"white\"}}, \"type\": \"table\"}]}, \"layout\": {\"annotationdefaults\": {\"arrowcolor\": \"#2a3f5f\", \"arrowhead\": 0, \"arrowwidth\": 1}, \"coloraxis\": {\"colorbar\": {\"outlinewidth\": 0, \"ticks\": \"\"}}, \"colorscale\": {\"diverging\": [[0, \"#8e0152\"], [0.1, \"#c51b7d\"], [0.2, \"#de77ae\"], [0.3, \"#f1b6da\"], [0.4, \"#fde0ef\"], [0.5, \"#f7f7f7\"], [0.6, \"#e6f5d0\"], [0.7, \"#b8e186\"], [0.8, \"#7fbc41\"], [0.9, \"#4d9221\"], [1, \"#276419\"]], \"sequential\": [[0.0, \"#0d0887\"], [0.1111111111111111, \"#46039f\"], [0.2222222222222222, \"#7201a8\"], [0.3333333333333333, \"#9c179e\"], [0.4444444444444444, \"#bd3786\"], [0.5555555555555556, \"#d8576b\"], [0.6666666666666666, \"#ed7953\"], [0.7777777777777778, \"#fb9f3a\"], [0.8888888888888888, \"#fdca26\"], [1.0, \"#f0f921\"]], \"sequentialminus\": [[0.0, \"#0d0887\"], [0.1111111111111111, \"#46039f\"], [0.2222222222222222, \"#7201a8\"], [0.3333333333333333, \"#9c179e\"], [0.4444444444444444, \"#bd3786\"], [0.5555555555555556, \"#d8576b\"], [0.6666666666666666, \"#ed7953\"], [0.7777777777777778, \"#fb9f3a\"], [0.8888888888888888, \"#fdca26\"], [1.0, \"#f0f921\"]]}, \"colorway\": [\"#636efa\", \"#EF553B\", \"#00cc96\", \"#ab63fa\", \"#FFA15A\", \"#19d3f3\", \"#FF6692\", \"#B6E880\", \"#FF97FF\", \"#FECB52\"], \"font\": {\"color\": \"#2a3f5f\"}, \"geo\": {\"bgcolor\": \"white\", \"lakecolor\": \"white\", \"landcolor\": \"white\", \"showlakes\": true, \"showland\": true, \"subunitcolor\": \"#C8D4E3\"}, \"hoverlabel\": {\"align\": \"left\"}, \"hovermode\": \"closest\", \"mapbox\": {\"style\": \"light\"}, \"paper_bgcolor\": \"white\", \"plot_bgcolor\": \"white\", \"polar\": {\"angularaxis\": {\"gridcolor\": \"#EBF0F8\", \"linecolor\": \"#EBF0F8\", \"ticks\": \"\"}, \"bgcolor\": \"white\", \"radialaxis\": {\"gridcolor\": \"#EBF0F8\", \"linecolor\": \"#EBF0F8\", \"ticks\": \"\"}}, \"scene\": {\"xaxis\": {\"backgroundcolor\": \"white\", \"gridcolor\": \"#DFE8F3\", \"gridwidth\": 2, \"linecolor\": \"#EBF0F8\", \"showbackground\": true, \"ticks\": \"\", \"zerolinecolor\": \"#EBF0F8\"}, \"yaxis\": {\"backgroundcolor\": \"white\", \"gridcolor\": \"#DFE8F3\", \"gridwidth\": 2, \"linecolor\": \"#EBF0F8\", \"showbackground\": true, \"ticks\": \"\", \"zerolinecolor\": \"#EBF0F8\"}, \"zaxis\": {\"backgroundcolor\": \"white\", \"gridcolor\": \"#DFE8F3\", \"gridwidth\": 2, \"linecolor\": \"#EBF0F8\", \"showbackground\": true, \"ticks\": \"\", \"zerolinecolor\": \"#EBF0F8\"}}, \"shapedefaults\": {\"line\": {\"color\": \"#2a3f5f\"}}, \"ternary\": {\"aaxis\": {\"gridcolor\": \"#DFE8F3\", \"linecolor\": \"#A2B1C6\", \"ticks\": \"\"}, \"baxis\": {\"gridcolor\": \"#DFE8F3\", \"linecolor\": \"#A2B1C6\", \"ticks\": \"\"}, \"bgcolor\": \"white\", \"caxis\": {\"gridcolor\": \"#DFE8F3\", \"linecolor\": \"#A2B1C6\", \"ticks\": \"\"}}, \"title\": {\"x\": 0.05}, \"xaxis\": {\"automargin\": true, \"gridcolor\": \"#EBF0F8\", \"linecolor\": \"#EBF0F8\", \"ticks\": \"\", \"title\": {\"standoff\": 15}, \"zerolinecolor\": \"#EBF0F8\", \"zerolinewidth\": 2}, \"yaxis\": {\"automargin\": true, \"gridcolor\": \"#EBF0F8\", \"linecolor\": \"#EBF0F8\", \"ticks\": \"\", \"title\": {\"standoff\": 15}, \"zerolinecolor\": \"#EBF0F8\", \"zerolinewidth\": 2}}}, \"title\": {\"font\": {\"family\": \"Aerial\", \"size\": 24}, \"text\": \"Top 10 cities in crimes in India\"}},\n",
       "                        {\"responsive\": true}\n",
       "                    ).then(function(){\n",
       "                            \n",
       "var gd = document.getElementById('2c9177e2-b9a4-4780-9bfc-059cd93c7b94');\n",
       "var x = new MutationObserver(function (mutations, observer) {{\n",
       "        var display = window.getComputedStyle(gd).display;\n",
       "        if (!display || display === 'none') {{\n",
       "            console.log([gd, 'removed!']);\n",
       "            Plotly.purge(gd);\n",
       "            observer.disconnect();\n",
       "        }}\n",
       "}});\n",
       "\n",
       "// Listen for the removal of the full notebook cells\n",
       "var notebookContainer = gd.closest('#notebook-container');\n",
       "if (notebookContainer) {{\n",
       "    x.observe(notebookContainer, {childList: true});\n",
       "}}\n",
       "\n",
       "// Listen for the clearing of the current output cell\n",
       "var outputEl = gd.closest('.output');\n",
       "if (outputEl) {{\n",
       "    x.observe(outputEl, {childList: true});\n",
       "}}\n",
       "\n",
       "                        })\n",
       "                };\n",
       "                });\n",
       "            </script>\n",
       "        </div>"
      ]
     },
     "metadata": {},
     "output_type": "display_data"
    }
   ],
   "source": [
    "fig = px.sunburst(df_by_city_top10,path=[df_by_city_top10.index],values='TOTAL IPC CRIMES'\n",
    "                  ,color='MURDER',hover_data=famous_crime)\n",
    "fig.update_layout(title = 'Top 10 cities in crimes in India',title_font_size=24,paper_bgcolor='black',\n",
    "                     title_font_family='Aerial',font={'color':'red','family':'Times New Roman','size':10},\n",
    "                      template = 'plotly_white')\n",
    "fig"
   ]
  },
  {
   "cell_type": "markdown",
   "metadata": {},
   "source": [
    "Since we get to know Delhi has the most criminal rates in all the cities now we will see Delhi in detail "
   ]
  },
  {
   "cell_type": "code",
   "execution_count": 52,
   "metadata": {},
   "outputs": [],
   "source": [
    "df_Delhi = df[df['DISTRICT'] == 'DELHI UT TOTAL']\n"
   ]
  },
  {
   "cell_type": "code",
   "execution_count": 53,
   "metadata": {},
   "outputs": [
    {
     "data": {
      "text/plain": [
       "Text(0.5, 0, 'Year')"
      ]
     },
     "execution_count": 53,
     "metadata": {},
     "output_type": "execute_result"
    },
    {
     "data": {
      "image/png": "[encoded data removed]",
      "text/plain": [
       "<Figure size 1080x720 with 1 Axes>"
      ]
     },
     "metadata": {
      "needs_background": "light"
     },
     "output_type": "display_data"
    }
   ],
   "source": [
    "fig,ax=plt.subplots(figsize=(15,10))\n",
    "plt.tick_params(labelsize=14)\n",
    "plt.xticks(label = df_Delhi['YEAR'],rotation=90)\n",
    "ax.bar(x=df_Delhi['YEAR'],height=df_Delhi['RIOTS'])\n",
    "ax.set_facecolor('1')\n",
    "ax.set_title(\"Bar graph of total no Riots in Delhi Vs Year\",fontdict={'size':26,'fontfamily':\"Britannic Bold\"})\n",
    "ax.set_ylabel(\"Total no of Riots\",fontdict={'size':20,'fontfamily':\"DejaVu Sans\"})\n",
    "ax.set_xlabel(\"Year\",fontdict={'size':20,'fontfamily':\"DejaVu Sans\"})\n",
    "\n",
    "\n",
    "\n",
    "\n"
   ]
  },
  {
   "cell_type": "markdown",
   "metadata": {},
   "source": [
    "as we can see the graph the total no of riots are maximum in 2001 because in 2001 there was an attack on parliament for more details click on the link https://en.wikipedia.org/wiki/2001_Indian_Parliament_attack \n",
    "and in India most communal incidents are in delhi"
   ]
  },
  {
   "cell_type": "code",
   "execution_count": 54,
   "metadata": {},
   "outputs": [
    {
     "data": {
      "text/plain": [
       "Text(0.5, 0, 'Year')"
      ]
     },
     "execution_count": 54,
     "metadata": {},
     "output_type": "execute_result"
    },
    {
     "data": {
      "image/png": "[encoded data removed]",
      "text/plain": [
       "<Figure size 1080x720 with 1 Axes>"
      ]
     },
     "metadata": {
      "needs_background": "light"
     },
     "output_type": "display_data"
    }
   ],
   "source": [
    "fig,ax=plt.subplots(figsize=(15,10))\n",
    "plt.tick_params(labelsize=14)\n",
    "plt.xticks(label = df_Delhi['YEAR'],rotation=90)\n",
    "ax.barh(y=df_Delhi['YEAR'],width =df_Delhi['RAPE'])\n",
    "ax.set_facecolor('1')\n",
    "ax.set_title(\"Bar graph of total no Riots in Delhi Vs Year\",fontdict={'size':26,'fontfamily':\"Britannic Bold\"})\n",
    "ax.set_ylabel(\"Total no of Riots\",fontdict={'size':20,'fontfamily':\"DejaVu Sans\"})\n",
    "ax.set_xlabel(\"Year\",fontdict={'size':20,'fontfamily':\"DejaVu Sans\"})"
   ]
  },
  {
   "cell_type": "markdown",
   "metadata": {},
   "source": [
    "As you can see the total  no of rape cases in 2012 is maximum also in 2012 the Nirbhaya gang rape and murder case is also done for more details click on https://en.wikipedia.org/wiki/2012_Delhi_gang_rape_and_murder"
   ]
  },
  {
   "cell_type": "markdown",
   "metadata": {},
   "source": [
    "That's all!\n",
    "Thanks for spending your precious time on our notebook.\n",
    "This is our first notebook for dataviz, we have tried our best to extract uneven points from data with the help of charts.In case we missed something important please comment it out below.\n",
    "Once again thank you."
   ]
  },
  {
   "cell_type": "code",
   "execution_count": null,
   "metadata": {},
   "outputs": [],
   "source": []
  },
  {
   "cell_type": "code",
   "execution_count": null,
   "metadata": {},
   "outputs": [],
   "source": []
  },
  {
   "cell_type": "code",
   "execution_count": null,
   "metadata": {},
   "outputs": [],
   "source": []
  },
  {
   "cell_type": "code",
   "execution_count": null,
   "metadata": {},
   "outputs": [],
   "source": []
  },
  {
   "cell_type": "code",
   "execution_count": null,
   "metadata": {},
   "outputs": [],
   "source": []
  },
  {
   "cell_type": "code",
   "execution_count": null,
   "metadata": {},
   "outputs": [],
   "source": []
  },
  {
   "cell_type": "code",
   "execution_count": null,
   "metadata": {},
   "outputs": [],
   "source": []
  },
  {
   "cell_type": "code",
   "execution_count": null,
   "metadata": {},
   "outputs": [],
   "source": []
  },
  {
   "cell_type": "code",
   "execution_count": null,
   "metadata": {},
   "outputs": [],
   "source": []
  },
  {
   "cell_type": "code",
   "execution_count": null,
   "metadata": {},
   "outputs": [],
   "source": []
  },
  {
   "cell_type": "code",
   "execution_count": null,
   "metadata": {},
   "outputs": [],
   "source": []
  },
  {
   "cell_type": "code",
   "execution_count": null,
   "metadata": {},
   "outputs": [],
   "source": []
  },
  {
   "cell_type": "code",
   "execution_count": null,
   "metadata": {},
   "outputs": [],
   "source": []
  },
  {
   "cell_type": "code",
   "execution_count": null,
   "metadata": {},
   "outputs": [],
   "source": []
  },
  {
   "cell_type": "code",
   "execution_count": null,
   "metadata": {},
   "outputs": [],
   "source": []
  },
  {
   "cell_type": "code",
   "execution_count": null,
   "metadata": {},
   "outputs": [],
   "source": []
  },
  {
   "cell_type": "code",
   "execution_count": null,
   "metadata": {},
   "outputs": [],
   "source": []
  },
  {
   "cell_type": "code",
   "execution_count": null,
   "metadata": {},
   "outputs": [],
   "source": []
  },
  {
   "cell_type": "code",
   "execution_count": null,
   "metadata": {},
   "outputs": [],
   "source": []
  },
  {
   "cell_type": "code",
   "execution_count": null,
   "metadata": {},
   "outputs": [],
   "source": []
  },
  {
   "cell_type": "code",
   "execution_count": null,
   "metadata": {},
   "outputs": [],
   "source": []
  },
  {
   "cell_type": "code",
   "execution_count": null,
   "metadata": {},
   "outputs": [],
   "source": []
  },
  {
   "cell_type": "code",
   "execution_count": null,
   "metadata": {},
   "outputs": [],
   "source": []
  },
  {
   "cell_type": "code",
   "execution_count": null,
   "metadata": {},
   "outputs": [],
   "source": []
  },
  {
   "cell_type": "code",
   "execution_count": null,
   "metadata": {},
   "outputs": [],
   "source": []
  },
  {
   "cell_type": "code",
   "execution_count": null,
   "metadata": {},
   "outputs": [],
   "source": []
  },
  {
   "cell_type": "code",
   "execution_count": null,
   "metadata": {},
   "outputs": [],
   "source": []
  },
  {
   "cell_type": "code",
   "execution_count": null,
   "metadata": {},
   "outputs": [],
   "source": []
  },
  {
   "cell_type": "code",
   "execution_count": null,
   "metadata": {},
   "outputs": [],
   "source": []
  },
  {
   "cell_type": "code",
   "execution_count": null,
   "metadata": {},
   "outputs": [],
   "source": []
  },
  {
   "cell_type": "code",
   "execution_count": null,
   "metadata": {},
   "outputs": [],
   "source": []
  },
  {
   "cell_type": "code",
   "execution_count": null,
   "metadata": {},
   "outputs": [],
   "source": []
  },
  {
   "cell_type": "code",
   "execution_count": null,
   "metadata": {},
   "outputs": [],
   "source": []
  },
  {
   "cell_type": "code",
   "execution_count": null,
   "metadata": {},
   "outputs": [],
   "source": []
  },
  {
   "cell_type": "code",
   "execution_count": null,
   "metadata": {},
   "outputs": [],
   "source": []
  },
  {
   "cell_type": "code",
   "execution_count": null,
   "metadata": {},
   "outputs": [],
   "source": []
  },
  {
   "cell_type": "code",
   "execution_count": null,
   "metadata": {},
   "outputs": [],
   "source": []
  },
  {
   "cell_type": "code",
   "execution_count": null,
   "metadata": {},
   "outputs": [],
   "source": []
  },
  {
   "cell_type": "code",
   "execution_count": null,
   "metadata": {},
   "outputs": [],
   "source": []
  },
  {
   "cell_type": "code",
   "execution_count": null,
   "metadata": {},
   "outputs": [],
   "source": []
  }
 ],
 "metadata": {
  "kernelspec": {
   "display_name": "Python 3",
   "language": "python",
   "name": "python3"
  },
  "language_info": {
   "codemirror_mode": {
    "name": "ipython",
    "version": 3
   },
   "file_extension": ".py",
   "mimetype": "text/x-python",
   "name": "python",
   "nbconvert_exporter": "python",
   "pygments_lexer": "ipython3",
   "version": "3.7.6"
  },
  "widgets": {
   "application/vnd.jupyter.widget-state+json": {
    "state": {},
    "version_major": 2,
    "version_minor": 0
   }
  }
 },
 "nbformat": 4,
 "nbformat_minor": 4
}
